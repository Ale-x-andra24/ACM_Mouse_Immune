{
 "cells": [
  {
   "attachments": {},
   "cell_type": "markdown",
   "metadata": {},
   "source": [
    "### Notebook for the manifold generation of annotated PBMC data (from Yoshida 2022) using `bbknn+scanpy`\n",
    "\n",
    "COVID-19 airway and matched PBMCs H5AD(raw) downloaded from [here](https://www.covid19cellatlas.org/index.patient.html)\n",
    "\n",
    "- **Developed by**: Carlos Talavera-López PhD\n",
    "- **Modified by**: Alexandra Cirnu\n",
    "- **Würzburg Institute for Systems Immunology & Julius-Maximilian-Universität Würzburg**\n",
    "- **Date of creation**: 230828\n",
    "- **Date of modification**: 240215"
   ]
  },
  {
   "attachments": {},
   "cell_type": "markdown",
   "metadata": {},
   "source": [
    "### Import required modules"
   ]
  },
  {
   "cell_type": "code",
   "execution_count": null,
   "metadata": {},
   "outputs": [],
   "source": [
    "import anndata\n",
    "import numpy as np\n",
    "import pandas as pd\n",
    "import scanpy as sc\n",
    "import bbknn\n",
    "import seaborn as sns\n",
    "from pywaffle import Waffle\n",
    "import matplotlib.pyplot as plt"
   ]
  },
  {
   "attachments": {},
   "cell_type": "markdown",
   "metadata": {},
   "source": [
    "### Set up working environment"
   ]
  },
  {
   "cell_type": "code",
   "execution_count": null,
   "metadata": {},
   "outputs": [],
   "source": [
    "sc.settings.verbosity = 3\n",
    "sc.logging.print_versions()\n",
    "sc.settings.set_figure_params(dpi = 180, color_map = 'magma', dpi_save = 300, vector_friendly = True, format = 'svg')"
   ]
  },
  {
   "attachments": {},
   "cell_type": "markdown",
   "metadata": {},
   "source": [
    "### Read in all data - Use `sqrt_norm` counts for analysis"
   ]
  },
  {
   "cell_type": "code",
   "execution_count": null,
   "metadata": {},
   "outputs": [],
   "source": [
    "adata = sc.read_h5ad('/home/guest1/data/ACM_cardiac_leuco/Annotated_PBMC/meyer_nikolic_covid_pbmc_raw.h5ad')\n",
    "\n",
    "sample_id = 'A'\n",
    "adata.obs[\"sample\"] = sample_id\n",
    "adata.obs\n",
    "\n",
    "adata"
   ]
  },
  {
   "cell_type": "markdown",
   "metadata": {},
   "source": [
    "### Use `sqrt_norm` counts for analysis"
   ]
  },
  {
   "cell_type": "code",
   "execution_count": null,
   "metadata": {},
   "outputs": [],
   "source": [
    "adata.raw = adata.copy()\n",
    "adata.layers['counts'] = adata.X.copy()\n",
    "adata.layers[\"sqrt_norm\"] = np.sqrt(\n",
    "    sc.pp.normalize_total(adata, inplace = False)[\"X\"]\n",
    ")\n",
    "adata"
   ]
  },
  {
   "cell_type": "code",
   "execution_count": null,
   "metadata": {},
   "outputs": [],
   "source": [
    "adata_raw = adata.copy()                        #Make a copy of adata and name it adata_raw\n",
    "adata.X = adata.layers['sqrt_norm'].copy()      #Set a copy of the square root normalized data as the data matrix X"
   ]
  },
  {
   "cell_type": "markdown",
   "metadata": {},
   "source": [
    "### Calculate Highly Variable Genes"
   ]
  },
  {
   "cell_type": "code",
   "execution_count": null,
   "metadata": {},
   "outputs": [],
   "source": [
    "adata.layers['counts'] = adata_raw.X.copy()     #Make a copy of the unnormalized counts layer from the adata_raw.X data matrix"
   ]
  },
  {
   "cell_type": "code",
   "execution_count": null,
   "metadata": {},
   "outputs": [],
   "source": [
    "adata.obs['sample'] = adata.obs['sample'].astype('str') "
   ]
  },
  {
   "cell_type": "code",
   "execution_count": null,
   "metadata": {},
   "outputs": [],
   "source": [
    "sc.pp.highly_variable_genes(\n",
    "    adata,                                      #further analysis is performed on adata again\n",
    "    flavor = \"seurat_v3\",\n",
    "    n_top_genes = 7000,                         #7000 for heterogeneous cell types, 2000 - 4000 for homogeneous cell types like PBMCs\n",
    "    layer = \"counts\",                           \n",
    "    batch_key = \"sample\",                       \n",
    "    subset = True\n",
    ")\n",
    "adata"
   ]
  },
  {
   "attachments": {},
   "cell_type": "markdown",
   "metadata": {},
   "source": [
    "### Calculate graph"
   ]
  },
  {
   "cell_type": "code",
   "execution_count": null,
   "metadata": {},
   "outputs": [],
   "source": [
    "sc.pp.pca(adata, n_comps = 50, use_highly_variable = True, svd_solver = 'arpack', random_state = 1712)\n",
    "sc.pp.neighbors(adata, use_rep = \"X_pca\", n_neighbors = 50, metric = 'minkowski', random_state = 1786)\n",
    "bbknn_sample = bbknn.bbknn(adata, neighbors_within_batch = 4, batch_key = 'sample', approx = True, copy = True)"
   ]
  },
  {
   "cell_type": "code",
   "execution_count": null,
   "metadata": {},
   "outputs": [],
   "source": [
    "sc.tl.umap(bbknn_sample, min_dist = 0.3, spread = 4, random_state = 1789)\n"
   ]
  },
  {
   "cell_type": "code",
   "execution_count": null,
   "metadata": {},
   "outputs": [],
   "source": [
    "sc.pl.umap(bbknn_sample, frameon = False, color = ['nFeature_RNA', 'nCount_RNA', 'patient_id', 'sample_id'], size = 1.5, legend_fontsize = 8, ncols = 4, cmap = 'RdPu')              #add also 'genotype' if there is this key in obs"
   ]
  },
  {
   "cell_type": "code",
   "execution_count": null,
   "metadata": {},
   "outputs": [],
   "source": [
    "sc.pl.umap(bbknn_sample, frameon = False, color = ['sample', 'TTN', 'NPPA', 'DCN', 'VWF', 'MYH11', 'RGS4', 'KCNJ8', 'C1QA', 'CD3E', 'TREM2', 'ADIPOQ', 'NRXN1', 'MSLN'], size = 0.6, legend_fontsize = 8, ncols = 4, cmap = 'magma')                #add also 'genotype' if there is this key in obs\n",
    "\n",
    "#TTN    = titin, expressed in heart and skeletal muscle // cardiomyocytes and skeletal myocytes\n",
    "#NPPA   = natriuretic peptide A, expressed in heart, can be secreted to blood // cardiomyocytes\n",
    "#DCN    = decorin // fibroblasts\n",
    "#VWF    = von Willebrand factor, endothelial cells and adipocytes \n",
    "#MYH11  = myosin heavy chain 11 // myoepithelial and smooth muscle cells\n",
    "#RGS4   = regulator of G protein signaling 4 // neuronal cells, endocrine cells\n",
    "#KCNJ8  = potassium inwardly rectifying channel subfamily J member 8 // specialized epithelial cells, muscle cells\n",
    "#C1QA   = complement C1q A chain, expressed in immune cell subsets //  monocytes macrophages\n",
    "#CD3E   = CD3 epsilon subunit of T/cell receptor complex // T cells\n",
    "#TREM2  = triggering receptor expressed on myeloid cells 2 // macrophages\n",
    "#ADIPOQ = adiponectin, C1Q and collagen domain containing // adipocytes and endothelial cells \n",
    "#NRXN1  = neurexin 1 // neurons\n",
    "#MSLN   = mesothelin, secretory cells"
   ]
  },
  {
   "cell_type": "code",
   "execution_count": null,
   "metadata": {},
   "outputs": [],
   "source": [
    "sc.pl.umap(bbknn_sample, frameon = False, color = ['CD34', 'HBA1', 'GP1BA', 'CD3E', 'CD4', 'CD8A', 'CD19', 'NCAM1', 'CD14', 'CCR2', 'FUT4', 'CD1C', 'CLEC9A'], size = 0.6, legend_fontsize = 8, ncols = 4, cmap = 'RdPu')\n",
    "\n",
    "#CD34       // hematopoetic stem cells\n",
    "#HBA1       // erythrocytes\n",
    "#GP1BA      // platelets\n",
    "#CD3E       // T cells\n",
    "#CD4        // CD4 T cells\n",
    "#CD8        // CD8 T cells\n",
    "#CD19       // B cells\n",
    "#CD56/NCAM1 // NK cells (CD3-)\n",
    "#CD14       // Monocytes\n",
    "#CCR2       // Monocytes\n",
    "#CD15/FUT4  // Granulocytes\n",
    "#CD1C       // cDC2\n",
    "#CLEC9A     // cDC1\n",
    "\n"
   ]
  },
  {
   "cell_type": "markdown",
   "metadata": {},
   "source": [
    "### Visualise co-variate distribution per sample"
   ]
  },
  {
   "cell_type": "code",
   "execution_count": null,
   "metadata": {},
   "outputs": [],
   "source": [
    "sns.set(style=\"whitegrid\")\n",
    "covariate_to_visualize = 'doublet_scores'\n",
    "\n",
    "plt.figure(figsize=(10, 6))\n",
    "sns.histplot(data=adata.obs, x=covariate_to_visualize, hue='sample', stat='count', common_norm=False)\n",
    "plt.xlabel(covariate_to_visualize)\n",
    "plt.ylabel('Abundance')\n",
    "plt.title(f'Abundance Plot of {covariate_to_visualize} by Sample')\n",
    "plt.legend(title='Sample', loc='upper right')\n",
    "\n",
    "plt.show()"
   ]
  },
  {
   "cell_type": "code",
   "execution_count": null,
   "metadata": {},
   "outputs": [],
   "source": [
    "sns.set(style=\"whitegrid\")\n",
    "covariate_to_visualize = 'doublet_scores'\n",
    "\n",
    "sample_names = adata.obs['sample'].unique()\n",
    "num_samples = len(sample_names)\n",
    "color_palette = sns.color_palette(\"Set1\", n_colors=num_samples)\n",
    "\n",
    "g = sns.FacetGrid(adata.obs, col=\"sample\", col_wrap=3, height=5, palette=color_palette)\n",
    "g.map_dataframe(sns.histplot, x=covariate_to_visualize, stat='count', common_norm=False)\n",
    "\n",
    "g.set_axis_labels(covariate_to_visualize, 'Abundance')\n",
    "g.set_titles(col_template=\"{col_name}\")\n",
    "g.add_legend(title='Sample', loc='upper right')\n",
    "\n",
    "plt.tight_layout()\n",
    "plt.show()"
   ]
  },
  {
   "cell_type": "code",
   "execution_count": null,
   "metadata": {},
   "outputs": [],
   "source": [
    "sns.set(style = \"whitegrid\")\n",
    "covariate_to_visualize = 'nCount_RNA'\n",
    "\n",
    "plt.figure(figsize = (10, 6))\n",
    "sns.histplot(data = adata.obs, x = covariate_to_visualize, hue = 'sample', stat = 'count', common_norm = False)\n",
    "plt.xlabel(covariate_to_visualize)\n",
    "plt.ylabel('Abundance')\n",
    "plt.title(f'Abundance Plot of {covariate_to_visualize} by Sample')\n",
    "plt.legend(title = 'Sample', loc = 'upper right')\n",
    "\n",
    "plt.show()"
   ]
  },
  {
   "cell_type": "markdown",
   "metadata": {},
   "source": [
    "### UMI Count per cell\n",
    "\n",
    "Shows all barcodes detected in an experiment ranked from highest to lowest UMI count. It should help to identify which GEMs included an intact cell and which GEMs were empty droplets with ambient RNA. Real cells can be found until the changing point."
   ]
  },
  {
   "cell_type": "code",
   "execution_count": null,
   "metadata": {},
   "outputs": [],
   "source": [
    "sample_names = adata.obs['sample'].unique()\n",
    "\n",
    "# Calculate the number of rows and columns for the subplot layout\n",
    "num_rows = 1\n",
    "num_cols = 2\n",
    "\n",
    "# Create a single figure with multiple panels arranged in a grid\n",
    "fig, axs = plt.subplots(num_rows, num_cols, figsize=(8, 3))\n",
    "\n",
    "# Flatten the axs array to make it easier to iterate\n",
    "axs = axs.flatten()\n",
    "\n",
    "# Define a color palette for the lines\n",
    "color_palette = plt.cm.get_cmap('tab10')\n",
    "\n",
    "# Loop through each sample and generate the UMI count plot in a separate panel\n",
    "for idx, sample_name in enumerate(sample_names):\n",
    "    # Select cells belonging to the current sample\n",
    "    mask = adata.obs['sample'] == sample_name\n",
    "    sample_adata = adata[mask].copy()\n",
    "\n",
    "    # Sort cells by UMI counts in descending order\n",
    "    sample_adata.obs['umi_counts'] = sample_adata.X.sum(axis=1)\n",
    "    sample_adata = sample_adata[sample_adata.obs['umi_counts'].argsort()[::-1]]\n",
    "\n",
    "    # Generate the UMI count plot in the current panel\n",
    "    ax = axs[idx]\n",
    "    color = color_palette(idx)\n",
    "    ax.plot(range(1, len(sample_adata) + 1), sample_adata.obs['umi_counts'], marker='o', linestyle='-', label=sample_name, color=color, linewidth=1)\n",
    "    ax.set_xlabel('Cell Rank')\n",
    "    ax.set_ylabel('UMI Count')\n",
    "    ax.set_title(f'UMI Count per Cell for Sample: {sample_name}')\n",
    "    ax.set_xlim(-10000, 80000)\n",
    "    ax.set_ylim(0, 1500)  # Set x-axis limit\n",
    "    ax.legend()\n",
    "\n",
    "# Adjust layout and save the figure\n",
    "plt.tight_layout()\n",
    "output_filename = 'umi_count_subplot.png'\n",
    "plt.savefig(output_filename)\n",
    "\n",
    "# Show the figure\n",
    "plt.show()\n"
   ]
  }
 ],
 "metadata": {
  "kernelspec": {
   "display_name": "Python 3",
   "language": "python",
   "name": "python3"
  },
  "language_info": {
   "codemirror_mode": {
    "name": "ipython",
    "version": 3
   },
   "file_extension": ".py",
   "mimetype": "text/x-python",
   "name": "python",
   "nbconvert_exporter": "python",
   "pygments_lexer": "ipython3",
   "version": "3.12.1"
  },
  "orig_nbformat": 4,
  "vscode": {
   "interpreter": {
    "hash": "aee8b7b246df8f9039afb4144a1f6fd8d2ca17a180786b69acc140d282b71a49"
   }
  }
 },
 "nbformat": 4,
 "nbformat_minor": 2
}
