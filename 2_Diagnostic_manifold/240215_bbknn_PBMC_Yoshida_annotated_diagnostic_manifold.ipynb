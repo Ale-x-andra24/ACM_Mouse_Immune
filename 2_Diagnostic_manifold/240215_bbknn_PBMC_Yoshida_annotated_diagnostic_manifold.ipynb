{
 "cells": [
  {
   "attachments": {},
   "cell_type": "markdown",
   "metadata": {},
   "source": [
    "### Notebook for the manifold generation of annotated PBMC data (from Yoshida 2022) using `bbknn+scanpy`\n",
    "\n",
    "COVID-19 airway and matched PBMCs H5AD(raw) downloaded from [here](https://www.covid19cellatlas.org/index.patient.html)\n",
    "\n",
    "- **Developed by**: Carlos Talavera-López PhD\n",
    "- **Modified by**: Alexandra Cirnu\n",
    "- **Würzburg Institute for Systems Immunology & Julius-Maximilian-Universität Würzburg**\n",
    "- **Date of creation**: 230828\n",
    "- **Date of modification**: 240215"
   ]
  },
  {
   "attachments": {},
   "cell_type": "markdown",
   "metadata": {},
   "source": [
    "### Import required modules"
   ]
  },
  {
   "cell_type": "code",
   "execution_count": 10,
   "metadata": {},
   "outputs": [],
   "source": [
    "import anndata\n",
    "import numpy as np\n",
    "import pandas as pd\n",
    "import scanpy as sc\n",
    "import bbknn\n",
    "import seaborn as sns\n",
    "from pywaffle import Waffle\n",
    "import matplotlib.pyplot as plt"
   ]
  },
  {
   "attachments": {},
   "cell_type": "markdown",
   "metadata": {},
   "source": [
    "### Set up working environment"
   ]
  },
  {
   "cell_type": "code",
   "execution_count": 11,
   "metadata": {},
   "outputs": [
    {
     "name": "stdout",
     "output_type": "stream",
     "text": [
      "-----\n",
      "anndata     0.10.5.post1\n",
      "scanpy      1.9.8\n",
      "-----\n",
      "PIL                 10.2.0\n",
      "annoy               NA\n",
      "asttokens           NA\n",
      "bbknn               1.6.0\n",
      "colorama            0.4.6\n",
      "comm                0.2.1\n",
      "cycler              0.12.1\n",
      "cython_runtime      NA\n",
      "dateutil            2.8.2\n",
      "debugpy             1.8.1\n",
      "decorator           5.1.1\n",
      "executing           2.0.1\n",
      "h5py                3.10.0\n",
      "igraph              0.11.4\n",
      "ipykernel           6.29.2\n",
      "ipywidgets          8.1.2\n",
      "jedi                0.19.1\n",
      "joblib              1.3.2\n",
      "kiwisolver          1.4.5\n",
      "leidenalg           0.10.2\n",
      "llvmlite            0.42.0\n",
      "matplotlib          3.8.2\n",
      "matplotlib_inline   0.1.6\n",
      "mpl_toolkits        NA\n",
      "natsort             8.4.0\n",
      "numba               0.59.0\n",
      "numpy               1.26.4\n",
      "packaging           23.2\n",
      "pandas              2.2.0\n",
      "parso               0.8.3\n",
      "patsy               0.5.6\n",
      "pickleshare         0.7.5\n",
      "platformdirs        4.2.0\n",
      "prompt_toolkit      3.0.42\n",
      "psutil              5.9.8\n",
      "pure_eval           0.2.2\n",
      "pydev_ipython       NA\n",
      "pydevconsole        NA\n",
      "pydevd              2.9.5\n",
      "pydevd_file_utils   NA\n",
      "pydevd_plugins      NA\n",
      "pydevd_tracing      NA\n",
      "pygments            2.17.2\n",
      "pynndescent         0.5.11\n",
      "pyparsing           3.1.1\n",
      "pytz                2024.1\n",
      "pywaffle            NA\n",
      "scipy               1.12.0\n",
      "seaborn             0.13.2\n",
      "session_info        1.0.0\n",
      "six                 1.16.0\n",
      "sklearn             1.4.0\n",
      "skmisc              0.3.1\n",
      "stack_data          0.6.2\n",
      "statsmodels         0.14.1\n",
      "texttable           1.7.0\n",
      "threadpoolctl       3.3.0\n",
      "tornado             6.3.3\n",
      "tqdm                4.66.2\n",
      "traitlets           5.14.1\n",
      "typing_extensions   NA\n",
      "umap                0.5.5\n",
      "wcwidth             0.2.13\n",
      "zmq                 25.1.2\n",
      "-----\n",
      "IPython             8.21.0\n",
      "jupyter_client      8.6.0\n",
      "jupyter_core        5.7.1\n",
      "-----\n",
      "Python 3.12.1 | packaged by conda-forge | (main, Dec 23 2023, 08:03:24) [GCC 12.3.0]\n",
      "Linux-6.1.0-1029-oem-x86_64-with-glibc2.35\n",
      "-----\n",
      "Session information updated at 2024-02-16 10:47\n"
     ]
    }
   ],
   "source": [
    "sc.settings.verbosity = 3\n",
    "sc.logging.print_versions()\n",
    "sc.settings.set_figure_params(dpi = 180, color_map = 'magma', dpi_save = 300, vector_friendly = True, format = 'svg')"
   ]
  },
  {
   "attachments": {},
   "cell_type": "markdown",
   "metadata": {},
   "source": [
    "### Read in all data "
   ]
  },
  {
   "cell_type": "code",
   "execution_count": 12,
   "metadata": {},
   "outputs": [
    {
     "data": {
      "text/plain": [
       "AnnData object with n_obs × n_vars = 422220 × 33559\n",
       "    obs: 'orig.ident', 'nCount_RNA', 'nFeature_RNA', 'nCount_ADT', 'nFeature_ADT', 'Age_group', 'BMI', 'COVID_severity', 'COVID_status', 'Ethnicity', 'Group', 'Sex', 'Smoker', 'annotation_broad', 'annotation_detailed', 'annotation_detailed_fullNames', 'patient_id', 'sample_id', 'sequencing_library', 'Protein_modality_weight'\n",
       "    var: 'name'"
      ]
     },
     "execution_count": 12,
     "metadata": {},
     "output_type": "execute_result"
    }
   ],
   "source": [
    "adata = sc.read_h5ad('/home/guest1/data/ACM_cardiac_leuco/Annotated_PBMC/meyer_nikolic_covid_pbmc_raw.h5ad')\n",
    "\n",
    "adata"
   ]
  },
  {
   "cell_type": "code",
   "execution_count": 13,
   "metadata": {},
   "outputs": [
    {
     "data": {
      "text/plain": [
       "AnnData object with n_obs × n_vars = 422220 × 33559\n",
       "    obs: 'orig.ident', 'nCount_RNA', 'nFeature_RNA', 'nCount_ADT', 'nFeature_ADT', 'Age_group', 'BMI', 'COVID_severity', 'COVID_status', 'Ethnicity', 'Group', 'Sex', 'Smoker', 'annotation_broad', 'annotation_detailed', 'annotation_detailed_fullNames', 'patient_id', 'sample_id', 'sequencing_library', 'Protein_modality_weight'\n",
       "    var: 'name'\n",
       "    layers: 'counts'"
      ]
     },
     "execution_count": 13,
     "metadata": {},
     "output_type": "execute_result"
    }
   ],
   "source": [
    "adata.raw = adata.copy()\n",
    "adata.layers['counts'] = adata.X.copy()\n",
    "\n",
    "adata"
   ]
  },
  {
   "cell_type": "markdown",
   "metadata": {},
   "source": [
    "### Calculate Highly Variable Genes"
   ]
  },
  {
   "cell_type": "code",
   "execution_count": 15,
   "metadata": {},
   "outputs": [],
   "source": [
    "adata.obs['sample_id'] = adata.obs['sample_id'].astype('str') "
   ]
  },
  {
   "cell_type": "code",
   "execution_count": 18,
   "metadata": {},
   "outputs": [
    {
     "name": "stdout",
     "output_type": "stream",
     "text": [
      "If you pass `n_top_genes`, all cutoffs are ignored.\n",
      "extracting highly variable genes\n",
      "--> added\n",
      "    'highly_variable', boolean vector (adata.var)\n",
      "    'highly_variable_rank', float vector (adata.var)\n",
      "    'means', float vector (adata.var)\n",
      "    'variances', float vector (adata.var)\n",
      "    'variances_norm', float vector (adata.var)\n"
     ]
    },
    {
     "data": {
      "text/plain": [
       "AnnData object with n_obs × n_vars = 422220 × 7000\n",
       "    obs: 'orig.ident', 'nCount_RNA', 'nFeature_RNA', 'nCount_ADT', 'nFeature_ADT', 'Age_group', 'BMI', 'COVID_severity', 'COVID_status', 'Ethnicity', 'Group', 'Sex', 'Smoker', 'annotation_broad', 'annotation_detailed', 'annotation_detailed_fullNames', 'patient_id', 'sample_id', 'sequencing_library', 'Protein_modality_weight'\n",
       "    var: 'name', 'highly_variable', 'highly_variable_rank', 'means', 'variances', 'variances_norm', 'highly_variable_nbatches'\n",
       "    uns: 'hvg'\n",
       "    layers: 'counts'"
      ]
     },
     "execution_count": 18,
     "metadata": {},
     "output_type": "execute_result"
    }
   ],
   "source": [
    "sc.pp.highly_variable_genes(\n",
    "    adata,                                      #further analysis is performed on adata again\n",
    "    flavor = \"seurat_v3\",\n",
    "    n_top_genes = 7000,                         #7000 for heterogeneous cell types, 2000 - 4000 for homogeneous cell types like PBMCs\n",
    "    layer = \"counts\",                           \n",
    "    batch_key = \"sample_id\",                       \n",
    "    subset = True,\n",
    "    span = 1\n",
    ")\n",
    "adata"
   ]
  },
  {
   "attachments": {},
   "cell_type": "markdown",
   "metadata": {},
   "source": [
    "### Calculate graph"
   ]
  },
  {
   "cell_type": "code",
   "execution_count": 19,
   "metadata": {},
   "outputs": [
    {
     "name": "stdout",
     "output_type": "stream",
     "text": [
      "computing PCA\n",
      "    on highly variable genes\n",
      "    with n_comps=50\n"
     ]
    },
    {
     "ename": "",
     "evalue": "",
     "output_type": "error",
     "traceback": [
      "\u001b[1;31mThe Kernel crashed while executing code in the current cell or a previous cell. \n",
      "\u001b[1;31mPlease review the code in the cell(s) to identify a possible cause of the failure. \n",
      "\u001b[1;31mClick <a href='https://aka.ms/vscodeJupyterKernelCrash'>here</a> for more info. \n",
      "\u001b[1;31mView Jupyter <a href='command:jupyter.viewOutput'>log</a> for further details."
     ]
    }
   ],
   "source": [
    "sc.pp.pca(adata, n_comps = 50, use_highly_variable = True, svd_solver = 'arpack', random_state = 1712)\n",
    "sc.pp.neighbors(adata, use_rep = \"X_pca\", n_neighbors = 50, metric = 'minkowski', random_state = 1786)\n",
    "bbknn_sample = bbknn.bbknn(adata, neighbors_within_batch = 4, batch_key = 'sample_id', approx = True, copy = True)"
   ]
  },
  {
   "cell_type": "code",
   "execution_count": null,
   "metadata": {},
   "outputs": [],
   "source": [
    "sc.tl.umap(bbknn_sample, min_dist = 0.3, spread = 4, random_state = 1789)"
   ]
  },
  {
   "cell_type": "code",
   "execution_count": null,
   "metadata": {},
   "outputs": [],
   "source": [
    "sc.pl.umap(bbknn_sample, frameon = False, color = ['nFeature_RNA', 'nCount_RNA', 'nCount_ADT', 'nFeature_ADT', 'annotation_detailed_fullNames', 'patient_id', 'sample_id'], size = 1.5, legend_fontsize = 8, ncols = 4, cmap = 'RdPu')              "
   ]
  },
  {
   "cell_type": "markdown",
   "metadata": {},
   "source": [
    "### Visualise co-variate distribution per sample"
   ]
  },
  {
   "cell_type": "code",
   "execution_count": null,
   "metadata": {},
   "outputs": [],
   "source": [
    "sns.set(style=\"whitegrid\")\n",
    "covariate_to_visualize = 'nFeature_RNA'\n",
    "\n",
    "plt.figure(figsize=(10, 6))\n",
    "sns.histplot(data=adata.obs, x=covariate_to_visualize, hue='sample_id', stat='count', common_norm=False)\n",
    "plt.xlabel(covariate_to_visualize)\n",
    "plt.ylabel('Abundance')\n",
    "plt.title(f'Abundance Plot of {covariate_to_visualize} by Sample')\n",
    "plt.legend(title='Sample', loc='upper right')\n",
    "\n",
    "plt.show()"
   ]
  },
  {
   "cell_type": "code",
   "execution_count": null,
   "metadata": {},
   "outputs": [],
   "source": [
    "sns.set(style = \"whitegrid\")\n",
    "covariate_to_visualize = 'nCount_RNA'\n",
    "\n",
    "plt.figure(figsize = (10, 6))\n",
    "sns.histplot(data = adata.obs, x = covariate_to_visualize, hue = 'sample_id', stat = 'count', common_norm = False)\n",
    "plt.xlabel(covariate_to_visualize)\n",
    "plt.ylabel('Abundance')\n",
    "plt.title(f'Abundance Plot of {covariate_to_visualize} by Sample')\n",
    "plt.legend(title = 'Sample', loc = 'upper right')\n",
    "\n",
    "plt.show()"
   ]
  },
  {
   "cell_type": "code",
   "execution_count": null,
   "metadata": {},
   "outputs": [],
   "source": [
    "sns.set(style = \"whitegrid\")\n",
    "covariate_to_visualize = 'nCount_ADT'\n",
    "\n",
    "plt.figure(figsize = (10, 6))\n",
    "sns.histplot(data = adata.obs, x = covariate_to_visualize, hue = 'sample_id', stat = 'count', common_norm = False)\n",
    "plt.xlabel(covariate_to_visualize)\n",
    "plt.ylabel('Abundance')\n",
    "plt.title(f'Abundance Plot of {covariate_to_visualize} by Sample')\n",
    "plt.legend(title = 'Sample', loc = 'upper right')\n",
    "\n",
    "plt.show()"
   ]
  },
  {
   "cell_type": "code",
   "execution_count": null,
   "metadata": {},
   "outputs": [],
   "source": [
    "sns.set(style = \"whitegrid\")\n",
    "covariate_to_visualize = 'nFeature_ADT'\n",
    "\n",
    "plt.figure(figsize = (10, 6))\n",
    "sns.histplot(data = adata.obs, x = covariate_to_visualize, hue = 'sample_id', stat = 'count', common_norm = False)\n",
    "plt.xlabel(covariate_to_visualize)\n",
    "plt.ylabel('Abundance')\n",
    "plt.title(f'Abundance Plot of {covariate_to_visualize} by Sample')\n",
    "plt.legend(title = 'Sample', loc = 'upper right')\n",
    "\n",
    "plt.show()"
   ]
  },
  {
   "cell_type": "markdown",
   "metadata": {},
   "source": [
    "### UMI Count per cell\n",
    "\n",
    "Shows all barcodes detected in an experiment ranked from highest to lowest UMI count. It should help to identify which GEMs included an intact cell and which GEMs were empty droplets with ambient RNA. Real cells can be found until the changing point."
   ]
  },
  {
   "cell_type": "code",
   "execution_count": null,
   "metadata": {},
   "outputs": [],
   "source": [
    "sample_names = adata.obs['sample_id'].unique()\n",
    "\n",
    "# Calculate the number of rows and columns for the subplot layout\n",
    "num_rows = 1\n",
    "num_cols = 2\n",
    "\n",
    "# Create a single figure with multiple panels arranged in a grid\n",
    "fig, axs = plt.subplots(num_rows, num_cols, figsize=(8, 3))\n",
    "\n",
    "# Flatten the axs array to make it easier to iterate\n",
    "axs = axs.flatten()\n",
    "\n",
    "# Define a color palette for the lines\n",
    "color_palette = plt.cm.get_cmap('tab10')\n",
    "\n",
    "# Loop through each sample and generate the UMI count plot in a separate panel\n",
    "for idx, sample_name in enumerate(sample_names):\n",
    "    # Select cells belonging to the current sample\n",
    "    mask = adata.obs['sample_id'] == sample_name\n",
    "    sample_adata = adata[mask].copy()\n",
    "\n",
    "    # Sort cells by UMI counts in descending order\n",
    "    sample_adata.obs['umi_counts'] = sample_adata.X.sum(axis=1)\n",
    "    sample_adata = sample_adata[sample_adata.obs['umi_counts'].argsort()[::-1]]\n",
    "\n",
    "    # Generate the UMI count plot in the current panel\n",
    "    ax = axs[idx]\n",
    "    color = color_palette(idx)\n",
    "    ax.plot(range(1, len(sample_adata) + 1), sample_adata.obs['umi_counts'], marker='o', linestyle='-', label=sample_name, color=color, linewidth=1)\n",
    "    ax.set_xlabel('Cell Rank')\n",
    "    ax.set_ylabel('UMI Count')\n",
    "    ax.set_title(f'UMI Count per Cell for Sample: {sample_name}')\n",
    "    ax.set_xlim(-10000, 80000)\n",
    "    ax.set_ylim(0, 1500)  # Set x-axis limit\n",
    "    ax.legend()\n",
    "\n",
    "# Adjust layout and save the figure\n",
    "plt.tight_layout()\n",
    "output_filename = 'umi_count_subplot.png'\n",
    "plt.savefig(output_filename)\n",
    "\n",
    "# Show the figure\n",
    "plt.show()\n"
   ]
  }
 ],
 "metadata": {
  "kernelspec": {
   "display_name": "Python 3",
   "language": "python",
   "name": "python3"
  },
  "language_info": {
   "codemirror_mode": {
    "name": "ipython",
    "version": 3
   },
   "file_extension": ".py",
   "mimetype": "text/x-python",
   "name": "python",
   "nbconvert_exporter": "python",
   "pygments_lexer": "ipython3",
   "version": "3.12.1"
  },
  "orig_nbformat": 4,
  "vscode": {
   "interpreter": {
    "hash": "aee8b7b246df8f9039afb4144a1f6fd8d2ca17a180786b69acc140d282b71a49"
   }
  }
 },
 "nbformat": 4,
 "nbformat_minor": 2
}
