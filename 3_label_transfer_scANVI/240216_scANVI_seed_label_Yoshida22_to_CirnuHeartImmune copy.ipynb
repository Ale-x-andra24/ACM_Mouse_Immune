{
 "cells": [
  {
   "attachments": {},
   "cell_type": "markdown",
   "metadata": {},
   "source": [
    "### Notebook for the label transfer of Healthy Human Heart to mouse heart using `scANVI`\n",
    "\n",
    "- **Developed by:** Carlos Talavera-López Ph.D\n",
    "- **Modified by:** Alexandra Cirnu\n",
    "- **Würzburg Institute for Systems Immunology & Julius-Maximilian-Universität Würzburg**\n",
    "- **Date of creation:** 230918\n",
    "- **Date of modification:** 240216"
   ]
  },
  {
   "attachments": {},
   "cell_type": "markdown",
   "metadata": {},
   "source": [
    "### Import required modules"
   ]
  },
  {
   "cell_type": "code",
   "execution_count": 1,
   "metadata": {},
   "outputs": [],
   "source": [
    "import scvi\n",
    "import torch\n",
    "import anndata\n",
    "import warnings\n",
    "import numpy as np\n",
    "import scanpy as sc\n",
    "import pandas as pd\n",
    "import plotnine as p\n",
    "from pywaffle import Waffle\n",
    "import matplotlib.pyplot as plt\n",
    "#from scib_metrics.benchmark import Benchmarker"
   ]
  },
  {
   "attachments": {},
   "cell_type": "markdown",
   "metadata": {},
   "source": [
    "### Set up working environment"
   ]
  },
  {
   "cell_type": "code",
   "execution_count": 2,
   "metadata": {},
   "outputs": [],
   "source": [
    "sc.settings.verbosity = 3\n",
    "#sc.logging.print_versions()\n",
    "sc.settings.set_figure_params(dpi = 180, color_map = 'magma_r', dpi_save = 300, vector_friendly = True, format = 'svg')"
   ]
  },
  {
   "cell_type": "code",
   "execution_count": 3,
   "metadata": {},
   "outputs": [],
   "source": [
    "torch.set_float32_matmul_precision('high')"
   ]
  },
  {
   "cell_type": "code",
   "execution_count": 4,
   "metadata": {},
   "outputs": [
    {
     "name": "stderr",
     "output_type": "stream",
     "text": [
      "Seed set to 1712\n"
     ]
    }
   ],
   "source": [
    "warnings.simplefilter(action = 'ignore')\n",
    "scvi.settings.seed = 1712\n",
    "%config InlineBackend.print_figure_kwargs = {'facecolor' : \"w\"}\n",
    "%config InlineBackend.figure_format = 'retina'"
   ]
  },
  {
   "cell_type": "code",
   "execution_count": 5,
   "metadata": {},
   "outputs": [],
   "source": [
    "arches_params = dict(\n",
    "    use_layer_norm = \"both\",\n",
    "    use_batch_norm = \"none\",\n",
    "    encode_covariates = True,\n",
    "    dropout_rate = 0.2,\n",
    "    n_layers = 2,\n",
    ")"
   ]
  },
  {
   "attachments": {},
   "cell_type": "markdown",
   "metadata": {},
   "source": [
    "### Read in Healthy data"
   ]
  },
  {
   "cell_type": "code",
   "execution_count": 6,
   "metadata": {},
   "outputs": [
    {
     "data": {
      "text/plain": [
       "AnnData object with n_obs × n_vars = 422220 × 33559\n",
       "    obs: 'orig.ident', 'nCount_RNA', 'nFeature_RNA', 'nCount_ADT', 'nFeature_ADT', 'Age_group', 'BMI', 'COVID_severity', 'COVID_status', 'Ethnicity', 'Group', 'Sex', 'Smoker', 'annotation_broad', 'annotation_detailed', 'annotation_detailed_fullNames', 'patient_id', 'sample_id', 'sequencing_library', 'Protein_modality_weight'\n",
       "    var: 'name'"
      ]
     },
     "execution_count": 6,
     "metadata": {},
     "output_type": "execute_result"
    }
   ],
   "source": [
    "reference = sc.read_h5ad('/home/guest1/data/ACM_cardiac_leuco/Annotated_PBMC/meyer_nikolic_covid_pbmc_raw.h5ad')\n",
    "reference"
   ]
  },
  {
   "cell_type": "code",
   "execution_count": 7,
   "metadata": {},
   "outputs": [
    {
     "data": {
      "text/plain": [
       "annotation_detailed_fullNames\n",
       "T CD4 naive                           77439\n",
       "Classical monocyte                    47520\n",
       "NK                                    43630\n",
       "B naive                               40193\n",
       "T CD4 helper                          37922\n",
       "T CD8 CTL                             36217\n",
       "T CD8 naive                           33590\n",
       "T CD8 central mem                     12830\n",
       "T regulatory                           8567\n",
       "Non-classical monocyte                 8342\n",
       "T CD4 naive IFN stim                   8134\n",
       "Classical monocyte IFN stim            7124\n",
       "T CD8 effector mem CD45RA+             6443\n",
       "B non-switched mem                     5574\n",
       "T CD4 CTL                              5294\n",
       "T gamma/delta                          5144\n",
       "NK CD56 bright                         4723\n",
       "B switched mem                         4060\n",
       "MAIT                                   3961\n",
       "Cycling                                3593\n",
       "cDC2                                   2963\n",
       "T CD8 effector mem                     2486\n",
       "B naive IFN stim                       2019\n",
       "B invariant                            1944\n",
       "Platelets                              1784\n",
       "Plasma cells                           1557\n",
       "pDC                                    1245\n",
       "NK IFN stim                            1211\n",
       "Non-classical monocyte complement+     1173\n",
       "Non-classical monocyte IFN stim        1167\n",
       "Hematopoietic progenitors               938\n",
       "Classical monocyte IL6+                 768\n",
       "NKT                                     687\n",
       "B non-switched mem IFN stim             680\n",
       "ILC                                     405\n",
       "Red blood cells                         385\n",
       "Plasmablasts                            208\n",
       "T CD8 CTL IFN stim                      134\n",
       "cDC1                                     61\n",
       "AS-DC                                    59\n",
       "Basophils & Eosinophils                  25\n",
       "Hematopoietic progenitors IFN stim       21\n",
       "Name: count, dtype: int64"
      ]
     },
     "execution_count": 7,
     "metadata": {},
     "output_type": "execute_result"
    }
   ],
   "source": [
    "reference.obs['annotation_detailed_fullNames'].value_counts()"
   ]
  },
  {
   "attachments": {},
   "cell_type": "markdown",
   "metadata": {},
   "source": [
    "- Remove annotations with less than 10 cells"
   ]
  },
  {
   "cell_type": "code",
   "execution_count": 7,
   "metadata": {},
   "outputs": [
    {
     "data": {
      "text/plain": [
       "seed_labels\n",
       "T CD4 naive                           77439\n",
       "Classical monocyte                    47520\n",
       "NK                                    43630\n",
       "B naive                               40193\n",
       "T CD4 helper                          37922\n",
       "T CD8 CTL                             36217\n",
       "T CD8 naive                           33590\n",
       "T CD8 central mem                     12830\n",
       "T regulatory                           8567\n",
       "Non-classical monocyte                 8342\n",
       "T CD4 naive IFN stim                   8134\n",
       "Classical monocyte IFN stim            7124\n",
       "T CD8 effector mem CD45RA+             6443\n",
       "B non-switched mem                     5574\n",
       "T CD4 CTL                              5294\n",
       "T gamma/delta                          5144\n",
       "NK CD56 bright                         4723\n",
       "B switched mem                         4060\n",
       "MAIT                                   3961\n",
       "Cycling                                3593\n",
       "cDC2                                   2963\n",
       "T CD8 effector mem                     2486\n",
       "B naive IFN stim                       2019\n",
       "B invariant                            1944\n",
       "Platelets                              1784\n",
       "Plasma cells                           1557\n",
       "pDC                                    1245\n",
       "NK IFN stim                            1211\n",
       "Non-classical monocyte complement+     1173\n",
       "Non-classical monocyte IFN stim        1167\n",
       "Hematopoietic progenitors               938\n",
       "Classical monocyte IL6+                 768\n",
       "NKT                                     687\n",
       "B non-switched mem IFN stim             680\n",
       "ILC                                     405\n",
       "Red blood cells                         385\n",
       "Plasmablasts                            208\n",
       "T CD8 CTL IFN stim                      134\n",
       "cDC1                                     61\n",
       "AS-DC                                    59\n",
       "Basophils & Eosinophils                  25\n",
       "Hematopoietic progenitors IFN stim       21\n",
       "Name: count, dtype: int64"
      ]
     },
     "execution_count": 7,
     "metadata": {},
     "output_type": "execute_result"
    }
   ],
   "source": [
    "reference.obs['seed_labels'] = reference.obs['annotation_detailed_fullNames'].copy()\n",
    "reference.obs['seed_labels'].value_counts()"
   ]
  },
  {
   "cell_type": "code",
   "execution_count": 9,
   "metadata": {},
   "outputs": [
    {
     "data": {
      "text/plain": [
       "Index(['Hematopoietic progenitors IFN stim', 'B non-switched mem IFN stim',\n",
       "       'B naive IFN stim', 'Non-classical monocyte IFN stim',\n",
       "       'Classical monocyte IFN stim', 'NK IFN stim', 'T CD8 CTL IFN stim',\n",
       "       'T CD4 naive IFN stim', 'Red blood cells', 'Platelets', 'Cycling',\n",
       "       'Basophils & Eosinophils', 'Hematopoietic progenitors', 'Plasmablasts',\n",
       "       'Plasma cells', 'B invariant', 'B switched mem', 'B non-switched mem',\n",
       "       'B naive', 'cDC2', 'cDC1', 'AS-DC', 'pDC',\n",
       "       'Non-classical monocyte complement+', 'Non-classical monocyte',\n",
       "       'Classical monocyte IL6+', 'Classical monocyte', 'ILC',\n",
       "       'NK CD56 bright', 'NK', 'NKT', 'MAIT', 'T regulatory', 'T gamma/delta',\n",
       "       'T CD8 CTL', 'T CD8 effector mem CD45RA+', 'T CD8 effector mem',\n",
       "       'T CD8 central mem', 'T CD8 naive', 'T CD4 CTL', 'T CD4 helper',\n",
       "       'T CD4 naive'],\n",
       "      dtype='object')"
      ]
     },
     "execution_count": 9,
     "metadata": {},
     "output_type": "execute_result"
    }
   ],
   "source": [
    "reference.obs['seed_labels'].cat.categories"
   ]
  },
  {
   "cell_type": "markdown",
   "metadata": {},
   "source": [
    "### Subset populations of interest"
   ]
  },
  {
   "cell_type": "code",
   "execution_count": 8,
   "metadata": {},
   "outputs": [
    {
     "data": {
      "text/plain": [
       "seed_labels\n",
       "T CD4 naive                           77439\n",
       "Classical monocyte                    47520\n",
       "NK                                    43630\n",
       "B naive                               40193\n",
       "T CD4 helper                          37922\n",
       "T CD8 CTL                             36217\n",
       "T CD8 naive                           33590\n",
       "T CD8 central mem                     12830\n",
       "T regulatory                           8567\n",
       "Non-classical monocyte                 8342\n",
       "T CD4 naive IFN stim                   8134\n",
       "Classical monocyte IFN stim            7124\n",
       "T CD8 effector mem CD45RA+             6443\n",
       "B non-switched mem                     5574\n",
       "T CD4 CTL                              5294\n",
       "T gamma/delta                          5144\n",
       "NK CD56 bright                         4723\n",
       "B switched mem                         4060\n",
       "MAIT                                   3961\n",
       "Cycling                                3593\n",
       "cDC2                                   2963\n",
       "T CD8 effector mem                     2486\n",
       "B naive IFN stim                       2019\n",
       "B invariant                            1944\n",
       "Platelets                              1784\n",
       "Plasma cells                           1557\n",
       "pDC                                    1245\n",
       "NK IFN stim                            1211\n",
       "Non-classical monocyte complement+     1173\n",
       "Non-classical monocyte IFN stim        1167\n",
       "Hematopoietic progenitors               938\n",
       "Classical monocyte IL6+                 768\n",
       "NKT                                     687\n",
       "B non-switched mem IFN stim             680\n",
       "ILC                                     405\n",
       "Red blood cells                         385\n",
       "Plasmablasts                            208\n",
       "T CD8 CTL IFN stim                      134\n",
       "cDC1                                     61\n",
       "AS-DC                                    59\n",
       "Basophils & Eosinophils                  25\n",
       "Hematopoietic progenitors IFN stim       21\n",
       "Name: count, dtype: int64"
      ]
     },
     "execution_count": 8,
     "metadata": {},
     "output_type": "execute_result"
    }
   ],
   "source": [
    "reference = reference[~reference.obs['seed_labels'].isin(['nan'])]              # = filter out not assigned cells?\n",
    "reference.obs['seed_labels'].value_counts()"
   ]
  },
  {
   "cell_type": "code",
   "execution_count": 9,
   "metadata": {},
   "outputs": [],
   "source": [
    "sc.pp.filter_cells(reference, min_genes = 200)\n",
    "sc.pp.filter_cells(reference, min_counts = 100)"
   ]
  },
  {
   "cell_type": "code",
   "execution_count": 10,
   "metadata": {},
   "outputs": [
    {
     "data": {
      "text/plain": [
       "cell_source\n",
       "Yoshida    422220\n",
       "Name: count, dtype: int64"
      ]
     },
     "execution_count": 10,
     "metadata": {},
     "output_type": "execute_result"
    }
   ],
   "source": [
    "cell_source_reference = \"Yoshida\"\n",
    "reference.obs[\"cell_source\"] = cell_source_reference\n",
    "reference.obs['cell_source'].value_counts()"
   ]
  },
  {
   "attachments": {},
   "cell_type": "markdown",
   "metadata": {},
   "source": [
    "### Read in other query"
   ]
  },
  {
   "cell_type": "code",
   "execution_count": 11,
   "metadata": {},
   "outputs": [
    {
     "data": {
      "text/plain": [
       "AnnData object with n_obs × n_vars = 9386 × 32285\n",
       "    obs: 'sample', 'n_genes', 'doublet_scores', 'n_genes_by_counts', 'total_counts', 'total_counts_mt', 'pct_counts_mt', 'total_counts_ribo', 'pct_counts_ribo', 'percent_mt', 'n_counts', 'percent_chrY', 'XIST-counts', 'S_score', 'G2M_score', 'cell_source', 'seed_labels', 'donor'\n",
       "    var: 'gene_ids', 'feature_types', 'mt', 'ribo', 'n_cells_by_counts', 'mean_counts', 'pct_dropout_by_counts', 'total_counts'\n",
       "    uns: 'sample_colors'\n",
       "    layers: 'counts', 'sqrt_norm'"
      ]
     },
     "execution_count": 11,
     "metadata": {},
     "output_type": "execute_result"
    }
   ],
   "source": [
    "query = sc.read_h5ad('/home/guest1/data/ACM_cardiac_leuco/Pkp2/C6_Pkp2_Exp1_Library1/processed/Pkp2_A1_QCed_ac240216.raw.h5ad')\n",
    "query.obs['cell_source'] = 'Pkp2_A1'\n",
    "query.obs['seed_labels'] = 'Unknown'\n",
    "query.obs['donor'] = query.obs['sample'].copy()\n",
    "query"
   ]
  },
  {
   "cell_type": "code",
   "execution_count": 12,
   "metadata": {},
   "outputs": [],
   "source": [
    "sc.pp.filter_cells(query, min_genes = 200)\n",
    "sc.pp.filter_cells(query, min_counts = 100)"
   ]
  },
  {
   "cell_type": "markdown",
   "metadata": {},
   "source": [
    "### Change gene symbols for label transfer"
   ]
  },
  {
   "cell_type": "code",
   "execution_count": 13,
   "metadata": {},
   "outputs": [
    {
     "data": {
      "text/plain": [
       "Index(['XKR4', 'GM1992', 'GM19938', 'GM37381', 'RP1', 'SOX17', 'GM37587',\n",
       "       'GM37323', 'MRPL15', 'LYPLA1',\n",
       "       ...\n",
       "       'GM16367', 'AC163611.1', 'AC163611.2', 'AC140365.1', 'AC124606.2',\n",
       "       'AC124606.1', 'AC133095.2', 'AC133095.1', 'AC234645.1', 'AC149090.1'],\n",
       "      dtype='object', length=32285)"
      ]
     },
     "execution_count": 13,
     "metadata": {},
     "output_type": "execute_result"
    }
   ],
   "source": [
    "query.var_names = [gene_name.upper() for gene_name in query.var_names]\n",
    "query.var_names"
   ]
  },
  {
   "cell_type": "code",
   "execution_count": 14,
   "metadata": {},
   "outputs": [
    {
     "data": {
      "text/plain": [
       "AnnData object with n_obs × n_vars = 431606 × 16209\n",
       "    obs: 'orig.ident', 'nCount_RNA', 'nFeature_RNA', 'nCount_ADT', 'nFeature_ADT', 'Age_group', 'BMI', 'COVID_severity', 'COVID_status', 'Ethnicity', 'Group', 'Sex', 'Smoker', 'annotation_broad', 'annotation_detailed', 'annotation_detailed_fullNames', 'patient_id', 'sample_id', 'sequencing_library', 'Protein_modality_weight', 'seed_labels', 'n_genes', 'n_counts', 'cell_source', 'sample', 'doublet_scores', 'n_genes_by_counts', 'total_counts', 'total_counts_mt', 'pct_counts_mt', 'total_counts_ribo', 'pct_counts_ribo', 'percent_mt', 'percent_chrY', 'XIST-counts', 'S_score', 'G2M_score', 'donor', 'batch'\n",
       "    var: 'gene_ids-query', 'feature_types-query', 'mt-query', 'ribo-query', 'n_cells_by_counts-query', 'mean_counts-query', 'pct_dropout_by_counts-query', 'total_counts-query', 'name-reference'"
      ]
     },
     "execution_count": 14,
     "metadata": {},
     "output_type": "execute_result"
    }
   ],
   "source": [
    "adata = reference.concatenate(query, batch_key = 'batch', batch_categories = ['reference', 'query'], join = 'inner')                #merge to one adata object\n",
    "adata"
   ]
  },
  {
   "cell_type": "code",
   "execution_count": 15,
   "metadata": {},
   "outputs": [
    {
     "data": {
      "text/plain": [
       "seed_labels\n",
       "T CD4 naive                           77439\n",
       "Classical monocyte                    47520\n",
       "NK                                    43630\n",
       "B naive                               40193\n",
       "T CD4 helper                          37922\n",
       "T CD8 CTL                             36217\n",
       "T CD8 naive                           33590\n",
       "T CD8 central mem                     12830\n",
       "Unknown                                9386\n",
       "T regulatory                           8567\n",
       "Non-classical monocyte                 8342\n",
       "T CD4 naive IFN stim                   8134\n",
       "Classical monocyte IFN stim            7124\n",
       "T CD8 effector mem CD45RA+             6443\n",
       "B non-switched mem                     5574\n",
       "T CD4 CTL                              5294\n",
       "T gamma/delta                          5144\n",
       "NK CD56 bright                         4723\n",
       "B switched mem                         4060\n",
       "MAIT                                   3961\n",
       "Cycling                                3593\n",
       "cDC2                                   2963\n",
       "T CD8 effector mem                     2486\n",
       "B naive IFN stim                       2019\n",
       "B invariant                            1944\n",
       "Platelets                              1784\n",
       "Plasma cells                           1557\n",
       "pDC                                    1245\n",
       "NK IFN stim                            1211\n",
       "Non-classical monocyte complement+     1173\n",
       "Non-classical monocyte IFN stim        1167\n",
       "Hematopoietic progenitors               938\n",
       "Classical monocyte IL6+                 768\n",
       "NKT                                     687\n",
       "B non-switched mem IFN stim             680\n",
       "ILC                                     405\n",
       "Red blood cells                         385\n",
       "Plasmablasts                            208\n",
       "T CD8 CTL IFN stim                      134\n",
       "cDC1                                     61\n",
       "AS-DC                                    59\n",
       "Basophils & Eosinophils                  25\n",
       "Hematopoietic progenitors IFN stim       21\n",
       "Name: count, dtype: int64"
      ]
     },
     "execution_count": 15,
     "metadata": {},
     "output_type": "execute_result"
    }
   ],
   "source": [
    "adata.obs['seed_labels'] = adata.obs['seed_labels'].astype('category')\n",
    "adata.obs['seed_labels'].value_counts()"
   ]
  },
  {
   "cell_type": "code",
   "execution_count": 16,
   "metadata": {},
   "outputs": [
    {
     "data": {
      "text/plain": [
       "batch\n",
       "reference    422220\n",
       "query          9386\n",
       "Name: count, dtype: int64"
      ]
     },
     "execution_count": 16,
     "metadata": {},
     "output_type": "execute_result"
    }
   ],
   "source": [
    "adata.obs['batch'].value_counts()"
   ]
  },
  {
   "attachments": {},
   "cell_type": "markdown",
   "metadata": {},
   "source": [
    "### Select HVGs"
   ]
  },
  {
   "cell_type": "code",
   "execution_count": 17,
   "metadata": {},
   "outputs": [],
   "source": [
    "adata.obs['donor'] = adata.obs['donor'].astype('str') "
   ]
  },
  {
   "cell_type": "code",
   "execution_count": 18,
   "metadata": {},
   "outputs": [
    {
     "name": "stdout",
     "output_type": "stream",
     "text": [
      "If you pass `n_top_genes`, all cutoffs are ignored.\n",
      "extracting highly variable genes\n",
      "--> added\n",
      "    'highly_variable', boolean vector (adata.var)\n",
      "    'highly_variable_rank', float vector (adata.var)\n",
      "    'means', float vector (adata.var)\n",
      "    'variances', float vector (adata.var)\n",
      "    'variances_norm', float vector (adata.var)\n"
     ]
    },
    {
     "data": {
      "text/plain": [
       "AnnData object with n_obs × n_vars = 431606 × 7000\n",
       "    obs: 'orig.ident', 'nCount_RNA', 'nFeature_RNA', 'nCount_ADT', 'nFeature_ADT', 'Age_group', 'BMI', 'COVID_severity', 'COVID_status', 'Ethnicity', 'Group', 'Sex', 'Smoker', 'annotation_broad', 'annotation_detailed', 'annotation_detailed_fullNames', 'patient_id', 'sample_id', 'sequencing_library', 'Protein_modality_weight', 'seed_labels', 'n_genes', 'n_counts', 'cell_source', 'sample', 'doublet_scores', 'n_genes_by_counts', 'total_counts', 'total_counts_mt', 'pct_counts_mt', 'total_counts_ribo', 'pct_counts_ribo', 'percent_mt', 'percent_chrY', 'XIST-counts', 'S_score', 'G2M_score', 'donor', 'batch'\n",
       "    var: 'gene_ids-query', 'feature_types-query', 'mt-query', 'ribo-query', 'n_cells_by_counts-query', 'mean_counts-query', 'pct_dropout_by_counts-query', 'total_counts-query', 'name-reference', 'highly_variable', 'highly_variable_rank', 'means', 'variances', 'variances_norm', 'highly_variable_nbatches'\n",
       "    uns: 'hvg'\n",
       "    layers: 'counts'"
      ]
     },
     "execution_count": 18,
     "metadata": {},
     "output_type": "execute_result"
    }
   ],
   "source": [
    "adata_raw = adata.copy()\n",
    "adata.layers['counts'] = adata.X.copy()\n",
    "\n",
    "sc.pp.highly_variable_genes(\n",
    "    adata,\n",
    "    flavor = \"seurat_v3\",\n",
    "    n_top_genes = 7000,\n",
    "    layer = \"counts\",\n",
    "    batch_key = \"donor\",\n",
    "    subset = True\n",
    "    )\n",
    "\n",
    "adata"
   ]
  },
  {
   "attachments": {},
   "cell_type": "markdown",
   "metadata": {},
   "source": [
    "### Transfer of annotation with scANVI"
   ]
  },
  {
   "cell_type": "code",
   "execution_count": 19,
   "metadata": {},
   "outputs": [],
   "source": [
    "scvi.model.SCVI.setup_anndata(adata, \n",
    "                              batch_key = 'donor', \n",
    "                              labels_key = 'seed_labels',\n",
    "                              layer = 'counts',\n",
    "                              categorical_covariate_keys = ['donor', 'cell_source'])"
   ]
  },
  {
   "cell_type": "code",
   "execution_count": 20,
   "metadata": {},
   "outputs": [],
   "source": [
    "scvi_model = scvi.model.SCVI(adata, \n",
    "                             n_latent = 50, \n",
    "                             n_layers = 3, \n",
    "                             dispersion = 'gene-batch', \n",
    "                             gene_likelihood = 'nb')"
   ]
  },
  {
   "cell_type": "code",
   "execution_count": 21,
   "metadata": {},
   "outputs": [
    {
     "name": "stderr",
     "output_type": "stream",
     "text": [
      "GPU available: False, used: False\n",
      "TPU available: False, using: 0 TPU cores\n",
      "IPU available: False, using: 0 IPUs\n",
      "HPU available: False, using: 0 HPUs\n"
     ]
    },
    {
     "name": "stdout",
     "output_type": "stream",
     "text": [
      "Epoch 75/75: 100%|██████████| 75/75 [25:13:55<00:00, 208.30s/it, v_num=1, train_loss_step=1.51e+3, train_loss_epoch=1.48e+3]      "
     ]
    },
    {
     "name": "stderr",
     "output_type": "stream",
     "text": [
      "`Trainer.fit` stopped: `max_epochs=75` reached.\n"
     ]
    },
    {
     "name": "stdout",
     "output_type": "stream",
     "text": [
      "Epoch 75/75: 100%|██████████| 75/75 [25:13:55<00:00, 1211.15s/it, v_num=1, train_loss_step=1.51e+3, train_loss_epoch=1.48e+3]\n"
     ]
    }
   ],
   "source": [
    "scvi_model.train(75, \n",
    "                 check_val_every_n_epoch = 1, \n",
    "                 enable_progress_bar = True,                    #use_gpu = 1 was an argument in old notebook\n",
    "                 )"
   ]
  },
  {
   "cell_type": "markdown",
   "metadata": {},
   "source": [
    "### Evaluate model performance a la _Sevensson_"
   ]
  },
  {
   "cell_type": "code",
   "execution_count": 22,
   "metadata": {},
   "outputs": [
    {
     "data": {
      "image/png": "[encoded data removed]",
      "text/plain": [
       "<Figure size 1200x600 with 1 Axes>"
      ]
     },
     "metadata": {
      "image/png": {
       "height": 560,
       "width": 1196
      },
      "needs_background": "light"
     },
     "output_type": "display_data"
    },
    {
     "name": "stdout",
     "output_type": "stream",
     "text": [
      "\n"
     ]
    }
   ],
   "source": [
    "history_df = (\n",
    "    scvi_model.history['elbo_train'].astype(float)\n",
    "    .join(scvi_model.history['elbo_validation'].astype(float))\n",
    "    .reset_index()\n",
    "    .melt(id_vars = ['epoch'])\n",
    ")\n",
    "\n",
    "p.options.figure_size = 12, 6\n",
    "\n",
    "p_ = (\n",
    "    p.ggplot(p.aes(x = 'epoch', y = 'value', color = 'variable'), history_df.query('epoch > 0'))\n",
    "    + p.geom_line()\n",
    "    + p.geom_point()\n",
    "    + p.scale_color_manual({'elbo_train': 'black', 'elbo_validation': 'red'})\n",
    "    + p.theme_minimal()\n",
    ")\n",
    "\n",
    "p_.save('fig1.png', dpi = 300)\n",
    "\n",
    "print(p_)"
   ]
  },
  {
   "attachments": {},
   "cell_type": "markdown",
   "metadata": {},
   "source": [
    "### Label transfer with `scANVI` "
   ]
  },
  {
   "cell_type": "code",
   "execution_count": 23,
   "metadata": {},
   "outputs": [],
   "source": [
    "scanvi_model = scvi.model.SCANVI.from_scvi_model(scvi_model, 'Unknown')"
   ]
  },
  {
   "cell_type": "code",
   "execution_count": 25,
   "metadata": {},
   "outputs": [
    {
     "name": "stdout",
     "output_type": "stream",
     "text": [
      "\u001b[34mINFO    \u001b[0m Training for \u001b[1;36m80\u001b[0m epochs.                                                                                   \n"
     ]
    },
    {
     "name": "stderr",
     "output_type": "stream",
     "text": [
      "GPU available: False, used: False\n",
      "TPU available: False, using: 0 TPU cores\n",
      "IPU available: False, using: 0 IPUs\n",
      "HPU available: False, using: 0 HPUs\n"
     ]
    },
    {
     "name": "stdout",
     "output_type": "stream",
     "text": [
      "Epoch 1/80:   0%|          | 0/80 [00:00<?, ?it/s]"
     ]
    }
   ],
   "source": [
    "scanvi_model.train(80, \n",
    "                   check_val_every_n_epoch = 1, \n",
    "                   enable_progress_bar = True,              # use_gpu = 1)\n",
    ")"
   ]
  },
  {
   "cell_type": "markdown",
   "metadata": {},
   "source": [
    "### Evaluate model performance a la Svensson"
   ]
  },
  {
   "cell_type": "code",
   "execution_count": null,
   "metadata": {},
   "outputs": [],
   "source": [
    "history_df = (\n",
    "    scanvi_model.history['elbo_train'].astype(float)\n",
    "    .join(scanvi_model.history['elbo_validation'].astype(float))\n",
    "    .reset_index()\n",
    "    .melt(id_vars = ['epoch'])\n",
    ")\n",
    "\n",
    "p.options.figure_size = 12, 6\n",
    "\n",
    "p_ = (\n",
    "    p.ggplot(p.aes(x = 'epoch', y = 'value', color = 'variable'), history_df.query('epoch > 0'))\n",
    "    + p.geom_line()\n",
    "    + p.geom_point()\n",
    "    + p.scale_color_manual({'elbo_train': 'black', 'elbo_validation': 'red'})\n",
    "    + p.theme_minimal()\n",
    ")\n",
    "\n",
    "p_.save('fig1.png', dpi = 300)\n",
    "\n",
    "print(p_)"
   ]
  },
  {
   "cell_type": "code",
   "execution_count": null,
   "metadata": {},
   "outputs": [],
   "source": [
    "adata.obs[\"C_scANVI\"] = scanvi_model.predict(adata)"
   ]
  },
  {
   "attachments": {},
   "cell_type": "markdown",
   "metadata": {},
   "source": [
    "- Extract latent representation"
   ]
  },
  {
   "cell_type": "code",
   "execution_count": null,
   "metadata": {},
   "outputs": [],
   "source": [
    "adata.obsm[\"X_scANVI\"] = scanvi_model.get_latent_representation(adata)"
   ]
  },
  {
   "attachments": {},
   "cell_type": "markdown",
   "metadata": {},
   "source": [
    "- Visualise corrected dataset"
   ]
  },
  {
   "cell_type": "code",
   "execution_count": null,
   "metadata": {},
   "outputs": [],
   "source": [
    "sc.pp.neighbors(adata, use_rep = \"X_scANVI\", n_neighbors = 50, metric = 'minkowski')\n",
    "sc.tl.umap(adata, min_dist = 0.3, spread = 4, random_state = 1712)\n",
    "sc.pl.umap(adata, frameon = False, color = ['C_scANVI', 'seed_labels', 'sample', 'batch'], size = 1, legend_fontsize = 5, ncols = 3)"
   ]
  },
  {
   "attachments": {},
   "cell_type": "markdown",
   "metadata": {},
   "source": [
    "### Export annotated object"
   ]
  },
  {
   "cell_type": "code",
   "execution_count": null,
   "metadata": {},
   "outputs": [],
   "source": [
    "adata_export_merged = anndata.AnnData(X = adata_raw.X, var = adata_raw.var, obs = adata.obs)\n",
    "adata_export_merged"
   ]
  },
  {
   "cell_type": "code",
   "execution_count": null,
   "metadata": {},
   "outputs": [],
   "source": [
    "adata_export = adata_export_merged[adata_export_merged.obs['batch'].isin(['query'])]\n",
    "adata_export"
   ]
  },
  {
   "cell_type": "markdown",
   "metadata": {},
   "source": [
    "### Add new gene symbols"
   ]
  },
  {
   "cell_type": "code",
   "execution_count": null,
   "metadata": {},
   "outputs": [],
   "source": [
    "query_export = anndata.AnnData(X = query.X, var = query.var, obs = adata_export.obs)\n",
    "query_export"
   ]
  },
  {
   "cell_type": "markdown",
   "metadata": {},
   "source": [
    "### Revert gene symbols"
   ]
  },
  {
   "cell_type": "code",
   "execution_count": null,
   "metadata": {},
   "outputs": [],
   "source": [
    "query_export.var_names = [gene_name.capitalize() for gene_name in query_export.var_names]\n",
    "query_export.var_names"
   ]
  },
  {
   "cell_type": "code",
   "execution_count": null,
   "metadata": {},
   "outputs": [],
   "source": [
    "query_export.obs['C_scANVI'].value_counts()"
   ]
  },
  {
   "cell_type": "code",
   "execution_count": null,
   "metadata": {},
   "outputs": [],
   "source": [
    "query_export"
   ]
  },
  {
   "cell_type": "code",
   "execution_count": null,
   "metadata": {},
   "outputs": [],
   "source": [
    "query_export.write('../data/heart_mm_nuclei-23-0092_scANVI-CellStates_ctl231123.raw.h5ad')"
   ]
  },
  {
   "cell_type": "code",
   "execution_count": null,
   "metadata": {},
   "outputs": [],
   "source": []
  }
 ],
 "metadata": {
  "kernelspec": {
   "display_name": "Python 3.8.14 ('scvi-tools')",
   "language": "python",
   "name": "python3"
  },
  "language_info": {
   "codemirror_mode": {
    "name": "ipython",
    "version": 3
   },
   "file_extension": ".py",
   "mimetype": "text/x-python",
   "name": "python",
   "nbconvert_exporter": "python",
   "pygments_lexer": "ipython3",
   "version": "3.10.13"
  },
  "orig_nbformat": 4,
  "vscode": {
   "interpreter": {
    "hash": "be6e4b2475555bb52a1f9704f3384c4fd38c8454adf16dc700aeb2c29c9568d8"
   }
  }
 },
 "nbformat": 4,
 "nbformat_minor": 2
}
