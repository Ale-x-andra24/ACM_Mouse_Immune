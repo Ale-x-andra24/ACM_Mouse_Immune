{
 "cells": [
  {
   "attachments": {},
   "cell_type": "markdown",
   "metadata": {},
   "source": [
    "### Notebook for the label transfer of Healthy Human PBMCs to mouse ACM heart (merged Pkp2+Ttn dataset) using `scANVI`\n",
    "\n",
    "- **Developed by:** Carlos Talavera-López Ph.D\n",
    "- **Modified by:** Alexandra Cirnu\n",
    "- **Würzburg Institute for Systems Immunology & Julius-Maximilian-Universität Würzburg**\n",
    "- **Date of creation:** 230918\n",
    "- **Date of modification:** 240220"
   ]
  },
  {
   "attachments": {},
   "cell_type": "markdown",
   "metadata": {},
   "source": [
    "### Import required modules"
   ]
  },
  {
   "cell_type": "code",
   "execution_count": 1,
   "metadata": {},
   "outputs": [],
   "source": [
    "import scvi\n",
    "import torch\n",
    "import anndata\n",
    "import warnings\n",
    "import numpy as np\n",
    "import scanpy as sc\n",
    "import pandas as pd\n",
    "import plotnine as p\n",
    "from pywaffle import Waffle\n",
    "import matplotlib.pyplot as plt\n",
    "#from scib_metrics.benchmark import Benchmarker"
   ]
  },
  {
   "attachments": {},
   "cell_type": "markdown",
   "metadata": {},
   "source": [
    "### Set up working environment"
   ]
  },
  {
   "cell_type": "code",
   "execution_count": 2,
   "metadata": {},
   "outputs": [
    {
     "name": "stdout",
     "output_type": "stream",
     "text": [
      "-----\n",
      "anndata     0.10.5.post1\n",
      "scanpy      1.9.8\n",
      "-----\n",
      "PIL                 9.4.0\n",
      "absl                NA\n",
      "asttokens           NA\n",
      "attr                23.2.0\n",
      "chex                0.1.85\n",
      "comm                0.2.1\n",
      "contextlib2         NA\n",
      "cycler              0.12.1\n",
      "cython_runtime      NA\n",
      "dateutil            2.8.2\n",
      "debugpy             1.8.1\n",
      "decorator           5.1.1\n",
      "docrep              0.3.2\n",
      "etils               1.7.0\n",
      "exceptiongroup      1.2.0\n",
      "executing           2.0.1\n",
      "flax                0.8.1\n",
      "fsspec              2024.2.0\n",
      "h5py                3.10.0\n",
      "importlib_resources NA\n",
      "ipykernel           6.29.2\n",
      "ipywidgets          8.1.2\n",
      "jax                 0.4.24\n",
      "jaxlib              0.4.24\n",
      "jedi                0.19.1\n",
      "joblib              1.3.2\n",
      "kiwisolver          1.4.5\n",
      "lightning           2.1.4\n",
      "lightning_utilities 0.10.1\n",
      "llvmlite            0.42.0\n",
      "matplotlib          3.8.3\n",
      "mizani              0.9.3\n",
      "ml_collections      NA\n",
      "ml_dtypes           0.3.2\n",
      "mpl_toolkits        NA\n",
      "msgpack             1.0.7\n",
      "mudata              0.2.3\n",
      "multipledispatch    0.6.0\n",
      "natsort             8.4.0\n",
      "numba               0.59.0\n",
      "numpy               1.26.4\n",
      "numpyro             0.13.2\n",
      "opt_einsum          v3.3.0\n",
      "optax               0.1.9\n",
      "packaging           23.2\n",
      "pandas              2.2.0\n",
      "parso               0.8.3\n",
      "pkg_resources       NA\n",
      "platformdirs        4.2.0\n",
      "plotnine            0.12.4\n",
      "prompt_toolkit      3.0.43\n",
      "psutil              5.9.8\n",
      "pure_eval           0.2.2\n",
      "pydev_ipython       NA\n",
      "pydevconsole        NA\n",
      "pydevd              2.9.5\n",
      "pydevd_file_utils   NA\n",
      "pydevd_plugins      NA\n",
      "pydevd_tracing      NA\n",
      "pygments            2.17.2\n",
      "pyparsing           3.1.1\n",
      "pyro                1.9.0\n",
      "pytz                2024.1\n",
      "pywaffle            NA\n",
      "rich                NA\n",
      "scipy               1.12.0\n",
      "scvi                1.1.1\n",
      "session_info        1.0.0\n",
      "six                 1.16.0\n",
      "sklearn             1.4.1.post1\n",
      "stack_data          0.6.3\n",
      "threadpoolctl       3.3.0\n",
      "toolz               0.12.1\n",
      "torch               2.2.0\n",
      "torchgen            NA\n",
      "torchmetrics        1.3.1\n",
      "tornado             6.4\n",
      "tqdm                4.66.2\n",
      "traitlets           5.14.1\n",
      "typing_extensions   NA\n",
      "wcwidth             0.2.13\n",
      "yaml                6.0.1\n",
      "zmq                 25.1.2\n",
      "zoneinfo            NA\n",
      "-----\n",
      "IPython             8.21.0\n",
      "jupyter_client      8.6.0\n",
      "jupyter_core        5.7.1\n",
      "-----\n",
      "Python 3.10.13 | packaged by conda-forge | (main, Dec 23 2023, 15:36:39) [GCC 12.3.0]\n",
      "Linux-6.6.14-100.fc38.x86_64-x86_64-with-glibc2.37\n",
      "-----\n",
      "Session information updated at 2024-02-20 16:15\n"
     ]
    }
   ],
   "source": [
    "sc.settings.verbosity = 3\n",
    "sc.logging.print_versions()\n",
    "sc.settings.set_figure_params(dpi = 180, color_map = 'magma_r', dpi_save = 300, vector_friendly = True, format = 'svg')"
   ]
  },
  {
   "cell_type": "code",
   "execution_count": 3,
   "metadata": {},
   "outputs": [],
   "source": [
    " def X_is_raw(adata): return np.array_equal(adata.X.sum(axis=0).astype(int), adata.X.sum(axis=0))"
   ]
  },
  {
   "cell_type": "code",
   "execution_count": 4,
   "metadata": {},
   "outputs": [],
   "source": [
    "torch.set_float32_matmul_precision('high')"
   ]
  },
  {
   "cell_type": "code",
   "execution_count": 5,
   "metadata": {},
   "outputs": [
    {
     "name": "stderr",
     "output_type": "stream",
     "text": [
      "Seed set to 1712\n"
     ]
    }
   ],
   "source": [
    "warnings.simplefilter(action = 'ignore')\n",
    "scvi.settings.seed = 1712\n",
    "%config InlineBackend.print_figure_kwargs = {'facecolor' : \"w\"}\n",
    "%config InlineBackend.figure_format = 'retina'"
   ]
  },
  {
   "cell_type": "code",
   "execution_count": 6,
   "metadata": {},
   "outputs": [],
   "source": [
    "arches_params = dict(\n",
    "    use_layer_norm = \"both\",\n",
    "    use_batch_norm = \"none\",\n",
    "    encode_covariates = True,\n",
    "    dropout_rate = 0.2,\n",
    "    n_layers = 2,\n",
    ")"
   ]
  },
  {
   "attachments": {},
   "cell_type": "markdown",
   "metadata": {},
   "source": [
    "### Read in Healthy data"
   ]
  },
  {
   "cell_type": "code",
   "execution_count": 7,
   "metadata": {},
   "outputs": [
    {
     "data": {
      "text/plain": [
       "AnnData object with n_obs × n_vars = 422220 × 33559\n",
       "    obs: 'orig.ident', 'nCount_RNA', 'nFeature_RNA', 'nCount_ADT', 'nFeature_ADT', 'Age_group', 'BMI', 'COVID_severity', 'COVID_status', 'Ethnicity', 'Group', 'Sex', 'Smoker', 'annotation_broad', 'annotation_detailed', 'annotation_detailed_fullNames', 'patient_id', 'sample_id', 'sequencing_library', 'Protein_modality_weight'\n",
       "    var: 'name'"
      ]
     },
     "execution_count": 7,
     "metadata": {},
     "output_type": "execute_result"
    }
   ],
   "source": [
    "reference = sc.read_h5ad('/home/acirnu/data/ACM_cardiac_leuco/Annotated_PBMC/meyer_nikolic_covid_pbmc_raw.h5ad')\n",
    "reference"
   ]
  },
  {
   "cell_type": "code",
   "execution_count": 8,
   "metadata": {},
   "outputs": [
    {
     "data": {
      "text/plain": [
       "True"
      ]
     },
     "execution_count": 8,
     "metadata": {},
     "output_type": "execute_result"
    }
   ],
   "source": [
    "X_is_raw(reference)"
   ]
  },
  {
   "cell_type": "code",
   "execution_count": 9,
   "metadata": {},
   "outputs": [
    {
     "data": {
      "text/plain": [
       "annotation_detailed_fullNames\n",
       "T CD4 naive                           77439\n",
       "Classical monocyte                    47520\n",
       "NK                                    43630\n",
       "B naive                               40193\n",
       "T CD4 helper                          37922\n",
       "T CD8 CTL                             36217\n",
       "T CD8 naive                           33590\n",
       "T CD8 central mem                     12830\n",
       "T regulatory                           8567\n",
       "Non-classical monocyte                 8342\n",
       "T CD4 naive IFN stim                   8134\n",
       "Classical monocyte IFN stim            7124\n",
       "T CD8 effector mem CD45RA+             6443\n",
       "B non-switched mem                     5574\n",
       "T CD4 CTL                              5294\n",
       "T gamma/delta                          5144\n",
       "NK CD56 bright                         4723\n",
       "B switched mem                         4060\n",
       "MAIT                                   3961\n",
       "Cycling                                3593\n",
       "cDC2                                   2963\n",
       "T CD8 effector mem                     2486\n",
       "B naive IFN stim                       2019\n",
       "B invariant                            1944\n",
       "Platelets                              1784\n",
       "Plasma cells                           1557\n",
       "pDC                                    1245\n",
       "NK IFN stim                            1211\n",
       "Non-classical monocyte complement+     1173\n",
       "Non-classical monocyte IFN stim        1167\n",
       "Hematopoietic progenitors               938\n",
       "Classical monocyte IL6+                 768\n",
       "NKT                                     687\n",
       "B non-switched mem IFN stim             680\n",
       "ILC                                     405\n",
       "Red blood cells                         385\n",
       "Plasmablasts                            208\n",
       "T CD8 CTL IFN stim                      134\n",
       "cDC1                                     61\n",
       "AS-DC                                    59\n",
       "Basophils & Eosinophils                  25\n",
       "Hematopoietic progenitors IFN stim       21\n",
       "Name: count, dtype: int64"
      ]
     },
     "execution_count": 9,
     "metadata": {},
     "output_type": "execute_result"
    }
   ],
   "source": [
    "reference.obs['annotation_detailed_fullNames'].value_counts()"
   ]
  },
  {
   "attachments": {},
   "cell_type": "markdown",
   "metadata": {},
   "source": [
    "- Remove annotations with less than 10 cells"
   ]
  },
  {
   "cell_type": "code",
   "execution_count": 10,
   "metadata": {},
   "outputs": [
    {
     "data": {
      "text/plain": [
       "seed_labels\n",
       "T CD4 naive                           77439\n",
       "Classical monocyte                    47520\n",
       "NK                                    43630\n",
       "B naive                               40193\n",
       "T CD4 helper                          37922\n",
       "T CD8 CTL                             36217\n",
       "T CD8 naive                           33590\n",
       "T CD8 central mem                     12830\n",
       "T regulatory                           8567\n",
       "Non-classical monocyte                 8342\n",
       "T CD4 naive IFN stim                   8134\n",
       "Classical monocyte IFN stim            7124\n",
       "T CD8 effector mem CD45RA+             6443\n",
       "B non-switched mem                     5574\n",
       "T CD4 CTL                              5294\n",
       "T gamma/delta                          5144\n",
       "NK CD56 bright                         4723\n",
       "B switched mem                         4060\n",
       "MAIT                                   3961\n",
       "Cycling                                3593\n",
       "cDC2                                   2963\n",
       "T CD8 effector mem                     2486\n",
       "B naive IFN stim                       2019\n",
       "B invariant                            1944\n",
       "Platelets                              1784\n",
       "Plasma cells                           1557\n",
       "pDC                                    1245\n",
       "NK IFN stim                            1211\n",
       "Non-classical monocyte complement+     1173\n",
       "Non-classical monocyte IFN stim        1167\n",
       "Hematopoietic progenitors               938\n",
       "Classical monocyte IL6+                 768\n",
       "NKT                                     687\n",
       "B non-switched mem IFN stim             680\n",
       "ILC                                     405\n",
       "Red blood cells                         385\n",
       "Plasmablasts                            208\n",
       "T CD8 CTL IFN stim                      134\n",
       "cDC1                                     61\n",
       "AS-DC                                    59\n",
       "Basophils & Eosinophils                  25\n",
       "Hematopoietic progenitors IFN stim       21\n",
       "Name: count, dtype: int64"
      ]
     },
     "execution_count": 10,
     "metadata": {},
     "output_type": "execute_result"
    }
   ],
   "source": [
    "reference.obs['seed_labels'] = reference.obs['annotation_detailed_fullNames'].copy()\n",
    "reference.obs['seed_labels'].value_counts()"
   ]
  },
  {
   "cell_type": "code",
   "execution_count": 11,
   "metadata": {},
   "outputs": [
    {
     "data": {
      "text/plain": [
       "Index(['Hematopoietic progenitors IFN stim', 'B non-switched mem IFN stim',\n",
       "       'B naive IFN stim', 'Non-classical monocyte IFN stim',\n",
       "       'Classical monocyte IFN stim', 'NK IFN stim', 'T CD8 CTL IFN stim',\n",
       "       'T CD4 naive IFN stim', 'Red blood cells', 'Platelets', 'Cycling',\n",
       "       'Basophils & Eosinophils', 'Hematopoietic progenitors', 'Plasmablasts',\n",
       "       'Plasma cells', 'B invariant', 'B switched mem', 'B non-switched mem',\n",
       "       'B naive', 'cDC2', 'cDC1', 'AS-DC', 'pDC',\n",
       "       'Non-classical monocyte complement+', 'Non-classical monocyte',\n",
       "       'Classical monocyte IL6+', 'Classical monocyte', 'ILC',\n",
       "       'NK CD56 bright', 'NK', 'NKT', 'MAIT', 'T regulatory', 'T gamma/delta',\n",
       "       'T CD8 CTL', 'T CD8 effector mem CD45RA+', 'T CD8 effector mem',\n",
       "       'T CD8 central mem', 'T CD8 naive', 'T CD4 CTL', 'T CD4 helper',\n",
       "       'T CD4 naive'],\n",
       "      dtype='object')"
      ]
     },
     "execution_count": 11,
     "metadata": {},
     "output_type": "execute_result"
    }
   ],
   "source": [
    "reference.obs['seed_labels'].cat.categories"
   ]
  },
  {
   "cell_type": "markdown",
   "metadata": {},
   "source": [
    "### Subset populations of interest"
   ]
  },
  {
   "cell_type": "code",
   "execution_count": 12,
   "metadata": {},
   "outputs": [
    {
     "data": {
      "text/plain": [
       "seed_labels\n",
       "T CD4 naive                           77439\n",
       "Classical monocyte                    47520\n",
       "NK                                    43630\n",
       "B naive                               40193\n",
       "T CD4 helper                          37922\n",
       "T CD8 CTL                             36217\n",
       "T CD8 naive                           33590\n",
       "T CD8 central mem                     12830\n",
       "T regulatory                           8567\n",
       "Non-classical monocyte                 8342\n",
       "T CD4 naive IFN stim                   8134\n",
       "Classical monocyte IFN stim            7124\n",
       "T CD8 effector mem CD45RA+             6443\n",
       "B non-switched mem                     5574\n",
       "T CD4 CTL                              5294\n",
       "T gamma/delta                          5144\n",
       "NK CD56 bright                         4723\n",
       "B switched mem                         4060\n",
       "MAIT                                   3961\n",
       "Cycling                                3593\n",
       "cDC2                                   2963\n",
       "T CD8 effector mem                     2486\n",
       "B naive IFN stim                       2019\n",
       "B invariant                            1944\n",
       "Platelets                              1784\n",
       "Plasma cells                           1557\n",
       "pDC                                    1245\n",
       "NK IFN stim                            1211\n",
       "Non-classical monocyte complement+     1173\n",
       "Non-classical monocyte IFN stim        1167\n",
       "Hematopoietic progenitors               938\n",
       "Classical monocyte IL6+                 768\n",
       "NKT                                     687\n",
       "B non-switched mem IFN stim             680\n",
       "ILC                                     405\n",
       "Red blood cells                         385\n",
       "Plasmablasts                            208\n",
       "T CD8 CTL IFN stim                      134\n",
       "cDC1                                     61\n",
       "AS-DC                                    59\n",
       "Basophils & Eosinophils                  25\n",
       "Hematopoietic progenitors IFN stim       21\n",
       "Name: count, dtype: int64"
      ]
     },
     "execution_count": 12,
     "metadata": {},
     "output_type": "execute_result"
    }
   ],
   "source": [
    "reference = reference[~reference.obs['seed_labels'].isin(['nan'])]              # = filter out not assigned cells?\n",
    "reference.obs['seed_labels'].value_counts()"
   ]
  },
  {
   "cell_type": "code",
   "execution_count": 13,
   "metadata": {},
   "outputs": [],
   "source": [
    "reference.obs['donor'] = reference.obs['sample_id'].copy()"
   ]
  },
  {
   "cell_type": "code",
   "execution_count": 14,
   "metadata": {},
   "outputs": [],
   "source": [
    "sc.pp.filter_cells(reference, min_genes = 200)              #to remove empty cells from table\n",
    "sc.pp.filter_cells(reference, min_counts = 100)"
   ]
  },
  {
   "cell_type": "code",
   "execution_count": 15,
   "metadata": {},
   "outputs": [
    {
     "data": {
      "text/plain": [
       "cell_source\n",
       "Yoshida    422220\n",
       "Name: count, dtype: int64"
      ]
     },
     "execution_count": 15,
     "metadata": {},
     "output_type": "execute_result"
    }
   ],
   "source": [
    "cell_source_reference = \"Yoshida\"\n",
    "reference.obs[\"cell_source\"] = cell_source_reference\n",
    "reference.obs['cell_source'].value_counts()"
   ]
  },
  {
   "attachments": {},
   "cell_type": "markdown",
   "metadata": {},
   "source": [
    "### Read in other query"
   ]
  },
  {
   "cell_type": "code",
   "execution_count": 16,
   "metadata": {},
   "outputs": [
    {
     "data": {
      "text/plain": [
       "AnnData object with n_obs × n_vars = 44593 × 32285\n",
       "    obs: 'sample', 'condition', 'genotype', 'infection', 'library', 'n_genes', 'doublet_scores', 'n_genes_by_counts', 'total_counts', 'total_counts_mt', 'pct_counts_mt', 'total_counts_ribo', 'pct_counts_ribo', 'percent_mt', 'n_counts', 'percent_chrY', 'XIST-counts', 'S_score', 'G2M_score', 'cell_source', 'seed_labels', 'donor'\n",
       "    var: 'gene_ids', 'feature_types', 'mt', 'ribo', 'n_cells_by_counts-A1', 'mean_counts-A1', 'pct_dropout_by_counts-A1', 'total_counts-A1', 'n_cells_by_counts-A2', 'mean_counts-A2', 'pct_dropout_by_counts-A2', 'total_counts-A2', 'n_cells_by_counts-A3', 'mean_counts-A3', 'pct_dropout_by_counts-A3', 'total_counts-A3', 'n_cells_by_counts-A4', 'mean_counts-A4', 'pct_dropout_by_counts-A4', 'total_counts-A4', 'n_cells_by_counts-B1', 'mean_counts-B1', 'pct_dropout_by_counts-B1', 'total_counts-B1', 'n_cells_by_counts-B2', 'mean_counts-B2', 'pct_dropout_by_counts-B2', 'total_counts-B2'\n",
       "    layers: 'counts', 'sqrt_norm'"
      ]
     },
     "execution_count": 16,
     "metadata": {},
     "output_type": "execute_result"
    }
   ],
   "source": [
    "query = sc.read_h5ad('/home/acirnu/data/ACM_cardiac_leuco/processed_merged/Merge_demux_QCed_ac240220.raw.h5ad')\n",
    "query.obs['cell_source'] = 'AG_Gerull'\n",
    "query.obs['seed_labels'] = 'Unknown'\n",
    "query.obs['donor'] = query.obs['sample'].copy()\n",
    "query"
   ]
  },
  {
   "cell_type": "code",
   "execution_count": 17,
   "metadata": {},
   "outputs": [
    {
     "data": {
      "text/plain": [
       "False"
      ]
     },
     "execution_count": 17,
     "metadata": {},
     "output_type": "execute_result"
    }
   ],
   "source": [
    "X_is_raw(query)"
   ]
  },
  {
   "cell_type": "code",
   "execution_count": 18,
   "metadata": {},
   "outputs": [],
   "source": [
    "sc.pp.filter_cells(query, min_genes = 200)\n",
    "sc.pp.filter_cells(query, min_counts = 100)"
   ]
  },
  {
   "cell_type": "markdown",
   "metadata": {},
   "source": [
    "### Change gene symbols for label transfer"
   ]
  },
  {
   "cell_type": "code",
   "execution_count": 19,
   "metadata": {},
   "outputs": [
    {
     "data": {
      "text/plain": [
       "Index(['XKR4', 'GM1992', 'GM19938', 'GM37381', 'RP1', 'SOX17', 'GM37587',\n",
       "       'GM37323', 'MRPL15', 'LYPLA1',\n",
       "       ...\n",
       "       'GM16367', 'AC163611.1', 'AC163611.2', 'AC140365.1', 'AC124606.2',\n",
       "       'AC124606.1', 'AC133095.2', 'AC133095.1', 'AC234645.1', 'AC149090.1'],\n",
       "      dtype='object', length=32285)"
      ]
     },
     "execution_count": 19,
     "metadata": {},
     "output_type": "execute_result"
    }
   ],
   "source": [
    "query.var_names = [gene_name.upper() for gene_name in query.var_names]\n",
    "query.var_names"
   ]
  },
  {
   "cell_type": "code",
   "execution_count": 20,
   "metadata": {},
   "outputs": [
    {
     "data": {
      "text/plain": [
       "AnnData object with n_obs × n_vars = 466813 × 16209\n",
       "    obs: 'orig.ident', 'nCount_RNA', 'nFeature_RNA', 'nCount_ADT', 'nFeature_ADT', 'Age_group', 'BMI', 'COVID_severity', 'COVID_status', 'Ethnicity', 'Group', 'Sex', 'Smoker', 'annotation_broad', 'annotation_detailed', 'annotation_detailed_fullNames', 'patient_id', 'sample_id', 'sequencing_library', 'Protein_modality_weight', 'seed_labels', 'donor', 'n_genes', 'n_counts', 'cell_source', 'sample', 'condition', 'genotype', 'infection', 'library', 'doublet_scores', 'n_genes_by_counts', 'total_counts', 'total_counts_mt', 'pct_counts_mt', 'total_counts_ribo', 'pct_counts_ribo', 'percent_mt', 'percent_chrY', 'XIST-counts', 'S_score', 'G2M_score', 'batch'\n",
       "    var: 'gene_ids-query', 'feature_types-query', 'mt-query', 'ribo-query', 'n_cells_by_counts-A1-query', 'mean_counts-A1-query', 'pct_dropout_by_counts-A1-query', 'total_counts-A1-query', 'n_cells_by_counts-A2-query', 'mean_counts-A2-query', 'pct_dropout_by_counts-A2-query', 'total_counts-A2-query', 'n_cells_by_counts-A3-query', 'mean_counts-A3-query', 'pct_dropout_by_counts-A3-query', 'total_counts-A3-query', 'n_cells_by_counts-A4-query', 'mean_counts-A4-query', 'pct_dropout_by_counts-A4-query', 'total_counts-A4-query', 'n_cells_by_counts-B1-query', 'mean_counts-B1-query', 'pct_dropout_by_counts-B1-query', 'total_counts-B1-query', 'n_cells_by_counts-B2-query', 'mean_counts-B2-query', 'pct_dropout_by_counts-B2-query', 'total_counts-B2-query', 'name-reference'"
      ]
     },
     "execution_count": 20,
     "metadata": {},
     "output_type": "execute_result"
    }
   ],
   "source": [
    "adata = reference.concatenate(query, batch_key = 'batch', batch_categories = ['reference', 'query'], join = 'inner')                #merge to one adata object\n",
    "adata"
   ]
  },
  {
   "cell_type": "code",
   "execution_count": 21,
   "metadata": {},
   "outputs": [
    {
     "data": {
      "text/plain": [
       "seed_labels\n",
       "T CD4 naive                           77439\n",
       "Classical monocyte                    47520\n",
       "Unknown                               44593\n",
       "NK                                    43630\n",
       "B naive                               40193\n",
       "T CD4 helper                          37922\n",
       "T CD8 CTL                             36217\n",
       "T CD8 naive                           33590\n",
       "T CD8 central mem                     12830\n",
       "T regulatory                           8567\n",
       "Non-classical monocyte                 8342\n",
       "T CD4 naive IFN stim                   8134\n",
       "Classical monocyte IFN stim            7124\n",
       "T CD8 effector mem CD45RA+             6443\n",
       "B non-switched mem                     5574\n",
       "T CD4 CTL                              5294\n",
       "T gamma/delta                          5144\n",
       "NK CD56 bright                         4723\n",
       "B switched mem                         4060\n",
       "MAIT                                   3961\n",
       "Cycling                                3593\n",
       "cDC2                                   2963\n",
       "T CD8 effector mem                     2486\n",
       "B naive IFN stim                       2019\n",
       "B invariant                            1944\n",
       "Platelets                              1784\n",
       "Plasma cells                           1557\n",
       "pDC                                    1245\n",
       "NK IFN stim                            1211\n",
       "Non-classical monocyte complement+     1173\n",
       "Non-classical monocyte IFN stim        1167\n",
       "Hematopoietic progenitors               938\n",
       "Classical monocyte IL6+                 768\n",
       "NKT                                     687\n",
       "B non-switched mem IFN stim             680\n",
       "ILC                                     405\n",
       "Red blood cells                         385\n",
       "Plasmablasts                            208\n",
       "T CD8 CTL IFN stim                      134\n",
       "cDC1                                     61\n",
       "AS-DC                                    59\n",
       "Basophils & Eosinophils                  25\n",
       "Hematopoietic progenitors IFN stim       21\n",
       "Name: count, dtype: int64"
      ]
     },
     "execution_count": 21,
     "metadata": {},
     "output_type": "execute_result"
    }
   ],
   "source": [
    "adata.obs['seed_labels'] = adata.obs['seed_labels'].astype('category')\n",
    "adata.obs['seed_labels'].value_counts()"
   ]
  },
  {
   "cell_type": "code",
   "execution_count": 22,
   "metadata": {},
   "outputs": [
    {
     "data": {
      "text/plain": [
       "batch\n",
       "reference    422220\n",
       "query         44593\n",
       "Name: count, dtype: int64"
      ]
     },
     "execution_count": 22,
     "metadata": {},
     "output_type": "execute_result"
    }
   ],
   "source": [
    "adata.obs['batch'].value_counts()"
   ]
  },
  {
   "attachments": {},
   "cell_type": "markdown",
   "metadata": {},
   "source": [
    "### Select HVGs"
   ]
  },
  {
   "cell_type": "code",
   "execution_count": 23,
   "metadata": {},
   "outputs": [
    {
     "data": {
      "text/plain": [
       "donor\n",
       "AP6                   15700\n",
       "AP11                  12207\n",
       "PP3                   10293\n",
       "AP5                   10097\n",
       "AP12                  10033\n",
       "                      ...  \n",
       "Pkp2_Ctr_MCMV_4         698\n",
       "Pkp2_Ctr_PBS_1          684\n",
       "Ttn_HetKO_noninf_1      563\n",
       "PC27                    431\n",
       "PP11                     72\n",
       "Name: count, Length: 110, dtype: int64"
      ]
     },
     "execution_count": 23,
     "metadata": {},
     "output_type": "execute_result"
    }
   ],
   "source": [
    "adata.obs['donor'] = adata.obs['donor'].astype('str') \n",
    "adata.obs['donor'].value_counts()"
   ]
  },
  {
   "cell_type": "code",
   "execution_count": 24,
   "metadata": {},
   "outputs": [
    {
     "name": "stdout",
     "output_type": "stream",
     "text": [
      "If you pass `n_top_genes`, all cutoffs are ignored.\n",
      "extracting highly variable genes\n",
      "--> added\n",
      "    'highly_variable', boolean vector (adata.var)\n",
      "    'highly_variable_rank', float vector (adata.var)\n",
      "    'means', float vector (adata.var)\n",
      "    'variances', float vector (adata.var)\n",
      "    'variances_norm', float vector (adata.var)\n"
     ]
    },
    {
     "data": {
      "text/plain": [
       "AnnData object with n_obs × n_vars = 466813 × 3000\n",
       "    obs: 'orig.ident', 'nCount_RNA', 'nFeature_RNA', 'nCount_ADT', 'nFeature_ADT', 'Age_group', 'BMI', 'COVID_severity', 'COVID_status', 'Ethnicity', 'Group', 'Sex', 'Smoker', 'annotation_broad', 'annotation_detailed', 'annotation_detailed_fullNames', 'patient_id', 'sample_id', 'sequencing_library', 'Protein_modality_weight', 'seed_labels', 'donor', 'n_genes', 'n_counts', 'cell_source', 'sample', 'condition', 'genotype', 'infection', 'library', 'doublet_scores', 'n_genes_by_counts', 'total_counts', 'total_counts_mt', 'pct_counts_mt', 'total_counts_ribo', 'pct_counts_ribo', 'percent_mt', 'percent_chrY', 'XIST-counts', 'S_score', 'G2M_score', 'batch'\n",
       "    var: 'gene_ids-query', 'feature_types-query', 'mt-query', 'ribo-query', 'n_cells_by_counts-A1-query', 'mean_counts-A1-query', 'pct_dropout_by_counts-A1-query', 'total_counts-A1-query', 'n_cells_by_counts-A2-query', 'mean_counts-A2-query', 'pct_dropout_by_counts-A2-query', 'total_counts-A2-query', 'n_cells_by_counts-A3-query', 'mean_counts-A3-query', 'pct_dropout_by_counts-A3-query', 'total_counts-A3-query', 'n_cells_by_counts-A4-query', 'mean_counts-A4-query', 'pct_dropout_by_counts-A4-query', 'total_counts-A4-query', 'n_cells_by_counts-B1-query', 'mean_counts-B1-query', 'pct_dropout_by_counts-B1-query', 'total_counts-B1-query', 'n_cells_by_counts-B2-query', 'mean_counts-B2-query', 'pct_dropout_by_counts-B2-query', 'total_counts-B2-query', 'name-reference', 'highly_variable', 'highly_variable_rank', 'means', 'variances', 'variances_norm', 'highly_variable_nbatches'\n",
       "    uns: 'hvg'\n",
       "    layers: 'counts'"
      ]
     },
     "execution_count": 24,
     "metadata": {},
     "output_type": "execute_result"
    }
   ],
   "source": [
    "adata_raw = adata.copy()\n",
    "adata.layers['counts'] = adata.X.copy()\n",
    "\n",
    "sc.pp.highly_variable_genes(\n",
    "    adata,\n",
    "    flavor = \"seurat_v3\",\n",
    "    n_top_genes = 3000,\n",
    "    layer = \"counts\",\n",
    "    batch_key = \"donor\",\n",
    "    subset = True,\n",
    "    span = 1\n",
    "    )\n",
    "\n",
    "adata"
   ]
  },
  {
   "attachments": {},
   "cell_type": "markdown",
   "metadata": {},
   "source": [
    "### Transfer of annotation with scANVI"
   ]
  },
  {
   "cell_type": "code",
   "execution_count": 25,
   "metadata": {},
   "outputs": [
    {
     "name": "stderr",
     "output_type": "stream",
     "text": [
      "An NVIDIA GPU may be present on this machine, but a CUDA-enabled jaxlib is not installed. Falling back to cpu.\n"
     ]
    }
   ],
   "source": [
    "scvi.model.SCVI.setup_anndata(adata, \n",
    "                              batch_key = 'donor', \n",
    "                              labels_key = 'seed_labels',\n",
    "                              layer = 'counts',\n",
    "                              categorical_covariate_keys = ['donor', 'cell_source'])"
   ]
  },
  {
   "cell_type": "code",
   "execution_count": 26,
   "metadata": {},
   "outputs": [],
   "source": [
    "scvi_model = scvi.model.SCVI(adata, \n",
    "                             n_latent = 50, \n",
    "                             n_layers = 3, \n",
    "                             dispersion = 'gene-batch', \n",
    "                             gene_likelihood = 'nb')"
   ]
  },
  {
   "cell_type": "code",
   "execution_count": 27,
   "metadata": {},
   "outputs": [
    {
     "name": "stderr",
     "output_type": "stream",
     "text": [
      "GPU available: True (cuda), used: True\n",
      "TPU available: False, using: 0 TPU cores\n",
      "IPU available: False, using: 0 IPUs\n",
      "HPU available: False, using: 0 HPUs\n",
      "[rank: 0] Seed set to 1712\n",
      "Initializing distributed: GLOBAL_RANK: 0, MEMBER: 1/2\n",
      "[rank: 1] Seed set to 1712\n",
      "Initializing distributed: GLOBAL_RANK: 1, MEMBER: 2/2\n",
      "----------------------------------------------------------------------------------------------------\n",
      "distributed_backend=nccl\n",
      "All distributed processes registered. Starting with 2 processes\n",
      "----------------------------------------------------------------------------------------------------\n",
      "\n",
      "LOCAL_RANK: 1 - CUDA_VISIBLE_DEVICES: [0,1]\n",
      "LOCAL_RANK: 0 - CUDA_VISIBLE_DEVICES: [0,1]\n"
     ]
    },
    {
     "name": "stdout",
     "output_type": "stream",
     "text": [
      "Epoch 1/20:   0%|          | 0/20 [00:00<?, ?it/s]"
     ]
    },
    {
     "ename": "ProcessRaisedException",
     "evalue": "\n\n-- Process 1 terminated with the following error:\nTraceback (most recent call last):\n  File \"/home/acirnu/miniforge3/envs/scANVI/lib/python3.10/site-packages/torch/multiprocessing/spawn.py\", line 68, in _wrap\n    fn(i, *args)\n  File \"/home/acirnu/miniforge3/envs/scANVI/lib/python3.10/site-packages/lightning/pytorch/strategies/launchers/multiprocessing.py\", line 170, in _wrapping_function\n    results = function(*args, **kwargs)\n  File \"/home/acirnu/miniforge3/envs/scANVI/lib/python3.10/site-packages/lightning/pytorch/trainer/trainer.py\", line 580, in _fit_impl\n    self._run(model, ckpt_path=ckpt_path)\n  File \"/home/acirnu/miniforge3/envs/scANVI/lib/python3.10/site-packages/lightning/pytorch/trainer/trainer.py\", line 989, in _run\n    results = self._run_stage()\n  File \"/home/acirnu/miniforge3/envs/scANVI/lib/python3.10/site-packages/lightning/pytorch/trainer/trainer.py\", line 1035, in _run_stage\n    self.fit_loop.run()\n  File \"/home/acirnu/miniforge3/envs/scANVI/lib/python3.10/site-packages/lightning/pytorch/loops/fit_loop.py\", line 202, in run\n    self.advance()\n  File \"/home/acirnu/miniforge3/envs/scANVI/lib/python3.10/site-packages/lightning/pytorch/loops/fit_loop.py\", line 359, in advance\n    self.epoch_loop.run(self._data_fetcher)\n  File \"/home/acirnu/miniforge3/envs/scANVI/lib/python3.10/site-packages/lightning/pytorch/loops/training_epoch_loop.py\", line 136, in run\n    self.advance(data_fetcher)\n  File \"/home/acirnu/miniforge3/envs/scANVI/lib/python3.10/site-packages/lightning/pytorch/loops/training_epoch_loop.py\", line 240, in advance\n    batch_output = self.automatic_optimization.run(trainer.optimizers[0], batch_idx, kwargs)\n  File \"/home/acirnu/miniforge3/envs/scANVI/lib/python3.10/site-packages/lightning/pytorch/loops/optimization/automatic.py\", line 187, in run\n    self._optimizer_step(batch_idx, closure)\n  File \"/home/acirnu/miniforge3/envs/scANVI/lib/python3.10/site-packages/lightning/pytorch/loops/optimization/automatic.py\", line 265, in _optimizer_step\n    call._call_lightning_module_hook(\n  File \"/home/acirnu/miniforge3/envs/scANVI/lib/python3.10/site-packages/lightning/pytorch/trainer/call.py\", line 157, in _call_lightning_module_hook\n    output = fn(*args, **kwargs)\n  File \"/home/acirnu/miniforge3/envs/scANVI/lib/python3.10/site-packages/lightning/pytorch/core/module.py\", line 1291, in optimizer_step\n    optimizer.step(closure=optimizer_closure)\n  File \"/home/acirnu/miniforge3/envs/scANVI/lib/python3.10/site-packages/lightning/pytorch/core/optimizer.py\", line 151, in step\n    step_output = self._strategy.optimizer_step(self._optimizer, closure, **kwargs)\n  File \"/home/acirnu/miniforge3/envs/scANVI/lib/python3.10/site-packages/lightning/pytorch/strategies/ddp.py\", line 265, in optimizer_step\n    optimizer_output = super().optimizer_step(optimizer, closure, model, **kwargs)\n  File \"/home/acirnu/miniforge3/envs/scANVI/lib/python3.10/site-packages/lightning/pytorch/strategies/strategy.py\", line 230, in optimizer_step\n    return self.precision_plugin.optimizer_step(optimizer, model=model, closure=closure, **kwargs)\n  File \"/home/acirnu/miniforge3/envs/scANVI/lib/python3.10/site-packages/lightning/pytorch/plugins/precision/precision.py\", line 117, in optimizer_step\n    return optimizer.step(closure=closure, **kwargs)\n  File \"/home/acirnu/miniforge3/envs/scANVI/lib/python3.10/site-packages/torch/optim/optimizer.py\", line 385, in wrapper\n    out = func(*args, **kwargs)\n  File \"/home/acirnu/miniforge3/envs/scANVI/lib/python3.10/site-packages/torch/optim/optimizer.py\", line 76, in _use_grad\n    ret = func(self, *args, **kwargs)\n  File \"/home/acirnu/miniforge3/envs/scANVI/lib/python3.10/site-packages/torch/optim/adam.py\", line 146, in step\n    loss = closure()\n  File \"/home/acirnu/miniforge3/envs/scANVI/lib/python3.10/site-packages/lightning/pytorch/plugins/precision/precision.py\", line 104, in _wrap_closure\n    closure_result = closure()\n  File \"/home/acirnu/miniforge3/envs/scANVI/lib/python3.10/site-packages/lightning/pytorch/loops/optimization/automatic.py\", line 140, in __call__\n    self._result = self.closure(*args, **kwargs)\n  File \"/home/acirnu/miniforge3/envs/scANVI/lib/python3.10/site-packages/torch/utils/_contextlib.py\", line 115, in decorate_context\n    return func(*args, **kwargs)\n  File \"/home/acirnu/miniforge3/envs/scANVI/lib/python3.10/site-packages/lightning/pytorch/loops/optimization/automatic.py\", line 126, in closure\n    step_output = self._step_fn()\n  File \"/home/acirnu/miniforge3/envs/scANVI/lib/python3.10/site-packages/lightning/pytorch/loops/optimization/automatic.py\", line 315, in _training_step\n    training_step_output = call._call_strategy_hook(trainer, \"training_step\", *kwargs.values())\n  File \"/home/acirnu/miniforge3/envs/scANVI/lib/python3.10/site-packages/lightning/pytorch/trainer/call.py\", line 309, in _call_strategy_hook\n    output = fn(*args, **kwargs)\n  File \"/home/acirnu/miniforge3/envs/scANVI/lib/python3.10/site-packages/lightning/pytorch/strategies/strategy.py\", line 381, in training_step\n    return self._forward_redirection(self.model, self.lightning_module, \"training_step\", *args, **kwargs)\n  File \"/home/acirnu/miniforge3/envs/scANVI/lib/python3.10/site-packages/lightning/pytorch/strategies/strategy.py\", line 633, in __call__\n    wrapper_output = wrapper_module(*args, **kwargs)\n  File \"/home/acirnu/miniforge3/envs/scANVI/lib/python3.10/site-packages/torch/nn/modules/module.py\", line 1511, in _wrapped_call_impl\n    return self._call_impl(*args, **kwargs)\n  File \"/home/acirnu/miniforge3/envs/scANVI/lib/python3.10/site-packages/torch/nn/modules/module.py\", line 1520, in _call_impl\n    return forward_call(*args, **kwargs)\n  File \"/home/acirnu/miniforge3/envs/scANVI/lib/python3.10/site-packages/torch/nn/parallel/distributed.py\", line 1523, in forward\n    else self._run_ddp_forward(*inputs, **kwargs)\n  File \"/home/acirnu/miniforge3/envs/scANVI/lib/python3.10/site-packages/torch/nn/parallel/distributed.py\", line 1359, in _run_ddp_forward\n    return self.module(*inputs, **kwargs)  # type: ignore[index]\n  File \"/home/acirnu/miniforge3/envs/scANVI/lib/python3.10/site-packages/torch/nn/modules/module.py\", line 1511, in _wrapped_call_impl\n    return self._call_impl(*args, **kwargs)\n  File \"/home/acirnu/miniforge3/envs/scANVI/lib/python3.10/site-packages/torch/nn/modules/module.py\", line 1520, in _call_impl\n    return forward_call(*args, **kwargs)\n  File \"/home/acirnu/miniforge3/envs/scANVI/lib/python3.10/site-packages/lightning/pytorch/strategies/strategy.py\", line 626, in wrapped_forward\n    out = method(*_args, **_kwargs)\n  File \"/home/acirnu/miniforge3/envs/scANVI/lib/python3.10/site-packages/scvi/train/_trainingplans.py\", line 344, in training_step\n    _, _, scvi_loss = self.forward(batch, loss_kwargs=self.loss_kwargs)\n  File \"/home/acirnu/miniforge3/envs/scANVI/lib/python3.10/site-packages/scvi/train/_trainingplans.py\", line 278, in forward\n    return self.module(*args, **kwargs)\n  File \"/home/acirnu/miniforge3/envs/scANVI/lib/python3.10/site-packages/torch/nn/modules/module.py\", line 1511, in _wrapped_call_impl\n    return self._call_impl(*args, **kwargs)\n  File \"/home/acirnu/miniforge3/envs/scANVI/lib/python3.10/site-packages/torch/nn/modules/module.py\", line 1520, in _call_impl\n    return forward_call(*args, **kwargs)\n  File \"/home/acirnu/miniforge3/envs/scANVI/lib/python3.10/site-packages/scvi/module/base/_decorators.py\", line 32, in auto_transfer_args\n    return fn(self, *args, **kwargs)\n  File \"/home/acirnu/miniforge3/envs/scANVI/lib/python3.10/site-packages/scvi/module/base/_base_module.py\", line 203, in forward\n    return _generic_forward(\n  File \"/home/acirnu/miniforge3/envs/scANVI/lib/python3.10/site-packages/scvi/module/base/_base_module.py\", line 743, in _generic_forward\n    generative_outputs = module.generative(**generative_inputs, **generative_kwargs)\n  File \"/home/acirnu/miniforge3/envs/scANVI/lib/python3.10/site-packages/scvi/module/base/_decorators.py\", line 32, in auto_transfer_args\n    return fn(self, *args, **kwargs)\n  File \"/home/acirnu/miniforge3/envs/scANVI/lib/python3.10/site-packages/scvi/module/_vae.py\", line 393, in generative\n    px_scale, px_r, px_rate, px_dropout = self.decoder(\n  File \"/home/acirnu/miniforge3/envs/scANVI/lib/python3.10/site-packages/torch/nn/modules/module.py\", line 1511, in _wrapped_call_impl\n    return self._call_impl(*args, **kwargs)\n  File \"/home/acirnu/miniforge3/envs/scANVI/lib/python3.10/site-packages/torch/nn/modules/module.py\", line 1520, in _call_impl\n    return forward_call(*args, **kwargs)\n  File \"/home/acirnu/miniforge3/envs/scANVI/lib/python3.10/site-packages/scvi/nn/_base_components.py\", line 402, in forward\n    px = self.px_decoder(z, *cat_list)\n  File \"/home/acirnu/miniforge3/envs/scANVI/lib/python3.10/site-packages/torch/nn/modules/module.py\", line 1511, in _wrapped_call_impl\n    return self._call_impl(*args, **kwargs)\n  File \"/home/acirnu/miniforge3/envs/scANVI/lib/python3.10/site-packages/torch/nn/modules/module.py\", line 1520, in _call_impl\n    return forward_call(*args, **kwargs)\n  File \"/home/acirnu/miniforge3/envs/scANVI/lib/python3.10/site-packages/scvi/nn/_base_components.py\", line 159, in forward\n    one_hot_cat = one_hot(cat, n_cat)\n  File \"/home/acirnu/miniforge3/envs/scANVI/lib/python3.10/site-packages/scvi/nn/_utils.py\", line 7, in one_hot\n    onehot.scatter_(1, index.type(torch.long), 1)\nRuntimeError: Index tensor must have the same number of dimensions as self tensor\n",
     "output_type": "error",
     "traceback": [
      "\u001b[0;31m---------------------------------------------------------------------------\u001b[0m",
      "\u001b[0;31mProcessRaisedException\u001b[0m                    Traceback (most recent call last)",
      "Cell \u001b[0;32mIn[27], line 1\u001b[0m\n\u001b[0;32m----> 1\u001b[0m \u001b[43mscvi_model\u001b[49m\u001b[38;5;241;43m.\u001b[39;49m\u001b[43mtrain\u001b[49m\u001b[43m(\u001b[49m\u001b[38;5;241;43m20\u001b[39;49m\u001b[43m,\u001b[49m\u001b[43m \u001b[49m\n\u001b[1;32m      2\u001b[0m \u001b[43m                 \u001b[49m\u001b[43mcheck_val_every_n_epoch\u001b[49m\u001b[43m \u001b[49m\u001b[38;5;241;43m=\u001b[39;49m\u001b[43m \u001b[49m\u001b[38;5;241;43m1\u001b[39;49m\u001b[43m,\u001b[49m\u001b[43m \u001b[49m\n\u001b[1;32m      3\u001b[0m \u001b[43m                 \u001b[49m\u001b[43menable_progress_bar\u001b[49m\u001b[43m \u001b[49m\u001b[38;5;241;43m=\u001b[39;49m\u001b[43m \u001b[49m\u001b[38;5;28;43;01mTrue\u001b[39;49;00m\u001b[43m,\u001b[49m\n\u001b[1;32m      4\u001b[0m \u001b[43m                 \u001b[49m\u001b[43maccelerator\u001b[49m\u001b[43m \u001b[49m\u001b[38;5;241;43m=\u001b[39;49m\u001b[43m \u001b[49m\u001b[38;5;124;43m\"\u001b[39;49m\u001b[38;5;124;43mgpu\u001b[39;49m\u001b[38;5;124;43m\"\u001b[39;49m\u001b[43m,\u001b[49m\n\u001b[1;32m      5\u001b[0m \u001b[43m                 \u001b[49m\u001b[43mdevices\u001b[49m\u001b[43m \u001b[49m\u001b[38;5;241;43m=\u001b[39;49m\u001b[43m \u001b[49m\u001b[38;5;241;43m-\u001b[39;49m\u001b[38;5;241;43m1\u001b[39;49m\u001b[43m                                        \u001b[49m\n\u001b[1;32m      6\u001b[0m \u001b[43m                 \u001b[49m\u001b[43m)\u001b[49m\n",
      "File \u001b[0;32m~/miniforge3/envs/scANVI/lib/python3.10/site-packages/scvi/model/base/_training_mixin.py:143\u001b[0m, in \u001b[0;36mUnsupervisedTrainingMixin.train\u001b[0;34m(self, max_epochs, accelerator, devices, train_size, validation_size, shuffle_set_split, load_sparse_tensor, batch_size, early_stopping, datasplitter_kwargs, plan_kwargs, data_module, **trainer_kwargs)\u001b[0m\n\u001b[1;32m    131\u001b[0m trainer_kwargs[es] \u001b[38;5;241m=\u001b[39m (\n\u001b[1;32m    132\u001b[0m     early_stopping \u001b[38;5;28;01mif\u001b[39;00m es \u001b[38;5;129;01mnot\u001b[39;00m \u001b[38;5;129;01min\u001b[39;00m trainer_kwargs\u001b[38;5;241m.\u001b[39mkeys() \u001b[38;5;28;01melse\u001b[39;00m trainer_kwargs[es]\n\u001b[1;32m    133\u001b[0m )\n\u001b[1;32m    134\u001b[0m runner \u001b[38;5;241m=\u001b[39m \u001b[38;5;28mself\u001b[39m\u001b[38;5;241m.\u001b[39m_train_runner_cls(\n\u001b[1;32m    135\u001b[0m     \u001b[38;5;28mself\u001b[39m,\n\u001b[1;32m    136\u001b[0m     training_plan\u001b[38;5;241m=\u001b[39mtraining_plan,\n\u001b[0;32m   (...)\u001b[0m\n\u001b[1;32m    141\u001b[0m     \u001b[38;5;241m*\u001b[39m\u001b[38;5;241m*\u001b[39mtrainer_kwargs,\n\u001b[1;32m    142\u001b[0m )\n\u001b[0;32m--> 143\u001b[0m \u001b[38;5;28;01mreturn\u001b[39;00m \u001b[43mrunner\u001b[49m\u001b[43m(\u001b[49m\u001b[43m)\u001b[49m\n",
      "File \u001b[0;32m~/miniforge3/envs/scANVI/lib/python3.10/site-packages/scvi/train/_trainrunner.py:98\u001b[0m, in \u001b[0;36mTrainRunner.__call__\u001b[0;34m(self)\u001b[0m\n\u001b[1;32m     95\u001b[0m \u001b[38;5;28;01mif\u001b[39;00m \u001b[38;5;28mhasattr\u001b[39m(\u001b[38;5;28mself\u001b[39m\u001b[38;5;241m.\u001b[39mdata_splitter, \u001b[38;5;124m\"\u001b[39m\u001b[38;5;124mn_val\u001b[39m\u001b[38;5;124m\"\u001b[39m):\n\u001b[1;32m     96\u001b[0m     \u001b[38;5;28mself\u001b[39m\u001b[38;5;241m.\u001b[39mtraining_plan\u001b[38;5;241m.\u001b[39mn_obs_validation \u001b[38;5;241m=\u001b[39m \u001b[38;5;28mself\u001b[39m\u001b[38;5;241m.\u001b[39mdata_splitter\u001b[38;5;241m.\u001b[39mn_val\n\u001b[0;32m---> 98\u001b[0m \u001b[38;5;28;43mself\u001b[39;49m\u001b[38;5;241;43m.\u001b[39;49m\u001b[43mtrainer\u001b[49m\u001b[38;5;241;43m.\u001b[39;49m\u001b[43mfit\u001b[49m\u001b[43m(\u001b[49m\u001b[38;5;28;43mself\u001b[39;49m\u001b[38;5;241;43m.\u001b[39;49m\u001b[43mtraining_plan\u001b[49m\u001b[43m,\u001b[49m\u001b[43m \u001b[49m\u001b[38;5;28;43mself\u001b[39;49m\u001b[38;5;241;43m.\u001b[39;49m\u001b[43mdata_splitter\u001b[49m\u001b[43m)\u001b[49m\n\u001b[1;32m     99\u001b[0m \u001b[38;5;28mself\u001b[39m\u001b[38;5;241m.\u001b[39m_update_history()\n\u001b[1;32m    101\u001b[0m \u001b[38;5;66;03m# data splitter only gets these attrs after fit\u001b[39;00m\n",
      "File \u001b[0;32m~/miniforge3/envs/scANVI/lib/python3.10/site-packages/scvi/train/_trainer.py:219\u001b[0m, in \u001b[0;36mTrainer.fit\u001b[0;34m(self, *args, **kwargs)\u001b[0m\n\u001b[1;32m    213\u001b[0m \u001b[38;5;28;01mif\u001b[39;00m \u001b[38;5;28misinstance\u001b[39m(args[\u001b[38;5;241m0\u001b[39m], PyroTrainingPlan):\n\u001b[1;32m    214\u001b[0m     warnings\u001b[38;5;241m.\u001b[39mfilterwarnings(\n\u001b[1;32m    215\u001b[0m         action\u001b[38;5;241m=\u001b[39m\u001b[38;5;124m\"\u001b[39m\u001b[38;5;124mignore\u001b[39m\u001b[38;5;124m\"\u001b[39m,\n\u001b[1;32m    216\u001b[0m         category\u001b[38;5;241m=\u001b[39m\u001b[38;5;167;01mUserWarning\u001b[39;00m,\n\u001b[1;32m    217\u001b[0m         message\u001b[38;5;241m=\u001b[39m\u001b[38;5;124m\"\u001b[39m\u001b[38;5;124m`LightningModule.configure_optimizers` returned `None`\u001b[39m\u001b[38;5;124m\"\u001b[39m,\n\u001b[1;32m    218\u001b[0m     )\n\u001b[0;32m--> 219\u001b[0m \u001b[38;5;28;43msuper\u001b[39;49m\u001b[43m(\u001b[49m\u001b[43m)\u001b[49m\u001b[38;5;241;43m.\u001b[39;49m\u001b[43mfit\u001b[49m\u001b[43m(\u001b[49m\u001b[38;5;241;43m*\u001b[39;49m\u001b[43margs\u001b[49m\u001b[43m,\u001b[49m\u001b[43m \u001b[49m\u001b[38;5;241;43m*\u001b[39;49m\u001b[38;5;241;43m*\u001b[39;49m\u001b[43mkwargs\u001b[49m\u001b[43m)\u001b[49m\n",
      "File \u001b[0;32m~/miniforge3/envs/scANVI/lib/python3.10/site-packages/lightning/pytorch/trainer/trainer.py:544\u001b[0m, in \u001b[0;36mTrainer.fit\u001b[0;34m(self, model, train_dataloaders, val_dataloaders, datamodule, ckpt_path)\u001b[0m\n\u001b[1;32m    542\u001b[0m \u001b[38;5;28mself\u001b[39m\u001b[38;5;241m.\u001b[39mstate\u001b[38;5;241m.\u001b[39mstatus \u001b[38;5;241m=\u001b[39m TrainerStatus\u001b[38;5;241m.\u001b[39mRUNNING\n\u001b[1;32m    543\u001b[0m \u001b[38;5;28mself\u001b[39m\u001b[38;5;241m.\u001b[39mtraining \u001b[38;5;241m=\u001b[39m \u001b[38;5;28;01mTrue\u001b[39;00m\n\u001b[0;32m--> 544\u001b[0m \u001b[43mcall\u001b[49m\u001b[38;5;241;43m.\u001b[39;49m\u001b[43m_call_and_handle_interrupt\u001b[49m\u001b[43m(\u001b[49m\n\u001b[1;32m    545\u001b[0m \u001b[43m    \u001b[49m\u001b[38;5;28;43mself\u001b[39;49m\u001b[43m,\u001b[49m\u001b[43m \u001b[49m\u001b[38;5;28;43mself\u001b[39;49m\u001b[38;5;241;43m.\u001b[39;49m\u001b[43m_fit_impl\u001b[49m\u001b[43m,\u001b[49m\u001b[43m \u001b[49m\u001b[43mmodel\u001b[49m\u001b[43m,\u001b[49m\u001b[43m \u001b[49m\u001b[43mtrain_dataloaders\u001b[49m\u001b[43m,\u001b[49m\u001b[43m \u001b[49m\u001b[43mval_dataloaders\u001b[49m\u001b[43m,\u001b[49m\u001b[43m \u001b[49m\u001b[43mdatamodule\u001b[49m\u001b[43m,\u001b[49m\u001b[43m \u001b[49m\u001b[43mckpt_path\u001b[49m\n\u001b[1;32m    546\u001b[0m \u001b[43m\u001b[49m\u001b[43m)\u001b[49m\n",
      "File \u001b[0;32m~/miniforge3/envs/scANVI/lib/python3.10/site-packages/lightning/pytorch/trainer/call.py:43\u001b[0m, in \u001b[0;36m_call_and_handle_interrupt\u001b[0;34m(trainer, trainer_fn, *args, **kwargs)\u001b[0m\n\u001b[1;32m     41\u001b[0m \u001b[38;5;28;01mtry\u001b[39;00m:\n\u001b[1;32m     42\u001b[0m     \u001b[38;5;28;01mif\u001b[39;00m trainer\u001b[38;5;241m.\u001b[39mstrategy\u001b[38;5;241m.\u001b[39mlauncher \u001b[38;5;129;01mis\u001b[39;00m \u001b[38;5;129;01mnot\u001b[39;00m \u001b[38;5;28;01mNone\u001b[39;00m:\n\u001b[0;32m---> 43\u001b[0m         \u001b[38;5;28;01mreturn\u001b[39;00m \u001b[43mtrainer\u001b[49m\u001b[38;5;241;43m.\u001b[39;49m\u001b[43mstrategy\u001b[49m\u001b[38;5;241;43m.\u001b[39;49m\u001b[43mlauncher\u001b[49m\u001b[38;5;241;43m.\u001b[39;49m\u001b[43mlaunch\u001b[49m\u001b[43m(\u001b[49m\u001b[43mtrainer_fn\u001b[49m\u001b[43m,\u001b[49m\u001b[43m \u001b[49m\u001b[38;5;241;43m*\u001b[39;49m\u001b[43margs\u001b[49m\u001b[43m,\u001b[49m\u001b[43m \u001b[49m\u001b[43mtrainer\u001b[49m\u001b[38;5;241;43m=\u001b[39;49m\u001b[43mtrainer\u001b[49m\u001b[43m,\u001b[49m\u001b[43m \u001b[49m\u001b[38;5;241;43m*\u001b[39;49m\u001b[38;5;241;43m*\u001b[39;49m\u001b[43mkwargs\u001b[49m\u001b[43m)\u001b[49m\n\u001b[1;32m     44\u001b[0m     \u001b[38;5;28;01mreturn\u001b[39;00m trainer_fn(\u001b[38;5;241m*\u001b[39margs, \u001b[38;5;241m*\u001b[39m\u001b[38;5;241m*\u001b[39mkwargs)\n\u001b[1;32m     46\u001b[0m \u001b[38;5;28;01mexcept\u001b[39;00m _TunerExitException:\n",
      "File \u001b[0;32m~/miniforge3/envs/scANVI/lib/python3.10/site-packages/lightning/pytorch/strategies/launchers/multiprocessing.py:141\u001b[0m, in \u001b[0;36m_MultiProcessingLauncher.launch\u001b[0;34m(self, function, trainer, *args, **kwargs)\u001b[0m\n\u001b[1;32m    133\u001b[0m process_context \u001b[38;5;241m=\u001b[39m mp\u001b[38;5;241m.\u001b[39mstart_processes(\n\u001b[1;32m    134\u001b[0m     \u001b[38;5;28mself\u001b[39m\u001b[38;5;241m.\u001b[39m_wrapping_function,\n\u001b[1;32m    135\u001b[0m     args\u001b[38;5;241m=\u001b[39mprocess_args,\n\u001b[0;32m   (...)\u001b[0m\n\u001b[1;32m    138\u001b[0m     join\u001b[38;5;241m=\u001b[39m\u001b[38;5;28;01mFalse\u001b[39;00m,  \u001b[38;5;66;03m# we will join ourselves to get the process references\u001b[39;00m\n\u001b[1;32m    139\u001b[0m )\n\u001b[1;32m    140\u001b[0m \u001b[38;5;28mself\u001b[39m\u001b[38;5;241m.\u001b[39mprocs \u001b[38;5;241m=\u001b[39m process_context\u001b[38;5;241m.\u001b[39mprocesses\n\u001b[0;32m--> 141\u001b[0m \u001b[38;5;28;01mwhile\u001b[39;00m \u001b[38;5;129;01mnot\u001b[39;00m \u001b[43mprocess_context\u001b[49m\u001b[38;5;241;43m.\u001b[39;49m\u001b[43mjoin\u001b[49m\u001b[43m(\u001b[49m\u001b[43m)\u001b[49m:\n\u001b[1;32m    142\u001b[0m     \u001b[38;5;28;01mpass\u001b[39;00m\n\u001b[1;32m    144\u001b[0m worker_output \u001b[38;5;241m=\u001b[39m return_queue\u001b[38;5;241m.\u001b[39mget()\n",
      "File \u001b[0;32m~/miniforge3/envs/scANVI/lib/python3.10/site-packages/torch/multiprocessing/spawn.py:158\u001b[0m, in \u001b[0;36mProcessContext.join\u001b[0;34m(self, timeout)\u001b[0m\n\u001b[1;32m    156\u001b[0m msg \u001b[38;5;241m=\u001b[39m \u001b[38;5;124m\"\u001b[39m\u001b[38;5;130;01m\\n\u001b[39;00m\u001b[38;5;130;01m\\n\u001b[39;00m\u001b[38;5;124m-- Process \u001b[39m\u001b[38;5;132;01m%d\u001b[39;00m\u001b[38;5;124m terminated with the following error:\u001b[39m\u001b[38;5;130;01m\\n\u001b[39;00m\u001b[38;5;124m\"\u001b[39m \u001b[38;5;241m%\u001b[39m error_index\n\u001b[1;32m    157\u001b[0m msg \u001b[38;5;241m+\u001b[39m\u001b[38;5;241m=\u001b[39m original_trace\n\u001b[0;32m--> 158\u001b[0m \u001b[38;5;28;01mraise\u001b[39;00m ProcessRaisedException(msg, error_index, failed_process\u001b[38;5;241m.\u001b[39mpid)\n",
      "\u001b[0;31mProcessRaisedException\u001b[0m: \n\n-- Process 1 terminated with the following error:\nTraceback (most recent call last):\n  File \"/home/acirnu/miniforge3/envs/scANVI/lib/python3.10/site-packages/torch/multiprocessing/spawn.py\", line 68, in _wrap\n    fn(i, *args)\n  File \"/home/acirnu/miniforge3/envs/scANVI/lib/python3.10/site-packages/lightning/pytorch/strategies/launchers/multiprocessing.py\", line 170, in _wrapping_function\n    results = function(*args, **kwargs)\n  File \"/home/acirnu/miniforge3/envs/scANVI/lib/python3.10/site-packages/lightning/pytorch/trainer/trainer.py\", line 580, in _fit_impl\n    self._run(model, ckpt_path=ckpt_path)\n  File \"/home/acirnu/miniforge3/envs/scANVI/lib/python3.10/site-packages/lightning/pytorch/trainer/trainer.py\", line 989, in _run\n    results = self._run_stage()\n  File \"/home/acirnu/miniforge3/envs/scANVI/lib/python3.10/site-packages/lightning/pytorch/trainer/trainer.py\", line 1035, in _run_stage\n    self.fit_loop.run()\n  File \"/home/acirnu/miniforge3/envs/scANVI/lib/python3.10/site-packages/lightning/pytorch/loops/fit_loop.py\", line 202, in run\n    self.advance()\n  File \"/home/acirnu/miniforge3/envs/scANVI/lib/python3.10/site-packages/lightning/pytorch/loops/fit_loop.py\", line 359, in advance\n    self.epoch_loop.run(self._data_fetcher)\n  File \"/home/acirnu/miniforge3/envs/scANVI/lib/python3.10/site-packages/lightning/pytorch/loops/training_epoch_loop.py\", line 136, in run\n    self.advance(data_fetcher)\n  File \"/home/acirnu/miniforge3/envs/scANVI/lib/python3.10/site-packages/lightning/pytorch/loops/training_epoch_loop.py\", line 240, in advance\n    batch_output = self.automatic_optimization.run(trainer.optimizers[0], batch_idx, kwargs)\n  File \"/home/acirnu/miniforge3/envs/scANVI/lib/python3.10/site-packages/lightning/pytorch/loops/optimization/automatic.py\", line 187, in run\n    self._optimizer_step(batch_idx, closure)\n  File \"/home/acirnu/miniforge3/envs/scANVI/lib/python3.10/site-packages/lightning/pytorch/loops/optimization/automatic.py\", line 265, in _optimizer_step\n    call._call_lightning_module_hook(\n  File \"/home/acirnu/miniforge3/envs/scANVI/lib/python3.10/site-packages/lightning/pytorch/trainer/call.py\", line 157, in _call_lightning_module_hook\n    output = fn(*args, **kwargs)\n  File \"/home/acirnu/miniforge3/envs/scANVI/lib/python3.10/site-packages/lightning/pytorch/core/module.py\", line 1291, in optimizer_step\n    optimizer.step(closure=optimizer_closure)\n  File \"/home/acirnu/miniforge3/envs/scANVI/lib/python3.10/site-packages/lightning/pytorch/core/optimizer.py\", line 151, in step\n    step_output = self._strategy.optimizer_step(self._optimizer, closure, **kwargs)\n  File \"/home/acirnu/miniforge3/envs/scANVI/lib/python3.10/site-packages/lightning/pytorch/strategies/ddp.py\", line 265, in optimizer_step\n    optimizer_output = super().optimizer_step(optimizer, closure, model, **kwargs)\n  File \"/home/acirnu/miniforge3/envs/scANVI/lib/python3.10/site-packages/lightning/pytorch/strategies/strategy.py\", line 230, in optimizer_step\n    return self.precision_plugin.optimizer_step(optimizer, model=model, closure=closure, **kwargs)\n  File \"/home/acirnu/miniforge3/envs/scANVI/lib/python3.10/site-packages/lightning/pytorch/plugins/precision/precision.py\", line 117, in optimizer_step\n    return optimizer.step(closure=closure, **kwargs)\n  File \"/home/acirnu/miniforge3/envs/scANVI/lib/python3.10/site-packages/torch/optim/optimizer.py\", line 385, in wrapper\n    out = func(*args, **kwargs)\n  File \"/home/acirnu/miniforge3/envs/scANVI/lib/python3.10/site-packages/torch/optim/optimizer.py\", line 76, in _use_grad\n    ret = func(self, *args, **kwargs)\n  File \"/home/acirnu/miniforge3/envs/scANVI/lib/python3.10/site-packages/torch/optim/adam.py\", line 146, in step\n    loss = closure()\n  File \"/home/acirnu/miniforge3/envs/scANVI/lib/python3.10/site-packages/lightning/pytorch/plugins/precision/precision.py\", line 104, in _wrap_closure\n    closure_result = closure()\n  File \"/home/acirnu/miniforge3/envs/scANVI/lib/python3.10/site-packages/lightning/pytorch/loops/optimization/automatic.py\", line 140, in __call__\n    self._result = self.closure(*args, **kwargs)\n  File \"/home/acirnu/miniforge3/envs/scANVI/lib/python3.10/site-packages/torch/utils/_contextlib.py\", line 115, in decorate_context\n    return func(*args, **kwargs)\n  File \"/home/acirnu/miniforge3/envs/scANVI/lib/python3.10/site-packages/lightning/pytorch/loops/optimization/automatic.py\", line 126, in closure\n    step_output = self._step_fn()\n  File \"/home/acirnu/miniforge3/envs/scANVI/lib/python3.10/site-packages/lightning/pytorch/loops/optimization/automatic.py\", line 315, in _training_step\n    training_step_output = call._call_strategy_hook(trainer, \"training_step\", *kwargs.values())\n  File \"/home/acirnu/miniforge3/envs/scANVI/lib/python3.10/site-packages/lightning/pytorch/trainer/call.py\", line 309, in _call_strategy_hook\n    output = fn(*args, **kwargs)\n  File \"/home/acirnu/miniforge3/envs/scANVI/lib/python3.10/site-packages/lightning/pytorch/strategies/strategy.py\", line 381, in training_step\n    return self._forward_redirection(self.model, self.lightning_module, \"training_step\", *args, **kwargs)\n  File \"/home/acirnu/miniforge3/envs/scANVI/lib/python3.10/site-packages/lightning/pytorch/strategies/strategy.py\", line 633, in __call__\n    wrapper_output = wrapper_module(*args, **kwargs)\n  File \"/home/acirnu/miniforge3/envs/scANVI/lib/python3.10/site-packages/torch/nn/modules/module.py\", line 1511, in _wrapped_call_impl\n    return self._call_impl(*args, **kwargs)\n  File \"/home/acirnu/miniforge3/envs/scANVI/lib/python3.10/site-packages/torch/nn/modules/module.py\", line 1520, in _call_impl\n    return forward_call(*args, **kwargs)\n  File \"/home/acirnu/miniforge3/envs/scANVI/lib/python3.10/site-packages/torch/nn/parallel/distributed.py\", line 1523, in forward\n    else self._run_ddp_forward(*inputs, **kwargs)\n  File \"/home/acirnu/miniforge3/envs/scANVI/lib/python3.10/site-packages/torch/nn/parallel/distributed.py\", line 1359, in _run_ddp_forward\n    return self.module(*inputs, **kwargs)  # type: ignore[index]\n  File \"/home/acirnu/miniforge3/envs/scANVI/lib/python3.10/site-packages/torch/nn/modules/module.py\", line 1511, in _wrapped_call_impl\n    return self._call_impl(*args, **kwargs)\n  File \"/home/acirnu/miniforge3/envs/scANVI/lib/python3.10/site-packages/torch/nn/modules/module.py\", line 1520, in _call_impl\n    return forward_call(*args, **kwargs)\n  File \"/home/acirnu/miniforge3/envs/scANVI/lib/python3.10/site-packages/lightning/pytorch/strategies/strategy.py\", line 626, in wrapped_forward\n    out = method(*_args, **_kwargs)\n  File \"/home/acirnu/miniforge3/envs/scANVI/lib/python3.10/site-packages/scvi/train/_trainingplans.py\", line 344, in training_step\n    _, _, scvi_loss = self.forward(batch, loss_kwargs=self.loss_kwargs)\n  File \"/home/acirnu/miniforge3/envs/scANVI/lib/python3.10/site-packages/scvi/train/_trainingplans.py\", line 278, in forward\n    return self.module(*args, **kwargs)\n  File \"/home/acirnu/miniforge3/envs/scANVI/lib/python3.10/site-packages/torch/nn/modules/module.py\", line 1511, in _wrapped_call_impl\n    return self._call_impl(*args, **kwargs)\n  File \"/home/acirnu/miniforge3/envs/scANVI/lib/python3.10/site-packages/torch/nn/modules/module.py\", line 1520, in _call_impl\n    return forward_call(*args, **kwargs)\n  File \"/home/acirnu/miniforge3/envs/scANVI/lib/python3.10/site-packages/scvi/module/base/_decorators.py\", line 32, in auto_transfer_args\n    return fn(self, *args, **kwargs)\n  File \"/home/acirnu/miniforge3/envs/scANVI/lib/python3.10/site-packages/scvi/module/base/_base_module.py\", line 203, in forward\n    return _generic_forward(\n  File \"/home/acirnu/miniforge3/envs/scANVI/lib/python3.10/site-packages/scvi/module/base/_base_module.py\", line 743, in _generic_forward\n    generative_outputs = module.generative(**generative_inputs, **generative_kwargs)\n  File \"/home/acirnu/miniforge3/envs/scANVI/lib/python3.10/site-packages/scvi/module/base/_decorators.py\", line 32, in auto_transfer_args\n    return fn(self, *args, **kwargs)\n  File \"/home/acirnu/miniforge3/envs/scANVI/lib/python3.10/site-packages/scvi/module/_vae.py\", line 393, in generative\n    px_scale, px_r, px_rate, px_dropout = self.decoder(\n  File \"/home/acirnu/miniforge3/envs/scANVI/lib/python3.10/site-packages/torch/nn/modules/module.py\", line 1511, in _wrapped_call_impl\n    return self._call_impl(*args, **kwargs)\n  File \"/home/acirnu/miniforge3/envs/scANVI/lib/python3.10/site-packages/torch/nn/modules/module.py\", line 1520, in _call_impl\n    return forward_call(*args, **kwargs)\n  File \"/home/acirnu/miniforge3/envs/scANVI/lib/python3.10/site-packages/scvi/nn/_base_components.py\", line 402, in forward\n    px = self.px_decoder(z, *cat_list)\n  File \"/home/acirnu/miniforge3/envs/scANVI/lib/python3.10/site-packages/torch/nn/modules/module.py\", line 1511, in _wrapped_call_impl\n    return self._call_impl(*args, **kwargs)\n  File \"/home/acirnu/miniforge3/envs/scANVI/lib/python3.10/site-packages/torch/nn/modules/module.py\", line 1520, in _call_impl\n    return forward_call(*args, **kwargs)\n  File \"/home/acirnu/miniforge3/envs/scANVI/lib/python3.10/site-packages/scvi/nn/_base_components.py\", line 159, in forward\n    one_hot_cat = one_hot(cat, n_cat)\n  File \"/home/acirnu/miniforge3/envs/scANVI/lib/python3.10/site-packages/scvi/nn/_utils.py\", line 7, in one_hot\n    onehot.scatter_(1, index.type(torch.long), 1)\nRuntimeError: Index tensor must have the same number of dimensions as self tensor\n"
     ]
    }
   ],
   "source": [
    "scvi_model.train(20, \n",
    "                 check_val_every_n_epoch = 1, \n",
    "                 enable_progress_bar = True,\n",
    "                 accelerator = \"gpu\",\n",
    "                 devices = -1                                        \n",
    "                 )"
   ]
  },
  {
   "cell_type": "markdown",
   "metadata": {},
   "source": [
    "### Evaluate model performance a la _Sevensson_"
   ]
  },
  {
   "cell_type": "code",
   "execution_count": null,
   "metadata": {},
   "outputs": [],
   "source": [
    "history_df = (\n",
    "    scvi_model.history['elbo_train'].astype(float)\n",
    "    .join(scvi_model.history['elbo_validation'].astype(float))\n",
    "    .reset_index()\n",
    "    .melt(id_vars = ['epoch'])\n",
    ")\n",
    "\n",
    "p.options.figure_size = 12, 6\n",
    "\n",
    "p_ = (\n",
    "    p.ggplot(p.aes(x = 'epoch', y = 'value', color = 'variable'), history_df.query('epoch > 0'))\n",
    "    + p.geom_line()\n",
    "    + p.geom_point()\n",
    "    + p.scale_color_manual({'elbo_train': 'black', 'elbo_validation': 'red'})\n",
    "    + p.theme_minimal()\n",
    ")\n",
    "\n",
    "p_.save('fig2.png', dpi = 300)\n",
    "\n",
    "print(p_)"
   ]
  },
  {
   "attachments": {},
   "cell_type": "markdown",
   "metadata": {},
   "source": [
    "### Label transfer with `scANVI` "
   ]
  },
  {
   "cell_type": "code",
   "execution_count": null,
   "metadata": {},
   "outputs": [],
   "source": [
    "scanvi_model = scvi.model.SCANVI.from_scvi_model(scvi_model, 'Unknown')"
   ]
  },
  {
   "cell_type": "code",
   "execution_count": null,
   "metadata": {},
   "outputs": [],
   "source": [
    "scanvi_model.train(80, \n",
    "                   check_val_every_n_epoch = 1, \n",
    "                   enable_progress_bar = True,              # use_gpu = 1)\n",
    ")"
   ]
  },
  {
   "cell_type": "markdown",
   "metadata": {},
   "source": [
    "### Evaluate model performance a la Svensson"
   ]
  },
  {
   "cell_type": "code",
   "execution_count": null,
   "metadata": {},
   "outputs": [],
   "source": [
    "history_df = (\n",
    "    scanvi_model.history['elbo_train'].astype(float)\n",
    "    .join(scanvi_model.history['elbo_validation'].astype(float))\n",
    "    .reset_index()\n",
    "    .melt(id_vars = ['epoch'])\n",
    ")\n",
    "\n",
    "p.options.figure_size = 12, 6\n",
    "\n",
    "p_ = (\n",
    "    p.ggplot(p.aes(x = 'epoch', y = 'value', color = 'variable'), history_df.query('epoch > 0'))\n",
    "    + p.geom_line()\n",
    "    + p.geom_point()\n",
    "    + p.scale_color_manual({'elbo_train': 'black', 'elbo_validation': 'red'})\n",
    "    + p.theme_minimal()\n",
    ")\n",
    "\n",
    "p_.save('fig1.png', dpi = 300)\n",
    "\n",
    "print(p_)"
   ]
  },
  {
   "cell_type": "code",
   "execution_count": null,
   "metadata": {},
   "outputs": [],
   "source": [
    "adata.obs[\"C_scANVI\"] = scanvi_model.predict(adata)"
   ]
  },
  {
   "attachments": {},
   "cell_type": "markdown",
   "metadata": {},
   "source": [
    "- Extract latent representation"
   ]
  },
  {
   "cell_type": "code",
   "execution_count": null,
   "metadata": {},
   "outputs": [],
   "source": [
    "adata.obsm[\"X_scANVI\"] = scanvi_model.get_latent_representation(adata)"
   ]
  },
  {
   "attachments": {},
   "cell_type": "markdown",
   "metadata": {},
   "source": [
    "- Visualise corrected dataset"
   ]
  },
  {
   "cell_type": "code",
   "execution_count": null,
   "metadata": {},
   "outputs": [],
   "source": [
    "sc.pp.neighbors(adata, use_rep = \"X_scANVI\", n_neighbors = 50, metric = 'minkowski')\n",
    "sc.tl.umap(adata, min_dist = 0.3, spread = 4, random_state = 1712)\n",
    "sc.pl.umap(adata, frameon = False, color = ['C_scANVI', 'seed_labels', 'sample', 'batch'], size = 1, legend_fontsize = 5, ncols = 3)"
   ]
  },
  {
   "attachments": {},
   "cell_type": "markdown",
   "metadata": {},
   "source": [
    "### Export annotated object"
   ]
  },
  {
   "cell_type": "code",
   "execution_count": null,
   "metadata": {},
   "outputs": [],
   "source": [
    "adata_export_merged = anndata.AnnData(X = adata_raw.X, var = adata_raw.var, obs = adata.obs)\n",
    "adata_export_merged"
   ]
  },
  {
   "cell_type": "code",
   "execution_count": null,
   "metadata": {},
   "outputs": [],
   "source": [
    "adata_export = adata_export_merged[adata_export_merged.obs['batch'].isin(['query'])]\n",
    "adata_export"
   ]
  },
  {
   "cell_type": "markdown",
   "metadata": {},
   "source": [
    "### Add new gene symbols"
   ]
  },
  {
   "cell_type": "code",
   "execution_count": null,
   "metadata": {},
   "outputs": [],
   "source": [
    "query_export = anndata.AnnData(X = query.X, var = query.var, obs = adata_export.obs)\n",
    "query_export"
   ]
  },
  {
   "cell_type": "markdown",
   "metadata": {},
   "source": [
    "### Revert gene symbols"
   ]
  },
  {
   "cell_type": "code",
   "execution_count": null,
   "metadata": {},
   "outputs": [],
   "source": [
    "query_export.var_names = [gene_name.capitalize() for gene_name in query_export.var_names]\n",
    "query_export.var_names"
   ]
  },
  {
   "cell_type": "code",
   "execution_count": null,
   "metadata": {},
   "outputs": [],
   "source": [
    "query_export.obs['C_scANVI'].value_counts()"
   ]
  },
  {
   "cell_type": "code",
   "execution_count": null,
   "metadata": {},
   "outputs": [],
   "source": [
    "query_export"
   ]
  },
  {
   "cell_type": "code",
   "execution_count": null,
   "metadata": {},
   "outputs": [],
   "source": [
    "query_export.write('../data/heart_mm_nuclei-23-0092_scANVI-CellStates_ctl231123.raw.h5ad')"
   ]
  },
  {
   "cell_type": "code",
   "execution_count": null,
   "metadata": {},
   "outputs": [],
   "source": []
  }
 ],
 "metadata": {
  "kernelspec": {
   "display_name": "Python 3.8.14 ('scvi-tools')",
   "language": "python",
   "name": "python3"
  },
  "language_info": {
   "codemirror_mode": {
    "name": "ipython",
    "version": 3
   },
   "file_extension": ".py",
   "mimetype": "text/x-python",
   "name": "python",
   "nbconvert_exporter": "python",
   "pygments_lexer": "ipython3",
   "version": "3.10.13"
  },
  "orig_nbformat": 4,
  "vscode": {
   "interpreter": {
    "hash": "be6e4b2475555bb52a1f9704f3384c4fd38c8454adf16dc700aeb2c29c9568d8"
   }
  }
 },
 "nbformat": 4,
 "nbformat_minor": 2
}
