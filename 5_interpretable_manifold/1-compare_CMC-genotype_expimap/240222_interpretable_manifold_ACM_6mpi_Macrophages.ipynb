{
 "cells": [
  {
   "cell_type": "markdown",
   "metadata": {},
   "source": [
    "### Notebook for the functional comparison of CMC genotypes with `expimap`\n",
    "\n",
    "#### Environment: scArches\n",
    "\n",
    "- **Developed by:** Carlos Talavera-López Ph.D\n",
    "- **Modified by:** Alexandra Cirnu\n",
    "- **Würzburg Institute for Systems Immunology & Julius-Maximilian-Universität Würzburg**\n",
    "- **Date of creation:** 240216\n",
    "- **Date of modification:** 240222"
   ]
  },
  {
   "cell_type": "markdown",
   "metadata": {},
   "source": [
    "### Import required modules"
   ]
  },
  {
   "cell_type": "code",
   "execution_count": null,
   "metadata": {},
   "outputs": [],
   "source": [
    "import gdown\n",
    "import torch\n",
    "import anndata\n",
    "import warnings\n",
    "import numpy as np\n",
    "import scipy as sp\n",
    "import scanpy as sc\n",
    "import pandas as pd\n",
    "import scarches as sca\n",
    "import matplotlib.pyplot as plt"
   ]
  },
  {
   "cell_type": "markdown",
   "metadata": {},
   "source": [
    "### Set up working environment"
   ]
  },
  {
   "cell_type": "code",
   "execution_count": null,
   "metadata": {},
   "outputs": [],
   "source": [
    "sc.settings.verbosity = 3\n",
    "sc.logging.print_versions()\n",
    "sc.settings.set_figure_params(dpi = 180, color_map = 'magma_r', dpi_save = 300, vector_friendly = True, format = 'svg')"
   ]
  },
  {
   "cell_type": "code",
   "execution_count": null,
   "metadata": {},
   "outputs": [],
   "source": [
    "warnings.simplefilter(action = 'ignore')\n",
    "%config InlineBackend.print_figure_kwargs = {'facecolor' : \"w\"}\n",
    "%config InlineBackend.figure_format = 'retina'\n",
    "torch.set_float32_matmul_precision('medium')"
   ]
  },
  {
   "cell_type": "code",
   "execution_count": null,
   "metadata": {},
   "outputs": [],
   "source": [
    "def X_is_raw(adata): return np.array_equal(adata.X.sum(axis=0).astype(int), adata.X.sum(axis=0))"
   ]
  },
  {
   "cell_type": "markdown",
   "metadata": {},
   "source": [
    "### Read in whole data and split in WT (reference) and other genotypes (query)"
   ]
  },
  {
   "cell_type": "code",
   "execution_count": null,
   "metadata": {},
   "outputs": [],
   "source": [
    "ACM = sc.read_h5ad('/Users/alex/data/ACM_cardiac_leuco/processed_merged/ACM_6mpi_scANVI_cellstates_macrophages_ac240223.raw.h5ad')\n",
    "ACM"
   ]
  },
  {
   "cell_type": "code",
   "execution_count": null,
   "metadata": {},
   "outputs": [],
   "source": [
    "if sp.sparse.issparse(ACM.X):\n",
    "   ACM.X = ACM.X.toarray().astype(np.float32)"
   ]
  },
  {
   "cell_type": "code",
   "execution_count": null,
   "metadata": {},
   "outputs": [],
   "source": [
    "ACM.obs['condition'].value_counts()"
   ]
  },
  {
   "cell_type": "code",
   "execution_count": null,
   "metadata": {},
   "outputs": [],
   "source": [
    "Ctr = ACM[ACM.obs['condition'].isin(['Pkp2_Ctr_PBS', 'Ttn_Ctr_noninf'])]\n",
    "Ctr"
   ]
  },
  {
   "cell_type": "code",
   "execution_count": null,
   "metadata": {},
   "outputs": [],
   "source": [
    "Affected = ACM[~ACM.obs['condition'].isin(['Pkp2_Ctr_PBS', 'Ttn_Ctr_noninf'])]\n",
    "Affected"
   ]
  },
  {
   "cell_type": "markdown",
   "metadata": {},
   "source": [
    "### Read the Reactome annotations"
   ]
  },
  {
   "cell_type": "code",
   "execution_count": null,
   "metadata": {},
   "outputs": [],
   "source": [
    "url = 'https://drive.google.com/uc?id=1136LntaVr92G1MphGeMVcmpE0AqcqM6c'\n",
    "output = 'reactome.gmt'\n",
    "gdown.download(url, output, quiet=False)"
   ]
  },
  {
   "cell_type": "markdown",
   "metadata": {},
   "source": [
    "### Prepare reference data with ReactomeDB pathways"
   ]
  },
  {
   "cell_type": "code",
   "execution_count": null,
   "metadata": {},
   "outputs": [],
   "source": [
    "sca.utils.add_annotations(Ctr, 'reactome.gmt', min_genes = 6, clean = True)"
   ]
  },
  {
   "cell_type": "markdown",
   "metadata": {},
   "source": [
    "- Remove all genes that are present in the data but absent in ReactomeDB"
   ]
  },
  {
   "cell_type": "code",
   "execution_count": null,
   "metadata": {},
   "outputs": [],
   "source": [
    "Ctr._inplace_subset_var(Ctr.varm['I'].sum(1)>0)"
   ]
  },
  {
   "attachments": {},
   "cell_type": "markdown",
   "metadata": {},
   "source": [
    "### Calculate HVGs"
   ]
  },
  {
   "cell_type": "code",
   "execution_count": null,
   "metadata": {},
   "outputs": [],
   "source": [
    "ref_raw = Ctr.copy()\n",
    "Ctr.layers['counts'] = Ctr.X.copy()\n",
    "\n",
    "sc.pp.highly_variable_genes(\n",
    "    Ctr,\n",
    "    flavor = \"seurat_v3\",\n",
    "    n_top_genes = 3000,\n",
    "    layer = \"counts\",\n",
    "    batch_key = \"sample\",\n",
    "    subset = True,\n",
    "    span = 1\n",
    ")\n",
    "Ctr"
   ]
  },
  {
   "cell_type": "code",
   "execution_count": null,
   "metadata": {},
   "outputs": [],
   "source": [
    "X_is_raw(Ctr)"
   ]
  },
  {
   "cell_type": "markdown",
   "metadata": {},
   "source": [
    "- Filter out all annotations (terms) with less than 12 genes."
   ]
  },
  {
   "cell_type": "code",
   "execution_count": null,
   "metadata": {},
   "outputs": [],
   "source": [
    "select_terms = Ctr.varm['I'].sum(0)>12\n",
    "Ctr.uns['terms'] = np.array(Ctr.uns['terms'])[select_terms].tolist()\n",
    "Ctr.varm['I'] = Ctr.varm['I'][:, select_terms]"
   ]
  },
  {
   "cell_type": "markdown",
   "metadata": {},
   "source": [
    "- Filter out genes not present in any of the terms after selection of HVGs."
   ]
  },
  {
   "cell_type": "code",
   "execution_count": null,
   "metadata": {},
   "outputs": [],
   "source": [
    "Ctr._inplace_subset_var(Ctr.varm['I'].sum(1)>0)"
   ]
  },
  {
   "cell_type": "markdown",
   "metadata": {},
   "source": [
    "### Create expiMap model and train it on reference dataset"
   ]
  },
  {
   "cell_type": "code",
   "execution_count": null,
   "metadata": {},
   "outputs": [],
   "source": [
    "intr_cvae = sca.models.EXPIMAP(\n",
    "    adata = Ctr,\n",
    "    condition_key = 'condition',\n",
    "    hidden_layer_sizes = [256, 256, 256],\n",
    "    recon_loss = 'nb'\n",
    ")"
   ]
  },
  {
   "cell_type": "code",
   "execution_count": null,
   "metadata": {},
   "outputs": [],
   "source": [
    "ALPHA = 0.7"
   ]
  },
  {
   "cell_type": "code",
   "execution_count": null,
   "metadata": {},
   "outputs": [],
   "source": [
    "early_stopping_kwargs = {\n",
    "    \"early_stopping_metric\": \"val_unweighted_loss\", # val_unweighted_loss\n",
    "    \"threshold\": 0,\n",
    "    \"patience\": 50,\n",
    "    \"reduce_lr\": True,\n",
    "    \"lr_patience\": 13,\n",
    "    \"lr_factor\": 0.1,\n",
    "}\n",
    "intr_cvae.train(\n",
    "    n_epochs = 400,\n",
    "    alpha_epoch_anneal = 100,\n",
    "    alpha = ALPHA,\n",
    "    alpha_kl = 0.5,\n",
    "    weight_decay = 0.,\n",
    "    early_stopping_kwargs = early_stopping_kwargs,\n",
    "    use_early_stopping = True,\n",
    "    monitor_only_val = False,\n",
    "    seed = 1712,\n",
    ")"
   ]
  },
  {
   "cell_type": "code",
   "execution_count": null,
   "metadata": {},
   "outputs": [],
   "source": [
    "MEAN = False"
   ]
  },
  {
   "cell_type": "code",
   "execution_count": null,
   "metadata": {},
   "outputs": [],
   "source": [
    "Ctr.obsm['X_cvae'] = intr_cvae.get_latent(mean = MEAN, only_active = True)"
   ]
  },
  {
   "cell_type": "markdown",
   "metadata": {},
   "source": [
    "### Plot latent space of the reference dataset"
   ]
  },
  {
   "cell_type": "code",
   "execution_count": null,
   "metadata": {},
   "outputs": [],
   "source": [
    "sc.pp.neighbors(Ctr, use_rep = \"X_cvae\", n_neighbors = 50, metric = 'minkowski')\n",
    "sc.tl.umap(Ctr, min_dist = 0.3, spread = 4, random_state = 1712)"
   ]
  },
  {
   "cell_type": "code",
   "execution_count": null,
   "metadata": {},
   "outputs": [],
   "source": [
    "sc.pl.umap(Ctr, frameon = False, color = ['C_scANVI', 'donor', 'condition'], size = 3, legend_fontsize = 5, ncols = 4)"
   ]
  },
  {
   "attachments": {},
   "cell_type": "markdown",
   "metadata": {},
   "source": [
    "### Read and format query dataset"
   ]
  },
  {
   "cell_type": "code",
   "execution_count": null,
   "metadata": {},
   "outputs": [],
   "source": [
    "Affected = Affected[:, Ctr.var_names].copy()\n",
    "Affected"
   ]
  },
  {
   "cell_type": "code",
   "execution_count": null,
   "metadata": {},
   "outputs": [],
   "source": [
    "Affected.uns['terms'] = Ctr.uns['terms']"
   ]
  },
  {
   "cell_type": "markdown",
   "metadata": {},
   "source": [
    "### Initlizling the model for query training"
   ]
  },
  {
   "cell_type": "code",
   "execution_count": null,
   "metadata": {},
   "outputs": [],
   "source": [
    "q_intr_cvae = sca.models.EXPIMAP.load_query_data(Affected, intr_cvae)"
   ]
  },
  {
   "cell_type": "code",
   "execution_count": null,
   "metadata": {},
   "outputs": [],
   "source": [
    "q_intr_cvae.train(n_epochs = 400, \n",
    "                  alpha_epoch_anneal = 100, \n",
    "                  weight_decay = 0.,\n",
    "                  alpha_kl = 0.1, \n",
    "                  seed = 1712, \n",
    "                  use_early_stopping = True)"
   ]
  },
  {
   "cell_type": "markdown",
   "metadata": {},
   "source": [
    "### Get latent representation of reference + query dataset"
   ]
  },
  {
   "cell_type": "code",
   "execution_count": null,
   "metadata": {},
   "outputs": [],
   "source": [
    "All_Cond = sc.AnnData.concatenate(Ctr, Affected, batch_key = 'batch_join', uns_merge = 'same')\n",
    "All_Cond"
   ]
  },
  {
   "cell_type": "code",
   "execution_count": null,
   "metadata": {},
   "outputs": [],
   "source": [
    "All_Cond.obsm['X_cvae'] = q_intr_cvae.get_latent(All_Cond.X, \n",
    "                                                All_Cond.obs['condition'], \n",
    "                                                mean = MEAN, \n",
    "                                                only_active = True)"
   ]
  },
  {
   "cell_type": "code",
   "execution_count": null,
   "metadata": {},
   "outputs": [],
   "source": [
    "sc.pp.neighbors(All_Cond, use_rep = \"X_cvae\", n_neighbors = 20, metric = 'minkowski')\n",
    "sc.tl.umap(All_Cond, min_dist = 0.5, spread = 6, random_state = 1712)"
   ]
  },
  {
   "cell_type": "code",
   "execution_count": null,
   "metadata": {},
   "outputs": [],
   "source": [
    "#All_Cond.obs['condition_joint'] = All_Cond.obs.region.astype(str)\n",
    "#All_Cond.obs['condition_joint'][All_Cond.obs['condition_joint'].astype(str)=='nan']='condition'"
   ]
  },
  {
   "cell_type": "code",
   "execution_count": null,
   "metadata": {},
   "outputs": [],
   "source": [
    "sc.pl.umap(All_Cond, frameon = False, color = ['C_scANVI', 'donor', 'genotype', 'infection', 'condition'], size = 3, legend_fontsize = 5, ncols = 1)                  #'condition_joint"
   ]
  },
  {
   "cell_type": "markdown",
   "metadata": {},
   "source": [
    "### Calculate directions of upregulation for each latent score and put them to"
   ]
  },
  {
   "cell_type": "code",
   "execution_count": null,
   "metadata": {},
   "outputs": [],
   "source": [
    "q_intr_cvae.latent_directions(adata = All_Cond)"
   ]
  },
  {
   "cell_type": "markdown",
   "metadata": {},
   "source": [
    "### Do gene set enrichment test for condition in reference + query using Bayes Factors."
   ]
  },
  {
   "cell_type": "code",
   "execution_count": null,
   "metadata": {},
   "outputs": [],
   "source": [
    "plt.rcParams['figure.figsize'] = [16, 20]"
   ]
  },
  {
   "cell_type": "code",
   "execution_count": null,
   "metadata": {},
   "outputs": [],
   "source": [
    "q_intr_cvae.latent_enrich(groups = 'condition', comparison = ['Pkp2_Ctr_PBS'], use_directions = True, adata = All_Cond)\n",
    "fig = sca.plotting.plot_abs_bfs(All_Cond, yt_step = 0.3, scale_y = 1.5, fontsize = 6)"
   ]
  },
  {
   "cell_type": "code",
   "execution_count": null,
   "metadata": {},
   "outputs": [],
   "source": [
    "q_intr_cvae.latent_enrich(groups = 'condition', comparison = 'Pkp2_HetKO_PBS', use_directions = True, adata = All_Cond)\n",
    "fig = sca.plotting.plot_abs_bfs(All_Cond, yt_step = 0.3, scale_y = 1.5, fontsize = 6)"
   ]
  },
  {
   "cell_type": "code",
   "execution_count": null,
   "metadata": {},
   "outputs": [],
   "source": [
    "q_intr_cvae.latent_enrich(groups = 'condition', comparison = 'Pkp2_Ctr_MCMV', use_directions = True, adata = All_Cond)\n",
    "fig = sca.plotting.plot_abs_bfs(All_Cond, yt_step = 0.3, scale_y = 1.5, fontsize = 6)"
   ]
  },
  {
   "cell_type": "code",
   "execution_count": null,
   "metadata": {},
   "outputs": [],
   "source": [
    "q_intr_cvae.latent_enrich(groups = 'condition', comparison = 'Pkp2_HetKO_MCMV', use_directions = True, adata = All_Cond)\n",
    "fig = sca.plotting.plot_abs_bfs(All_Cond, yt_step = 0.3, scale_y = 1.5, fontsize = 6)"
   ]
  },
  {
   "cell_type": "code",
   "execution_count": null,
   "metadata": {},
   "outputs": [],
   "source": [
    "q_intr_cvae.latent_enrich(groups = 'condition', comparison = 'Ttn_Ctr_noninf', use_directions = True, adata = All_Cond)\n",
    "fig = sca.plotting.plot_abs_bfs(All_Cond, yt_step = 0.3, scale_y = 1.5, fontsize = 6)"
   ]
  },
  {
   "cell_type": "code",
   "execution_count": null,
   "metadata": {},
   "outputs": [],
   "source": [
    "q_intr_cvae.latent_enrich(groups = 'condition', comparison = 'Ttn_HetKO_noninf', use_directions = True, adata = All_Cond)\n",
    "fig = sca.plotting.plot_abs_bfs(All_Cond, yt_step = 0.3, scale_y = 1.5, fontsize = 6)"
   ]
  },
  {
   "cell_type": "code",
   "execution_count": null,
   "metadata": {},
   "outputs": [],
   "source": [
    "q_intr_cvae.latent_enrich(groups = 'condition', comparison = 'Ttn_Ctr_MCMV', use_directions = True, adata = All_Cond)\n",
    "fig = sca.plotting.plot_abs_bfs(All_Cond, yt_step = 0.3, scale_y = 1.5, fontsize = 6)"
   ]
  },
  {
   "cell_type": "code",
   "execution_count": null,
   "metadata": {},
   "outputs": [],
   "source": [
    "q_intr_cvae.latent_enrich(groups = 'condition', comparison = 'Ttn_HetKO_MCMV', use_directions = True, adata = All_Cond)\n",
    "fig = sca.plotting.plot_abs_bfs(All_Cond, yt_step = 0.3, scale_y = 1.5, fontsize = 6)"
   ]
  },
  {
   "cell_type": "markdown",
   "metadata": {},
   "source": [
    "### Plot the latent variables for query + reference corresponding to the annotations "
   ]
  },
  {
   "cell_type": "code",
   "execution_count": null,
   "metadata": {},
   "outputs": [],
   "source": [
    "terms = All_Cond.uns['terms']\n",
    "select_terms = ['NEURONAL_SYSTEM', 'INNATE_IMMUNE_SYSTEM', 'GPCR_DOWNSTREAM_SIGNALING', 'APOPTOTIC_EXECUTION_PHASE', 'CELL_CYCLE_MITOTIC', 'L1CAM_INTERACTIONS', 'MEMBRANE_TRAFFICKING', 'METABOLISM_OF_CARBOHYDRATES', 'SIGNALING_BY_NOTCH', 'METABOLISM_OF_NUCLEOTIDES', 'TRANSLATION']\n",
    "idx = [terms.index(term) for term in select_terms]"
   ]
  },
  {
   "cell_type": "code",
   "execution_count": null,
   "metadata": {},
   "outputs": [],
   "source": [
    "latents = (q_intr_cvae.get_latent(All_Cond.X, All_Cond.obs['condition'], mean = MEAN) * All_Cond.uns['directions'])[:, idx]\n",
    "\n",
    "All_Cond.obs['NEURONAL_SYSTEM'] = latents[:, 0]\n",
    "All_Cond.obs['INNATE_IMMUNE_SYSTEM'] = latents[:, 1]\n",
    "All_Cond.obs['GPCR_DOWNSTREAM_SIGNALING'] = latents[:, 2]\n",
    "All_Cond.obs['APOPTOTIC_EXECUTION_PHASE'] = latents[:, 3]\n",
    "All_Cond.obs['CELL_CYCLE_MITOTIC'] = latents[:, 4]\n",
    "All_Cond.obs['L1CAM_INTERACTIONS'] = latents[:, 5]\n",
    "All_Cond.obs['MEMBRANE_TRAFFICKING'] = latents[:, 6]\n",
    "All_Cond.obs['METABOLISM_OF_CARBOHYDRATES'] = latents[:, 7]\n",
    "All_Cond.obs['SIGNALING_BY_NOTCH'] = latents[:, 8]\n",
    "All_Cond.obs['METABOLISM_OF_NUCLEOTIDES'] = latents[:, 9]\n",
    "All_Cond.obs['TRANSLATION'] = latents[:, 10]"
   ]
  },
  {
   "cell_type": "code",
   "execution_count": null,
   "metadata": {},
   "outputs": [],
   "source": [
    "plt.rcParams['figure.figsize'] = [5,5]\n",
    "sc.pl.scatter(All_Cond, x = 'NEURONAL_SYSTEM', y = 'INNATE_IMMUNE_SYSTEM', color = 'condition', size = 15)\n",
    "sc.pl.scatter(All_Cond, x = 'METABOLISM_OF_NUCLEOTIDES', y = 'CELL_CYCLE_MITOTIC', color = 'condition', size = 15)\n",
    "sc.pl.scatter(All_Cond, x = 'APOPTOTIC_EXECUTION_PHASE', y = 'INNATE_IMMUNE_SYSTEM', color = 'condition', size = 15)\n",
    "\n",
    "sc.pl.scatter(All_Cond, x = 'NEURONAL_SYSTEM', y = 'INNATE_IMMUNE_SYSTEM', color = 'C_scANVI', size = 15)\n",
    "sc.pl.scatter(All_Cond, x = 'METABOLISM_OF_NUCLEOTIDES', y = 'CELL_CYCLE_MITOTIC', color = 'C_scANVI', size = 15)\n",
    "sc.pl.scatter(All_Cond, x = 'APOPTOTIC_EXECUTION_PHASE', y = 'INNATE_IMMUNE_SYSTEM', color = 'C_scANVI', size = 15)"
   ]
  }
 ],
 "metadata": {
  "kernelspec": {
   "display_name": "Python 3",
   "language": "python",
   "name": "python3"
  },
  "language_info": {
   "codemirror_mode": {
    "name": "ipython",
    "version": 3
   },
   "file_extension": ".py",
   "mimetype": "text/x-python",
   "name": "python",
   "nbconvert_exporter": "python",
   "pygments_lexer": "ipython3",
   "version": "3.10.13"
  },
  "orig_nbformat": 4,
  "vscode": {
   "interpreter": {
    "hash": "aee8b7b246df8f9039afb4144a1f6fd8d2ca17a180786b69acc140d282b71a49"
   }
  }
 },
 "nbformat": 4,
 "nbformat_minor": 2
}
