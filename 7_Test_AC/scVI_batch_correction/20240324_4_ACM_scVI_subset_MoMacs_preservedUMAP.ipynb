{
 "cells": [
  {
   "cell_type": "markdown",
   "metadata": {},
   "source": [
    "### Notebook to subset MoMacs from 6mpi cardiac leucocytes (goal: preserve UMAP)\n",
    "\n",
    "#### Environment: Scanpy\n",
    "\n",
    "- **Developed by**: Alexandra Cirnu\n",
    "- **Modified by**: Alexandra Cirnu\n",
    "- **Talavera-López Lab - Würzburg Institute for Systems Immunology - Faculty of Medicine - Julius Maximilian Universität Würzburg**\n",
    "- **Created on**: 240324\n",
    "- **Last modified**: 240324"
   ]
  },
  {
   "cell_type": "markdown",
   "metadata": {},
   "source": [
    "##### Load required modules"
   ]
  },
  {
   "cell_type": "code",
   "execution_count": 39,
   "metadata": {},
   "outputs": [],
   "source": [
    "import anndata\n",
    "import logging\n",
    "import numpy as np\n",
    "import pandas as pd\n",
    "import scanpy as sc\n",
    "import seaborn as sb\n",
    "import matplotlib.pyplot as plt\n",
    "from matplotlib import colors\n",
    "from matplotlib import rcParams\n",
    "from scipy.sparse import csr_matrix"
   ]
  },
  {
   "cell_type": "code",
   "execution_count": 40,
   "metadata": {},
   "outputs": [
    {
     "name": "stdout",
     "output_type": "stream",
     "text": [
      "-----\n",
      "anndata     0.10.5.post1\n",
      "scanpy      1.9.8\n",
      "-----\n",
      "PIL                 10.2.0\n",
      "asttokens           NA\n",
      "colorama            0.4.6\n",
      "comm                0.2.1\n",
      "cycler              0.12.1\n",
      "cython_runtime      NA\n",
      "dateutil            2.8.2\n",
      "debugpy             1.8.1\n",
      "decorator           5.1.1\n",
      "exceptiongroup      1.2.0\n",
      "executing           2.0.1\n",
      "h5py                3.10.0\n",
      "igraph              0.11.4\n",
      "ipykernel           6.29.2\n",
      "ipywidgets          8.1.2\n",
      "jedi                0.19.1\n",
      "joblib              1.3.2\n",
      "kiwisolver          1.4.5\n",
      "leidenalg           0.10.2\n",
      "llvmlite            0.42.0\n",
      "matplotlib          3.8.3\n",
      "matplotlib_inline   0.1.6\n",
      "mpl_toolkits        NA\n",
      "natsort             8.4.0\n",
      "numba               0.59.0\n",
      "numpy               1.26.4\n",
      "packaging           23.2\n",
      "pandas              2.2.1\n",
      "parso               0.8.3\n",
      "patsy               0.5.6\n",
      "pickleshare         0.7.5\n",
      "platformdirs        4.2.0\n",
      "prompt_toolkit      3.0.42\n",
      "psutil              5.9.8\n",
      "pure_eval           0.2.2\n",
      "pydev_ipython       NA\n",
      "pydevconsole        NA\n",
      "pydevd              2.9.5\n",
      "pydevd_file_utils   NA\n",
      "pydevd_plugins      NA\n",
      "pydevd_tracing      NA\n",
      "pygments            2.17.2\n",
      "pynndescent         0.5.11\n",
      "pyparsing           3.1.1\n",
      "pytz                2024.1\n",
      "scipy               1.12.0\n",
      "seaborn             0.13.2\n",
      "session_info        1.0.0\n",
      "six                 1.16.0\n",
      "sklearn             1.4.1.post1\n",
      "stack_data          0.6.2\n",
      "statsmodels         0.14.1\n",
      "texttable           1.7.0\n",
      "threadpoolctl       3.3.0\n",
      "tornado             6.4\n",
      "tqdm                4.66.2\n",
      "traitlets           5.14.1\n",
      "typing_extensions   NA\n",
      "umap                0.5.5\n",
      "vscode              NA\n",
      "wcwidth             0.2.13\n",
      "zmq                 25.1.2\n",
      "zoneinfo            NA\n",
      "-----\n",
      "IPython             8.22.1\n",
      "jupyter_client      8.6.0\n",
      "jupyter_core        5.7.1\n",
      "-----\n",
      "Python 3.10.13 | packaged by conda-forge | (main, Dec 23 2023, 15:36:39) [GCC 12.3.0]\n",
      "Linux-6.6.14-100.fc38.x86_64-x86_64-with-glibc2.37\n",
      "-----\n",
      "Session information updated at 2024-03-24 19:07\n"
     ]
    }
   ],
   "source": [
    "sc.settings.verbosity = 3             # verbosity: errors (0), warnings (1), info (2), hints (3)\n",
    "sc.logging.print_versions()\n",
    "\n",
    "sc.settings.set_figure_params(dpi=100)\n",
    "%matplotlib inline"
   ]
  },
  {
   "cell_type": "code",
   "execution_count": 41,
   "metadata": {},
   "outputs": [],
   "source": [
    "def X_is_raw(adata):\n",
    "    return np.array_equal(adata.X.sum(axis=0).astype(int), adata.X.sum(axis=0))"
   ]
  },
  {
   "cell_type": "markdown",
   "metadata": {},
   "source": [
    "##### Load in dataset that was clustered with `leiden` and subste to contain only MoMAcs "
   ]
  },
  {
   "cell_type": "code",
   "execution_count": 42,
   "metadata": {},
   "outputs": [
    {
     "data": {
      "text/plain": [
       "AnnData object with n_obs × n_vars = 44594 × 32285\n",
       "    obs: 'sample', 'condition', 'genotype', 'infection', 'library', 'model', 'n_genes', 'doublet_scores', 'n_genes_by_counts', 'total_counts', 'total_counts_mt', 'pct_counts_mt', 'total_counts_ribo', 'pct_counts_ribo', 'percent_mt', 'n_counts', 'percent_chrY', 'XIST-counts', 'S_score', 'G2M_score', '_scvi_batch', '_scvi_labels', 'leiden'\n",
       "    var: 'gene_ids', 'feature_types', 'mt', 'ribo', 'n_cells_by_counts-A1', 'mean_counts-A1', 'pct_dropout_by_counts-A1', 'total_counts-A1', 'n_cells_by_counts-A2', 'mean_counts-A2', 'pct_dropout_by_counts-A2', 'total_counts-A2', 'n_cells_by_counts-A3', 'mean_counts-A3', 'pct_dropout_by_counts-A3', 'total_counts-A3', 'n_cells_by_counts-A4', 'mean_counts-A4', 'pct_dropout_by_counts-A4', 'total_counts-A4', 'n_cells_by_counts-B1', 'mean_counts-B1', 'pct_dropout_by_counts-B1', 'total_counts-B1', 'n_cells_by_counts-B2', 'mean_counts-B2', 'pct_dropout_by_counts-B2', 'total_counts-B2'\n",
       "    uns: '_scvi_manager_uuid', '_scvi_uuid', 'condition_colors', 'genotype_colors', 'hvg', 'infection_colors', 'leiden', 'leiden_colors', 'library_colors', 'log1p', 'model_colors', 'neighbors', 'rank_genes_groups', 'sample_colors', 'umap'\n",
       "    obsm: 'X_scVI', 'X_umap', '_scvi_extra_categorical_covs'\n",
       "    layers: 'log_norm'\n",
       "    obsp: 'connectivities', 'distances'"
      ]
     },
     "execution_count": 42,
     "metadata": {},
     "output_type": "execute_result"
    }
   ],
   "source": [
    "adata = sc.read_h5ad('/home/acirnu/data/ACM_cardiac_leuco/Test_scVI_annotated_ac240324.raw.h5ad')\n",
    "adata"
   ]
  },
  {
   "cell_type": "code",
   "execution_count": 43,
   "metadata": {},
   "outputs": [
    {
     "data": {
      "text/plain": [
       "True"
      ]
     },
     "execution_count": 43,
     "metadata": {},
     "output_type": "execute_result"
    }
   ],
   "source": [
    "X_is_raw(adata)"
   ]
  },
  {
   "cell_type": "code",
   "execution_count": 44,
   "metadata": {},
   "outputs": [],
   "source": [
    "adata.raw = adata"
   ]
  },
  {
   "cell_type": "code",
   "execution_count": 45,
   "metadata": {},
   "outputs": [
    {
     "name": "stdout",
     "output_type": "stream",
     "text": [
      "normalizing counts per cell\n",
      "    finished (0:00:00)\n",
      "normalizing counts per cell\n",
      "    finished (0:00:00)\n"
     ]
    }
   ],
   "source": [
    "adata.layers['counts'] = adata.X.copy()\n",
    "adata.layers[\"sqrt_norm\"] = np.sqrt(sc.pp.normalize_total(adata, target_sum=1e6, inplace = False)[\"X\"])\n",
    "adata.layers[\"log_norm\"] = sc.pp.log1p(sc.pp.normalize_total(adata, target_sum=1e6, inplace = False)[\"X\"])"
   ]
  },
  {
   "cell_type": "code",
   "execution_count": 46,
   "metadata": {},
   "outputs": [],
   "source": [
    "adata.obs['general_celltype'] = adata.obs['leiden'].copy()"
   ]
  },
  {
   "cell_type": "code",
   "execution_count": 47,
   "metadata": {},
   "outputs": [
    {
     "data": {
      "text/plain": [
       "AnnData object with n_obs × n_vars = 32106 × 32285\n",
       "    obs: 'sample', 'condition', 'genotype', 'infection', 'library', 'model', 'n_genes', 'doublet_scores', 'n_genes_by_counts', 'total_counts', 'total_counts_mt', 'pct_counts_mt', 'total_counts_ribo', 'pct_counts_ribo', 'percent_mt', 'n_counts', 'percent_chrY', 'XIST-counts', 'S_score', 'G2M_score', '_scvi_batch', '_scvi_labels', 'leiden', 'general_celltype'\n",
       "    var: 'gene_ids', 'feature_types', 'mt', 'ribo', 'n_cells_by_counts-A1', 'mean_counts-A1', 'pct_dropout_by_counts-A1', 'total_counts-A1', 'n_cells_by_counts-A2', 'mean_counts-A2', 'pct_dropout_by_counts-A2', 'total_counts-A2', 'n_cells_by_counts-A3', 'mean_counts-A3', 'pct_dropout_by_counts-A3', 'total_counts-A3', 'n_cells_by_counts-A4', 'mean_counts-A4', 'pct_dropout_by_counts-A4', 'total_counts-A4', 'n_cells_by_counts-B1', 'mean_counts-B1', 'pct_dropout_by_counts-B1', 'total_counts-B1', 'n_cells_by_counts-B2', 'mean_counts-B2', 'pct_dropout_by_counts-B2', 'total_counts-B2'\n",
       "    uns: '_scvi_manager_uuid', '_scvi_uuid', 'condition_colors', 'genotype_colors', 'hvg', 'infection_colors', 'leiden', 'leiden_colors', 'library_colors', 'log1p', 'model_colors', 'neighbors', 'rank_genes_groups', 'sample_colors', 'umap'\n",
       "    obsm: 'X_scVI', 'X_umap', '_scvi_extra_categorical_covs'\n",
       "    layers: 'log_norm', 'counts', 'sqrt_norm'\n",
       "    obsp: 'connectivities', 'distances'"
      ]
     },
     "execution_count": 47,
     "metadata": {},
     "output_type": "execute_result"
    }
   ],
   "source": [
    "# Step 1: Subset the AnnData object to include only \"Monocytes/Macrophages\"\n",
    "monocytes_macrophages = adata[adata.obs['leiden'].isin(['Monocytes/Macrophages'])].copy()\n",
    "monocytes_macrophages"
   ]
  },
  {
   "cell_type": "code",
   "execution_count": 48,
   "metadata": {},
   "outputs": [
    {
     "name": "stdout",
     "output_type": "stream",
     "text": [
      "computing PCA\n",
      "    with n_comps=50\n",
      "    finished (0:00:22)\n",
      "computing neighbors\n",
      "    finished: added to `.uns['neighbors']`\n",
      "    `.obsp['distances']`, distances for each pair of neighbors\n",
      "    `.obsp['connectivities']`, weighted adjacency matrix (0:00:08)\n"
     ]
    }
   ],
   "source": [
    "# Step 2: Perform clustering on the subsetted data\n",
    "monocytes_macrophages.X = monocytes_macrophages.X.astype(float)\n",
    "sc.pp.pca(monocytes_macrophages, n_comps = 50, svd_solver = 'arpack', random_state = 1712)\n",
    "sc.pp.neighbors(monocytes_macrophages, use_rep = \"X_pca\", n_neighbors = 50, metric = 'minkowski')"
   ]
  },
  {
   "cell_type": "code",
   "execution_count": 49,
   "metadata": {},
   "outputs": [],
   "source": [
    "#Save adata object\n",
    "monocytes_macrophages.write_h5ad('/home/acirnu/data/ACM_cardiac_leuco/Test_scVI_MoMac_sameUMAP_ac240322.raw.h5ad')  "
   ]
  },
  {
   "cell_type": "markdown",
   "metadata": {},
   "source": [
    "# Did not go further!!!!"
   ]
  },
  {
   "cell_type": "code",
   "execution_count": null,
   "metadata": {},
   "outputs": [],
   "source": [
    "#Compare a gene across clusters\n",
    "\n",
    "fig, ax = plt.subplots(figsize=(10, 10))\n",
    "sc.pl.stacked_violin(adata, var_names=['Klf2',\t'Ccr2',\t'Mrc1',\t'mt-Atp6',\t'Tmsb10',\t'Napsa',\t'Stmn1',\t'Ftl1',\t'Adgre4'], groupby=\"leiden\", ax=ax)\n",
    "plt.show()"
   ]
  },
  {
   "cell_type": "code",
   "execution_count": null,
   "metadata": {},
   "outputs": [],
   "source": [
    "fig, ax = plt.subplots(figsize=(10, 5))\n",
    "sc.pl.dotplot(adata, var_names=['Klf2',\t'Ccr2',\t'Mrc1',\t'mt-Atp6',\t'Tmsb10',\t'Napsa',\t'Stmn1',\t'Ftl1',\t'Adgre4'], groupby=\"leiden\", ax=ax)\n",
    "plt.show()"
   ]
  },
  {
   "cell_type": "markdown",
   "metadata": {},
   "source": [
    "#### Visualize Dentritic cell markers"
   ]
  },
  {
   "cell_type": "code",
   "execution_count": null,
   "metadata": {},
   "outputs": [],
   "source": [
    "fig, ax = plt.subplots(figsize=(10, 5))\n",
    "sc.pl.dotplot(adata, var_names=['Itgax','Flt3', 'Itgae', 'Xcr1'], groupby=\"leiden\", ax=ax) #Cd86 can also be expressed by DCs\n",
    "plt.show()"
   ]
  },
  {
   "cell_type": "markdown",
   "metadata": {},
   "source": [
    "#### Visualize markers for Tissue-resident Macros TIMD4+"
   ]
  },
  {
   "cell_type": "code",
   "execution_count": null,
   "metadata": {},
   "outputs": [],
   "source": [
    "fig, ax = plt.subplots(figsize=(10, 5))\n",
    "sc.pl.dotplot(adata, var_names=['Lyve1', 'Folr2', 'Cd163', 'Klf2', 'Cfh', 'Cbr2', 'F13a1', 'Retnla', 'Timd4'], groupby=\"leiden\", ax=ax)\n",
    "plt.show()"
   ]
  },
  {
   "cell_type": "markdown",
   "metadata": {},
   "source": [
    "#### Visualize markers for Tissue-resident Macros MHCII+"
   ]
  },
  {
   "cell_type": "code",
   "execution_count": null,
   "metadata": {},
   "outputs": [],
   "source": [
    "fig, ax = plt.subplots(figsize=(10, 5))\n",
    "sc.pl.dotplot(adata, var_names=['H2-Aa','H2-Ab1','Cd83', 'Cd81', 'Cd74', 'Atf3', 'Egr1'], groupby=\"leiden\", ax=ax)\n",
    "plt.show()"
   ]
  },
  {
   "cell_type": "markdown",
   "metadata": {},
   "source": [
    "#### Visualize markers for MHCII+ Il1b+"
   ]
  },
  {
   "cell_type": "code",
   "execution_count": null,
   "metadata": {},
   "outputs": [],
   "source": [
    "fig, ax = plt.subplots(figsize=(10, 5))\n",
    "sc.pl.dotplot(adata, var_names=['Cd72', 'Il1b', 'Tnip3', 'Tlr2', 'Slamf9', 'Ccrl2', 'Ccr2'], groupby=\"leiden\", ax=ax)  \n",
    "plt.show()"
   ]
  },
  {
   "cell_type": "markdown",
   "metadata": {},
   "source": [
    "#### Visualize markers for Ly6Chigh Monos"
   ]
  },
  {
   "cell_type": "code",
   "execution_count": null,
   "metadata": {},
   "outputs": [],
   "source": [
    "fig, ax = plt.subplots(figsize=(10, 5))\n",
    "sc.pl.dotplot(adata, var_names=['Ly6c2', 'Plac8', 'Chil3'], groupby=\"leiden\", ax=ax) \n",
    "plt.show()"
   ]
  },
  {
   "cell_type": "markdown",
   "metadata": {},
   "source": [
    "#### Visualize markers for Ly6C-low Monos"
   ]
  },
  {
   "cell_type": "code",
   "execution_count": null,
   "metadata": {},
   "outputs": [],
   "source": [
    "fig, ax = plt.subplots(figsize=(10, 5))\n",
    "sc.pl.dotplot(adata, var_names=['Ear2', 'Ace', 'Treml4', 'Itgal'], groupby=\"leiden\", ax=ax) \n",
    "plt.show()"
   ]
  },
  {
   "cell_type": "markdown",
   "metadata": {},
   "source": [
    "#### Visualize markers for Trem2hi Spp1hi"
   ]
  },
  {
   "cell_type": "code",
   "execution_count": null,
   "metadata": {},
   "outputs": [],
   "source": [
    "fig, ax = plt.subplots(figsize=(10, 5))\n",
    "sc.pl.dotplot(adata, var_names=['Lgals3', 'Ctsd', 'Ctsl', 'Fabp5', 'Gpnmb', 'Arg1', 'Anxa1', 'Spp1'], groupby=\"leiden\", ax=ax) \n",
    "plt.show()"
   ]
  },
  {
   "cell_type": "markdown",
   "metadata": {},
   "source": [
    "#### Visualize markers for Trem2hi Gdf15hi"
   ]
  },
  {
   "cell_type": "code",
   "execution_count": null,
   "metadata": {},
   "outputs": [],
   "source": [
    "fig, ax = plt.subplots(figsize=(10, 5))\n",
    "sc.pl.dotplot(adata, var_names=['Selenop', 'Psap', 'Gdf15', 'Apoe', 'Fcrls', 'Fabp4'], groupby=\"leiden\", ax=ax) \n",
    "plt.show()"
   ]
  },
  {
   "cell_type": "markdown",
   "metadata": {},
   "source": [
    "#### Visualize markers for Trem2hi Prdx1hi"
   ]
  },
  {
   "cell_type": "code",
   "execution_count": null,
   "metadata": {},
   "outputs": [],
   "source": [
    "fig, ax = plt.subplots(figsize=(10, 5))\n",
    "sc.pl.dotplot(adata, var_names=['Prdx1', 'Slc40a1', 'Ftl1', 'Fth1'], groupby=\"leiden\", ax=ax) \n",
    "plt.show()"
   ]
  },
  {
   "cell_type": "markdown",
   "metadata": {},
   "source": [
    "#### Visualize markers for Isg15hi"
   ]
  },
  {
   "cell_type": "code",
   "execution_count": null,
   "metadata": {},
   "outputs": [],
   "source": [
    "fig, ax = plt.subplots(figsize=(10, 5))\n",
    "sc.pl.dotplot(adata, var_names=['Isg15', 'Rsad2', 'C4b', 'Ecm1'], groupby=\"leiden\", ax=ax) \n",
    "plt.show()"
   ]
  },
  {
   "cell_type": "markdown",
   "metadata": {},
   "source": [
    "#### Visualize markers for Fn1hi Ltc4shi"
   ]
  },
  {
   "cell_type": "code",
   "execution_count": null,
   "metadata": {},
   "outputs": [],
   "source": [
    "fig, ax = plt.subplots(figsize=(10, 5))\n",
    "sc.pl.dotplot(adata, var_names=['Mcm2', 'Stmn1', 'Ccnd1'], groupby=\"leiden\", ax=ax) \n",
    "plt.show()"
   ]
  },
  {
   "cell_type": "markdown",
   "metadata": {},
   "source": [
    "### Visualize all marker genes in one plot"
   ]
  },
  {
   "cell_type": "code",
   "execution_count": null,
   "metadata": {},
   "outputs": [],
   "source": [
    "fig, ax = plt.subplots(figsize=(20, 5))\n",
    "sc.pl.dotplot(adata, var_names=['Lyve1', 'Folr2', 'Cd163', 'Klf2', 'Cfh', 'Cbr2', 'F13a1', 'Retnla', 'Timd4','H2-Aa','H2-Ab1','Cd83', 'Cd81', 'Cd74', 'Atf3', 'Egr1', 'Cd72', 'Il1b', 'Tnip3', 'Tlr2', 'Slamf9', 'Ccrl2', 'Ccr2', 'Ly6c2', 'Plac8', 'Chil3', 'Ear2', 'Ace', 'Treml4', 'Itgal', 'Lgals3', 'Ctsd', 'Ctsl', 'Fabp5', 'Gpnmb', 'Arg1', 'Anxa1', 'Spp1', 'Selenop', 'Psap', 'Gdf15', 'Apoe', 'Fcrls', 'Fabp4', 'Prdx1', 'Slc40a1', 'Ftl1', 'Fth1', 'Isg15', 'Rsad2', 'C4b', 'Ecm1', 'Mcm2', 'Stmn1', 'Ccnd1'], groupby=\"leiden\", ax=ax)\n",
    "plt.show()"
   ]
  },
  {
   "cell_type": "markdown",
   "metadata": {},
   "source": [
    "### Annotate the clusters - DID NOT DO THAT YET"
   ]
  },
  {
   "cell_type": "code",
   "execution_count": null,
   "metadata": {},
   "outputs": [],
   "source": [
    "new_cluster_names = [\n",
    "    \"Monocytes/Macrophages\",\n",
    "    \"CD8 T/NK\",\n",
    "    \"Neutrophils\",\n",
    "    \"CD4 T\",\n",
    "    \"DC\",\n",
    "    \"T cell subset\",\n",
    "    \"B cell\",\n",
    "    \"Mast\",\n",
    "    \"Eosinophils\"\n",
    "]\n",
    "adata.rename_categories(\"leiden\", new_cluster_names)"
   ]
  },
  {
   "cell_type": "markdown",
   "metadata": {},
   "source": [
    "Change the order of the clusters"
   ]
  },
  {
   "cell_type": "code",
   "execution_count": null,
   "metadata": {},
   "outputs": [],
   "source": [
    "desired_cluster_order = [\"Monocytes/Macrophages\", \"DC\", \"Mast\", \"Neutrophils\", \"Eosinophils\",  \"CD4 T\", \"CD8 T/NK\", \"T cell subset\", \"B cell\"]\n",
    "adata.obs['leiden'] = pd.Categorical(adata.obs['leiden'], categories=desired_cluster_order, ordered=True)"
   ]
  },
  {
   "cell_type": "code",
   "execution_count": null,
   "metadata": {},
   "outputs": [],
   "source": [
    "sc.pl.umap(adata, color=\"leiden\", legend_loc=\"right margin\", title=\"\", frameon=False)"
   ]
  },
  {
   "cell_type": "code",
   "execution_count": null,
   "metadata": {},
   "outputs": [],
   "source": [
    "adata.obs"
   ]
  },
  {
   "cell_type": "markdown",
   "metadata": {},
   "source": [
    "### Visualize on UMAP"
   ]
  },
  {
   "cell_type": "code",
   "execution_count": null,
   "metadata": {},
   "outputs": [],
   "source": [
    "def split_umap(adata, split_by, ncol=2, nrow=None, **kwargs):\n",
    "    categories = adata.obs[split_by].cat.categories\n",
    "    if nrow is None:\n",
    "        nrow = int(np.ceil(len(categories) / ncol))\n",
    "    fig, axs = plt.subplots(nrow, ncol, figsize=(5*ncol, 4*nrow))\n",
    "    axs = axs.flatten()\n",
    "    for i, cat in enumerate(categories):\n",
    "        ax = axs[i]\n",
    "        sc.pl.umap(adata[adata.obs[split_by] == cat], ax=ax, show=False, title=cat, **kwargs)\n",
    "    plt.tight_layout()"
   ]
  },
  {
   "cell_type": "code",
   "execution_count": null,
   "metadata": {},
   "outputs": [],
   "source": [
    "split_umap(adata, color = ['leiden'], split_by = 'infection', frameon = False, size = 5, legend_fontsize = 10, ncols = 4, palette = {\n",
    "               \"Monocytes/Macrophages\":      '#FFD900',  # Yellow\n",
    "               \"DC\":                         '#C70039',  # Crimson (Closest to primary palette) \n",
    "               \"Mast\":                       '#FF7F0E',  # Orange (Closest to primary palette)\n",
    "               \"Neutrophils\":                '#BCBD22',  # Muted Yellow (original color kept)\n",
    "               \"Eosinophils\":                '#98DF8A',  # Muted Green (original color kept)\n",
    "               \"CD4 T\":                      '#ADD8E6',  # Light Blue\n",
    "               \"CD8 T/NK\":                   '#4169E1',  # Medium Blue \n",
    "               \"T cell subset\":              '#984EA3',  # Purple \n",
    "               \"B cell\":                     '#E377C2'   # Pinkish (original color kept)\n",
    "           })"
   ]
  },
  {
   "cell_type": "code",
   "execution_count": null,
   "metadata": {},
   "outputs": [],
   "source": [
    "split_umap(adata, color = ['leiden'], split_by = 'condition', frameon = False, size = 10, legend_fontsize = 10, ncols = 4, palette = {\n",
    "               \"Monocytes/Macrophages\":      '#FFD900',  # Yellow\n",
    "               \"DC\":                         '#C70039',  # Crimson (Closest to primary palette) \n",
    "               \"Mast\":                       '#FF7F0E',  # Orange (Closest to primary palette)\n",
    "               \"Neutrophils\":                '#BCBD22',  # Muted Yellow (original color kept)\n",
    "               \"Eosinophils\":                '#98DF8A',  # Muted Green (original color kept)\n",
    "               \"CD4 T\":                      '#ADD8E6',  # Light Blue\n",
    "               \"CD8 T/NK\":                   '#4169E1',  # Medium Blue \n",
    "               \"T cell subset\":              '#984EA3',  # Purple \n",
    "               \"B cell\":                     '#E377C2'   # Pinkish (original color kept)\n",
    "           })"
   ]
  },
  {
   "cell_type": "code",
   "execution_count": null,
   "metadata": {},
   "outputs": [],
   "source": [
    "split_umap(adata, color = ['leiden'], split_by = 'genotype', frameon = False, size = 10, legend_fontsize = 10, ncols = 4, palette = {\n",
    "               \"Monocytes/Macrophages\":      '#FFD900',  # Yellow\n",
    "               \"DC\":                         '#C70039',  # Crimson (Closest to primary palette) \n",
    "               \"Mast\":                       '#FF7F0E',  # Orange (Closest to primary palette)\n",
    "               \"Neutrophils\":                '#BCBD22',  # Muted Yellow (original color kept)\n",
    "               \"Eosinophils\":                '#98DF8A',  # Muted Green (original color kept)\n",
    "               \"CD4 T\":                      '#ADD8E6',  # Light Blue\n",
    "               \"CD8 T/NK\":                   '#4169E1',  # Medium Blue \n",
    "               \"T cell subset\":              '#984EA3',  # Purple \n",
    "               \"B cell\":                     '#E377C2'   # Pinkish (original color kept)\n",
    "           })"
   ]
  },
  {
   "cell_type": "code",
   "execution_count": null,
   "metadata": {},
   "outputs": [],
   "source": [
    "split_umap(adata, color = ['leiden'], split_by = 'model', frameon = False, size = 5, legend_fontsize = 10, ncols = 4, palette = {\n",
    "               \"Monocytes/Macrophages\":      '#FFD900',  # Yellow\n",
    "               \"DC\":                         '#C70039',  # Crimson (Closest to primary palette) \n",
    "               \"Mast\":                       '#FF7F0E',  # Orange (Closest to primary palette)\n",
    "               \"Neutrophils\":                '#BCBD22',  # Muted Yellow (original color kept)\n",
    "               \"Eosinophils\":                '#98DF8A',  # Muted Green (original color kept)\n",
    "               \"CD4 T\":                      '#ADD8E6',  # Light Blue\n",
    "               \"CD8 T/NK\":                   '#4169E1',  # Medium Blue \n",
    "               \"T cell subset\":              '#984EA3',  # Purple \n",
    "               \"B cell\":                     '#E377C2'   # Pinkish (original color kept)\n",
    "           })"
   ]
  },
  {
   "cell_type": "markdown",
   "metadata": {},
   "source": [
    "### Visualize cell type proportions as stacked barplots"
   ]
  },
  {
   "cell_type": "code",
   "execution_count": null,
   "metadata": {},
   "outputs": [],
   "source": [
    "df = adata.obs.groupby(['condition', 'leiden']).size().reset_index(name = 'counts')\n",
    "\n",
    "grouped = df.groupby('condition')['counts'].apply(lambda x: x / x.sum() * 100)\n",
    "grouped = grouped.reset_index()\n",
    "\n",
    "df['proportions'] = grouped['counts']\n",
    "df.head(10)"
   ]
  },
  {
   "cell_type": "code",
   "execution_count": null,
   "metadata": {},
   "outputs": [],
   "source": [
    "Pkp2_conditions = [\"Pkp2_Ctr_noninf\", \"Pkp2_HetKO_noninf\",\"Pkp2_Ctr_MCMV\", \"Pkp2_HetKO_MCMV\"]\n",
    "df_Pkp2 = df[df['condition'].isin(Pkp2_conditions)]\n",
    "df_Pkp2 = df_Pkp2.set_index('condition').loc[Pkp2_conditions].reset_index()"
   ]
  },
  {
   "cell_type": "code",
   "execution_count": null,
   "metadata": {},
   "outputs": [],
   "source": [
    "#Define a color map\n",
    "cmap_ac = ['#FFD900','#C70039','#FF7F0E','#BCBD22','#98DF8A','#ADD8E6', '#4169E1','#984EA3','#E377C2']  \n",
    "\n",
    "# Pivot the DataFrame to have 'leiden' clusters as columns\n",
    "pivot_df = df_Pkp2.pivot(index='condition', columns='leiden', values='proportions').fillna(0)\n",
    "\n",
    "# Plot the stacked barplot\n",
    "plt.figure()  # Create a new figure\n",
    "pivot_df.plot(kind='bar', stacked=True, color = cmap_ac, edgecolor='none', )\n",
    "\n",
    "# Set the figure size explicitly after creating the figure\n",
    "plt.gcf().set_size_inches(8, 6)\n",
    "\n",
    "# Add labels and title\n",
    "plt.xlabel('')\n",
    "plt.ylabel('Proportion (%)')\n",
    "plt.title('')\n",
    "plt.legend(title='Cluster', bbox_to_anchor=(1.05, 1), loc='upper left')\n",
    "\n",
    "# Show the plot\n",
    "plt.tight_layout()\n",
    "plt.show()"
   ]
  },
  {
   "cell_type": "code",
   "execution_count": null,
   "metadata": {},
   "outputs": [],
   "source": [
    "Ttn_conditions = [\"Ttn_Ctr_noninf\", \"Ttn_HetKO_noninf\",\"Ttn_Ctr_MCMV\", \"Ttn_HetKO_MCMV\"]\n",
    "df_Ttn = df[df['condition'].isin(Ttn_conditions)]\n",
    "df_Ttn = df_Ttn.set_index('condition').loc[Ttn_conditions].reset_index()"
   ]
  },
  {
   "cell_type": "code",
   "execution_count": null,
   "metadata": {},
   "outputs": [],
   "source": [
    "#Define a color map\n",
    "cmap_ac = ['#FFD900','#C70039','#FF7F0E','#BCBD22','#98DF8A','#ADD8E6', '#4169E1','#984EA3','#E377C2']  \n",
    "\n",
    "# Pivot the DataFrame to have 'leiden' clusters as columns\n",
    "pivot_df = df_Ttn.pivot(index='condition', columns='leiden', values='proportions').fillna(0)\n",
    "\n",
    "# Plot the stacked barplot\n",
    "plt.figure()  # Create a new figure\n",
    "pivot_df.plot(kind='bar', stacked=True, color = cmap_ac, edgecolor='none', )\n",
    "\n",
    "# Set the figure size explicitly after creating the figure\n",
    "plt.gcf().set_size_inches(8, 6)\n",
    "\n",
    "# Add labels and title\n",
    "plt.xlabel('')\n",
    "plt.ylabel('Proportion (%)')\n",
    "plt.title('')\n",
    "plt.legend(title='Cluster', bbox_to_anchor=(1.05, 1), loc='upper left')\n",
    "\n",
    "# Show the plot\n",
    "plt.tight_layout()\n",
    "plt.show()"
   ]
  },
  {
   "cell_type": "markdown",
   "metadata": {},
   "source": [
    "#### Save the clustered data set"
   ]
  },
  {
   "cell_type": "code",
   "execution_count": null,
   "metadata": {},
   "outputs": [],
   "source": [
    "adata"
   ]
  },
  {
   "cell_type": "code",
   "execution_count": null,
   "metadata": {},
   "outputs": [],
   "source": [
    "adata.write_h5ad('/home/acirnu/data/ACM_cardiac_leuco/Test_scVI_annotated_ac240324.raw.h5ad')  "
   ]
  }
 ],
 "metadata": {
  "kernelspec": {
   "display_name": "scANVI",
   "language": "python",
   "name": "python3"
  },
  "language_info": {
   "codemirror_mode": {
    "name": "ipython",
    "version": 3
   },
   "file_extension": ".py",
   "mimetype": "text/x-python",
   "name": "python",
   "nbconvert_exporter": "python",
   "pygments_lexer": "ipython3",
   "version": "3.10.14"
  }
 },
 "nbformat": 4,
 "nbformat_minor": 2
}
