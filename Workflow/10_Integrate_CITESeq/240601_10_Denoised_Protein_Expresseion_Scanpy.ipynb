{
 "cells": [
  {
   "attachments": {},
   "cell_type": "markdown",
   "metadata": {},
   "source": [
    "### Notebook for inspecting denoised protein expression with `Scanpy` with output from `totalVI`\n",
    "\n",
    "#### Environment: Scanpy\n",
    "\n",
    "- **Developed by:** Alexandra Cirnu\n",
    "- **Modified by:** Alexandra Cirnu\n",
    "- **Würzburg Institute for Systems Immunology & Julius-Maximilian-Universität Würzburg**\n",
    "- **Date of creation:** 240601\n",
    "- **Date of modification:** 240601"
   ]
  },
  {
   "attachments": {},
   "cell_type": "markdown",
   "metadata": {},
   "source": [
    "### Import required modules"
   ]
  },
  {
   "cell_type": "code",
   "execution_count": 1,
   "metadata": {},
   "outputs": [],
   "source": [
    "import anndata\n",
    "import numpy as np\n",
    "import pandas as pd\n",
    "import scanpy as sc\n",
    "import muon as mu\n",
    "from muon import atac as ac\n",
    "from muon import prot as pt\n",
    "import matplotlib.pyplot as plt\n",
    "from matplotlib import colors\n",
    "from matplotlib import rcParams\n",
    "from scipy.sparse import csr_matrix"
   ]
  },
  {
   "attachments": {},
   "cell_type": "markdown",
   "metadata": {},
   "source": [
    "### Set up working environment"
   ]
  },
  {
   "cell_type": "code",
   "execution_count": 2,
   "metadata": {},
   "outputs": [
    {
     "name": "stdout",
     "output_type": "stream",
     "text": [
      "-----\n",
      "anndata     0.10.6\n",
      "scanpy      1.9.8\n",
      "-----\n",
      "PIL                 10.2.0\n",
      "appnope             0.1.4\n",
      "asttokens           NA\n",
      "colorama            0.4.6\n",
      "comm                0.2.1\n",
      "cycler              0.12.1\n",
      "cython_runtime      NA\n",
      "dateutil            2.8.2\n",
      "debugpy             1.8.1\n",
      "decorator           5.1.1\n",
      "exceptiongroup      1.2.0\n",
      "executing           2.0.1\n",
      "h5py                3.10.0\n",
      "igraph              0.11.4\n",
      "ipykernel           6.29.2\n",
      "ipywidgets          8.1.2\n",
      "jedi                0.19.1\n",
      "joblib              1.3.2\n",
      "kiwisolver          1.4.5\n",
      "leidenalg           0.10.2\n",
      "llvmlite            0.42.0\n",
      "matplotlib          3.8.3\n",
      "matplotlib_inline   0.1.6\n",
      "mpl_toolkits        NA\n",
      "mudata              0.2.3\n",
      "muon                0.1.5\n",
      "natsort             8.4.0\n",
      "numba               0.59.0\n",
      "numpy               1.26.4\n",
      "packaging           23.2\n",
      "pandas              2.2.0\n",
      "parso               0.8.3\n",
      "patsy               0.5.6\n",
      "pickleshare         0.7.5\n",
      "platformdirs        4.2.0\n",
      "prompt_toolkit      3.0.42\n",
      "psutil              5.9.8\n",
      "pure_eval           0.2.2\n",
      "pydev_ipython       NA\n",
      "pydevconsole        NA\n",
      "pydevd              2.9.5\n",
      "pydevd_file_utils   NA\n",
      "pydevd_plugins      NA\n",
      "pydevd_tracing      NA\n",
      "pygments            2.17.2\n",
      "pynndescent         0.5.11\n",
      "pyparsing           3.1.1\n",
      "pytz                2024.1\n",
      "scipy               1.12.0\n",
      "seaborn             0.13.2\n",
      "session_info        1.0.0\n",
      "six                 1.16.0\n",
      "sklearn             1.4.1.post1\n",
      "stack_data          0.6.2\n",
      "statsmodels         0.14.1\n",
      "texttable           1.7.0\n",
      "threadpoolctl       3.3.0\n",
      "tornado             6.4\n",
      "tqdm                4.66.2\n",
      "traitlets           5.14.1\n",
      "typing_extensions   NA\n",
      "umap                0.5.5\n",
      "vscode              NA\n",
      "wcwidth             0.2.13\n",
      "zmq                 25.1.2\n",
      "zoneinfo            NA\n",
      "-----\n",
      "IPython             8.21.0\n",
      "jupyter_client      8.6.0\n",
      "jupyter_core        5.7.1\n",
      "-----\n",
      "Python 3.10.13 | packaged by conda-forge | (main, Dec 23 2023, 15:35:25) [Clang 16.0.6 ]\n",
      "macOS-14.5-arm64-arm-64bit\n",
      "-----\n",
      "Session information updated at 2024-06-01 09:45\n"
     ]
    }
   ],
   "source": [
    "%matplotlib inline\n",
    "sc.settings.verbosity = 3\n",
    "sc.logging.print_versions()\n",
    "sc.settings.set_figure_params(dpi = 160, color_map = 'RdPu', dpi_save = 180, vector_friendly = True, format = 'svg')"
   ]
  },
  {
   "cell_type": "code",
   "execution_count": 3,
   "metadata": {},
   "outputs": [],
   "source": [
    "def X_is_raw(adata): return np.array_equal(adata.X.sum(axis=0).astype(int), adata.X.sum(axis=0))"
   ]
  },
  {
   "attachments": {},
   "cell_type": "markdown",
   "metadata": {},
   "source": [
    "### Read in MuData set"
   ]
  },
  {
   "cell_type": "code",
   "execution_count": 5,
   "metadata": {},
   "outputs": [
    {
     "name": "stderr",
     "output_type": "stream",
     "text": [
      "/Users/alex/miniforge3/envs/Scanpy/lib/python3.10/site-packages/anndata/_core/anndata.py:430: FutureWarning: The dtype argument is deprecated and will be removed in late 2024.\n",
      "  warnings.warn(\n",
      "/Users/alex/miniforge3/envs/Scanpy/lib/python3.10/site-packages/anndata/_core/anndata.py:430: FutureWarning: The dtype argument is deprecated and will be removed in late 2024.\n",
      "  warnings.warn(\n"
     ]
    },
    {
     "data": {
      "text/html": [
       "<pre>MuData object with n_obs × n_vars = 44586 × 29477\n",
       "  var:\t&#x27;gene_ids&#x27;, &#x27;feature_types&#x27;\n",
       "  2 modalities\n",
       "    rna:\t44586 x 29378\n",
       "      obs:\t&#x27;cell_source&#x27;, &#x27;donor&#x27;, &#x27;n_counts&#x27;, &#x27;sample&#x27;, &#x27;seed_labels&#x27;, &#x27;condition&#x27;, &#x27;genotype&#x27;, &#x27;infection&#x27;, &#x27;library&#x27;, &#x27;model&#x27;, &#x27;n_genes_by_counts&#x27;, &#x27;total_counts&#x27;, &#x27;doublet_scores&#x27;, &#x27;total_counts_mt&#x27;, &#x27;pct_counts_mt&#x27;, &#x27;total_counts_ribo&#x27;, &#x27;pct_counts_ribo&#x27;, &#x27;percent_mt&#x27;, &#x27;percent_chrY&#x27;, &#x27;XIST-counts&#x27;, &#x27;S_score&#x27;, &#x27;G2M_score&#x27;, &#x27;_scvi_batch&#x27;, &#x27;_scvi_labels&#x27;, &#x27;batch&#x27;, &#x27;C_scANVI&#x27;, &#x27;leiden&#x27;, &#x27;classification&#x27;, &#x27;lineage&#x27;\n",
       "      var:\t&#x27;gene_ids&#x27;, &#x27;feature_types&#x27;, &#x27;mt&#x27;, &#x27;ribo&#x27;\n",
       "      uns:\t&#x27;C_scANVI_colors&#x27;, &#x27;classification_colors&#x27;, &#x27;leiden&#x27;, &#x27;leiden_colors&#x27;, &#x27;neighbors&#x27;, &#x27;umap&#x27;\n",
       "      obsm:\t&#x27;X_scANVI&#x27;, &#x27;X_scVI&#x27;, &#x27;X_umap&#x27;\n",
       "      obsp:\t&#x27;connectivities&#x27;, &#x27;distances&#x27;\n",
       "    prot:\t44586 x 99\n",
       "      obs:\t&#x27;library&#x27;, &#x27;batch&#x27;, &#x27;lineage&#x27;\n",
       "      var:\t&#x27;gene_ids&#x27;, &#x27;feature_types&#x27;\n",
       "      uns:\t&#x27;neighbors&#x27;, &#x27;pca&#x27;, &#x27;umap&#x27;\n",
       "      obsm:\t&#x27;X_pca&#x27;, &#x27;X_umap&#x27;\n",
       "      varm:\t&#x27;PCs&#x27;\n",
       "      layers:\t&#x27;counts&#x27;, &#x27;log_norm&#x27;</pre>"
      ],
      "text/plain": [
       "MuData object with n_obs × n_vars = 44586 × 29477\n",
       "  var:\t'gene_ids', 'feature_types'\n",
       "  2 modalities\n",
       "    rna:\t44586 x 29378\n",
       "      obs:\t'cell_source', 'donor', 'n_counts', 'sample', 'seed_labels', 'condition', 'genotype', 'infection', 'library', 'model', 'n_genes_by_counts', 'total_counts', 'doublet_scores', 'total_counts_mt', 'pct_counts_mt', 'total_counts_ribo', 'pct_counts_ribo', 'percent_mt', 'percent_chrY', 'XIST-counts', 'S_score', 'G2M_score', '_scvi_batch', '_scvi_labels', 'batch', 'C_scANVI', 'leiden', 'classification', 'lineage'\n",
       "      var:\t'gene_ids', 'feature_types', 'mt', 'ribo'\n",
       "      uns:\t'C_scANVI_colors', 'classification_colors', 'leiden', 'leiden_colors', 'neighbors', 'umap'\n",
       "      obsm:\t'X_scANVI', 'X_scVI', 'X_umap'\n",
       "      obsp:\t'connectivities', 'distances'\n",
       "    prot:\t44586 x 99\n",
       "      obs:\t'library', 'batch', 'lineage'\n",
       "      var:\t'gene_ids', 'feature_types'\n",
       "      uns:\t'neighbors', 'pca', 'umap'\n",
       "      obsm:\t'X_pca', 'X_umap'\n",
       "      varm:\t'PCs'\n",
       "      layers:\t'counts', 'log_norm'"
      ]
     },
     "execution_count": 5,
     "metadata": {},
     "output_type": "execute_result"
    }
   ],
   "source": [
    "mdata = mu.read_h5mu('/Users/alex/data/ACM_cardiac_leuco/5_Leiden_clustering_and_annotation/ACM_myeloids+lymphoids_leiden_clustered_muon_ac240507.raw.h5mu')\n",
    "mdata"
   ]
  },
  {
   "cell_type": "code",
   "execution_count": null,
   "metadata": {},
   "outputs": [],
   "source": [
    "rna = mdata.mod['rna']\n",
    "protein = mdata.mod['prot']"
   ]
  },
  {
   "cell_type": "markdown",
   "metadata": {},
   "source": [
    "### Save the mdata object"
   ]
  },
  {
   "cell_type": "code",
   "execution_count": null,
   "metadata": {},
   "outputs": [],
   "source": [
    "mdata.write('/home/acirnu/data/ACM_cardiac_leuco/CITE-Seq/ACM_myeloids+lymphoids_integrated_CITE_surface_markers_ac240510.raw.h5mu')   "
   ]
  }
 ],
 "metadata": {
  "kernelspec": {
   "display_name": "Python 3.8.14 ('scvi-tools')",
   "language": "python",
   "name": "python3"
  },
  "language_info": {
   "codemirror_mode": {
    "name": "ipython",
    "version": 3
   },
   "file_extension": ".py",
   "mimetype": "text/x-python",
   "name": "python",
   "nbconvert_exporter": "python",
   "pygments_lexer": "ipython3",
   "version": "3.10.13"
  },
  "orig_nbformat": 4,
  "vscode": {
   "interpreter": {
    "hash": "be6e4b2475555bb52a1f9704f3384c4fd38c8454adf16dc700aeb2c29c9568d8"
   }
  }
 },
 "nbformat": 4,
 "nbformat_minor": 2
}
