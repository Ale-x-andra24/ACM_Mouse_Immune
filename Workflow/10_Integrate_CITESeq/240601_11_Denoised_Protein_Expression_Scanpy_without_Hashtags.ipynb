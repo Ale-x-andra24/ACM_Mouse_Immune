{
 "cells": [
  {
   "attachments": {},
   "cell_type": "markdown",
   "metadata": {},
   "source": [
    "### Notebook for inspecting denoised protein expression with `Scanpy` with output from `totalVI`\n",
    "\n",
    "#### Environment: Scanpy\n",
    "\n",
    "- **Developed by:** Alexandra Cirnu\n",
    "- **Modified by:** Alexandra Cirnu\n",
    "- **Würzburg Institute for Systems Immunology & Julius-Maximilian-Universität Würzburg**\n",
    "- **Date of creation:** 240601\n",
    "- **Date of modification:** 240601"
   ]
  },
  {
   "attachments": {},
   "cell_type": "markdown",
   "metadata": {},
   "source": [
    "### Import required modules"
   ]
  },
  {
   "cell_type": "code",
   "execution_count": null,
   "metadata": {},
   "outputs": [],
   "source": [
    "import anndata\n",
    "import numpy as np\n",
    "import pandas as pd\n",
    "import scanpy as sc\n",
    "import muon as mu\n",
    "from muon import atac as ac\n",
    "from muon import prot as pt\n",
    "import matplotlib.pyplot as plt\n",
    "from matplotlib import colors\n",
    "from matplotlib import rcParams\n",
    "from scipy.sparse import csr_matrix"
   ]
  },
  {
   "attachments": {},
   "cell_type": "markdown",
   "metadata": {},
   "source": [
    "### Set up working environment"
   ]
  },
  {
   "cell_type": "code",
   "execution_count": null,
   "metadata": {},
   "outputs": [],
   "source": [
    "%matplotlib inline\n",
    "sc.settings.verbosity = 3\n",
    "sc.logging.print_versions()\n",
    "sc.settings.set_figure_params(dpi = 160, color_map = 'RdPu', dpi_save = 180, vector_friendly = True, format = 'svg')"
   ]
  },
  {
   "cell_type": "code",
   "execution_count": null,
   "metadata": {},
   "outputs": [],
   "source": [
    "def X_is_raw(adata): return np.array_equal(adata.X.sum(axis=0).astype(int), adata.X.sum(axis=0))"
   ]
  },
  {
   "cell_type": "code",
   "execution_count": null,
   "metadata": {},
   "outputs": [],
   "source": [
    "def clr_normalize_each_cell(adata, inplace=True):\n",
    "    \"\"\"Normalize count vector for each cell, i.e. for each row of .X\"\"\"\n",
    "\n",
    "    import numpy as np\n",
    "    import scipy\n",
    "\n",
    "    def seurat_clr(x):\n",
    "        # TODO: support sparseness\n",
    "        s = np.sum(np.log1p(x[x > 0]))\n",
    "        exp = np.exp(s / len(x))\n",
    "        return np.log1p(x / exp)\n",
    "\n",
    "    if not inplace:\n",
    "        adata = adata.copy()\n",
    "\n",
    "    # apply to dense or sparse matrix, along axis. returns dense matrix\n",
    "    adata.X = np.apply_along_axis(\n",
    "        seurat_clr, 1, (adata.X.A if scipy.sparse.issparse(adata.X) else adata.X)\n",
    "    )\n",
    "    return adata"
   ]
  },
  {
   "attachments": {},
   "cell_type": "markdown",
   "metadata": {},
   "source": [
    "### Read in MuData set"
   ]
  },
  {
   "cell_type": "code",
   "execution_count": null,
   "metadata": {},
   "outputs": [],
   "source": [
    "mdata = mu.read_h5mu('/Users/alex/data/ACM_cardiac_leuco/CITE-Seq/ACM_myeloids+lymphoids_integrated_CITE_surface_markers_ac240510.raw.h5mu')\n",
    "mdata"
   ]
  },
  {
   "cell_type": "code",
   "execution_count": null,
   "metadata": {},
   "outputs": [],
   "source": [
    "rna = mdata.mod['rna']\n",
    "protein = mdata.mod['prot']"
   ]
  },
  {
   "cell_type": "code",
   "execution_count": null,
   "metadata": {},
   "outputs": [],
   "source": [
    "protein_raw = protein.X.copy()"
   ]
  },
  {
   "cell_type": "code",
   "execution_count": null,
   "metadata": {},
   "outputs": [],
   "source": [
    "protein.var.head(20)"
   ]
  },
  {
   "cell_type": "code",
   "execution_count": null,
   "metadata": {},
   "outputs": [],
   "source": [
    "markers_to_remove = ['prot:Hashtag1_TotalA', 'prot:Hashtag2_TotalA', 'prot:Hashtag3_TotalA','prot:Hashtag4_TotalA', 'prot:Hashtag5_TotalA', 'prot:Hashtag6_TotalA','prot:Hashtag7_TotalA', 'prot:Hashtag8_TotalA', 'prot:Hashtag9_TotalA','prot:Hashtag10_TotalA']  # Replace these with actual gene names you want to remove\n",
    "\n",
    "# Filter out these genes\n",
    "protein = protein[:, ~protein.var.index.isin(markers_to_remove)]\n",
    "protein"
   ]
  },
  {
   "cell_type": "code",
   "execution_count": null,
   "metadata": {},
   "outputs": [],
   "source": [
    "protein.X = protein.layers['counts']"
   ]
  },
  {
   "cell_type": "code",
   "execution_count": null,
   "metadata": {},
   "outputs": [],
   "source": [
    "X_data = protein.X.copy()\n",
    "X_data_sparse = csr_matrix(X_data)\n",
    "X_data_df = pd.DataFrame.sparse.from_spmatrix(X_data_sparse, index=protein.obs.index, columns=protein.var.index)\n",
    "print(\"Shape of counts DataFrame:\", X_data_df.shape)\n",
    "X_data_df"
   ]
  },
  {
   "cell_type": "code",
   "execution_count": null,
   "metadata": {},
   "outputs": [],
   "source": [
    "protein.X = protein.layers['denoised_protein']"
   ]
  },
  {
   "cell_type": "code",
   "execution_count": null,
   "metadata": {},
   "outputs": [],
   "source": [
    "X_data = protein.X.copy()\n",
    "X_data_sparse = csr_matrix(X_data)\n",
    "X_data_df = pd.DataFrame.sparse.from_spmatrix(X_data_sparse, index=protein.obs.index, columns=protein.var.index)\n",
    "print(\"Shape of counts DataFrame:\", X_data_df.shape)\n",
    "X_data_df"
   ]
  },
  {
   "cell_type": "markdown",
   "metadata": {},
   "source": [
    "### Normalize denoised protein expression"
   ]
  },
  {
   "cell_type": "code",
   "execution_count": null,
   "metadata": {},
   "outputs": [],
   "source": [
    "clr_normalize_each_cell(protein)"
   ]
  },
  {
   "cell_type": "raw",
   "metadata": {
    "vscode": {
     "languageId": "raw"
    }
   },
   "source": [
    "sc.pp.normalize_total(protein, target_sum = 1e6, exclude_highly_expressed = True)\n",
    "sc.pp.log1p(protein)"
   ]
  },
  {
   "cell_type": "code",
   "execution_count": null,
   "metadata": {},
   "outputs": [],
   "source": [
    "X_data = protein.X.copy()\n",
    "X_data_sparse = csr_matrix(X_data)\n",
    "X_data_df = pd.DataFrame.sparse.from_spmatrix(X_data_sparse, index=protein.obs.index, columns=protein.var.index)\n",
    "print(\"Shape of counts DataFrame:\", X_data_df.shape)\n",
    "X_data_df"
   ]
  },
  {
   "cell_type": "markdown",
   "metadata": {},
   "source": [
    "### Perform PCA"
   ]
  },
  {
   "cell_type": "code",
   "execution_count": null,
   "metadata": {},
   "outputs": [],
   "source": [
    "sc.tl.pca(protein, n_comps= 50)"
   ]
  },
  {
   "cell_type": "markdown",
   "metadata": {},
   "source": [
    "### Find Neighbors"
   ]
  },
  {
   "cell_type": "code",
   "execution_count": null,
   "metadata": {},
   "outputs": [],
   "source": [
    "sc.pp.neighbors(protein, n_neighbors=150)"
   ]
  },
  {
   "cell_type": "markdown",
   "metadata": {},
   "source": [
    "### Compute UMAP"
   ]
  },
  {
   "cell_type": "code",
   "execution_count": null,
   "metadata": {},
   "outputs": [],
   "source": [
    "sc.tl.umap(protein)"
   ]
  },
  {
   "cell_type": "code",
   "execution_count": null,
   "metadata": {},
   "outputs": [],
   "source": [
    "sc.pl.umap(protein, title='UMAP of Protein Data', frameon= False)"
   ]
  },
  {
   "cell_type": "markdown",
   "metadata": {},
   "source": [
    "### Cluster the cells"
   ]
  },
  {
   "cell_type": "code",
   "execution_count": null,
   "metadata": {},
   "outputs": [],
   "source": [
    "sc.tl.leiden(protein)"
   ]
  },
  {
   "cell_type": "code",
   "execution_count": null,
   "metadata": {},
   "outputs": [],
   "source": [
    "sc.pl.umap(protein, color=['leiden', 'C_scANVI', 'classification'], frameon = False, ncols=1)"
   ]
  },
  {
   "cell_type": "markdown",
   "metadata": {},
   "source": [
    "### Differential expression analysis"
   ]
  },
  {
   "cell_type": "code",
   "execution_count": null,
   "metadata": {},
   "outputs": [],
   "source": [
    "sc.tl.rank_genes_groups(protein, \"leiden\", method=\"wilcoxon\", n_genes= 100)\n",
    "sc.pl.rank_genes_groups(protein, n_genes=25, sharey=False)"
   ]
  },
  {
   "cell_type": "code",
   "execution_count": null,
   "metadata": {},
   "outputs": [],
   "source": [
    "pd.DataFrame(protein.uns[\"rank_genes_groups\"][\"names\"]).head(3)"
   ]
  },
  {
   "cell_type": "code",
   "execution_count": null,
   "metadata": {},
   "outputs": [],
   "source": [
    "# Initialize an empty list to store arrays for vertical stacking\n",
    "out = []\n",
    "result = protein.uns[\"rank_genes_groups\"]\n",
    "groups = result[\"names\"].dtype.names\n",
    "\n",
    "# Iterate over each group\n",
    "for group in groups:\n",
    "    # Stack arrays vertically and append to the 'out' list\n",
    "    out.append(np.vstack((\n",
    "        result['names'][group],\n",
    "        result['scores'][group],\n",
    "        result['pvals_adj'][group],\n",
    "        result['logfoldchanges'][group],\n",
    "        np.array([group] * len(result['names'][group])).astype('object')\n",
    "    )).T)\n",
    "\n",
    "# Vertically stack all arrays in the 'out' list\n",
    "out = np.vstack(out)\n",
    "\n",
    "#Create a data frame\n",
    "markers = pd.DataFrame(out, columns= ['Gene', 'Score', 'Adj_pvalue', 'Logfoldchange', 'Cluster'])\n",
    "markers_filtered = markers[(markers.Adj_pvalue < 0.05) & (abs(markers.Logfoldchange) > 1)]\n",
    "markers_filtered.shape"
   ]
  },
  {
   "cell_type": "raw",
   "metadata": {
    "vscode": {
     "languageId": "raw"
    }
   },
   "source": [
    "markers_filtered.to_csv('/home/acirnu/github/ACM_Mouse_Immune/Workflow/10_Integrate_CITESeq/Protein_markers_without_Hashtags_ac240603.csv')"
   ]
  },
  {
   "cell_type": "code",
   "execution_count": null,
   "metadata": {},
   "outputs": [],
   "source": [
    "sc.pl.rank_genes_groups_dotplot(protein, groupby= 'leiden', n_genes=2, cmap='RdPu')"
   ]
  },
  {
   "cell_type": "code",
   "execution_count": null,
   "metadata": {},
   "outputs": [],
   "source": [
    "sc.pl.rank_genes_groups_dotplot(protein, groupby= 'classification', n_genes=3, cmap='RdPu')"
   ]
  },
  {
   "cell_type": "code",
   "execution_count": null,
   "metadata": {},
   "outputs": [],
   "source": [
    "sc.pl.rank_genes_groups_dotplot(protein, groupby= 'C_scANVI', n_genes=3, cmap='RdPu')"
   ]
  },
  {
   "cell_type": "code",
   "execution_count": null,
   "metadata": {},
   "outputs": [],
   "source": [
    "num_genes = len(protein.var_names)\n",
    "ncols = 8\n",
    "nrows = (num_genes + ncols - 1) // ncols  # Calculate rows needed\n",
    "\n",
    "# Create a large figure to hold all subplots\n",
    "fig, axes = plt.subplots(nrows=nrows, ncols=ncols, figsize=(5*ncols, 5*nrows))\n",
    "axes = axes.flatten()  # Flatten the array of axes for easier iteration\n",
    "\n",
    "# Loop over each gene and plot on the corresponding axes\n",
    "for idx, gene in enumerate(protein.var_names):\n",
    "    sc.pl.umap(protein, color=gene, title=f'UMAP colored by {gene}', ax=axes[idx], show=False, frameon=False, cmap='RdPu')\n",
    "\n",
    "# Hide any unused axes if the number of genes is not a perfect multiple of ncols\n",
    "for ax in axes[idx+1:]:\n",
    "    ax.set_visible(False)\n",
    "\n",
    "plt.tight_layout()"
   ]
  }
 ],
 "metadata": {
  "kernelspec": {
   "display_name": "Python 3.8.14 ('scvi-tools')",
   "language": "python",
   "name": "python3"
  },
  "language_info": {
   "codemirror_mode": {
    "name": "ipython",
    "version": 3
   },
   "file_extension": ".py",
   "mimetype": "text/x-python",
   "name": "python",
   "nbconvert_exporter": "python",
   "pygments_lexer": "ipython3",
   "version": "3.10.13"
  },
  "orig_nbformat": 4,
  "vscode": {
   "interpreter": {
    "hash": "be6e4b2475555bb52a1f9704f3384c4fd38c8454adf16dc700aeb2c29c9568d8"
   }
  }
 },
 "nbformat": 4,
 "nbformat_minor": 2
}
