{
 "cells": [
  {
   "attachments": {},
   "cell_type": "markdown",
   "metadata": {},
   "source": [
    "### Notebook for inspecting denoised protein expression with `Scanpy` with output from `totalVI`\n",
    "\n",
    "#### Environment: Scanpy\n",
    "\n",
    "- **Developed by:** Alexandra Cirnu\n",
    "- **Modified by:** Alexandra Cirnu\n",
    "- **Würzburg Institute for Systems Immunology & Julius-Maximilian-Universität Würzburg**\n",
    "- **Date of creation:** 240601\n",
    "- **Date of modification:** 240601"
   ]
  },
  {
   "attachments": {},
   "cell_type": "markdown",
   "metadata": {},
   "source": [
    "### Import required modules"
   ]
  },
  {
   "cell_type": "code",
   "execution_count": null,
   "metadata": {},
   "outputs": [],
   "source": [
    "import anndata\n",
    "import numpy as np\n",
    "import pandas as pd\n",
    "import scanpy as sc\n",
    "import muon as mu\n",
    "from muon import atac as ac\n",
    "from muon import prot as pt\n",
    "import matplotlib.pyplot as plt\n",
    "from matplotlib import colors\n",
    "from matplotlib import rcParams\n",
    "from scipy.sparse import csr_matrix"
   ]
  },
  {
   "attachments": {},
   "cell_type": "markdown",
   "metadata": {},
   "source": [
    "### Set up working environment"
   ]
  },
  {
   "cell_type": "code",
   "execution_count": null,
   "metadata": {},
   "outputs": [],
   "source": [
    "%matplotlib inline\n",
    "sc.settings.verbosity = 3\n",
    "sc.logging.print_versions()\n",
    "sc.settings.set_figure_params(dpi = 160, color_map = 'RdPu', dpi_save = 180, vector_friendly = True, format = 'svg')"
   ]
  },
  {
   "cell_type": "code",
   "execution_count": null,
   "metadata": {},
   "outputs": [],
   "source": [
    "def X_is_raw(adata): return np.array_equal(adata.X.sum(axis=0).astype(int), adata.X.sum(axis=0))"
   ]
  },
  {
   "cell_type": "code",
   "execution_count": null,
   "metadata": {},
   "outputs": [],
   "source": [
    "def clr_normalize_each_cell(adata, inplace=True):\n",
    "    \"\"\"Normalize count vector for each cell, i.e. for each row of .X\"\"\"\n",
    "\n",
    "    import numpy as np\n",
    "    import scipy\n",
    "\n",
    "    def seurat_clr(x):\n",
    "        # TODO: support sparseness\n",
    "        s = np.sum(np.log1p(x[x > 0]))\n",
    "        exp = np.exp(s / len(x))\n",
    "        return np.log1p(x / exp)\n",
    "\n",
    "    if not inplace:\n",
    "        adata = adata.copy()\n",
    "\n",
    "    # apply to dense or sparse matrix, along axis. returns dense matrix\n",
    "    adata.X = np.apply_along_axis(\n",
    "        seurat_clr, 1, (adata.X.A if scipy.sparse.issparse(adata.X) else adata.X)\n",
    "    )\n",
    "    return adata"
   ]
  },
  {
   "attachments": {},
   "cell_type": "markdown",
   "metadata": {},
   "source": [
    "### Read in MuData set"
   ]
  },
  {
   "cell_type": "code",
   "execution_count": null,
   "metadata": {},
   "outputs": [],
   "source": [
    "mdata = mu.read_h5mu('/Users/alex/data/ACM_cardiac_leuco/CITE-Seq/ACM_myeloids+lymphoids_integrated_CITE_surface_markers_ac240510.raw.h5mu')\n",
    "mdata"
   ]
  },
  {
   "cell_type": "code",
   "execution_count": null,
   "metadata": {},
   "outputs": [],
   "source": [
    "rna = mdata.mod['rna']\n",
    "protein = mdata.mod['prot']"
   ]
  },
  {
   "cell_type": "code",
   "execution_count": null,
   "metadata": {},
   "outputs": [],
   "source": [
    "protein.obsm['X_umap'] = rna.obsm['X_umap']\n",
    "protein.obs['model'] = rna.obs['model'] \n",
    "protein.obs['condition'] = rna.obs['condition'] \n",
    "protein.uns['C_scANVI_colors'] = rna.uns['C_scANVI_colors']\n",
    "protein.uns['classification_colors'] = rna.uns['classification_colors']\n",
    "protein.uns['neighbors'] = rna.uns['neighbors']\n",
    "protein.uns['leiden'] = rna.uns['leiden']\n",
    "protein.uns['umap'] = rna.uns['umap']\n",
    "protein.obsp['connectivities'] = rna.obsp['connectivities']"
   ]
  },
  {
   "cell_type": "code",
   "execution_count": null,
   "metadata": {},
   "outputs": [],
   "source": [
    "protein_raw = protein.X.copy()"
   ]
  },
  {
   "cell_type": "code",
   "execution_count": null,
   "metadata": {},
   "outputs": [],
   "source": [
    "markers_to_remove = ['prot:Hashtag1_TotalA', 'prot:Hashtag2_TotalA', 'prot:Hashtag3_TotalA','prot:Hashtag4_TotalA', 'prot:Hashtag5_TotalA', 'prot:Hashtag6_TotalA','prot:Hashtag7_TotalA', 'prot:Hashtag8_TotalA', 'prot:Hashtag9_TotalA','prot:Hashtag10_TotalA']  # Replace these with actual gene names you want to remove\n",
    "\n",
    "# Filter out these genes\n",
    "protein = protein[:, ~protein.var.index.isin(markers_to_remove)]\n",
    "protein"
   ]
  },
  {
   "cell_type": "code",
   "execution_count": null,
   "metadata": {},
   "outputs": [],
   "source": [
    "protein.X = protein.layers['counts']"
   ]
  },
  {
   "cell_type": "code",
   "execution_count": null,
   "metadata": {},
   "outputs": [],
   "source": [
    "X_data = protein.X.copy()\n",
    "X_data_sparse = csr_matrix(X_data)\n",
    "X_data_df = pd.DataFrame.sparse.from_spmatrix(X_data_sparse, index=protein.obs.index, columns=protein.var.index)\n",
    "print(\"Shape of counts DataFrame:\", X_data_df.shape)\n",
    "X_data_df"
   ]
  },
  {
   "cell_type": "code",
   "execution_count": null,
   "metadata": {},
   "outputs": [],
   "source": [
    "protein.X = protein.layers['denoised_protein']"
   ]
  },
  {
   "cell_type": "code",
   "execution_count": null,
   "metadata": {},
   "outputs": [],
   "source": [
    "X_data = protein.X.copy()\n",
    "X_data_sparse = csr_matrix(X_data)\n",
    "X_data_df = pd.DataFrame.sparse.from_spmatrix(X_data_sparse, index=protein.obs.index, columns=protein.var.index)\n",
    "print(\"Shape of counts DataFrame:\", X_data_df.shape)\n",
    "X_data_df"
   ]
  },
  {
   "cell_type": "markdown",
   "metadata": {},
   "source": [
    "### Normalize denoised protein expression"
   ]
  },
  {
   "cell_type": "code",
   "execution_count": null,
   "metadata": {},
   "outputs": [],
   "source": [
    "clr_normalize_each_cell(protein)"
   ]
  },
  {
   "cell_type": "raw",
   "metadata": {
    "vscode": {
     "languageId": "raw"
    }
   },
   "source": [
    "sc.pp.normalize_total(protein, target_sum = 1e6, exclude_highly_expressed = True)\n",
    "sc.pp.log1p(protein)"
   ]
  },
  {
   "cell_type": "code",
   "execution_count": null,
   "metadata": {},
   "outputs": [],
   "source": [
    "X_data = protein.X.copy()\n",
    "X_data_sparse = csr_matrix(X_data)\n",
    "X_data_df = pd.DataFrame.sparse.from_spmatrix(X_data_sparse, index=protein.obs.index, columns=protein.var.index)\n",
    "print(\"Shape of counts DataFrame:\", X_data_df.shape)\n",
    "X_data_df"
   ]
  },
  {
   "cell_type": "code",
   "execution_count": null,
   "metadata": {},
   "outputs": [],
   "source": [
    "sc.pl.umap(protein, title='UMAP of Protein Data', frameon= False)"
   ]
  },
  {
   "cell_type": "markdown",
   "metadata": {},
   "source": [
    "### Cluster the cells"
   ]
  },
  {
   "cell_type": "code",
   "execution_count": null,
   "metadata": {},
   "outputs": [],
   "source": [
    "sc.tl.leiden(protein)"
   ]
  },
  {
   "cell_type": "code",
   "execution_count": null,
   "metadata": {},
   "outputs": [],
   "source": [
    "sc.pl.umap(protein, color=['leiden', 'C_scANVI', 'classification'], frameon = False, ncols=1)"
   ]
  },
  {
   "cell_type": "markdown",
   "metadata": {},
   "source": [
    "### Differential expression analysis"
   ]
  },
  {
   "cell_type": "code",
   "execution_count": null,
   "metadata": {},
   "outputs": [],
   "source": [
    "sc.tl.rank_genes_groups(protein, \"leiden\", method=\"wilcoxon\", n_genes= 100)\n",
    "sc.pl.rank_genes_groups(protein, n_genes=25, sharey=False)"
   ]
  },
  {
   "cell_type": "code",
   "execution_count": null,
   "metadata": {},
   "outputs": [],
   "source": [
    "pd.DataFrame(protein.uns[\"rank_genes_groups\"][\"names\"]).head(3)"
   ]
  },
  {
   "cell_type": "code",
   "execution_count": null,
   "metadata": {},
   "outputs": [],
   "source": [
    "# Initialize an empty list to store arrays for vertical stacking\n",
    "out = []\n",
    "result = protein.uns[\"rank_genes_groups\"]\n",
    "groups = result[\"names\"].dtype.names\n",
    "\n",
    "# Iterate over each group\n",
    "for group in groups:\n",
    "    # Stack arrays vertically and append to the 'out' list\n",
    "    out.append(np.vstack((\n",
    "        result['names'][group],\n",
    "        result['scores'][group],\n",
    "        result['pvals_adj'][group],\n",
    "        result['logfoldchanges'][group],\n",
    "        np.array([group] * len(result['names'][group])).astype('object')\n",
    "    )).T)\n",
    "\n",
    "# Vertically stack all arrays in the 'out' list\n",
    "out = np.vstack(out)\n",
    "\n",
    "#Create a data frame\n",
    "markers = pd.DataFrame(out, columns= ['Gene', 'Score', 'Adj_pvalue', 'Logfoldchange', 'Cluster'])\n",
    "markers_filtered = markers[(markers.Adj_pvalue < 0.05) & (abs(markers.Logfoldchange) > 1)]\n",
    "markers_filtered.shape"
   ]
  },
  {
   "cell_type": "raw",
   "metadata": {
    "vscode": {
     "languageId": "raw"
    }
   },
   "source": [
    "markers_filtered.to_csv('/home/acirnu/github/ACM_Mouse_Immune/Workflow/10_Integrate_CITESeq/Protein_markers_without_Hashtags_onRNA-UMAP_ac240603.csv')"
   ]
  },
  {
   "cell_type": "code",
   "execution_count": null,
   "metadata": {},
   "outputs": [],
   "source": [
    "sc.pl.rank_genes_groups_dotplot(protein, groupby= 'leiden', n_genes=2, cmap='RdPu')"
   ]
  },
  {
   "cell_type": "code",
   "execution_count": null,
   "metadata": {},
   "outputs": [],
   "source": [
    "sc.pl.rank_genes_groups_dotplot(protein, groupby= 'classification', n_genes=4, cmap='RdPu')"
   ]
  },
  {
   "cell_type": "code",
   "execution_count": null,
   "metadata": {},
   "outputs": [],
   "source": [
    "groups_to_keep = ['Monocytes_6', 'Monocytes_11', 'Monocytes_13', 'Monocytes_17']\n",
    "filtered_protein = protein[protein.obs['classification'].isin(groups_to_keep)].copy()\n",
    "\n",
    "# Now create the dotplot using the filtered data\n",
    "sc.pl.rank_genes_groups_dotplot(filtered_protein, groupby='classification', n_genes=4, cmap='RdPu', dendrogram= False)\n"
   ]
  },
  {
   "cell_type": "code",
   "execution_count": null,
   "metadata": {},
   "outputs": [],
   "source": [
    "sc.pl.rank_genes_groups_dotplot(protein, groupby= 'C_scANVI', n_genes=3, cmap='RdPu')"
   ]
  },
  {
   "cell_type": "code",
   "execution_count": null,
   "metadata": {},
   "outputs": [],
   "source": [
    "protein_Pkp2 = protein[protein.obs['model'] == 'Pkp2'].copy()\n",
    "protein_Ttn = protein[protein.obs['model'] == 'Ttn'].copy()\n",
    "protein_Pkp2_ctrnoninf = protein[protein.obs['condition'] == 'Pkp2_noninf'].copy()"
   ]
  },
  {
   "cell_type": "code",
   "execution_count": null,
   "metadata": {},
   "outputs": [],
   "source": [
    "num_genes = len(protein_Pkp2.var_names)\n",
    "ncols = 8\n",
    "nrows = (num_genes + ncols - 1) // ncols  # Calculate rows needed\n",
    "\n",
    "# Create a large figure to hold all subplots\n",
    "fig, axes = plt.subplots(nrows=nrows, ncols=ncols, figsize=(5*ncols, 5*nrows))\n",
    "axes = axes.flatten()  # Flatten the array of axes for easier iteration\n",
    "\n",
    "# Loop over each gene and plot on the corresponding axes\n",
    "for idx, gene in enumerate(protein_Pkp2.var_names):\n",
    "    sc.pl.umap(protein_Pkp2, color=gene, title=f'UMAP colored by {gene}', ax=axes[idx], show=False, frameon=False, cmap='RdPu')\n",
    "\n",
    "# Hide any unused axes if the number of genes is not a perfect multiple of ncols\n",
    "for ax in axes[idx+1:]:\n",
    "    ax.set_visible(False)\n",
    "\n",
    "plt.tight_layout()"
   ]
  },
  {
   "cell_type": "code",
   "execution_count": null,
   "metadata": {},
   "outputs": [],
   "source": [
    "num_genes = len(protein_Ttn.var_names)\n",
    "ncols = 8\n",
    "nrows = (num_genes + ncols - 1) // ncols  # Calculate rows needed\n",
    "\n",
    "# Create a large figure to hold all subplots\n",
    "fig, axes = plt.subplots(nrows=nrows, ncols=ncols, figsize=(5*ncols, 5*nrows))\n",
    "axes = axes.flatten()  # Flatten the array of axes for easier iteration\n",
    "\n",
    "# Loop over each gene and plot on the corresponding axes\n",
    "for idx, gene in enumerate(protein_Ttn.var_names):\n",
    "    sc.pl.umap(protein_Ttn, color=gene, title=f'UMAP colored by {gene}', ax=axes[idx], show=False, frameon=False, cmap='Blues')\n",
    "\n",
    "# Hide any unused axes if the number of genes is not a perfect multiple of ncols\n",
    "for ax in axes[idx+1:]:\n",
    "    ax.set_visible(False)\n",
    "\n",
    "plt.tight_layout()"
   ]
  },
  {
   "cell_type": "code",
   "execution_count": null,
   "metadata": {},
   "outputs": [],
   "source": [
    "def split_umap(adata, split_by, ncol=2, nrow=None, **kwargs):\n",
    "    categories = adata.obs[split_by].cat.categories\n",
    "    if nrow is None:\n",
    "        nrow = int(np.ceil(len(categories) / ncol))\n",
    "    fig, axs = plt.subplots(nrow, ncol, figsize=(6.5*ncol, 4*nrow))\n",
    "    axs = axs.flatten()\n",
    "    for i, cat in enumerate(categories):\n",
    "        ax = axs[i]\n",
    "        sc.pl.umap(adata[adata.obs[split_by] == cat], ax=ax, show=False, title=cat, **kwargs)\n",
    "    plt.tight_layout()"
   ]
  },
  {
   "cell_type": "code",
   "execution_count": null,
   "metadata": {},
   "outputs": [],
   "source": [
    "protein_subset = ['prot:CD26_TotalA'] #'prot:CD26_TotalA'\n",
    "protein_Pkp2_subset = protein_Pkp2[:, protein_subset]\n",
    "\n",
    "split_umap(protein_Pkp2_subset, color=protein_subset, frameon=False, cmap='Blues', split_by= 'condition', size=10)\n",
    "\n",
    "# Hide any unused axes if the number of genes is not a perfect multiple of ncols\n",
    "for ax in axes[idx+1:]:\n",
    "    ax.set_visible(False)\n",
    "\n",
    "plt.tight_layout()\n"
   ]
  },
  {
   "cell_type": "code",
   "execution_count": null,
   "metadata": {},
   "outputs": [],
   "source": [
    "highlight_DC = ['DC_12', 'DC_14', 'DC_16']\n",
    "highlight_DOCK4MØ = [ 'DOCK4+MØ_3',  'DOCK4+MØ_9']\n",
    "highlight_LYVE1MØ = [ 'LYVE1+MØ_1', 'LYVE1+MØ_2','LYVE1+MØ_4','LYVE1+MØ_8']\n",
    "highlight_Mast = ['Mast_15']\n",
    "highlight_Monocytes = ['Monocytes_6', 'Monocytes_11',  'Monocytes_13','Monocytes_17']\n",
    "highlight_MØ_general = ['MØ_general_0', 'MØ_general_7','MØ_general_10']\n",
    "highlight_Neutrophils = ['Neutrophils_5'] \n",
    "highlight_Macrophages = [ 'DOCK4+MØ_3',  'DOCK4+MØ_9', 'LYVE1+MØ_1', 'LYVE1+MØ_2','LYVE1+MØ_4','LYVE1+MØ_8', 'MØ_general_0', 'MØ_general_7','MØ_general_10']"
   ]
  },
  {
   "cell_type": "code",
   "execution_count": null,
   "metadata": {},
   "outputs": [],
   "source": [
    "groups = [\n",
    "    ('classification', highlight_DC),\n",
    "    ('classification', highlight_DOCK4MØ),\n",
    "    ('classification', highlight_LYVE1MØ),\n",
    "    ('classification', highlight_Mast),\n",
    "    ('classification', highlight_Monocytes),\n",
    "    ('classification', highlight_Macrophages),\n",
    "    ('classification', highlight_MØ_general),\n",
    "    ('classification', highlight_Neutrophils),\n",
    "    ('C_scANVI', None)  # This one does not use 'groups' so we pass None\n",
    "]\n",
    "\n",
    "# Setup the subplot grid\n",
    "fig, axs = plt.subplots(2, 4, figsize=(20, 10))  # Adjust figsize as needed\n",
    "\n",
    "for ax, (color, group) in zip(axs.flat, groups):\n",
    "    if group is not None:\n",
    "        sc.pl.umap(protein, color=color, groups=group,\n",
    "                   legend_loc='right margin', legend_fontsize=5, frameon=False, show=False, ax=ax)\n",
    "    else:\n",
    "        sc.pl.umap(protein, color=color,\n",
    "                   legend_loc='right margin', legend_fontsize=5, frameon=False, show=False, ax=ax)\n",
    "\n",
    "    ax.set_title(color)  # Optionally set title to distinguish each subplot\n",
    "\n",
    "# Adjust layout for better spacing\n",
    "plt.tight_layout()\n",
    "\n",
    "# Show the plot\n",
    "plt.show()"
   ]
  }
 ],
 "metadata": {
  "kernelspec": {
   "display_name": "Python 3.8.14 ('scvi-tools')",
   "language": "python",
   "name": "python3"
  },
  "language_info": {
   "codemirror_mode": {
    "name": "ipython",
    "version": 3
   },
   "file_extension": ".py",
   "mimetype": "text/x-python",
   "name": "python",
   "nbconvert_exporter": "python",
   "pygments_lexer": "ipython3",
   "version": "3.1.-1"
  },
  "orig_nbformat": 4,
  "vscode": {
   "interpreter": {
    "hash": "be6e4b2475555bb52a1f9704f3384c4fd38c8454adf16dc700aeb2c29c9568d8"
   }
  }
 },
 "nbformat": 4,
 "nbformat_minor": 2
}
