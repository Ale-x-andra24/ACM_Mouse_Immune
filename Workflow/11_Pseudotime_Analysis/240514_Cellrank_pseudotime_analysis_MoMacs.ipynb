{
 "cells": [
  {
   "attachments": {},
   "cell_type": "markdown",
   "metadata": {},
   "source": [
    "### Notebook for the pseudotime analysis of ACM monocytes using `cellrank`\n",
    "\n",
    "#### Environment: Cellrank\n",
    "\n",
    "- **Developed by:** Alexandra Cirnu\n",
    "- **Modified by:** Carlos Talavera-López\n",
    "- **Würzburg Institute for Systems Immunology & Julius-Maximilian-Universität Würzburg**\n",
    "- **Date of creation:** 240514\n",
    "- **Date of modification:** 240515"
   ]
  },
  {
   "attachments": {},
   "cell_type": "markdown",
   "metadata": {},
   "source": [
    "### Import required modules"
   ]
  },
  {
   "cell_type": "code",
   "execution_count": 1,
   "metadata": {},
   "outputs": [
    {
     "ename": "ModuleNotFoundError",
     "evalue": "No module named 'scvi'",
     "output_type": "error",
     "traceback": [
      "\u001b[0;31m---------------------------------------------------------------------------\u001b[0m",
      "\u001b[0;31mModuleNotFoundError\u001b[0m                       Traceback (most recent call last)",
      "Cell \u001b[0;32mIn[1], line 2\u001b[0m\n\u001b[1;32m      1\u001b[0m \u001b[38;5;28;01mimport\u001b[39;00m \u001b[38;5;21;01mcellrank\u001b[39;00m \u001b[38;5;28;01mas\u001b[39;00m \u001b[38;5;21;01mcr\u001b[39;00m\n\u001b[0;32m----> 2\u001b[0m \u001b[38;5;28;01mimport\u001b[39;00m \u001b[38;5;21;01mscvi\u001b[39;00m\n\u001b[1;32m      3\u001b[0m \u001b[38;5;28;01mimport\u001b[39;00m \u001b[38;5;21;01mpalantir\u001b[39;00m\n\u001b[1;32m      4\u001b[0m \u001b[38;5;28;01mimport\u001b[39;00m \u001b[38;5;21;01manndata\u001b[39;00m \u001b[38;5;28;01mas\u001b[39;00m \u001b[38;5;21;01mad\u001b[39;00m\n",
      "\u001b[0;31mModuleNotFoundError\u001b[0m: No module named 'scvi'"
     ]
    }
   ],
   "source": [
    "import cellrank as cr\n",
    "import scvi\n",
    "import palantir\n",
    "import anndata as ad\n",
    "import muon as mu\n",
    "from muon import atac as ac\n",
    "from muon import prot as pt\n",
    "import scipy\n",
    "from scipy.sparse import csr_matrix\n",
    "import numpy as np\n",
    "import scanpy as sc\n",
    "import pandas as pd\n",
    "import seaborn as sns\n",
    "import warnings\n",
    "import matplotlib.pyplot as plt\n",
    "import torch\n",
    "import plotnine as p"
   ]
  },
  {
   "attachments": {},
   "cell_type": "markdown",
   "metadata": {},
   "source": [
    "### Set up working environment"
   ]
  },
  {
   "cell_type": "code",
   "execution_count": null,
   "metadata": {},
   "outputs": [],
   "source": [
    "sc.settings.verbosity = 3\n",
    "sc.logging.print_versions()\n",
    "sc.settings.set_figure_params(dpi = 180, color_map = 'RdPu', dpi_save = 300, vector_friendly = True, format = 'svg')\n",
    "cr.settings.verbosity = 2"
   ]
  },
  {
   "cell_type": "code",
   "execution_count": null,
   "metadata": {},
   "outputs": [],
   "source": [
    "warnings.simplefilter(action = 'ignore')\n",
    "scvi.settings.seed = 1712\n",
    "%config InlineBackend.print_figure_kwargs = {'facecolor' : \"w\"}\n",
    "%config InlineBackend.figure_format = 'retina'\n",
    "torch.set_float32_matmul_precision('medium')"
   ]
  },
  {
   "cell_type": "code",
   "execution_count": null,
   "metadata": {},
   "outputs": [],
   "source": [
    "if torch.cuda.is_available():\n",
    "    print(\"CUDA is available. Current device:\", torch.cuda.current_device())\n",
    "    print(\"Total GPUs:\", torch.cuda.device_count())\n",
    "    print(\"GPU Name:\", torch.cuda.get_device_name(0))  # Index 0 for the first GPU\n",
    "else:\n",
    "    print(\"CUDA is not available.\")"
   ]
  },
  {
   "cell_type": "code",
   "execution_count": null,
   "metadata": {},
   "outputs": [],
   "source": [
    "arches_params = dict(\n",
    "    use_layer_norm = \"both\",\n",
    "    use_batch_norm = \"none\",\n",
    "    encode_covariates = True,\n",
    "    dropout_rate = 0.2,\n",
    "    n_layers = 3)"
   ]
  },
  {
   "attachments": {},
   "cell_type": "markdown",
   "metadata": {},
   "source": [
    "### Read in data"
   ]
  },
  {
   "cell_type": "code",
   "execution_count": null,
   "metadata": {},
   "outputs": [],
   "source": [
    "#Take the seed labelled data set of Pkp2_Ctr_noninf+Ttn_Ctr_noninf as input\n",
    "\n",
    "mdata = mu.read_h5mu('/home/acirnu/data/ACM_cardiac_leuco/5_Leiden_clustering_and_annotation/ACM_myeloids_clustered_muon_ac240502.raw.h5mu')     \n",
    "mdata"
   ]
  },
  {
   "cell_type": "code",
   "execution_count": null,
   "metadata": {},
   "outputs": [],
   "source": [
    "adata = mdata.mod['rna']\n",
    "adata.obs['classification'].cat.categories"
   ]
  },
  {
   "cell_type": "code",
   "execution_count": null,
   "metadata": {},
   "outputs": [],
   "source": [
    "adata = adata[adata.obs['classification'].isin([\"Monocytes_6\", 'Monocytes_11', 'Monocytes_13', 'Monocytes_17', 'DOCK4+MØ_3', 'DOCK4+MØ_9', 'LYVE1+MØ_1','LYVE1+MØ_2', 'LYVE1+MØ_4', 'LYVE1+MØ_8', 'MØ_general_0','MØ_general_7', 'MØ_general_10']) , :]\n",
    "adata = adata[adata.obs['C_scANVI'].isin([\"Monocytes\", \"DOCK4+MØ\", \"LYVE1+MØ\", \"MØ_general\"]) , :]\n",
    "adata "
   ]
  },
  {
   "cell_type": "code",
   "execution_count": null,
   "metadata": {},
   "outputs": [],
   "source": [
    "def X_is_raw(adata): return np.array_equal(adata.X.sum(axis=0).astype(int), adata.X.sum(axis=0))\n",
    "X_is_raw(adata)"
   ]
  },
  {
   "cell_type": "code",
   "execution_count": null,
   "metadata": {},
   "outputs": [],
   "source": [
    "adata.obs['C_scANVI'].value_counts()"
   ]
  },
  {
   "attachments": {},
   "cell_type": "markdown",
   "metadata": {},
   "source": [
    "### Select HVGs"
   ]
  },
  {
   "cell_type": "code",
   "execution_count": null,
   "metadata": {},
   "outputs": [],
   "source": [
    "adata_raw= adata.copy()\n",
    "adata.layers['counts'] = adata.X.copy()\n",
    "adata.layers[\"sqrt_norm\"] = np.sqrt(sc.pp.normalize_total(adata, inplace = False)[\"X\"])\n",
    "\n",
    "sc.pp.highly_variable_genes(\n",
    "    adata,\n",
    "    flavor = \"seurat_v3\",\n",
    "    n_top_genes = 7000,\n",
    "    layer = \"counts\",\n",
    "    batch_key = \"sample\",\n",
    "    subset = True)\n",
    "adata"
   ]
  },
  {
   "attachments": {},
   "cell_type": "markdown",
   "metadata": {},
   "source": [
    "### Batch correction with scVI"
   ]
  },
  {
   "cell_type": "code",
   "execution_count": null,
   "metadata": {},
   "outputs": [],
   "source": [
    "scvi.model.SCVI.setup_anndata(adata,\n",
    "                              batch_key = \"sample\", \n",
    "                              categorical_covariate_keys = [\"sample\"],  \n",
    "                              layer = 'counts')"
   ]
  },
  {
   "cell_type": "code",
   "execution_count": null,
   "metadata": {},
   "outputs": [],
   "source": [
    "scvi_model = scvi.model.SCVI(adata, \n",
    "                             n_latent = 150, \n",
    "                             n_layers = 3, \n",
    "                             dispersion = 'gene-batch', \n",
    "                             gene_likelihood = 'nb')"
   ]
  },
  {
   "cell_type": "code",
   "execution_count": null,
   "metadata": {},
   "outputs": [],
   "source": [
    "scvi_model.train(13,                                               \n",
    "                 check_val_every_n_epoch = 1, \n",
    "                 enable_progress_bar = True, \n",
    "                 accelerator = \"gpu\",\n",
    "                 devices = [1])"
   ]
  },
  {
   "cell_type": "markdown",
   "metadata": {},
   "source": [
    "### Evaluate model performance using the [_Svensson_](https://www.nxn.se/valent/2023/8/10/training-scvi-posterior-predictive-distributions-over-epochs) method"
   ]
  },
  {
   "cell_type": "code",
   "execution_count": null,
   "metadata": {},
   "outputs": [],
   "source": [
    "history_df = (\n",
    "    scvi_model.history['elbo_train'].astype(float)\n",
    "    .join(scvi_model.history['elbo_validation'].astype(float))\n",
    "    .reset_index()\n",
    "    .melt(id_vars = ['epoch'])\n",
    ")\n",
    "\n",
    "p.options.figure_size = 12, 6\n",
    "\n",
    "p_ = (\n",
    "    p.ggplot(p.aes(x = 'epoch', y = 'value', color = 'variable'), history_df.query('epoch > 0'))\n",
    "    + p.geom_line()\n",
    "    + p.geom_point()\n",
    "    + p.scale_color_manual({'elbo_train': 'black', 'elbo_validation': 'red'})\n",
    "    + p.theme_minimal()\n",
    ")\n",
    "\n",
    "p_.save('fig1.png', dpi = 300)\n",
    "\n",
    "print(p_)"
   ]
  },
  {
   "cell_type": "code",
   "execution_count": null,
   "metadata": {},
   "outputs": [],
   "source": [
    "adata.obsm[\"X_scVI\"] = scvi_model.get_latent_representation(adata)"
   ]
  },
  {
   "cell_type": "code",
   "execution_count": null,
   "metadata": {},
   "outputs": [],
   "source": [
    "adata_raw = ad.AnnData(X = adata_raw.X, obs = adata.obs, var = adata_raw.var)          \n",
    "adata_raw     "
   ]
  },
  {
   "cell_type": "markdown",
   "metadata": {},
   "source": [
    "### Diffusion maps"
   ]
  },
  {
   "cell_type": "code",
   "execution_count": null,
   "metadata": {},
   "outputs": [],
   "source": [
    "dm_res = palantir.utils.run_diffusion_maps(adata, n_components=5, pca_key= \"X_scVI\")"
   ]
  },
  {
   "cell_type": "code",
   "execution_count": null,
   "metadata": {},
   "outputs": [],
   "source": [
    "ms_data = palantir.utils.determine_multiscale_space(adata)"
   ]
  },
  {
   "cell_type": "code",
   "execution_count": null,
   "metadata": {},
   "outputs": [],
   "source": [
    "adata"
   ]
  },
  {
   "cell_type": "markdown",
   "metadata": {},
   "source": [
    "### Visualization"
   ]
  },
  {
   "cell_type": "code",
   "execution_count": null,
   "metadata": {},
   "outputs": [],
   "source": [
    "sc.pp.neighbors(adata, use_rep = \"X_scVI\", n_neighbors = 150, metric = 'minkowski')\n",
    "sc.tl.umap(adata, min_dist = 1.5, spread = 10, random_state = 1712)\n",
    "sc.pl.umap(adata, frameon = False, color = ['classification'], size = 4)"
   ]
  },
  {
   "cell_type": "markdown",
   "metadata": {},
   "source": [
    "### MAGIC imputation"
   ]
  },
  {
   "cell_type": "code",
   "execution_count": null,
   "metadata": {},
   "outputs": [],
   "source": [
    "imputed_X = palantir.utils.run_magic_imputation(adata)"
   ]
  },
  {
   "cell_type": "code",
   "execution_count": null,
   "metadata": {},
   "outputs": [],
   "source": [
    "hvg_list = adata.var[adata.var['highly_variable']].index.tolist()\n",
    "print(hvg_list)"
   ]
  },
  {
   "cell_type": "code",
   "execution_count": null,
   "metadata": {},
   "outputs": [],
   "source": [
    "sc.pl.embedding(\n",
    "    adata,\n",
    "    basis=\"umap\",\n",
    "    layer=\"MAGIC_imputed_data\",\n",
    "    color=[\"Ly6c1\", \"Cd209a\", \"Ccr2\", \"Trem2\", \"Timd4\", \"Il1b\"],\n",
    "    frameon=False,\n",
    ")\n",
    "plt.show()"
   ]
  },
  {
   "cell_type": "markdown",
   "metadata": {},
   "source": [
    "### Diffusion maps visualization"
   ]
  },
  {
   "cell_type": "code",
   "execution_count": null,
   "metadata": {},
   "outputs": [],
   "source": [
    "palantir.plot.plot_diffusion_components(adata)\n",
    "plt.show()"
   ]
  },
  {
   "cell_type": "markdown",
   "metadata": {},
   "source": [
    "### Running Palantir"
   ]
  },
  {
   "cell_type": "markdown",
   "metadata": {},
   "source": [
    "Find an appropriate start cell - Ly6C high monocyte"
   ]
  },
  {
   "cell_type": "code",
   "execution_count": null,
   "metadata": {},
   "outputs": [],
   "source": [
    "if 'Ly6c1' in adata.var_names:\n",
    "    ly6c1_expression = adata[:, 'Ly6c1'].X\n",
    "\n",
    "    # Check if data is stored as sparse matrix and convert to dense if necessary\n",
    "    if isinstance(ly6c1_expression, scipy.sparse.spmatrix):\n",
    "        ly6c1_expression = ly6c1_expression.toarray()\n",
    "    # Flatten the array to 1D if necessary\n",
    "    ly6c1_expression = ly6c1_expression.flatten()\n",
    "    # Find the index of the maximum expression\n",
    "    max_expression_index = ly6c1_expression.argmax()\n",
    "    # Retrieve the cell ID using the index\n",
    "    cell_id_with_max_ly6c1 = adata.obs_names[max_expression_index]\n",
    "\n",
    "    print(f\"Cell with highest Ly6c1 expression is {cell_id_with_max_ly6c1} at index {max_expression_index}.\")\n",
    "else:\n",
    "    print(\"Ly6c1 is not a valid gene name in this dataset.\")\n",
    "\n",
    "start_cell = cell_id_with_max_ly6c1 \n",
    "start_cell"
   ]
  },
  {
   "cell_type": "markdown",
   "metadata": {},
   "source": [
    "Define terminally differentiated monocyte by Ly6c expression"
   ]
  },
  {
   "cell_type": "code",
   "execution_count": null,
   "metadata": {},
   "outputs": [],
   "source": [
    "if 'Timd4' in adata.var_names:\n",
    "    ly6c1_expression = adata[:, 'Timd4'].X\n",
    "\n",
    "    # Check if data is stored as sparse matrix and convert to dense if necessary\n",
    "    if isinstance(ly6c1_expression, scipy.sparse.spmatrix):\n",
    "        ly6c1_expression = ly6c1_expression.toarray()\n",
    "    # Flatten the array to 1D if necessary\n",
    "    ly6c1_expression = ly6c1_expression.flatten()\n",
    "    # Find the index of the maximum expression\n",
    "    max_expression_index = ly6c1_expression.argmax()\n",
    "    # Retrieve the cell ID using the index\n",
    "    cell_id_with_max_ly6c1 = adata.obs_names[max_expression_index]\n",
    "\n",
    "    print(f\"Cell with highest Timd4 expression is {cell_id_with_max_ly6c1} at index {max_expression_index}.\")\n",
    "else:\n",
    "    print(\"Timd4 is not a valid gene name in this dataset.\")"
   ]
  },
  {
   "cell_type": "code",
   "execution_count": null,
   "metadata": {},
   "outputs": [],
   "source": [
    "if 'Ccr2' in adata.var_names:\n",
    "    ly6c1_expression = adata[:, 'Ccr2'].X\n",
    "\n",
    "    # Check if data is stored as sparse matrix and convert to dense if necessary\n",
    "    if isinstance(ly6c1_expression, scipy.sparse.spmatrix):\n",
    "        ly6c1_expression = ly6c1_expression.toarray()\n",
    "    # Flatten the array to 1D if necessary\n",
    "    ly6c1_expression = ly6c1_expression.flatten()\n",
    "    # Find the index of the maximum expression\n",
    "    max_expression_index = ly6c1_expression.argmax()\n",
    "    # Retrieve the cell ID using the index\n",
    "    cell_id_with_max_ly6c1 = adata.obs_names[max_expression_index]\n",
    "\n",
    "    print(f\"Cell with highest Ccr2 expression is {cell_id_with_max_ly6c1} at index {max_expression_index}.\")\n",
    "else:\n",
    "    print(\"Ccr2 is not a valid gene name in this dataset.\")"
   ]
  },
  {
   "cell_type": "code",
   "execution_count": null,
   "metadata": {},
   "outputs": [],
   "source": [
    "if 'Trem2' in adata.var_names:\n",
    "    ly6c1_expression = adata[:, 'Trem2'].X\n",
    "\n",
    "    # Check if data is stored as sparse matrix and convert to dense if necessary\n",
    "    if isinstance(ly6c1_expression, scipy.sparse.spmatrix):\n",
    "        ly6c1_expression = ly6c1_expression.toarray()\n",
    "    # Flatten the array to 1D if necessary\n",
    "    ly6c1_expression = ly6c1_expression.flatten()\n",
    "    # Find the index of the maximum expression\n",
    "    max_expression_index = ly6c1_expression.argmax()\n",
    "    # Retrieve the cell ID using the index\n",
    "    cell_id_with_max_ly6c1 = adata.obs_names[max_expression_index]\n",
    "\n",
    "    print(f\"Cell with highest Trem2 expression is {cell_id_with_max_ly6c1} at index {max_expression_index}.\")\n",
    "else:\n",
    "    print(\"Trem2 is not a valid gene name in this dataset.\")"
   ]
  },
  {
   "cell_type": "code",
   "execution_count": null,
   "metadata": {},
   "outputs": [],
   "source": [
    "terminal_states = pd.Series(\n",
    "    [\"Tissue_resident\", \"pro_inflam\", \"tissue_injury\"],\n",
    "    index=[\"GAGGCCTCAAACCATC-1-A4\", \"TCGCTCACAAGCACCC-1-A1\", \"TCCGTGTCATTGAAGA-1-A1\"]\n",
    ")"
   ]
  },
  {
   "cell_type": "code",
   "execution_count": null,
   "metadata": {},
   "outputs": [],
   "source": [
    "palantir.plot.highlight_cells_on_umap(adata, terminal_states)\n",
    "plt.show()"
   ]
  },
  {
   "cell_type": "markdown",
   "metadata": {},
   "source": [
    "Palantir generates the following results\n",
    "\n",
    "- Pseudotime: Pseudo time ordering of each cell\n",
    "- Terminal state probabilities: Matrix of cells X terminal states. Each entry represents the probability of the corresponding cell reaching the respective terminal state\n",
    "- Entropy: A quantiative measure of the differentiation potential of each cell computed as the entropy of the multinomial terminal state probabilities"
   ]
  },
  {
   "cell_type": "code",
   "execution_count": null,
   "metadata": {},
   "outputs": [],
   "source": [
    "pr_res = palantir.core.run_palantir(\n",
    "    adata, start_cell, num_waypoints=500, terminal_states=terminal_states)"
   ]
  },
  {
   "cell_type": "markdown",
   "metadata": {},
   "source": [
    "### Visualizing Palantir results"
   ]
  },
  {
   "cell_type": "code",
   "execution_count": null,
   "metadata": {},
   "outputs": [],
   "source": [
    "palantir.plot.plot_palantir_results(adata, s=3)\n",
    "plt.show()"
   ]
  },
  {
   "cell_type": "code",
   "execution_count": null,
   "metadata": {},
   "outputs": [],
   "source": [
    "adata.obs_names"
   ]
  },
  {
   "cell_type": "code",
   "execution_count": null,
   "metadata": {},
   "outputs": [],
   "source": [
    "cells = ['TTCTCTCTCTGCGAGC-1-A3', 'TTTCACACACATATCG-1-B2'] \n",
    "\n",
    "palantir.plot.plot_terminal_state_probs(adata, cells)\n",
    "fig = plt.gcf()\n",
    "ax = fig.axes[1]\n",
    "ax.get_xaxis().set_visible(True)\n",
    "ax.set_xticklabels(ax.get_xticklabels(), rotation=90)\n",
    "ax = fig.axes[0]\n",
    "ax.get_xaxis().set_visible(True)\n",
    "ax.set_xticklabels(ax.get_xticklabels(), rotation=90)\n",
    "plt.show()"
   ]
  },
  {
   "cell_type": "code",
   "execution_count": null,
   "metadata": {},
   "outputs": [],
   "source": [
    "palantir.plot.highlight_cells_on_umap(adata, cells)\n",
    "plt.show()"
   ]
  },
  {
   "cell_type": "markdown",
   "metadata": {},
   "source": [
    "### Gene Expression Trends"
   ]
  },
  {
   "cell_type": "markdown",
   "metadata": {},
   "source": [
    "Selecting cells of a specific trend"
   ]
  },
  {
   "cell_type": "code",
   "execution_count": null,
   "metadata": {},
   "outputs": [],
   "source": [
    "masks = palantir.presults.select_branch_cells(adata, eps=0)"
   ]
  },
  {
   "cell_type": "markdown",
   "metadata": {},
   "source": [
    "Visualizing the branch selection"
   ]
  },
  {
   "cell_type": "code",
   "execution_count": null,
   "metadata": {},
   "outputs": [],
   "source": [
    "palantir.plot.plot_branch_selection(adata)\n",
    "plt.show()"
   ]
  },
  {
   "cell_type": "code",
   "execution_count": null,
   "metadata": {},
   "outputs": [],
   "source": [
    "palantir.plot.plot_trajectory(adata, \"ACTGATGCATGTGGTT-1-B2\")"
   ]
  },
  {
   "cell_type": "code",
   "execution_count": null,
   "metadata": {},
   "outputs": [],
   "source": [
    "palantir.plot.plot_trajectory(\n",
    "    adata,\n",
    "    \"ACTGATGCATGTGGTT-1-B2\",\n",
    "    cell_color=\"palantir_entropy\",\n",
    "    n_arrows=10,\n",
    "    color=\"red\",\n",
    "    scanpy_kwargs=dict(cmap=\"viridis\"),\n",
    "    arrowprops=dict(arrowstyle=\"-|>,head_length=.5,head_width=.5\"),\n",
    ")"
   ]
  },
  {
   "cell_type": "markdown",
   "metadata": {},
   "source": [
    "### Compute a transition matrix with cellrank"
   ]
  },
  {
   "cell_type": "code",
   "execution_count": null,
   "metadata": {},
   "outputs": [],
   "source": [
    "pk = cr.kernels.PseudotimeKernel(adata, time_key=\"palantir_pseudotime\")\n",
    "pk.compute_transition_matrix()\n",
    "\n",
    "print(pk)"
   ]
  },
  {
   "cell_type": "code",
   "execution_count": null,
   "metadata": {},
   "outputs": [],
   "source": [
    "pk.plot_projection(basis=\"umap\", recompute=True)"
   ]
  },
  {
   "cell_type": "code",
   "execution_count": null,
   "metadata": {},
   "outputs": [],
   "source": [
    "gene_trends = palantir.presults.compute_gene_trends(\n",
    "    adata,\n",
    "    expression_key=\"MAGIC_imputed_data\",\n",
    ")"
   ]
  },
  {
   "cell_type": "code",
   "execution_count": null,
   "metadata": {},
   "outputs": [],
   "source": [
    "genes = [\"Ly6c1\", \"Cd209a\", \"Gng11\", \"Ccl6\", \"Ms4a4c\"]\n",
    "palantir.plot.plot_gene_trends(adata, genes)\n",
    "plt.show()"
   ]
  },
  {
   "cell_type": "markdown",
   "metadata": {},
   "source": [
    "### Modify object to plot canonical marker genes"
   ]
  },
  {
   "cell_type": "code",
   "execution_count": null,
   "metadata": {},
   "outputs": [],
   "source": [
    "adata"
   ]
  },
  {
   "cell_type": "code",
   "execution_count": null,
   "metadata": {},
   "outputs": [],
   "source": [
    "adata_toplot = anndata.AnnData(X = np.sqrt(sc.pp.normalize_total(adata_raw, inplace = False)[\"X\"]), var = adata_raw.var, obs = adata.obs, obsm = adata.obsm)\n",
    "adata_toplot"
   ]
  },
  {
   "cell_type": "code",
   "execution_count": null,
   "metadata": {},
   "outputs": [],
   "source": [
    "sc.pl.umap(adata_toplot, frameon = False, color = ['C_scANVI', 'Cd79a', 'Nkg7', 'Klrb1', 'Ccr7', 'Itga1', 'Cx3cr1', 'Gzmk', 'Klrg1'], size = 5, legend_fontsize = 5, ncols = 3, cmap = 'RdPu')\n",
    "\n",
    "#Cd79a, Ms4a1, Cd19                                             //B cells\n",
    "#Nkg7, Gnly, Cd8a                                               //NKT\n",
    "#Gnly, Xcl2, Nkg7                                               //NK\n",
    "#Klrb1, Aqp3, Itgb1, Ccr7, Sell, Cd4                            //CD4 T cells\n",
    "#Itga1, Itgae, Cxcr6, Cx3cr1, Gzmb, Gnly, Gzmk, Cd8a, Ccl5      //C8 T cells\n",
    "#Klrg1                                                          //MCMV-spec T cells"
   ]
  },
  {
   "cell_type": "markdown",
   "metadata": {},
   "source": [
    "### Compute `scib-metrics`"
   ]
  },
  {
   "cell_type": "code",
   "execution_count": null,
   "metadata": {},
   "outputs": [],
   "source": [
    "adata"
   ]
  },
  {
   "cell_type": "code",
   "execution_count": null,
   "metadata": {},
   "outputs": [],
   "source": [
    "adata.obs[\"seed_labels\"].value_counts()"
   ]
  },
  {
   "cell_type": "code",
   "execution_count": null,
   "metadata": {},
   "outputs": [],
   "source": [
    "adata.X = adata.X.astype(float)"
   ]
  },
  {
   "cell_type": "code",
   "execution_count": null,
   "metadata": {},
   "outputs": [],
   "source": [
    "bm = Benchmarker(\n",
    "    adata,\n",
    "    batch_key=\"donor\",\n",
    "    label_key=\"seed_labels\",                                       #take C_scANVI oder seed_labels containing 'Unknown'??\n",
    "    embedding_obsm_keys=[\"X_scVI\", \"X_scANVI\", \"X_pca\"],\n",
    "    n_jobs=3,\n",
    ")\n",
    "bm.benchmark()"
   ]
  },
  {
   "cell_type": "code",
   "execution_count": null,
   "metadata": {},
   "outputs": [],
   "source": [
    "bm.plot_results_table(min_max_scale=False)"
   ]
  },
  {
   "cell_type": "code",
   "execution_count": null,
   "metadata": {},
   "outputs": [],
   "source": [
    "df = bm.get_results(min_max_scale=False)\n",
    "df.transpose()"
   ]
  },
  {
   "cell_type": "code",
   "execution_count": null,
   "metadata": {},
   "outputs": [],
   "source": [
    "adata.X = adata.X.astype(int)"
   ]
  },
  {
   "cell_type": "code",
   "execution_count": null,
   "metadata": {},
   "outputs": [],
   "source": [
    "X_is_raw(adata)"
   ]
  },
  {
   "cell_type": "markdown",
   "metadata": {},
   "source": [
    "### Visualise proportions"
   ]
  },
  {
   "cell_type": "code",
   "execution_count": null,
   "metadata": {},
   "outputs": [],
   "source": [
    "def split_umap(adata, split_by, ncol=2, nrow=None, **kwargs):\n",
    "    categories = adata.obs[split_by].cat.categories\n",
    "    if nrow is None:\n",
    "        nrow = int(np.ceil(len(categories) / ncol))\n",
    "    fig, axs = plt.subplots(nrow, ncol, figsize=(5*ncol, 4*nrow))\n",
    "    axs = axs.flatten()\n",
    "    for i, cat in enumerate(categories):\n",
    "        ax = axs[i]\n",
    "        sc.pl.umap(adata[adata.obs[split_by] == cat], ax=ax, show=False, title=cat, **kwargs)\n",
    "    plt.tight_layout()"
   ]
  },
  {
   "cell_type": "code",
   "execution_count": null,
   "metadata": {},
   "outputs": [],
   "source": [
    "from pylab import *\n",
    "\n",
    "cmap = cm.get_cmap('tab20', 20)  # matplotlib color palette name, n colors\n",
    "for i in range(cmap.N):\n",
    "    rgb = cmap(i)[:3]  # will return rgba, we take only first 3 so we get rgb\n",
    "    print(matplotlib.colors.rgb2hex(rgb))\n",
    "\n",
    "cmap = cm.get_cmap('plasma', 101)\n",
    "color_list = [matplotlib.colors.rgb2hex(cmap(i)[:3]) for i in range(cmap.N)]\n",
    "print(color_list)"
   ]
  },
  {
   "cell_type": "code",
   "execution_count": null,
   "metadata": {},
   "outputs": [],
   "source": [
    "adata.obs[\"C_scANVI\"].cat.categories"
   ]
  },
  {
   "cell_type": "raw",
   "metadata": {},
   "source": [
    "#Colors Carlos \n",
    "                'CD14+Mo':              '#FF2400',  # Scarlet\n",
    "                'CD16+Mo':              '#0000FF',  # Cobalt Blue\n",
    "                'DC':                   '#FFD900',  # Yellow\n",
    "                'DOCK4+MØ1':            '#FF7F0E',  # Orange (Closest to primary palette)\n",
    "                'DOCK4+MØ2':            '#000000',  # Black\n",
    "                'IL17RA+Mo':            '#BCBD22',  # Muted Yellow (original color kept)\n",
    "                'LYVE1+MØ1':            '#8C564B',  # Brownish (original color kept)\n",
    "                'LYVE1+MØ2':            '#1F77B4',  # Blue (original color kept)\n",
    "                'LYVE1+MØ3':            '#120A8F',  # Ultramarine Blue\n",
    "                'Mast':                 '#C70039',  # Crimson (Closest to primary palette) \n",
    "                'Mo_pi':                '#D0743C',  # Plum\n",
    "                'MØ_AgP':               '#984EA3',  # Purple \n",
    "                'MØ_mod':               '#D62728',  # Red (original color kept)\n",
    "                'NØ':                   '#E377C2' #,  # Pinkish (original color kept)\n",
    "                'pDC':                  '#98DF8A'   # Muted Green (original color kept)"
   ]
  },
  {
   "cell_type": "code",
   "execution_count": null,
   "metadata": {},
   "outputs": [],
   "source": [
    "sc.pl.umap(adata, \n",
    "           frameon = False, \n",
    "           color = ['C_scANVI'], \n",
    "           size = 5, \n",
    "           legend_fontsize = 6, \n",
    "           ncols = 1, \n",
    "           palette = {\n",
    "                'B':                    '#FF7F0E',  # Orange\n",
    "                'CD4':                  '#945943',  # Brown\n",
    "                'CD8':                  '#F9D090',  # Beige-Yellow\n",
    "                'NK':                   '#C70039',  # Crimson-Red\n",
    "                'NKT':                  '#B58A58',  # Teak (brown)\n",
    "           })\n"
   ]
  },
  {
   "cell_type": "code",
   "execution_count": null,
   "metadata": {},
   "outputs": [],
   "source": [
    "split_umap(adata, color = ['C_scANVI'], split_by = 'infection', frameon = False, size = 12, legend_fontsize = 5, ncols = 4,            \n",
    "           palette = {\n",
    "                'B':                    '#FF7F0E',  # Orange\n",
    "                'CD4':                  '#945943',  # Brown\n",
    "                'CD8':                  '#F9D090',  # Beige-Yellow\n",
    "                'NK':                   '#C70039',  # Crimson-Red\n",
    "                'NKT':                  '#B58A58',  # Teak (brown)\n",
    "           })"
   ]
  },
  {
   "cell_type": "code",
   "execution_count": null,
   "metadata": {},
   "outputs": [],
   "source": [
    "split_umap(adata, color = ['C_scANVI'], split_by = 'condition', frameon = False, size = 20, legend_fontsize = 5, ncols = 4, palette = {\n",
    "                'B':                    '#FF7F0E',  # Orange\n",
    "                'CD4':                  '#945943',  # Brown\n",
    "                'CD8':                  '#F9D090',  # Beige-Yellow\n",
    "                'NK':                   '#C70039',  # Crimson-Red\n",
    "                'NKT':                  '#B58A58',  # Teak (brown)\n",
    "           })"
   ]
  },
  {
   "cell_type": "code",
   "execution_count": null,
   "metadata": {},
   "outputs": [],
   "source": [
    "split_umap(adata, color = ['C_scANVI'], split_by = 'genotype', frameon = False, size = 17, legend_fontsize = 5, ncols = 4, palette = {\n",
    "                'B':                    '#FF7F0E',  # Orange\n",
    "                'CD4':                  '#945943',  # Brown\n",
    "                'CD8':                  '#F9D090',  # Beige-Yellow\n",
    "                'NK':                   '#C70039',  # Crimson-Red\n",
    "                'NKT':                  '#B58A58',  # Teak (brown)\n",
    "           })"
   ]
  },
  {
   "cell_type": "code",
   "execution_count": null,
   "metadata": {},
   "outputs": [],
   "source": [
    "split_umap(adata, color = ['C_scANVI'], split_by = 'model', frameon = False, size = 10, legend_fontsize = 5, ncols = 4, palette = {\n",
    "                'B':                    '#FF7F0E',  # Orange\n",
    "                'CD4':                  '#945943',  # Brown\n",
    "                'CD8':                  '#F9D090',  # Beige-Yellow\n",
    "                'NK':                   '#C70039',  # Crimson-Red\n",
    "                'NKT':                  '#B58A58',  # Teak (brown)\n",
    "           })"
   ]
  },
  {
   "cell_type": "code",
   "execution_count": null,
   "metadata": {},
   "outputs": [],
   "source": [
    "df = adata_toplot.obs.groupby(['condition', 'C_scANVI']).size().reset_index(name = 'counts')\n",
    "\n",
    "grouped = df.groupby('condition')['counts'].apply(lambda x: x / x.sum() * 100)\n",
    "grouped = grouped.reset_index()\n",
    "\n",
    "df['proportions'] = grouped['counts']\n",
    "df['waffle_counts'] = (df['proportions'] * 10).astype(int)"
   ]
  },
  {
   "cell_type": "code",
   "execution_count": null,
   "metadata": {},
   "outputs": [],
   "source": [
    "from matplotlib.colors import ListedColormap\n",
    "cmap_ac = ListedColormap(['#FF7F0E', '#945943', '#F9D090', '#C70039', '#B58A58']) \n",
    "cmap_ac"
   ]
  },
  {
   "cell_type": "code",
   "execution_count": null,
   "metadata": {},
   "outputs": [],
   "source": [
    "tab20_palette = cmap_ac \n",
    "\n",
    "\n",
    "for group in df['condition'].unique():\n",
    "    temp_df = df[df['condition'] == group]\n",
    "    \n",
    "    data = dict(zip(temp_df['C_scANVI'], temp_df['waffle_counts']))\n",
    "    colors = [tab20_palette(i) for i in range(len(temp_df['C_scANVI']))]\n",
    "    fig = plt.figure(\n",
    "        FigureClass = Waffle, \n",
    "        rows = 10, \n",
    "        values = data, \n",
    "        title = {'label': f'Condition {group}', 'loc': 'left', 'fontsize': 14},\n",
    "        labels = [f\"{k} ({v}%)\" for k, v in zip(temp_df['C_scANVI'], temp_df['proportions'].round(2))],\n",
    "        #legend = {'loc': 'lower left', 'bbox_to_anchor': (0, -0.4), 'ncol': len(data), 'framealpha': 0},\n",
    "        legend = {'loc': 'upper left', 'bbox_to_anchor': (0, 0), 'ncol': 8, 'framealpha': 0, 'fontsize': 14},\n",
    "        figsize = (40, 4),\n",
    "        colors = colors\n",
    "    )\n",
    "    plt.show()"
   ]
  },
  {
   "cell_type": "code",
   "execution_count": null,
   "metadata": {},
   "outputs": [],
   "source": [
    "pd.crosstab(adata.obs['C_scANVI'], adata.obs['condition'])"
   ]
  },
  {
   "cell_type": "markdown",
   "metadata": {},
   "source": [
    "### Visualize n_genes by condition to be able to set a threshold for trimming out low-gene-clusters"
   ]
  },
  {
   "cell_type": "code",
   "execution_count": null,
   "metadata": {},
   "outputs": [],
   "source": [
    "adata.obs['C_scANVI'].cat.categories"
   ]
  },
  {
   "cell_type": "code",
   "execution_count": null,
   "metadata": {},
   "outputs": [],
   "source": [
    "sns.set(style=\"whitegrid\")\n",
    "covariate_to_visualize = 'n_genes_by_counts'\n",
    "\n",
    "plt.figure(figsize=(10, 6))\n",
    "sns.histplot(data=adata.obs, x=covariate_to_visualize, hue='C_scANVI', stat='count', common_norm=False)\n",
    "plt.xlabel(covariate_to_visualize)\n",
    "plt.ylabel('Abundance')\n",
    "plt.title(f'Abundance Plot of {covariate_to_visualize} by Condition')\n",
    "plt.legend(['B', 'CD4', 'CD8', 'NK', 'NKT'], title='Cell_Type', loc='upper right')\n",
    "\n",
    "plt.show()"
   ]
  },
  {
   "cell_type": "code",
   "execution_count": null,
   "metadata": {},
   "outputs": [],
   "source": [
    "sns.set(style=\"whitegrid\")\n",
    "covariate_to_visualize = 'n_genes_by_counts'\n",
    "\n",
    "sample_names = adata.obs['condition'].unique()\n",
    "num_samples = len(sample_names)\n",
    "color_palette = sns.color_palette(\"Set1\", n_colors=num_samples)\n",
    "\n",
    "g = sns.FacetGrid(adata.obs, col=\"C_scANVI\", col_wrap=3, height=5, palette=color_palette)\n",
    "g.map_dataframe(sns.histplot, x=covariate_to_visualize, stat='count', common_norm=False)\n",
    "\n",
    "g.set_axis_labels(covariate_to_visualize, 'Abundance')\n",
    "g.set_titles(col_template=\"{col_name}\")\n",
    "#g.add_legend(['B_cells', 'CD4+T', 'CD8+T', 'DC', 'Hematopoetic', 'Macrophages', 'Mast_cells', 'Monocytes', 'NK', 'NKT', 'Neutrophils', 'Plasma_cells', 'Platelets', 'Treg', 'pDC'], title='Cell_Type', loc='upper right')\n",
    "\n",
    "plt.tight_layout()\n",
    "plt.show()"
   ]
  },
  {
   "cell_type": "markdown",
   "metadata": {},
   "source": [
    "Set threshold at 500 genes?"
   ]
  },
  {
   "attachments": {},
   "cell_type": "markdown",
   "metadata": {},
   "source": [
    "### Export annotated sample object "
   ]
  },
  {
   "cell_type": "code",
   "execution_count": null,
   "metadata": {},
   "outputs": [],
   "source": [
    "adata.obs.index"
   ]
  },
  {
   "cell_type": "code",
   "execution_count": null,
   "metadata": {},
   "outputs": [],
   "source": [
    "prot = mdata.mod['prot']\n",
    "prot.obs_names"
   ]
  },
  {
   "cell_type": "code",
   "execution_count": null,
   "metadata": {},
   "outputs": [],
   "source": [
    "adata.obs['C_scANVI'].cat.categories"
   ]
  },
  {
   "cell_type": "code",
   "execution_count": null,
   "metadata": {},
   "outputs": [],
   "source": [
    "adata.obs['C_scANVI'].value_counts()"
   ]
  },
  {
   "attachments": {},
   "cell_type": "markdown",
   "metadata": {},
   "source": [
    "### Export annotated object with raw counts"
   ]
  },
  {
   "cell_type": "code",
   "execution_count": null,
   "metadata": {},
   "outputs": [],
   "source": [
    "adata"
   ]
  },
  {
   "cell_type": "code",
   "execution_count": null,
   "metadata": {},
   "outputs": [],
   "source": [
    "adata_raw"
   ]
  },
  {
   "cell_type": "code",
   "execution_count": null,
   "metadata": {},
   "outputs": [],
   "source": [
    "adata_export = anndata.AnnData(X = adata_raw.X, obs = adata.obs, var = adata_raw.var)\n",
    "adata_export.obsm['X_scVI'] = adata.obsm['X_scVI'].copy()\n",
    "adata_export.obsm['X_umap'] = adata.obsm['X_umap'].copy()\n",
    "adata_export.obsm['X_scANVI'] = adata.obsm['X_scANVI'].copy()\n",
    "adata_export"
   ]
  },
  {
   "cell_type": "markdown",
   "metadata": {},
   "source": [
    "#### Update the mdata object"
   ]
  },
  {
   "cell_type": "code",
   "execution_count": null,
   "metadata": {},
   "outputs": [],
   "source": [
    "mdata.mod['rna'] = adata_export\n",
    "mdata"
   ]
  },
  {
   "cell_type": "code",
   "execution_count": null,
   "metadata": {},
   "outputs": [],
   "source": [
    "mdata.mod['rna'].obs_names"
   ]
  },
  {
   "cell_type": "code",
   "execution_count": null,
   "metadata": {},
   "outputs": [],
   "source": [
    "mdata.mod['prot'].obs_names"
   ]
  },
  {
   "cell_type": "code",
   "execution_count": null,
   "metadata": {},
   "outputs": [],
   "source": [
    "rna_cells_export = set(mdata.mod['rna'].obs_names)\n",
    "mask = mdata.mod['prot'].obs_names.isin(rna_cells_export)\n",
    "filtered_prot_export = mdata.mod['prot'][mask]\n",
    "mdata = mu.MuData({\"rna\": mdata.mod['rna'], \"prot\": filtered_prot_export})\n",
    "mdata"
   ]
  },
  {
   "cell_type": "code",
   "execution_count": null,
   "metadata": {},
   "outputs": [],
   "source": [
    "mdata.write('/home/acirnu/data/ACM_cardiac_leuco/4_Seed_labeling_with_scANVI/ACM_lymphoids_scANVI_general_celltypes_from_HCA_lymphoids_muon_ac240506.raw.h5mu')"
   ]
  },
  {
   "cell_type": "markdown",
   "metadata": {},
   "source": [
    "#### Create stacked barplots in addition to waffle plots"
   ]
  },
  {
   "cell_type": "code",
   "execution_count": null,
   "metadata": {},
   "outputs": [],
   "source": [
    "sc.settings.verbosity = 3\n",
    "sc.logging.print_versions()\n",
    "sc.settings.set_figure_params(dpi = 180, color_map = 'magma_r', dpi_save = 300, vector_friendly = True, format = 'svg')\n",
    "warnings.simplefilter(action = 'ignore')\n",
    "scvi.settings.seed = 1712\n",
    "%config InlineBackend.print_figure_kwargs = {'facecolor' : \"w\"}\n",
    "%config InlineBackend.figure_format = 'retina'\n",
    "torch.set_float32_matmul_precision('medium')\n",
    "arches_params = dict(\n",
    "    use_layer_norm = \"both\",\n",
    "    use_batch_norm = \"none\",\n",
    "    encode_covariates = True,\n",
    "    dropout_rate = 0.2,\n",
    "    n_layers = 3,\n",
    ")"
   ]
  },
  {
   "cell_type": "code",
   "execution_count": null,
   "metadata": {},
   "outputs": [],
   "source": [
    "mdata = mu.read_h5mu('/home/acirnu/data/ACM_cardiac_leuco/4_Seed_labeling_with_scANVI/ACM_lymphoids_scANVI_general_celltypes_from_HCA_lymphoids_muon_ac240506.raw.h5mu')     "
   ]
  },
  {
   "cell_type": "code",
   "execution_count": null,
   "metadata": {},
   "outputs": [],
   "source": [
    "adata = mdata.mod['rna']\n",
    "adata"
   ]
  },
  {
   "cell_type": "code",
   "execution_count": null,
   "metadata": {},
   "outputs": [],
   "source": [
    "df = adata.obs.groupby(['condition', 'C_scANVI']).size().reset_index(name = 'counts')\n",
    "\n",
    "grouped = df.groupby('condition')['counts'].apply(lambda x: x / x.sum() * 100)\n",
    "grouped = grouped.reset_index()\n",
    "\n",
    "df['proportions'] = grouped['counts']\n",
    "df.head(10)"
   ]
  },
  {
   "cell_type": "code",
   "execution_count": null,
   "metadata": {},
   "outputs": [],
   "source": [
    "Pkp2_conditions = [\"Pkp2_Ctr_noninf\", \"Pkp2_HetKO_noninf\",\"Pkp2_Ctr_MCMV\", \"Pkp2_HetKO_MCMV\"]\n",
    "df_Pkp2 = df[df['condition'].isin(Pkp2_conditions)]\n",
    "df_Pkp2 = df_Pkp2.set_index('condition').loc[Pkp2_conditions].reset_index()"
   ]
  },
  {
   "cell_type": "code",
   "execution_count": null,
   "metadata": {},
   "outputs": [],
   "source": [
    "#Define a color map\n",
    "cmap_ac = ['#FF7F0E', '#945943', '#F9D090', '#C70039', '#B58A58']  \n",
    "\n",
    "# Pivot the DataFrame to have 'leiden' clusters as columns\n",
    "pivot_df = df_Pkp2.pivot(index='condition', columns='C_scANVI', values='proportions').fillna(0)\n",
    "\n",
    "# Plot the stacked barplot\n",
    "plt.figure()  # Create a new figure\n",
    "ax = pivot_df.plot(kind='bar', stacked=True, color=cmap_ac, edgecolor='none')\n",
    "\n",
    "# Set the figure size explicitly after creating the figure\n",
    "plt.gcf().set_size_inches(7, 7)\n",
    "\n",
    "# Remove the grid\n",
    "ax.grid(False)\n",
    "\n",
    "# Add labels and title\n",
    "plt.xlabel('')\n",
    "plt.ylabel('Proportion (%)')\n",
    "plt.title('')\n",
    "plt.legend(title='Cluster', bbox_to_anchor=(1.05, 1), loc='upper left')\n",
    "\n",
    "# Show the plot\n",
    "plt.tight_layout()\n",
    "plt.savefig('stacked_barplot_Pkp2.png', dpi=300)\n",
    "plt.show()\n"
   ]
  },
  {
   "cell_type": "code",
   "execution_count": null,
   "metadata": {},
   "outputs": [],
   "source": [
    "Ttn_conditions = [\"Ttn_Ctr_noninf\", \"Ttn_HetKO_noninf\",\"Ttn_Ctr_MCMV\", \"Ttn_HetKO_MCMV\"]\n",
    "df_Ttn = df[df['condition'].isin(Ttn_conditions)]\n",
    "df_Ttn = df_Ttn.set_index('condition').loc[Ttn_conditions].reset_index()"
   ]
  },
  {
   "cell_type": "code",
   "execution_count": null,
   "metadata": {},
   "outputs": [],
   "source": [
    "#Define a color map\n",
    "cmap_ac = ['#FF7F0E', '#945943', '#F9D090', '#C70039', '#B58A58']  \n",
    "\n",
    "# Pivot the DataFrame to have 'leiden' clusters as columns\n",
    "pivot_df = df_Ttn.pivot(index='condition', columns='C_scANVI', values='proportions').fillna(0)\n",
    "\n",
    "# Plot the stacked barplot\n",
    "plt.figure()  # Create a new figure\n",
    "ax = pivot_df.plot(kind='bar', stacked=True, color=cmap_ac, edgecolor='none')\n",
    "\n",
    "# Set the figure size explicitly after creating the figure\n",
    "plt.gcf().set_size_inches(7, 7)\n",
    "\n",
    "# Remove the grid\n",
    "ax.grid(False)\n",
    "\n",
    "# Add labels and title\n",
    "plt.xlabel('')\n",
    "plt.ylabel('Proportion (%)')\n",
    "plt.title('')\n",
    "plt.legend(title='Cluster', bbox_to_anchor=(1.05, 1), loc='upper left')\n",
    "\n",
    "# Show the plot\n",
    "plt.tight_layout()\n",
    "plt.savefig('stacked_barplot_Ttn.png', dpi=300)\n",
    "plt.show()"
   ]
  }
 ],
 "metadata": {
  "kernelspec": {
   "display_name": "Python 3",
   "language": "python",
   "name": "python3"
  },
  "language_info": {
   "codemirror_mode": {
    "name": "ipython",
    "version": 3
   },
   "file_extension": ".py",
   "mimetype": "text/x-python",
   "name": "python",
   "nbconvert_exporter": "python",
   "pygments_lexer": "ipython3",
   "version": "3.9.16"
  },
  "orig_nbformat": 4,
  "vscode": {
   "interpreter": {
    "hash": "aee8b7b246df8f9039afb4144a1f6fd8d2ca17a180786b69acc140d282b71a49"
   }
  }
 },
 "nbformat": 4,
 "nbformat_minor": 2
}
