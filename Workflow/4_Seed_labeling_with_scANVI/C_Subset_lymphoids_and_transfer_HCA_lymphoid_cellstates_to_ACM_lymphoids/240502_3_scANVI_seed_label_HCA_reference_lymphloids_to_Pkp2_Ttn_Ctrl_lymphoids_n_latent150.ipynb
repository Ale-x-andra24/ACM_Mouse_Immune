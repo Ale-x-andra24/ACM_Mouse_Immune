{
 "cells": [
  {
   "attachments": {},
   "cell_type": "markdown",
   "metadata": {},
   "source": [
    "### Notebook for the label transfer of Healthy Human Reference to mouse ACM heart (merged Pkp2+Ttn dataset) using `scANVI`\n",
    "\n",
    "#### Environment: scANVI\n",
    "\n",
    "- **Developed by:** Carlos Talavera-López Ph.D\n",
    "- **Modified by:** Alexandra Cirnu\n",
    "- **Würzburg Institute for Systems Immunology & Julius-Maximilian-Universität Würzburg**\n",
    "- **Date of creation:** 230918\n",
    "- **Date of modification:** 240502\n",
    "\n",
    "#### Transfer the **lypmphoids** from Healthy Human cell atlas to **lymphoids** of ACM Ctr noninf mice (Pkp2 + Ttn)"
   ]
  },
  {
   "attachments": {},
   "cell_type": "markdown",
   "metadata": {},
   "source": [
    "### Import required modules"
   ]
  },
  {
   "cell_type": "code",
   "execution_count": 1,
   "metadata": {},
   "outputs": [],
   "source": [
    "import scvi\n",
    "import torch\n",
    "import anndata\n",
    "import warnings\n",
    "import numpy as np\n",
    "import scanpy as sc\n",
    "import pandas as pd\n",
    "import plotnine as p\n",
    "from pywaffle import Waffle\n",
    "import matplotlib.pyplot as plt\n",
    "from scib_metrics.benchmark import Benchmarker\n",
    "import muon as mu\n",
    "from muon import atac as ac\n",
    "from muon import prot as pt\n",
    "from scipy.sparse import csr_matrix"
   ]
  },
  {
   "attachments": {},
   "cell_type": "markdown",
   "metadata": {},
   "source": [
    "### Set up working environment"
   ]
  },
  {
   "cell_type": "code",
   "execution_count": 2,
   "metadata": {},
   "outputs": [
    {
     "name": "stdout",
     "output_type": "stream",
     "text": [
      "-----\n",
      "anndata     0.10.5.post1\n",
      "scanpy      1.9.8\n",
      "-----\n",
      "PIL                 10.2.0\n",
      "absl                NA\n",
      "asttokens           NA\n",
      "attr                23.2.0\n",
      "chex                0.1.85\n",
      "colorama            0.4.6\n",
      "comm                0.2.1\n",
      "contextlib2         NA\n",
      "cycler              0.12.1\n",
      "cython_runtime      NA\n",
      "dateutil            2.9.0\n",
      "debugpy             1.8.1\n",
      "decorator           5.1.1\n",
      "docrep              0.3.2\n",
      "etils               1.7.0\n",
      "exceptiongroup      1.2.0\n",
      "executing           2.0.1\n",
      "flax                0.8.1\n",
      "fsspec              2024.2.0\n",
      "h5py                3.10.0\n",
      "igraph              0.11.4\n",
      "importlib_resources NA\n",
      "ipykernel           6.29.3\n",
      "ipywidgets          8.1.2\n",
      "jax                 0.4.25\n",
      "jaxlib              0.4.25\n",
      "jedi                0.19.1\n",
      "joblib              1.3.2\n",
      "kiwisolver          1.4.5\n",
      "lightning           2.1.4\n",
      "lightning_utilities 0.10.1\n",
      "llvmlite            0.42.0\n",
      "matplotlib          3.8.3\n",
      "mizani              0.11.0\n",
      "ml_collections      NA\n",
      "ml_dtypes           0.3.2\n",
      "mpl_toolkits        NA\n",
      "msgpack             1.0.8\n",
      "mudata              0.2.3\n",
      "multipledispatch    0.6.0\n",
      "muon                0.1.6\n",
      "natsort             8.4.0\n",
      "numba               0.59.0\n",
      "numpy               1.26.4\n",
      "numpyro             0.14.0\n",
      "opt_einsum          v3.3.0\n",
      "optax               0.1.9\n",
      "packaging           23.2\n",
      "pandas              2.2.1\n",
      "parso               0.8.3\n",
      "patsy               0.5.6\n",
      "pkg_resources       NA\n",
      "platformdirs        4.2.0\n",
      "plotnine            0.13.0\n",
      "plottable           0.1.5\n",
      "prompt_toolkit      3.0.43\n",
      "psutil              5.9.8\n",
      "pure_eval           0.2.2\n",
      "pydev_ipython       NA\n",
      "pydevconsole        NA\n",
      "pydevd              2.9.5\n",
      "pydevd_file_utils   NA\n",
      "pydevd_plugins      NA\n",
      "pydevd_tracing      NA\n",
      "pygments            2.17.2\n",
      "pynndescent         0.5.11\n",
      "pyparsing           3.1.1\n",
      "pyro                1.9.0\n",
      "pytz                2024.1\n",
      "pywaffle            NA\n",
      "rich                NA\n",
      "scib_metrics        0.5.1\n",
      "scipy               1.12.0\n",
      "scvi                1.1.2\n",
      "seaborn             0.13.2\n",
      "session_info        1.0.0\n",
      "six                 1.16.0\n",
      "sklearn             1.4.1.post1\n",
      "stack_data          0.6.3\n",
      "statsmodels         0.14.1\n",
      "texttable           1.7.0\n",
      "threadpoolctl       3.3.0\n",
      "toolz               0.12.1\n",
      "torch               2.2.1+cu121\n",
      "torchgen            NA\n",
      "torchmetrics        1.3.1\n",
      "tornado             6.4\n",
      "tqdm                4.66.2\n",
      "traitlets           5.14.1\n",
      "typing_extensions   NA\n",
      "umap                0.5.5\n",
      "vscode              NA\n",
      "wcwidth             0.2.13\n",
      "yaml                6.0.1\n",
      "zmq                 25.1.2\n",
      "zoneinfo            NA\n",
      "-----\n",
      "IPython             8.22.2\n",
      "jupyter_client      8.6.0\n",
      "jupyter_core        5.7.1\n",
      "-----\n",
      "Python 3.10.13 | packaged by conda-forge | (main, Dec 23 2023, 15:36:39) [GCC 12.3.0]\n",
      "Linux-6.8.4-200.fc39.x86_64-x86_64-with-glibc2.38\n",
      "-----\n",
      "Session information updated at 2024-05-02 16:24\n"
     ]
    }
   ],
   "source": [
    "sc.settings.verbosity = 3\n",
    "sc.logging.print_versions()\n",
    "sc.settings.set_figure_params(dpi = 180, color_map = 'magma_r', dpi_save = 300, vector_friendly = True, format = 'svg')"
   ]
  },
  {
   "cell_type": "code",
   "execution_count": 3,
   "metadata": {},
   "outputs": [],
   "source": [
    "def X_is_raw(adata): return np.array_equal(adata.X.sum(axis=0).astype(int), adata.X.sum(axis=0))"
   ]
  },
  {
   "cell_type": "code",
   "execution_count": 4,
   "metadata": {},
   "outputs": [],
   "source": [
    "torch.set_float32_matmul_precision('high')"
   ]
  },
  {
   "cell_type": "code",
   "execution_count": 5,
   "metadata": {},
   "outputs": [
    {
     "name": "stderr",
     "output_type": "stream",
     "text": [
      "Seed set to 1712\n"
     ]
    }
   ],
   "source": [
    "warnings.simplefilter(action = 'ignore')\n",
    "scvi.settings.seed = 1712\n",
    "%config InlineBackend.print_figure_kwargs = {'facecolor' : \"w\"}\n",
    "%config InlineBackend.figure_format = 'retina'"
   ]
  },
  {
   "cell_type": "code",
   "execution_count": 6,
   "metadata": {},
   "outputs": [],
   "source": [
    "arches_params = dict(\n",
    "    use_layer_norm = \"both\",\n",
    "    use_batch_norm = \"none\",\n",
    "    encode_covariates = True,\n",
    "    dropout_rate = 0.2,\n",
    "    n_layers = 2,\n",
    ")"
   ]
  },
  {
   "attachments": {},
   "cell_type": "markdown",
   "metadata": {},
   "source": [
    "### Read in Healthy data"
   ]
  },
  {
   "cell_type": "code",
   "execution_count": 7,
   "metadata": {},
   "outputs": [
    {
     "data": {
      "text/plain": [
       "AnnData object with n_obs × n_vars = 16403 × 33538\n",
       "    obs: 'NRP', 'cell_source', 'cell_states', 'donor', 'gender', 'n_counts', 'n_genes', 'region', 'sample', 'scNym', 'scNym_confidence', 'lineage'\n",
       "    uns: 'cell_states_colors', 'scNym_colors', 'scNym_probabilities'\n",
       "    obsm: 'X_pca', 'X_scnym', 'X_umap'\n",
       "    layers: 'counts'"
      ]
     },
     "execution_count": 7,
     "metadata": {},
     "output_type": "execute_result"
    }
   ],
   "source": [
    "# Data set with lineage information from Healthy human heart leucocytes (from Human cell atlas) \n",
    "\n",
    "reference = sc.read_h5ad('/home/acirnu/data/ACM_cardiac_leuco/Reference_data/HCA_lymphoids_healthy_reference_ac240319.raw.h5ad')\n",
    "reference"
   ]
  },
  {
   "cell_type": "code",
   "execution_count": 8,
   "metadata": {},
   "outputs": [
    {
     "data": {
      "text/plain": [
       "True"
      ]
     },
     "execution_count": 8,
     "metadata": {},
     "output_type": "execute_result"
    }
   ],
   "source": [
    "X_is_raw(reference)"
   ]
  },
  {
   "cell_type": "code",
   "execution_count": 9,
   "metadata": {},
   "outputs": [
    {
     "data": {
      "text/html": [
       "<div>\n",
       "<style scoped>\n",
       "    .dataframe tbody tr th:only-of-type {\n",
       "        vertical-align: middle;\n",
       "    }\n",
       "\n",
       "    .dataframe tbody tr th {\n",
       "        vertical-align: top;\n",
       "    }\n",
       "\n",
       "    .dataframe thead th {\n",
       "        text-align: right;\n",
       "    }\n",
       "</style>\n",
       "<table border=\"1\" class=\"dataframe\">\n",
       "  <thead>\n",
       "    <tr style=\"text-align: right;\">\n",
       "      <th></th>\n",
       "      <th>NRP</th>\n",
       "      <th>cell_source</th>\n",
       "      <th>cell_states</th>\n",
       "      <th>donor</th>\n",
       "      <th>gender</th>\n",
       "      <th>n_counts</th>\n",
       "      <th>n_genes</th>\n",
       "      <th>region</th>\n",
       "      <th>sample</th>\n",
       "      <th>scNym</th>\n",
       "      <th>scNym_confidence</th>\n",
       "      <th>lineage</th>\n",
       "    </tr>\n",
       "  </thead>\n",
       "  <tbody>\n",
       "    <tr>\n",
       "      <th>AAAGTGAAGTCGGCCT-1-H0015_apex</th>\n",
       "      <td>No</td>\n",
       "      <td>Harvard-Nuclei</td>\n",
       "      <td>CD4+T_cytox</td>\n",
       "      <td>H5</td>\n",
       "      <td>Female</td>\n",
       "      <td>724.717285</td>\n",
       "      <td>588</td>\n",
       "      <td>AX</td>\n",
       "      <td>H0015_apex</td>\n",
       "      <td>CD4+T_cell</td>\n",
       "      <td>0.797180</td>\n",
       "      <td>lymphoid</td>\n",
       "    </tr>\n",
       "    <tr>\n",
       "      <th>AAATGGAAGGTCCCTG-1-H0015_apex</th>\n",
       "      <td>No</td>\n",
       "      <td>Harvard-Nuclei</td>\n",
       "      <td>CD4+T_cytox</td>\n",
       "      <td>H5</td>\n",
       "      <td>Female</td>\n",
       "      <td>668.059509</td>\n",
       "      <td>515</td>\n",
       "      <td>AX</td>\n",
       "      <td>H0015_apex</td>\n",
       "      <td>CD4+T_cell</td>\n",
       "      <td>0.999248</td>\n",
       "      <td>lymphoid</td>\n",
       "    </tr>\n",
       "    <tr>\n",
       "      <th>AAGTTCGCAGTGTATC-1-H0015_apex</th>\n",
       "      <td>No</td>\n",
       "      <td>Harvard-Nuclei</td>\n",
       "      <td>CD4+T_cytox</td>\n",
       "      <td>H5</td>\n",
       "      <td>Female</td>\n",
       "      <td>759.100281</td>\n",
       "      <td>633</td>\n",
       "      <td>AX</td>\n",
       "      <td>H0015_apex</td>\n",
       "      <td>CD4+T_cell</td>\n",
       "      <td>0.979933</td>\n",
       "      <td>lymphoid</td>\n",
       "    </tr>\n",
       "    <tr>\n",
       "      <th>AATCACGTCCCGTAAA-1-H0015_apex</th>\n",
       "      <td>No</td>\n",
       "      <td>Harvard-Nuclei</td>\n",
       "      <td>CD8+T_tem</td>\n",
       "      <td>H5</td>\n",
       "      <td>Female</td>\n",
       "      <td>715.088623</td>\n",
       "      <td>604</td>\n",
       "      <td>AX</td>\n",
       "      <td>H0015_apex</td>\n",
       "      <td>CD4+T_cell</td>\n",
       "      <td>0.987953</td>\n",
       "      <td>lymphoid</td>\n",
       "    </tr>\n",
       "    <tr>\n",
       "      <th>AATGACCGTGTTGCCG-1-H0015_apex</th>\n",
       "      <td>No</td>\n",
       "      <td>Harvard-Nuclei</td>\n",
       "      <td>NK</td>\n",
       "      <td>H5</td>\n",
       "      <td>Female</td>\n",
       "      <td>743.207153</td>\n",
       "      <td>645</td>\n",
       "      <td>AX</td>\n",
       "      <td>H0015_apex</td>\n",
       "      <td>NK</td>\n",
       "      <td>0.759773</td>\n",
       "      <td>lymphoid</td>\n",
       "    </tr>\n",
       "    <tr>\n",
       "      <th>...</th>\n",
       "      <td>...</td>\n",
       "      <td>...</td>\n",
       "      <td>...</td>\n",
       "      <td>...</td>\n",
       "      <td>...</td>\n",
       "      <td>...</td>\n",
       "      <td>...</td>\n",
       "      <td>...</td>\n",
       "      <td>...</td>\n",
       "      <td>...</td>\n",
       "      <td>...</td>\n",
       "      <td>...</td>\n",
       "    </tr>\n",
       "    <tr>\n",
       "      <th>TTTCACATCGAACACT-1-HCAHeart8102862</th>\n",
       "      <td>Yes</td>\n",
       "      <td>Sanger-CD45</td>\n",
       "      <td>B_cells</td>\n",
       "      <td>D11</td>\n",
       "      <td>Female</td>\n",
       "      <td>736.678040</td>\n",
       "      <td>1991</td>\n",
       "      <td>AX</td>\n",
       "      <td>HCAHeart8102862</td>\n",
       "      <td>DC</td>\n",
       "      <td>0.999435</td>\n",
       "      <td>lymphoid</td>\n",
       "    </tr>\n",
       "    <tr>\n",
       "      <th>TTTCAGTCAGTACTAC-1-HCAHeart8102862</th>\n",
       "      <td>Yes</td>\n",
       "      <td>Sanger-CD45</td>\n",
       "      <td>NKT</td>\n",
       "      <td>D11</td>\n",
       "      <td>Female</td>\n",
       "      <td>774.458374</td>\n",
       "      <td>1108</td>\n",
       "      <td>AX</td>\n",
       "      <td>HCAHeart8102862</td>\n",
       "      <td>NK</td>\n",
       "      <td>0.985920</td>\n",
       "      <td>lymphoid</td>\n",
       "    </tr>\n",
       "    <tr>\n",
       "      <th>TTTCGATAGCGCGTTC-1-HCAHeart8102862</th>\n",
       "      <td>Yes</td>\n",
       "      <td>Sanger-CD45</td>\n",
       "      <td>NK</td>\n",
       "      <td>D11</td>\n",
       "      <td>Female</td>\n",
       "      <td>778.039612</td>\n",
       "      <td>1215</td>\n",
       "      <td>AX</td>\n",
       "      <td>HCAHeart8102862</td>\n",
       "      <td>NK</td>\n",
       "      <td>0.984224</td>\n",
       "      <td>lymphoid</td>\n",
       "    </tr>\n",
       "    <tr>\n",
       "      <th>TTTGACTGTATGAGAT-1-HCAHeart8102862</th>\n",
       "      <td>Yes</td>\n",
       "      <td>Sanger-CD45</td>\n",
       "      <td>CD8+T_tem</td>\n",
       "      <td>D11</td>\n",
       "      <td>Female</td>\n",
       "      <td>707.116882</td>\n",
       "      <td>957</td>\n",
       "      <td>AX</td>\n",
       "      <td>HCAHeart8102862</td>\n",
       "      <td>CD8+T_cell</td>\n",
       "      <td>0.982434</td>\n",
       "      <td>lymphoid</td>\n",
       "    </tr>\n",
       "    <tr>\n",
       "      <th>TTTGATCGTGTCATGT-1-HCAHeart8102862</th>\n",
       "      <td>Yes</td>\n",
       "      <td>Sanger-CD45</td>\n",
       "      <td>CD4+T_cytox</td>\n",
       "      <td>D11</td>\n",
       "      <td>Female</td>\n",
       "      <td>631.149170</td>\n",
       "      <td>715</td>\n",
       "      <td>AX</td>\n",
       "      <td>HCAHeart8102862</td>\n",
       "      <td>CD8+T_cell</td>\n",
       "      <td>0.756579</td>\n",
       "      <td>lymphoid</td>\n",
       "    </tr>\n",
       "  </tbody>\n",
       "</table>\n",
       "<p>16403 rows × 12 columns</p>\n",
       "</div>"
      ],
      "text/plain": [
       "                                    NRP     cell_source  cell_states donor  \\\n",
       "AAAGTGAAGTCGGCCT-1-H0015_apex        No  Harvard-Nuclei  CD4+T_cytox    H5   \n",
       "AAATGGAAGGTCCCTG-1-H0015_apex        No  Harvard-Nuclei  CD4+T_cytox    H5   \n",
       "AAGTTCGCAGTGTATC-1-H0015_apex        No  Harvard-Nuclei  CD4+T_cytox    H5   \n",
       "AATCACGTCCCGTAAA-1-H0015_apex        No  Harvard-Nuclei    CD8+T_tem    H5   \n",
       "AATGACCGTGTTGCCG-1-H0015_apex        No  Harvard-Nuclei           NK    H5   \n",
       "...                                 ...             ...          ...   ...   \n",
       "TTTCACATCGAACACT-1-HCAHeart8102862  Yes     Sanger-CD45      B_cells   D11   \n",
       "TTTCAGTCAGTACTAC-1-HCAHeart8102862  Yes     Sanger-CD45          NKT   D11   \n",
       "TTTCGATAGCGCGTTC-1-HCAHeart8102862  Yes     Sanger-CD45           NK   D11   \n",
       "TTTGACTGTATGAGAT-1-HCAHeart8102862  Yes     Sanger-CD45    CD8+T_tem   D11   \n",
       "TTTGATCGTGTCATGT-1-HCAHeart8102862  Yes     Sanger-CD45  CD4+T_cytox   D11   \n",
       "\n",
       "                                    gender    n_counts  n_genes region  \\\n",
       "AAAGTGAAGTCGGCCT-1-H0015_apex       Female  724.717285      588     AX   \n",
       "AAATGGAAGGTCCCTG-1-H0015_apex       Female  668.059509      515     AX   \n",
       "AAGTTCGCAGTGTATC-1-H0015_apex       Female  759.100281      633     AX   \n",
       "AATCACGTCCCGTAAA-1-H0015_apex       Female  715.088623      604     AX   \n",
       "AATGACCGTGTTGCCG-1-H0015_apex       Female  743.207153      645     AX   \n",
       "...                                    ...         ...      ...    ...   \n",
       "TTTCACATCGAACACT-1-HCAHeart8102862  Female  736.678040     1991     AX   \n",
       "TTTCAGTCAGTACTAC-1-HCAHeart8102862  Female  774.458374     1108     AX   \n",
       "TTTCGATAGCGCGTTC-1-HCAHeart8102862  Female  778.039612     1215     AX   \n",
       "TTTGACTGTATGAGAT-1-HCAHeart8102862  Female  707.116882      957     AX   \n",
       "TTTGATCGTGTCATGT-1-HCAHeart8102862  Female  631.149170      715     AX   \n",
       "\n",
       "                                             sample       scNym  \\\n",
       "AAAGTGAAGTCGGCCT-1-H0015_apex            H0015_apex  CD4+T_cell   \n",
       "AAATGGAAGGTCCCTG-1-H0015_apex            H0015_apex  CD4+T_cell   \n",
       "AAGTTCGCAGTGTATC-1-H0015_apex            H0015_apex  CD4+T_cell   \n",
       "AATCACGTCCCGTAAA-1-H0015_apex            H0015_apex  CD4+T_cell   \n",
       "AATGACCGTGTTGCCG-1-H0015_apex            H0015_apex          NK   \n",
       "...                                             ...         ...   \n",
       "TTTCACATCGAACACT-1-HCAHeart8102862  HCAHeart8102862          DC   \n",
       "TTTCAGTCAGTACTAC-1-HCAHeart8102862  HCAHeart8102862          NK   \n",
       "TTTCGATAGCGCGTTC-1-HCAHeart8102862  HCAHeart8102862          NK   \n",
       "TTTGACTGTATGAGAT-1-HCAHeart8102862  HCAHeart8102862  CD8+T_cell   \n",
       "TTTGATCGTGTCATGT-1-HCAHeart8102862  HCAHeart8102862  CD8+T_cell   \n",
       "\n",
       "                                    scNym_confidence   lineage  \n",
       "AAAGTGAAGTCGGCCT-1-H0015_apex               0.797180  lymphoid  \n",
       "AAATGGAAGGTCCCTG-1-H0015_apex               0.999248  lymphoid  \n",
       "AAGTTCGCAGTGTATC-1-H0015_apex               0.979933  lymphoid  \n",
       "AATCACGTCCCGTAAA-1-H0015_apex               0.987953  lymphoid  \n",
       "AATGACCGTGTTGCCG-1-H0015_apex               0.759773  lymphoid  \n",
       "...                                              ...       ...  \n",
       "TTTCACATCGAACACT-1-HCAHeart8102862          0.999435  lymphoid  \n",
       "TTTCAGTCAGTACTAC-1-HCAHeart8102862          0.985920  lymphoid  \n",
       "TTTCGATAGCGCGTTC-1-HCAHeart8102862          0.984224  lymphoid  \n",
       "TTTGACTGTATGAGAT-1-HCAHeart8102862          0.982434  lymphoid  \n",
       "TTTGATCGTGTCATGT-1-HCAHeart8102862          0.756579  lymphoid  \n",
       "\n",
       "[16403 rows x 12 columns]"
      ]
     },
     "execution_count": 9,
     "metadata": {},
     "output_type": "execute_result"
    }
   ],
   "source": [
    "reference.obs"
   ]
  },
  {
   "cell_type": "code",
   "execution_count": 10,
   "metadata": {},
   "outputs": [
    {
     "data": {
      "text/plain": [
       "Index(['NK', 'CD4+T_cytox', 'CD8+T_tem', 'CD8+T_cytox', 'NKT', 'B_cells',\n",
       "       'CD4+T_tem'],\n",
       "      dtype='object')"
      ]
     },
     "execution_count": 10,
     "metadata": {},
     "output_type": "execute_result"
    }
   ],
   "source": [
    "reference.obs[\"general_cell_types\"] = reference.obs['cell_states'].copy()\n",
    "reference.obs[\"general_cell_types\"].cat.categories"
   ]
  },
  {
   "cell_type": "code",
   "execution_count": 11,
   "metadata": {},
   "outputs": [],
   "source": [
    "trans_from = [  \n",
    "              ['NK'],                                                   #NK\n",
    "              ['CD4+T_cytox', 'CD4+T_tem'],                             #CD4\n",
    "              ['CD8+T_tem', 'CD8+T_cytox'],                             #CD8\n",
    "              ['NKT'],                                                  #NKT\n",
    "              ['B_cells']                                               #B\n",
    "\n",
    "]\n",
    "\n",
    "trans_to = ['NK', 'CD4', 'CD8', 'NKT', 'B']\n",
    "\n",
    "reference.obs['general_cell_types'] = [str(i) for i in reference.obs['cell_states']]\n",
    "for leiden,celltype in zip(trans_from, trans_to):\n",
    "    for leiden_from in leiden:\n",
    "        reference.obs['general_cell_types'][reference.obs['general_cell_types'] == leiden_from] = celltype"
   ]
  },
  {
   "cell_type": "code",
   "execution_count": 12,
   "metadata": {},
   "outputs": [
    {
     "data": {
      "text/html": [
       "<div>\n",
       "<style scoped>\n",
       "    .dataframe tbody tr th:only-of-type {\n",
       "        vertical-align: middle;\n",
       "    }\n",
       "\n",
       "    .dataframe tbody tr th {\n",
       "        vertical-align: top;\n",
       "    }\n",
       "\n",
       "    .dataframe thead th {\n",
       "        text-align: right;\n",
       "    }\n",
       "</style>\n",
       "<table border=\"1\" class=\"dataframe\">\n",
       "  <thead>\n",
       "    <tr style=\"text-align: right;\">\n",
       "      <th></th>\n",
       "      <th>NRP</th>\n",
       "      <th>cell_source</th>\n",
       "      <th>cell_states</th>\n",
       "      <th>donor</th>\n",
       "      <th>gender</th>\n",
       "      <th>n_counts</th>\n",
       "      <th>n_genes</th>\n",
       "      <th>region</th>\n",
       "      <th>sample</th>\n",
       "      <th>scNym</th>\n",
       "      <th>scNym_confidence</th>\n",
       "      <th>lineage</th>\n",
       "      <th>general_cell_types</th>\n",
       "    </tr>\n",
       "  </thead>\n",
       "  <tbody>\n",
       "    <tr>\n",
       "      <th>AAAGTGAAGTCGGCCT-1-H0015_apex</th>\n",
       "      <td>No</td>\n",
       "      <td>Harvard-Nuclei</td>\n",
       "      <td>CD4+T_cytox</td>\n",
       "      <td>H5</td>\n",
       "      <td>Female</td>\n",
       "      <td>724.717285</td>\n",
       "      <td>588</td>\n",
       "      <td>AX</td>\n",
       "      <td>H0015_apex</td>\n",
       "      <td>CD4+T_cell</td>\n",
       "      <td>0.797180</td>\n",
       "      <td>lymphoid</td>\n",
       "      <td>CD4</td>\n",
       "    </tr>\n",
       "    <tr>\n",
       "      <th>AAATGGAAGGTCCCTG-1-H0015_apex</th>\n",
       "      <td>No</td>\n",
       "      <td>Harvard-Nuclei</td>\n",
       "      <td>CD4+T_cytox</td>\n",
       "      <td>H5</td>\n",
       "      <td>Female</td>\n",
       "      <td>668.059509</td>\n",
       "      <td>515</td>\n",
       "      <td>AX</td>\n",
       "      <td>H0015_apex</td>\n",
       "      <td>CD4+T_cell</td>\n",
       "      <td>0.999248</td>\n",
       "      <td>lymphoid</td>\n",
       "      <td>CD4</td>\n",
       "    </tr>\n",
       "    <tr>\n",
       "      <th>AAGTTCGCAGTGTATC-1-H0015_apex</th>\n",
       "      <td>No</td>\n",
       "      <td>Harvard-Nuclei</td>\n",
       "      <td>CD4+T_cytox</td>\n",
       "      <td>H5</td>\n",
       "      <td>Female</td>\n",
       "      <td>759.100281</td>\n",
       "      <td>633</td>\n",
       "      <td>AX</td>\n",
       "      <td>H0015_apex</td>\n",
       "      <td>CD4+T_cell</td>\n",
       "      <td>0.979933</td>\n",
       "      <td>lymphoid</td>\n",
       "      <td>CD4</td>\n",
       "    </tr>\n",
       "    <tr>\n",
       "      <th>AATCACGTCCCGTAAA-1-H0015_apex</th>\n",
       "      <td>No</td>\n",
       "      <td>Harvard-Nuclei</td>\n",
       "      <td>CD8+T_tem</td>\n",
       "      <td>H5</td>\n",
       "      <td>Female</td>\n",
       "      <td>715.088623</td>\n",
       "      <td>604</td>\n",
       "      <td>AX</td>\n",
       "      <td>H0015_apex</td>\n",
       "      <td>CD4+T_cell</td>\n",
       "      <td>0.987953</td>\n",
       "      <td>lymphoid</td>\n",
       "      <td>CD8</td>\n",
       "    </tr>\n",
       "    <tr>\n",
       "      <th>AATGACCGTGTTGCCG-1-H0015_apex</th>\n",
       "      <td>No</td>\n",
       "      <td>Harvard-Nuclei</td>\n",
       "      <td>NK</td>\n",
       "      <td>H5</td>\n",
       "      <td>Female</td>\n",
       "      <td>743.207153</td>\n",
       "      <td>645</td>\n",
       "      <td>AX</td>\n",
       "      <td>H0015_apex</td>\n",
       "      <td>NK</td>\n",
       "      <td>0.759773</td>\n",
       "      <td>lymphoid</td>\n",
       "      <td>NK</td>\n",
       "    </tr>\n",
       "    <tr>\n",
       "      <th>...</th>\n",
       "      <td>...</td>\n",
       "      <td>...</td>\n",
       "      <td>...</td>\n",
       "      <td>...</td>\n",
       "      <td>...</td>\n",
       "      <td>...</td>\n",
       "      <td>...</td>\n",
       "      <td>...</td>\n",
       "      <td>...</td>\n",
       "      <td>...</td>\n",
       "      <td>...</td>\n",
       "      <td>...</td>\n",
       "      <td>...</td>\n",
       "    </tr>\n",
       "    <tr>\n",
       "      <th>TTTCACATCGAACACT-1-HCAHeart8102862</th>\n",
       "      <td>Yes</td>\n",
       "      <td>Sanger-CD45</td>\n",
       "      <td>B_cells</td>\n",
       "      <td>D11</td>\n",
       "      <td>Female</td>\n",
       "      <td>736.678040</td>\n",
       "      <td>1991</td>\n",
       "      <td>AX</td>\n",
       "      <td>HCAHeart8102862</td>\n",
       "      <td>DC</td>\n",
       "      <td>0.999435</td>\n",
       "      <td>lymphoid</td>\n",
       "      <td>B</td>\n",
       "    </tr>\n",
       "    <tr>\n",
       "      <th>TTTCAGTCAGTACTAC-1-HCAHeart8102862</th>\n",
       "      <td>Yes</td>\n",
       "      <td>Sanger-CD45</td>\n",
       "      <td>NKT</td>\n",
       "      <td>D11</td>\n",
       "      <td>Female</td>\n",
       "      <td>774.458374</td>\n",
       "      <td>1108</td>\n",
       "      <td>AX</td>\n",
       "      <td>HCAHeart8102862</td>\n",
       "      <td>NK</td>\n",
       "      <td>0.985920</td>\n",
       "      <td>lymphoid</td>\n",
       "      <td>NKT</td>\n",
       "    </tr>\n",
       "    <tr>\n",
       "      <th>TTTCGATAGCGCGTTC-1-HCAHeart8102862</th>\n",
       "      <td>Yes</td>\n",
       "      <td>Sanger-CD45</td>\n",
       "      <td>NK</td>\n",
       "      <td>D11</td>\n",
       "      <td>Female</td>\n",
       "      <td>778.039612</td>\n",
       "      <td>1215</td>\n",
       "      <td>AX</td>\n",
       "      <td>HCAHeart8102862</td>\n",
       "      <td>NK</td>\n",
       "      <td>0.984224</td>\n",
       "      <td>lymphoid</td>\n",
       "      <td>NK</td>\n",
       "    </tr>\n",
       "    <tr>\n",
       "      <th>TTTGACTGTATGAGAT-1-HCAHeart8102862</th>\n",
       "      <td>Yes</td>\n",
       "      <td>Sanger-CD45</td>\n",
       "      <td>CD8+T_tem</td>\n",
       "      <td>D11</td>\n",
       "      <td>Female</td>\n",
       "      <td>707.116882</td>\n",
       "      <td>957</td>\n",
       "      <td>AX</td>\n",
       "      <td>HCAHeart8102862</td>\n",
       "      <td>CD8+T_cell</td>\n",
       "      <td>0.982434</td>\n",
       "      <td>lymphoid</td>\n",
       "      <td>CD8</td>\n",
       "    </tr>\n",
       "    <tr>\n",
       "      <th>TTTGATCGTGTCATGT-1-HCAHeart8102862</th>\n",
       "      <td>Yes</td>\n",
       "      <td>Sanger-CD45</td>\n",
       "      <td>CD4+T_cytox</td>\n",
       "      <td>D11</td>\n",
       "      <td>Female</td>\n",
       "      <td>631.149170</td>\n",
       "      <td>715</td>\n",
       "      <td>AX</td>\n",
       "      <td>HCAHeart8102862</td>\n",
       "      <td>CD8+T_cell</td>\n",
       "      <td>0.756579</td>\n",
       "      <td>lymphoid</td>\n",
       "      <td>CD4</td>\n",
       "    </tr>\n",
       "  </tbody>\n",
       "</table>\n",
       "<p>16403 rows × 13 columns</p>\n",
       "</div>"
      ],
      "text/plain": [
       "                                    NRP     cell_source  cell_states donor  \\\n",
       "AAAGTGAAGTCGGCCT-1-H0015_apex        No  Harvard-Nuclei  CD4+T_cytox    H5   \n",
       "AAATGGAAGGTCCCTG-1-H0015_apex        No  Harvard-Nuclei  CD4+T_cytox    H5   \n",
       "AAGTTCGCAGTGTATC-1-H0015_apex        No  Harvard-Nuclei  CD4+T_cytox    H5   \n",
       "AATCACGTCCCGTAAA-1-H0015_apex        No  Harvard-Nuclei    CD8+T_tem    H5   \n",
       "AATGACCGTGTTGCCG-1-H0015_apex        No  Harvard-Nuclei           NK    H5   \n",
       "...                                 ...             ...          ...   ...   \n",
       "TTTCACATCGAACACT-1-HCAHeart8102862  Yes     Sanger-CD45      B_cells   D11   \n",
       "TTTCAGTCAGTACTAC-1-HCAHeart8102862  Yes     Sanger-CD45          NKT   D11   \n",
       "TTTCGATAGCGCGTTC-1-HCAHeart8102862  Yes     Sanger-CD45           NK   D11   \n",
       "TTTGACTGTATGAGAT-1-HCAHeart8102862  Yes     Sanger-CD45    CD8+T_tem   D11   \n",
       "TTTGATCGTGTCATGT-1-HCAHeart8102862  Yes     Sanger-CD45  CD4+T_cytox   D11   \n",
       "\n",
       "                                    gender    n_counts  n_genes region  \\\n",
       "AAAGTGAAGTCGGCCT-1-H0015_apex       Female  724.717285      588     AX   \n",
       "AAATGGAAGGTCCCTG-1-H0015_apex       Female  668.059509      515     AX   \n",
       "AAGTTCGCAGTGTATC-1-H0015_apex       Female  759.100281      633     AX   \n",
       "AATCACGTCCCGTAAA-1-H0015_apex       Female  715.088623      604     AX   \n",
       "AATGACCGTGTTGCCG-1-H0015_apex       Female  743.207153      645     AX   \n",
       "...                                    ...         ...      ...    ...   \n",
       "TTTCACATCGAACACT-1-HCAHeart8102862  Female  736.678040     1991     AX   \n",
       "TTTCAGTCAGTACTAC-1-HCAHeart8102862  Female  774.458374     1108     AX   \n",
       "TTTCGATAGCGCGTTC-1-HCAHeart8102862  Female  778.039612     1215     AX   \n",
       "TTTGACTGTATGAGAT-1-HCAHeart8102862  Female  707.116882      957     AX   \n",
       "TTTGATCGTGTCATGT-1-HCAHeart8102862  Female  631.149170      715     AX   \n",
       "\n",
       "                                             sample       scNym  \\\n",
       "AAAGTGAAGTCGGCCT-1-H0015_apex            H0015_apex  CD4+T_cell   \n",
       "AAATGGAAGGTCCCTG-1-H0015_apex            H0015_apex  CD4+T_cell   \n",
       "AAGTTCGCAGTGTATC-1-H0015_apex            H0015_apex  CD4+T_cell   \n",
       "AATCACGTCCCGTAAA-1-H0015_apex            H0015_apex  CD4+T_cell   \n",
       "AATGACCGTGTTGCCG-1-H0015_apex            H0015_apex          NK   \n",
       "...                                             ...         ...   \n",
       "TTTCACATCGAACACT-1-HCAHeart8102862  HCAHeart8102862          DC   \n",
       "TTTCAGTCAGTACTAC-1-HCAHeart8102862  HCAHeart8102862          NK   \n",
       "TTTCGATAGCGCGTTC-1-HCAHeart8102862  HCAHeart8102862          NK   \n",
       "TTTGACTGTATGAGAT-1-HCAHeart8102862  HCAHeart8102862  CD8+T_cell   \n",
       "TTTGATCGTGTCATGT-1-HCAHeart8102862  HCAHeart8102862  CD8+T_cell   \n",
       "\n",
       "                                    scNym_confidence   lineage  \\\n",
       "AAAGTGAAGTCGGCCT-1-H0015_apex               0.797180  lymphoid   \n",
       "AAATGGAAGGTCCCTG-1-H0015_apex               0.999248  lymphoid   \n",
       "AAGTTCGCAGTGTATC-1-H0015_apex               0.979933  lymphoid   \n",
       "AATCACGTCCCGTAAA-1-H0015_apex               0.987953  lymphoid   \n",
       "AATGACCGTGTTGCCG-1-H0015_apex               0.759773  lymphoid   \n",
       "...                                              ...       ...   \n",
       "TTTCACATCGAACACT-1-HCAHeart8102862          0.999435  lymphoid   \n",
       "TTTCAGTCAGTACTAC-1-HCAHeart8102862          0.985920  lymphoid   \n",
       "TTTCGATAGCGCGTTC-1-HCAHeart8102862          0.984224  lymphoid   \n",
       "TTTGACTGTATGAGAT-1-HCAHeart8102862          0.982434  lymphoid   \n",
       "TTTGATCGTGTCATGT-1-HCAHeart8102862          0.756579  lymphoid   \n",
       "\n",
       "                                   general_cell_types  \n",
       "AAAGTGAAGTCGGCCT-1-H0015_apex                     CD4  \n",
       "AAATGGAAGGTCCCTG-1-H0015_apex                     CD4  \n",
       "AAGTTCGCAGTGTATC-1-H0015_apex                     CD4  \n",
       "AATCACGTCCCGTAAA-1-H0015_apex                     CD8  \n",
       "AATGACCGTGTTGCCG-1-H0015_apex                      NK  \n",
       "...                                               ...  \n",
       "TTTCACATCGAACACT-1-HCAHeart8102862                  B  \n",
       "TTTCAGTCAGTACTAC-1-HCAHeart8102862                NKT  \n",
       "TTTCGATAGCGCGTTC-1-HCAHeart8102862                 NK  \n",
       "TTTGACTGTATGAGAT-1-HCAHeart8102862                CD8  \n",
       "TTTGATCGTGTCATGT-1-HCAHeart8102862                CD4  \n",
       "\n",
       "[16403 rows x 13 columns]"
      ]
     },
     "execution_count": 12,
     "metadata": {},
     "output_type": "execute_result"
    }
   ],
   "source": [
    "reference.obs"
   ]
  },
  {
   "cell_type": "code",
   "execution_count": 13,
   "metadata": {},
   "outputs": [],
   "source": [
    "reference.obs['seed_labels'] = reference.obs['general_cell_types'].copy()"
   ]
  },
  {
   "cell_type": "code",
   "execution_count": 14,
   "metadata": {},
   "outputs": [
    {
     "data": {
      "text/plain": [
       "seed_labels\n",
       "CD8    5957\n",
       "CD4    4160\n",
       "NK     3628\n",
       "NKT    1463\n",
       "B      1195\n",
       "Name: count, dtype: int64"
      ]
     },
     "execution_count": 14,
     "metadata": {},
     "output_type": "execute_result"
    }
   ],
   "source": [
    "reference.obs['seed_labels'].value_counts() "
   ]
  },
  {
   "cell_type": "markdown",
   "metadata": {},
   "source": [
    "### Subset populations of interest"
   ]
  },
  {
   "cell_type": "code",
   "execution_count": 15,
   "metadata": {},
   "outputs": [
    {
     "data": {
      "text/plain": [
       "seed_labels\n",
       "CD8    5957\n",
       "CD4    4160\n",
       "NK     3628\n",
       "NKT    1463\n",
       "B      1195\n",
       "Name: count, dtype: int64"
      ]
     },
     "execution_count": 15,
     "metadata": {},
     "output_type": "execute_result"
    }
   ],
   "source": [
    "reference = reference[~reference.obs['seed_labels'].isin(['nan'])]              # = filter out not assigned cells, keep everything that is not 'nan'\n",
    "reference.obs['seed_labels'].value_counts()"
   ]
  },
  {
   "cell_type": "code",
   "execution_count": 16,
   "metadata": {},
   "outputs": [],
   "source": [
    "sc.pp.filter_cells(reference, min_genes = 200)            \n",
    "sc.pp.filter_cells(reference, min_counts = 100)"
   ]
  },
  {
   "attachments": {},
   "cell_type": "markdown",
   "metadata": {},
   "source": [
    "### Read in query"
   ]
  },
  {
   "cell_type": "code",
   "execution_count": 17,
   "metadata": {},
   "outputs": [
    {
     "data": {
      "text/html": [
       "<pre>MuData object with n_obs × n_vars = 10104 × 29477\n",
       "  var:\t&#x27;gene_ids&#x27;, &#x27;feature_types&#x27;\n",
       "  2 modalities\n",
       "    rna:\t10104 x 29378\n",
       "      obs:\t&#x27;cell_source&#x27;, &#x27;donor&#x27;, &#x27;n_counts&#x27;, &#x27;sample&#x27;, &#x27;seed_labels&#x27;, &#x27;condition&#x27;, &#x27;genotype&#x27;, &#x27;infection&#x27;, &#x27;library&#x27;, &#x27;model&#x27;, &#x27;n_genes_by_counts&#x27;, &#x27;total_counts&#x27;, &#x27;doublet_scores&#x27;, &#x27;total_counts_mt&#x27;, &#x27;pct_counts_mt&#x27;, &#x27;total_counts_ribo&#x27;, &#x27;pct_counts_ribo&#x27;, &#x27;percent_mt&#x27;, &#x27;percent_chrY&#x27;, &#x27;XIST-counts&#x27;, &#x27;S_score&#x27;, &#x27;G2M_score&#x27;, &#x27;batch&#x27;, &#x27;_scvi_batch&#x27;, &#x27;_scvi_labels&#x27;, &#x27;C_scANVI&#x27;\n",
       "      var:\t&#x27;gene_ids&#x27;, &#x27;feature_types&#x27;, &#x27;mt&#x27;, &#x27;ribo&#x27;\n",
       "      obsm:\t&#x27;X_scANVI&#x27;, &#x27;X_scVI&#x27;, &#x27;X_umap&#x27;\n",
       "    prot:\t10104 x 99\n",
       "      obs:\t&#x27;library&#x27;, &#x27;batch&#x27;\n",
       "      var:\t&#x27;gene_ids&#x27;, &#x27;feature_types&#x27;\n",
       "      uns:\t&#x27;neighbors&#x27;, &#x27;pca&#x27;, &#x27;umap&#x27;\n",
       "      obsm:\t&#x27;X_pca&#x27;, &#x27;X_umap&#x27;\n",
       "      varm:\t&#x27;PCs&#x27;\n",
       "      layers:\t&#x27;counts&#x27;, &#x27;log_norm&#x27;</pre>"
      ],
      "text/plain": [
       "MuData object with n_obs × n_vars = 10104 × 29477\n",
       "  var:\t'gene_ids', 'feature_types'\n",
       "  2 modalities\n",
       "    rna:\t10104 x 29378\n",
       "      obs:\t'cell_source', 'donor', 'n_counts', 'sample', 'seed_labels', 'condition', 'genotype', 'infection', 'library', 'model', 'n_genes_by_counts', 'total_counts', 'doublet_scores', 'total_counts_mt', 'pct_counts_mt', 'total_counts_ribo', 'pct_counts_ribo', 'percent_mt', 'percent_chrY', 'XIST-counts', 'S_score', 'G2M_score', 'batch', '_scvi_batch', '_scvi_labels', 'C_scANVI'\n",
       "      var:\t'gene_ids', 'feature_types', 'mt', 'ribo'\n",
       "      obsm:\t'X_scANVI', 'X_scVI', 'X_umap'\n",
       "    prot:\t10104 x 99\n",
       "      obs:\t'library', 'batch'\n",
       "      var:\t'gene_ids', 'feature_types'\n",
       "      uns:\t'neighbors', 'pca', 'umap'\n",
       "      obsm:\t'X_pca', 'X_umap'\n",
       "      varm:\t'PCs'\n",
       "      layers:\t'counts', 'log_norm'"
      ]
     },
     "execution_count": 17,
     "metadata": {},
     "output_type": "execute_result"
    }
   ],
   "source": [
    "mdata = mu.read_h5mu('/home/acirnu/data/ACM_cardiac_leuco/4_Seed_labeling_with_scANVI/ACM_scANVI_extracted_lymphoids_from_HCA_muon_ac240409.raw.h5mu')\n",
    "mdata"
   ]
  },
  {
   "cell_type": "code",
   "execution_count": 18,
   "metadata": {},
   "outputs": [
    {
     "data": {
      "text/plain": [
       "AnnData object with n_obs × n_vars = 10104 × 29378\n",
       "    obs: 'cell_source', 'donor', 'n_counts', 'sample', 'seed_labels', 'condition', 'genotype', 'infection', 'library', 'model', 'n_genes_by_counts', 'total_counts', 'doublet_scores', 'total_counts_mt', 'pct_counts_mt', 'total_counts_ribo', 'pct_counts_ribo', 'percent_mt', 'percent_chrY', 'XIST-counts', 'S_score', 'G2M_score', 'batch', '_scvi_batch', '_scvi_labels', 'C_scANVI'\n",
       "    var: 'gene_ids', 'feature_types', 'mt', 'ribo'\n",
       "    obsm: 'X_scANVI', 'X_scVI', 'X_umap'"
      ]
     },
     "execution_count": 18,
     "metadata": {},
     "output_type": "execute_result"
    }
   ],
   "source": [
    "#Merged Pkp2+Ttn Libraries subsetted to contain only control mice (Pkp_Ctr_noninf and Ttn_Ctr_noninf)\n",
    "query = mdata.mod['rna']\n",
    "query.obs['cell_source'] = 'AG_Gerull'\n",
    "query.obs['seed_labels'] = 'Unknown'\n",
    "query.obs['donor'] = query.obs['sample'].copy()\n",
    "query"
   ]
  },
  {
   "cell_type": "code",
   "execution_count": 19,
   "metadata": {},
   "outputs": [
    {
     "data": {
      "text/html": [
       "<div>\n",
       "<style scoped>\n",
       "    .dataframe tbody tr th:only-of-type {\n",
       "        vertical-align: middle;\n",
       "    }\n",
       "\n",
       "    .dataframe tbody tr th {\n",
       "        vertical-align: top;\n",
       "    }\n",
       "\n",
       "    .dataframe thead th {\n",
       "        text-align: right;\n",
       "    }\n",
       "</style>\n",
       "<table border=\"1\" class=\"dataframe\">\n",
       "  <thead>\n",
       "    <tr style=\"text-align: right;\">\n",
       "      <th></th>\n",
       "      <th>cell_source</th>\n",
       "      <th>donor</th>\n",
       "      <th>n_counts</th>\n",
       "      <th>sample</th>\n",
       "      <th>seed_labels</th>\n",
       "      <th>condition</th>\n",
       "      <th>genotype</th>\n",
       "      <th>infection</th>\n",
       "      <th>library</th>\n",
       "      <th>model</th>\n",
       "      <th>...</th>\n",
       "      <th>total_counts_ribo</th>\n",
       "      <th>pct_counts_ribo</th>\n",
       "      <th>percent_mt</th>\n",
       "      <th>percent_chrY</th>\n",
       "      <th>XIST-counts</th>\n",
       "      <th>S_score</th>\n",
       "      <th>G2M_score</th>\n",
       "      <th>_scvi_batch</th>\n",
       "      <th>_scvi_labels</th>\n",
       "      <th>C_scANVI</th>\n",
       "    </tr>\n",
       "  </thead>\n",
       "  <tbody>\n",
       "    <tr>\n",
       "      <th>AAACCCAAGATACAGT-1-A1</th>\n",
       "      <td>AG_Gerull</td>\n",
       "      <td>Pkp2_Ctr_noninf_2</td>\n",
       "      <td>8562.0</td>\n",
       "      <td>Pkp2_Ctr_noninf_2</td>\n",
       "      <td>Unknown</td>\n",
       "      <td>Pkp2_Ctr_noninf</td>\n",
       "      <td>Pkp2_Ctr</td>\n",
       "      <td>noninf</td>\n",
       "      <td>A1</td>\n",
       "      <td>Pkp2</td>\n",
       "      <td>...</td>\n",
       "      <td>2026.0</td>\n",
       "      <td>23.662695</td>\n",
       "      <td>0.019038</td>\n",
       "      <td>0.000000</td>\n",
       "      <td>0.0</td>\n",
       "      <td>-0.339369</td>\n",
       "      <td>-0.496061</td>\n",
       "      <td>7</td>\n",
       "      <td>1</td>\n",
       "      <td>lymphoid</td>\n",
       "    </tr>\n",
       "    <tr>\n",
       "      <th>AACCCAATCAGCTGAT-1-A1</th>\n",
       "      <td>AG_Gerull</td>\n",
       "      <td>Pkp2_Ctr_noninf_1</td>\n",
       "      <td>14129.0</td>\n",
       "      <td>Pkp2_Ctr_noninf_1</td>\n",
       "      <td>Unknown</td>\n",
       "      <td>Pkp2_Ctr_noninf</td>\n",
       "      <td>Pkp2_Ctr</td>\n",
       "      <td>noninf</td>\n",
       "      <td>A1</td>\n",
       "      <td>Pkp2</td>\n",
       "      <td>...</td>\n",
       "      <td>3231.0</td>\n",
       "      <td>22.867861</td>\n",
       "      <td>0.019817</td>\n",
       "      <td>0.021233</td>\n",
       "      <td>0.0</td>\n",
       "      <td>0.525671</td>\n",
       "      <td>-0.137837</td>\n",
       "      <td>6</td>\n",
       "      <td>1</td>\n",
       "      <td>lymphoid</td>\n",
       "    </tr>\n",
       "    <tr>\n",
       "      <th>AACCTGAAGATAGCAT-1-A1</th>\n",
       "      <td>AG_Gerull</td>\n",
       "      <td>Pkp2_Ctr_noninf_1</td>\n",
       "      <td>14171.0</td>\n",
       "      <td>Pkp2_Ctr_noninf_1</td>\n",
       "      <td>Unknown</td>\n",
       "      <td>Pkp2_Ctr_noninf</td>\n",
       "      <td>Pkp2_Ctr</td>\n",
       "      <td>noninf</td>\n",
       "      <td>A1</td>\n",
       "      <td>Pkp2</td>\n",
       "      <td>...</td>\n",
       "      <td>3172.0</td>\n",
       "      <td>22.383741</td>\n",
       "      <td>0.016230</td>\n",
       "      <td>0.063510</td>\n",
       "      <td>0.0</td>\n",
       "      <td>-0.268814</td>\n",
       "      <td>-0.516689</td>\n",
       "      <td>6</td>\n",
       "      <td>1</td>\n",
       "      <td>lymphoid</td>\n",
       "    </tr>\n",
       "    <tr>\n",
       "      <th>AACGTCAAGCTACTGT-1-A1</th>\n",
       "      <td>AG_Gerull</td>\n",
       "      <td>Pkp2_Ctr_noninf_2</td>\n",
       "      <td>2057.0</td>\n",
       "      <td>Pkp2_Ctr_noninf_2</td>\n",
       "      <td>Unknown</td>\n",
       "      <td>Pkp2_Ctr_noninf</td>\n",
       "      <td>Pkp2_Ctr</td>\n",
       "      <td>noninf</td>\n",
       "      <td>A1</td>\n",
       "      <td>Pkp2</td>\n",
       "      <td>...</td>\n",
       "      <td>39.0</td>\n",
       "      <td>1.895965</td>\n",
       "      <td>0.074866</td>\n",
       "      <td>0.194458</td>\n",
       "      <td>0.0</td>\n",
       "      <td>-0.270605</td>\n",
       "      <td>-0.340320</td>\n",
       "      <td>7</td>\n",
       "      <td>1</td>\n",
       "      <td>lymphoid</td>\n",
       "    </tr>\n",
       "    <tr>\n",
       "      <th>AACTTCTCAAGCGCTC-1-A1</th>\n",
       "      <td>AG_Gerull</td>\n",
       "      <td>Pkp2_Ctr_noninf_2</td>\n",
       "      <td>9940.0</td>\n",
       "      <td>Pkp2_Ctr_noninf_2</td>\n",
       "      <td>Unknown</td>\n",
       "      <td>Pkp2_Ctr_noninf</td>\n",
       "      <td>Pkp2_Ctr</td>\n",
       "      <td>noninf</td>\n",
       "      <td>A1</td>\n",
       "      <td>Pkp2</td>\n",
       "      <td>...</td>\n",
       "      <td>2949.0</td>\n",
       "      <td>29.668009</td>\n",
       "      <td>0.022233</td>\n",
       "      <td>0.000000</td>\n",
       "      <td>0.0</td>\n",
       "      <td>-0.414867</td>\n",
       "      <td>-0.271517</td>\n",
       "      <td>7</td>\n",
       "      <td>1</td>\n",
       "      <td>lymphoid</td>\n",
       "    </tr>\n",
       "    <tr>\n",
       "      <th>...</th>\n",
       "      <td>...</td>\n",
       "      <td>...</td>\n",
       "      <td>...</td>\n",
       "      <td>...</td>\n",
       "      <td>...</td>\n",
       "      <td>...</td>\n",
       "      <td>...</td>\n",
       "      <td>...</td>\n",
       "      <td>...</td>\n",
       "      <td>...</td>\n",
       "      <td>...</td>\n",
       "      <td>...</td>\n",
       "      <td>...</td>\n",
       "      <td>...</td>\n",
       "      <td>...</td>\n",
       "      <td>...</td>\n",
       "      <td>...</td>\n",
       "      <td>...</td>\n",
       "      <td>...</td>\n",
       "      <td>...</td>\n",
       "      <td>...</td>\n",
       "    </tr>\n",
       "    <tr>\n",
       "      <th>TTGGTTTGTAAGTAGT-1-B2</th>\n",
       "      <td>AG_Gerull</td>\n",
       "      <td>Ttn_Ctr_noninf_2</td>\n",
       "      <td>8900.0</td>\n",
       "      <td>Ttn_Ctr_noninf_2</td>\n",
       "      <td>Unknown</td>\n",
       "      <td>Ttn_Ctr_noninf</td>\n",
       "      <td>Ttn_Ctr</td>\n",
       "      <td>noninf</td>\n",
       "      <td>B2</td>\n",
       "      <td>Ttn</td>\n",
       "      <td>...</td>\n",
       "      <td>1436.0</td>\n",
       "      <td>16.134830</td>\n",
       "      <td>0.031573</td>\n",
       "      <td>0.033708</td>\n",
       "      <td>0.0</td>\n",
       "      <td>-0.518748</td>\n",
       "      <td>-0.153977</td>\n",
       "      <td>24</td>\n",
       "      <td>2</td>\n",
       "      <td>lymphoid</td>\n",
       "    </tr>\n",
       "    <tr>\n",
       "      <th>TTGTGGAGTATTGAGA-1-B2</th>\n",
       "      <td>AG_Gerull</td>\n",
       "      <td>Ttn_Ctr_noninf_2</td>\n",
       "      <td>2299.0</td>\n",
       "      <td>Ttn_Ctr_noninf_2</td>\n",
       "      <td>Unknown</td>\n",
       "      <td>Ttn_Ctr_noninf</td>\n",
       "      <td>Ttn_Ctr</td>\n",
       "      <td>noninf</td>\n",
       "      <td>B2</td>\n",
       "      <td>Ttn</td>\n",
       "      <td>...</td>\n",
       "      <td>67.0</td>\n",
       "      <td>2.914311</td>\n",
       "      <td>0.058286</td>\n",
       "      <td>0.130492</td>\n",
       "      <td>0.0</td>\n",
       "      <td>-0.117061</td>\n",
       "      <td>-0.443566</td>\n",
       "      <td>24</td>\n",
       "      <td>2</td>\n",
       "      <td>lymphoid</td>\n",
       "    </tr>\n",
       "    <tr>\n",
       "      <th>TTGTTCAGTGGCAGAT-1-B2</th>\n",
       "      <td>AG_Gerull</td>\n",
       "      <td>Ttn_Ctr_noninf_1</td>\n",
       "      <td>6256.0</td>\n",
       "      <td>Ttn_Ctr_noninf_1</td>\n",
       "      <td>Unknown</td>\n",
       "      <td>Ttn_Ctr_noninf</td>\n",
       "      <td>Ttn_Ctr</td>\n",
       "      <td>noninf</td>\n",
       "      <td>B2</td>\n",
       "      <td>Ttn</td>\n",
       "      <td>...</td>\n",
       "      <td>1839.0</td>\n",
       "      <td>29.395781</td>\n",
       "      <td>0.025575</td>\n",
       "      <td>0.015985</td>\n",
       "      <td>0.0</td>\n",
       "      <td>0.373745</td>\n",
       "      <td>-0.350468</td>\n",
       "      <td>23</td>\n",
       "      <td>2</td>\n",
       "      <td>lymphoid</td>\n",
       "    </tr>\n",
       "    <tr>\n",
       "      <th>TTTACTGAGTGTTCCA-1-B2</th>\n",
       "      <td>AG_Gerull</td>\n",
       "      <td>Ttn_Ctr_noninf_1</td>\n",
       "      <td>2371.0</td>\n",
       "      <td>Ttn_Ctr_noninf_1</td>\n",
       "      <td>Unknown</td>\n",
       "      <td>Ttn_Ctr_noninf</td>\n",
       "      <td>Ttn_Ctr</td>\n",
       "      <td>noninf</td>\n",
       "      <td>B2</td>\n",
       "      <td>Ttn</td>\n",
       "      <td>...</td>\n",
       "      <td>52.0</td>\n",
       "      <td>2.193167</td>\n",
       "      <td>0.035428</td>\n",
       "      <td>0.210881</td>\n",
       "      <td>0.0</td>\n",
       "      <td>0.327349</td>\n",
       "      <td>-0.098295</td>\n",
       "      <td>23</td>\n",
       "      <td>2</td>\n",
       "      <td>lymphoid</td>\n",
       "    </tr>\n",
       "    <tr>\n",
       "      <th>TTTCACAAGCTAAACA-1-B2</th>\n",
       "      <td>AG_Gerull</td>\n",
       "      <td>Ttn_Ctr_noninf_1</td>\n",
       "      <td>9368.0</td>\n",
       "      <td>Ttn_Ctr_noninf_1</td>\n",
       "      <td>Unknown</td>\n",
       "      <td>Ttn_Ctr_noninf</td>\n",
       "      <td>Ttn_Ctr</td>\n",
       "      <td>noninf</td>\n",
       "      <td>B2</td>\n",
       "      <td>Ttn</td>\n",
       "      <td>...</td>\n",
       "      <td>1807.0</td>\n",
       "      <td>19.289068</td>\n",
       "      <td>0.030209</td>\n",
       "      <td>0.032024</td>\n",
       "      <td>0.0</td>\n",
       "      <td>-0.658761</td>\n",
       "      <td>-0.670969</td>\n",
       "      <td>23</td>\n",
       "      <td>2</td>\n",
       "      <td>lymphoid</td>\n",
       "    </tr>\n",
       "  </tbody>\n",
       "</table>\n",
       "<p>1128 rows × 25 columns</p>\n",
       "</div>"
      ],
      "text/plain": [
       "                      cell_source              donor  n_counts  \\\n",
       "AAACCCAAGATACAGT-1-A1   AG_Gerull  Pkp2_Ctr_noninf_2    8562.0   \n",
       "AACCCAATCAGCTGAT-1-A1   AG_Gerull  Pkp2_Ctr_noninf_1   14129.0   \n",
       "AACCTGAAGATAGCAT-1-A1   AG_Gerull  Pkp2_Ctr_noninf_1   14171.0   \n",
       "AACGTCAAGCTACTGT-1-A1   AG_Gerull  Pkp2_Ctr_noninf_2    2057.0   \n",
       "AACTTCTCAAGCGCTC-1-A1   AG_Gerull  Pkp2_Ctr_noninf_2    9940.0   \n",
       "...                           ...                ...       ...   \n",
       "TTGGTTTGTAAGTAGT-1-B2   AG_Gerull   Ttn_Ctr_noninf_2    8900.0   \n",
       "TTGTGGAGTATTGAGA-1-B2   AG_Gerull   Ttn_Ctr_noninf_2    2299.0   \n",
       "TTGTTCAGTGGCAGAT-1-B2   AG_Gerull   Ttn_Ctr_noninf_1    6256.0   \n",
       "TTTACTGAGTGTTCCA-1-B2   AG_Gerull   Ttn_Ctr_noninf_1    2371.0   \n",
       "TTTCACAAGCTAAACA-1-B2   AG_Gerull   Ttn_Ctr_noninf_1    9368.0   \n",
       "\n",
       "                                  sample seed_labels        condition  \\\n",
       "AAACCCAAGATACAGT-1-A1  Pkp2_Ctr_noninf_2     Unknown  Pkp2_Ctr_noninf   \n",
       "AACCCAATCAGCTGAT-1-A1  Pkp2_Ctr_noninf_1     Unknown  Pkp2_Ctr_noninf   \n",
       "AACCTGAAGATAGCAT-1-A1  Pkp2_Ctr_noninf_1     Unknown  Pkp2_Ctr_noninf   \n",
       "AACGTCAAGCTACTGT-1-A1  Pkp2_Ctr_noninf_2     Unknown  Pkp2_Ctr_noninf   \n",
       "AACTTCTCAAGCGCTC-1-A1  Pkp2_Ctr_noninf_2     Unknown  Pkp2_Ctr_noninf   \n",
       "...                                  ...         ...              ...   \n",
       "TTGGTTTGTAAGTAGT-1-B2   Ttn_Ctr_noninf_2     Unknown   Ttn_Ctr_noninf   \n",
       "TTGTGGAGTATTGAGA-1-B2   Ttn_Ctr_noninf_2     Unknown   Ttn_Ctr_noninf   \n",
       "TTGTTCAGTGGCAGAT-1-B2   Ttn_Ctr_noninf_1     Unknown   Ttn_Ctr_noninf   \n",
       "TTTACTGAGTGTTCCA-1-B2   Ttn_Ctr_noninf_1     Unknown   Ttn_Ctr_noninf   \n",
       "TTTCACAAGCTAAACA-1-B2   Ttn_Ctr_noninf_1     Unknown   Ttn_Ctr_noninf   \n",
       "\n",
       "                       genotype infection library model  ...  \\\n",
       "AAACCCAAGATACAGT-1-A1  Pkp2_Ctr    noninf      A1  Pkp2  ...   \n",
       "AACCCAATCAGCTGAT-1-A1  Pkp2_Ctr    noninf      A1  Pkp2  ...   \n",
       "AACCTGAAGATAGCAT-1-A1  Pkp2_Ctr    noninf      A1  Pkp2  ...   \n",
       "AACGTCAAGCTACTGT-1-A1  Pkp2_Ctr    noninf      A1  Pkp2  ...   \n",
       "AACTTCTCAAGCGCTC-1-A1  Pkp2_Ctr    noninf      A1  Pkp2  ...   \n",
       "...                         ...       ...     ...   ...  ...   \n",
       "TTGGTTTGTAAGTAGT-1-B2   Ttn_Ctr    noninf      B2   Ttn  ...   \n",
       "TTGTGGAGTATTGAGA-1-B2   Ttn_Ctr    noninf      B2   Ttn  ...   \n",
       "TTGTTCAGTGGCAGAT-1-B2   Ttn_Ctr    noninf      B2   Ttn  ...   \n",
       "TTTACTGAGTGTTCCA-1-B2   Ttn_Ctr    noninf      B2   Ttn  ...   \n",
       "TTTCACAAGCTAAACA-1-B2   Ttn_Ctr    noninf      B2   Ttn  ...   \n",
       "\n",
       "                       total_counts_ribo  pct_counts_ribo  percent_mt  \\\n",
       "AAACCCAAGATACAGT-1-A1             2026.0        23.662695    0.019038   \n",
       "AACCCAATCAGCTGAT-1-A1             3231.0        22.867861    0.019817   \n",
       "AACCTGAAGATAGCAT-1-A1             3172.0        22.383741    0.016230   \n",
       "AACGTCAAGCTACTGT-1-A1               39.0         1.895965    0.074866   \n",
       "AACTTCTCAAGCGCTC-1-A1             2949.0        29.668009    0.022233   \n",
       "...                                  ...              ...         ...   \n",
       "TTGGTTTGTAAGTAGT-1-B2             1436.0        16.134830    0.031573   \n",
       "TTGTGGAGTATTGAGA-1-B2               67.0         2.914311    0.058286   \n",
       "TTGTTCAGTGGCAGAT-1-B2             1839.0        29.395781    0.025575   \n",
       "TTTACTGAGTGTTCCA-1-B2               52.0         2.193167    0.035428   \n",
       "TTTCACAAGCTAAACA-1-B2             1807.0        19.289068    0.030209   \n",
       "\n",
       "                       percent_chrY  XIST-counts   S_score  G2M_score  \\\n",
       "AAACCCAAGATACAGT-1-A1      0.000000          0.0 -0.339369  -0.496061   \n",
       "AACCCAATCAGCTGAT-1-A1      0.021233          0.0  0.525671  -0.137837   \n",
       "AACCTGAAGATAGCAT-1-A1      0.063510          0.0 -0.268814  -0.516689   \n",
       "AACGTCAAGCTACTGT-1-A1      0.194458          0.0 -0.270605  -0.340320   \n",
       "AACTTCTCAAGCGCTC-1-A1      0.000000          0.0 -0.414867  -0.271517   \n",
       "...                             ...          ...       ...        ...   \n",
       "TTGGTTTGTAAGTAGT-1-B2      0.033708          0.0 -0.518748  -0.153977   \n",
       "TTGTGGAGTATTGAGA-1-B2      0.130492          0.0 -0.117061  -0.443566   \n",
       "TTGTTCAGTGGCAGAT-1-B2      0.015985          0.0  0.373745  -0.350468   \n",
       "TTTACTGAGTGTTCCA-1-B2      0.210881          0.0  0.327349  -0.098295   \n",
       "TTTCACAAGCTAAACA-1-B2      0.032024          0.0 -0.658761  -0.670969   \n",
       "\n",
       "                       _scvi_batch  _scvi_labels  C_scANVI  \n",
       "AAACCCAAGATACAGT-1-A1            7             1  lymphoid  \n",
       "AACCCAATCAGCTGAT-1-A1            6             1  lymphoid  \n",
       "AACCTGAAGATAGCAT-1-A1            6             1  lymphoid  \n",
       "AACGTCAAGCTACTGT-1-A1            7             1  lymphoid  \n",
       "AACTTCTCAAGCGCTC-1-A1            7             1  lymphoid  \n",
       "...                            ...           ...       ...  \n",
       "TTGGTTTGTAAGTAGT-1-B2           24             2  lymphoid  \n",
       "TTGTGGAGTATTGAGA-1-B2           24             2  lymphoid  \n",
       "TTGTTCAGTGGCAGAT-1-B2           23             2  lymphoid  \n",
       "TTTACTGAGTGTTCCA-1-B2           23             2  lymphoid  \n",
       "TTTCACAAGCTAAACA-1-B2           23             2  lymphoid  \n",
       "\n",
       "[1128 rows x 25 columns]"
      ]
     },
     "execution_count": 19,
     "metadata": {},
     "output_type": "execute_result"
    }
   ],
   "source": [
    "query = query[query.obs['condition'].isin([\"Pkp2_Ctr_noninf\", \"Ttn_Ctr_noninf\"]) , :]\n",
    "del(query.obs['batch'])\n",
    "query.obs"
   ]
  },
  {
   "cell_type": "code",
   "execution_count": 20,
   "metadata": {},
   "outputs": [
    {
     "data": {
      "text/plain": [
       "True"
      ]
     },
     "execution_count": 20,
     "metadata": {},
     "output_type": "execute_result"
    }
   ],
   "source": [
    "X_is_raw(query)"
   ]
  },
  {
   "cell_type": "code",
   "execution_count": 21,
   "metadata": {},
   "outputs": [],
   "source": [
    "sc.pp.filter_cells(query, min_genes = 200)\n",
    "sc.pp.filter_cells(query, min_counts = 100)"
   ]
  },
  {
   "cell_type": "markdown",
   "metadata": {},
   "source": [
    "### Change gene symbols for label transfer"
   ]
  },
  {
   "cell_type": "code",
   "execution_count": 22,
   "metadata": {},
   "outputs": [
    {
     "data": {
      "text/plain": [
       "Index(['XKR4', 'GM1992', 'GM19938', 'GM37381', 'RP1', 'SOX17', 'GM37587',\n",
       "       'GM37323', 'MRPL15', 'LYPLA1',\n",
       "       ...\n",
       "       'VMN2R122', 'IL11RA2-1', 'CCL27A-1', 'CCL21C-1', 'CCL27A-2',\n",
       "       'IL11RA2-2', 'CCL19-1', 'CCL21A-1', 'GM10931', 'GM16367'],\n",
       "      dtype='object', length=29378)"
      ]
     },
     "execution_count": 22,
     "metadata": {},
     "output_type": "execute_result"
    }
   ],
   "source": [
    "query.var_names = [gene_name.upper() for gene_name in query.var_names]                      #capitalize gene names to match with the human genes from reference\n",
    "query.var_names"
   ]
  },
  {
   "cell_type": "markdown",
   "metadata": {},
   "source": [
    "### Merge reference and query (make sure the seed_labels of query are 'Unknown')"
   ]
  },
  {
   "cell_type": "code",
   "execution_count": 23,
   "metadata": {},
   "outputs": [
    {
     "data": {
      "text/plain": [
       "AnnData object with n_obs × n_vars = 17531 × 16194\n",
       "    obs: 'NRP', 'cell_source', 'cell_states', 'donor', 'gender', 'n_counts', 'n_genes', 'region', 'sample', 'scNym', 'scNym_confidence', 'lineage', 'general_cell_types', 'seed_labels', 'condition', 'genotype', 'infection', 'library', 'model', 'n_genes_by_counts', 'total_counts', 'doublet_scores', 'total_counts_mt', 'pct_counts_mt', 'total_counts_ribo', 'pct_counts_ribo', 'percent_mt', 'percent_chrY', 'XIST-counts', 'S_score', 'G2M_score', '_scvi_batch', '_scvi_labels', 'C_scANVI', 'batch'\n",
       "    var: 'gene_ids-query', 'feature_types-query', 'mt-query', 'ribo-query'\n",
       "    obsm: 'X_umap'"
      ]
     },
     "execution_count": 23,
     "metadata": {},
     "output_type": "execute_result"
    }
   ],
   "source": [
    "adata = reference.concatenate(query, batch_key = 'batch', batch_categories = ['reference', 'query'], join = 'inner')                #merge to one adata object\n",
    "adata"
   ]
  },
  {
   "cell_type": "code",
   "execution_count": 24,
   "metadata": {},
   "outputs": [
    {
     "data": {
      "text/plain": [
       "Index(['B', 'CD4', 'CD8', 'NK', 'NKT', 'Unknown'], dtype='object')"
      ]
     },
     "execution_count": 24,
     "metadata": {},
     "output_type": "execute_result"
    }
   ],
   "source": [
    "adata.obs['seed_labels'] = adata.obs['seed_labels'].astype('category')\n",
    "adata.obs['seed_labels'].cat.categories"
   ]
  },
  {
   "cell_type": "code",
   "execution_count": 25,
   "metadata": {},
   "outputs": [
    {
     "data": {
      "text/plain": [
       "batch\n",
       "reference    16403\n",
       "query         1128\n",
       "Name: count, dtype: int64"
      ]
     },
     "execution_count": 25,
     "metadata": {},
     "output_type": "execute_result"
    }
   ],
   "source": [
    "adata.obs['batch'].value_counts()"
   ]
  },
  {
   "attachments": {},
   "cell_type": "markdown",
   "metadata": {},
   "source": [
    "### Select HVGs"
   ]
  },
  {
   "cell_type": "code",
   "execution_count": 26,
   "metadata": {},
   "outputs": [
    {
     "data": {
      "text/plain": [
       "donor\n",
       "D6                   4753\n",
       "D7                   3809\n",
       "D11                  2049\n",
       "H2                   1511\n",
       "H3                    707\n",
       "H5                    619\n",
       "H6                    578\n",
       "H4                    551\n",
       "H7                    526\n",
       "D2                    462\n",
       "D3                    376\n",
       "Pkp2_Ctr_noninf_2     298\n",
       "Ttn_Ctr_noninf_1      245\n",
       "D5                    220\n",
       "Ttn_Ctr_noninf_2      173\n",
       "D4                    168\n",
       "Pkp2_Ctr_noninf_4     163\n",
       "Pkp2_Ctr_noninf_1     136\n",
       "Pkp2_Ctr_noninf_3     113\n",
       "D1                     74\n",
       "Name: count, dtype: int64"
      ]
     },
     "execution_count": 26,
     "metadata": {},
     "output_type": "execute_result"
    }
   ],
   "source": [
    "adata.obs['donor'] = adata.obs['donor'].astype('str') \n",
    "adata.obs['donor'].value_counts()"
   ]
  },
  {
   "cell_type": "code",
   "execution_count": 27,
   "metadata": {},
   "outputs": [
    {
     "name": "stdout",
     "output_type": "stream",
     "text": [
      "If you pass `n_top_genes`, all cutoffs are ignored.\n",
      "extracting highly variable genes\n"
     ]
    },
    {
     "name": "stdout",
     "output_type": "stream",
     "text": [
      "--> added\n",
      "    'highly_variable', boolean vector (adata.var)\n",
      "    'highly_variable_rank', float vector (adata.var)\n",
      "    'means', float vector (adata.var)\n",
      "    'variances', float vector (adata.var)\n",
      "    'variances_norm', float vector (adata.var)\n"
     ]
    },
    {
     "data": {
      "text/plain": [
       "AnnData object with n_obs × n_vars = 17531 × 7000\n",
       "    obs: 'NRP', 'cell_source', 'cell_states', 'donor', 'gender', 'n_counts', 'n_genes', 'region', 'sample', 'scNym', 'scNym_confidence', 'lineage', 'general_cell_types', 'seed_labels', 'condition', 'genotype', 'infection', 'library', 'model', 'n_genes_by_counts', 'total_counts', 'doublet_scores', 'total_counts_mt', 'pct_counts_mt', 'total_counts_ribo', 'pct_counts_ribo', 'percent_mt', 'percent_chrY', 'XIST-counts', 'S_score', 'G2M_score', '_scvi_batch', '_scvi_labels', 'C_scANVI', 'batch'\n",
       "    var: 'gene_ids-query', 'feature_types-query', 'mt-query', 'ribo-query', 'highly_variable', 'highly_variable_rank', 'means', 'variances', 'variances_norm', 'highly_variable_nbatches'\n",
       "    uns: 'hvg'\n",
       "    obsm: 'X_umap'\n",
       "    layers: 'counts'"
      ]
     },
     "execution_count": 27,
     "metadata": {},
     "output_type": "execute_result"
    }
   ],
   "source": [
    "adata_raw = adata.copy()\n",
    "adata.layers['counts'] = adata.X.copy()\n",
    "\n",
    "sc.pp.highly_variable_genes(\n",
    "    adata,\n",
    "    flavor = \"seurat_v3\",\n",
    "    n_top_genes = 7000,\n",
    "    layer = \"counts\",\n",
    "    batch_key = \"donor\",\n",
    "    subset = True,\n",
    "    span = 1\n",
    "    )\n",
    "\n",
    "adata"
   ]
  },
  {
   "attachments": {},
   "cell_type": "markdown",
   "metadata": {},
   "source": [
    "### Transfer of annotation with scANVI"
   ]
  },
  {
   "cell_type": "code",
   "execution_count": 28,
   "metadata": {},
   "outputs": [
    {
     "name": "stderr",
     "output_type": "stream",
     "text": [
      "An NVIDIA GPU may be present on this machine, but a CUDA-enabled jaxlib is not installed. Falling back to cpu.\n"
     ]
    }
   ],
   "source": [
    "scvi.model.SCVI.setup_anndata(adata, \n",
    "                              batch_key = 'donor', \n",
    "                              labels_key = 'seed_labels',\n",
    "                              layer = 'counts',\n",
    "                              categorical_covariate_keys = ['donor', 'cell_source'])"
   ]
  },
  {
   "cell_type": "code",
   "execution_count": 29,
   "metadata": {},
   "outputs": [],
   "source": [
    "scvi_model = scvi.model.SCVI(adata, \n",
    "                             n_latent = 150, \n",
    "                             n_layers = 3, \n",
    "                             dispersion = 'gene-batch', \n",
    "                             gene_likelihood = 'nb')"
   ]
  },
  {
   "cell_type": "code",
   "execution_count": 30,
   "metadata": {},
   "outputs": [
    {
     "name": "stderr",
     "output_type": "stream",
     "text": [
      "GPU available: True (cuda), used: True\n",
      "TPU available: False, using: 0 TPU cores\n",
      "IPU available: False, using: 0 IPUs\n",
      "HPU available: False, using: 0 HPUs\n",
      "LOCAL_RANK: 0 - CUDA_VISIBLE_DEVICES: [0,1]\n"
     ]
    },
    {
     "name": "stdout",
     "output_type": "stream",
     "text": [
      "Epoch 20/20: 100%|██████████| 20/20 [00:16<00:00,  1.21it/s, v_num=1, train_loss_step=1.59e+3, train_loss_epoch=1.85e+3]"
     ]
    },
    {
     "name": "stderr",
     "output_type": "stream",
     "text": [
      "`Trainer.fit` stopped: `max_epochs=20` reached.\n"
     ]
    },
    {
     "name": "stdout",
     "output_type": "stream",
     "text": [
      "Epoch 20/20: 100%|██████████| 20/20 [00:16<00:00,  1.18it/s, v_num=1, train_loss_step=1.59e+3, train_loss_epoch=1.85e+3]\n"
     ]
    }
   ],
   "source": [
    "scvi_model.train(20, \n",
    "                 check_val_every_n_epoch = 1, \n",
    "                 enable_progress_bar = True,\n",
    "                 accelerator = \"gpu\",\n",
    "                 devices = [1]                                        \n",
    "                 )"
   ]
  },
  {
   "cell_type": "markdown",
   "metadata": {},
   "source": [
    "### Evaluate model performance a la _Sevensson_"
   ]
  },
  {
   "cell_type": "code",
   "execution_count": 31,
   "metadata": {},
   "outputs": [
    {
     "data": {
      "image/png": "[encoded data removed]"
     },
     "metadata": {
      "image/png": {
       "height": 900,
       "width": 1800
      }
     },
     "output_type": "display_data"
    },
    {
     "name": "stdout",
     "output_type": "stream",
     "text": [
      "\n"
     ]
    }
   ],
   "source": [
    "history_df = (\n",
    "    scvi_model.history['elbo_train'].astype(float)\n",
    "    .join(scvi_model.history['elbo_validation'].astype(float))\n",
    "    .reset_index()\n",
    "    .melt(id_vars = ['epoch'])\n",
    ")\n",
    "\n",
    "p.options.figure_size = 12, 6\n",
    "\n",
    "p_ = (\n",
    "    p.ggplot(p.aes(x = 'epoch', y = 'value', color = 'variable'), history_df.query('epoch > 0'))\n",
    "    + p.geom_line()\n",
    "    + p.geom_point()\n",
    "    + p.scale_color_manual({'elbo_train': 'black', 'elbo_validation': 'red'})\n",
    "    + p.theme_minimal()\n",
    ")\n",
    "\n",
    "p_.save('fig1.png', dpi = 300)\n",
    "\n",
    "print(p_)"
   ]
  },
  {
   "cell_type": "markdown",
   "metadata": {},
   "source": [
    "- get latent representation"
   ]
  },
  {
   "cell_type": "code",
   "execution_count": null,
   "metadata": {},
   "outputs": [],
   "source": [
    "adata.obsm[\"X_scVI\"] = scvi_model.get_latent_representation()"
   ]
  },
  {
   "attachments": {},
   "cell_type": "markdown",
   "metadata": {},
   "source": [
    "### Label transfer with `scANVI` "
   ]
  },
  {
   "cell_type": "code",
   "execution_count": null,
   "metadata": {},
   "outputs": [],
   "source": [
    "scanvi_model = scvi.model.SCANVI.from_scvi_model(scvi_model, 'Unknown')"
   ]
  },
  {
   "cell_type": "code",
   "execution_count": null,
   "metadata": {},
   "outputs": [],
   "source": [
    "scanvi_model.train(6, \n",
    "                   check_val_every_n_epoch = 1, \n",
    "                   enable_progress_bar = True,\n",
    "                   accelerator = \"gpu\",\n",
    "                   devices = [1]                            \n",
    ")"
   ]
  },
  {
   "cell_type": "markdown",
   "metadata": {},
   "source": [
    "### Evaluate model performance a la Svensson"
   ]
  },
  {
   "cell_type": "code",
   "execution_count": null,
   "metadata": {},
   "outputs": [],
   "source": [
    "history_df = (\n",
    "    scanvi_model.history['elbo_train'].astype(float)\n",
    "    .join(scanvi_model.history['elbo_validation'].astype(float))\n",
    "    .reset_index()\n",
    "    .melt(id_vars = ['epoch'])\n",
    ")\n",
    "\n",
    "p.options.figure_size = 12, 6\n",
    "\n",
    "p_ = (\n",
    "    p.ggplot(p.aes(x = 'epoch', y = 'value', color = 'variable'), history_df.query('epoch > 0'))\n",
    "    + p.geom_line()\n",
    "    + p.geom_point()\n",
    "    + p.scale_color_manual({'elbo_train': 'black', 'elbo_validation': 'red'})\n",
    "    + p.theme_minimal()\n",
    ")\n",
    "\n",
    "p_.save('fig2.png', dpi = 300)\n",
    "\n",
    "print(p_)"
   ]
  },
  {
   "cell_type": "code",
   "execution_count": null,
   "metadata": {},
   "outputs": [],
   "source": [
    "adata.obs[\"C_scANVI\"] = scanvi_model.predict(adata)"
   ]
  },
  {
   "attachments": {},
   "cell_type": "markdown",
   "metadata": {},
   "source": [
    "- Extract latent representation"
   ]
  },
  {
   "cell_type": "code",
   "execution_count": null,
   "metadata": {},
   "outputs": [],
   "source": [
    "adata.obsm[\"X_scANVI\"] = scanvi_model.get_latent_representation(adata)"
   ]
  },
  {
   "cell_type": "code",
   "execution_count": null,
   "metadata": {},
   "outputs": [],
   "source": [
    "adata.obs"
   ]
  },
  {
   "attachments": {},
   "cell_type": "markdown",
   "metadata": {},
   "source": [
    "- Visualise corrected dataset"
   ]
  },
  {
   "cell_type": "code",
   "execution_count": null,
   "metadata": {},
   "outputs": [],
   "source": [
    "sc.pp.neighbors(adata, use_rep = \"X_scANVI\", n_neighbors = 50, metric = 'minkowski')\n",
    "sc.tl.umap(adata, min_dist = 0.3, spread = 4, random_state = 1712)"
   ]
  },
  {
   "cell_type": "code",
   "execution_count": null,
   "metadata": {},
   "outputs": [],
   "source": [
    "sc.pl.umap(adata, frameon = False, color = ['C_scANVI', 'seed_labels', 'condition', 'batch', 'model'], size = 1, legend_fontsize = 5, ncols = 1)"
   ]
  },
  {
   "cell_type": "markdown",
   "metadata": {},
   "source": [
    "### Compute `scib-metrics`"
   ]
  },
  {
   "cell_type": "code",
   "execution_count": null,
   "metadata": {},
   "outputs": [],
   "source": [
    "adata"
   ]
  },
  {
   "cell_type": "code",
   "execution_count": null,
   "metadata": {},
   "outputs": [],
   "source": [
    "bm = Benchmarker(\n",
    "    adata,\n",
    "    batch_key=\"donor\",\n",
    "    label_key=\"seed_labels\",                                       \n",
    "    embedding_obsm_keys=[\"X_scVI\", \"X_scANVI\", \"X_pca\"],\n",
    "    n_jobs=-1,\n",
    ")\n",
    "bm.benchmark()"
   ]
  },
  {
   "cell_type": "code",
   "execution_count": null,
   "metadata": {},
   "outputs": [],
   "source": [
    "print(adata.X.dtype)"
   ]
  },
  {
   "cell_type": "code",
   "execution_count": null,
   "metadata": {},
   "outputs": [],
   "source": [
    "bm.plot_results_table(min_max_scale=False)"
   ]
  },
  {
   "cell_type": "code",
   "execution_count": null,
   "metadata": {},
   "outputs": [],
   "source": [
    "df = bm.get_results(min_max_scale=False)\n",
    "df.transpose()"
   ]
  },
  {
   "attachments": {},
   "cell_type": "markdown",
   "metadata": {},
   "source": [
    "### Export annotated object"
   ]
  },
  {
   "cell_type": "code",
   "execution_count": null,
   "metadata": {},
   "outputs": [],
   "source": [
    "adata_export_merged = anndata.AnnData(X = adata_raw.X, var = adata_raw.var, obs = adata.obs)            #export a merged AnnData object with raw values from X and raw genes but modified observations\n",
    "adata_export_merged"
   ]
  },
  {
   "cell_type": "code",
   "execution_count": null,
   "metadata": {},
   "outputs": [],
   "source": [
    "adata_export = adata_export_merged[adata_export_merged.obs['batch'].isin(['query'])]                    #subset merged data set to keep only query\n",
    "adata_export"
   ]
  },
  {
   "cell_type": "markdown",
   "metadata": {},
   "source": [
    "### Add new gene symbols"
   ]
  },
  {
   "cell_type": "code",
   "execution_count": null,
   "metadata": {},
   "outputs": [],
   "source": [
    "query_export = anndata.AnnData(X = query.X, var = query.var, obs = adata_export.obs)                    #make sure to store the raw X values and the raw genes together with modified observations\n",
    "query_export"
   ]
  },
  {
   "cell_type": "markdown",
   "metadata": {},
   "source": [
    "### Revert gene symbols"
   ]
  },
  {
   "cell_type": "code",
   "execution_count": null,
   "metadata": {},
   "outputs": [],
   "source": [
    "query_export.var_names = [gene_name.capitalize() for gene_name in query_export.var_names]           #restore mouse nomenclature\n",
    "query_export.var_names"
   ]
  },
  {
   "cell_type": "code",
   "execution_count": null,
   "metadata": {},
   "outputs": [],
   "source": [
    "query_export.obs['C_scANVI'].value_counts()"
   ]
  },
  {
   "cell_type": "code",
   "execution_count": null,
   "metadata": {},
   "outputs": [],
   "source": [
    "query_export"
   ]
  },
  {
   "cell_type": "code",
   "execution_count": null,
   "metadata": {},
   "outputs": [],
   "source": [
    "#Clean up metadata - delete all columns that came from merging with reference data set\n",
    "\n",
    "del(query_export.obs['cell_states'])\n",
    "del(query_export.obs['gender'])\n",
    "del(query_export.obs['NRP'])\n",
    "del(query_export.obs['region'])\n",
    "del(query_export.obs['scNym'])\n",
    "del(query_export.obs['scNym_confidence'])\n",
    "del(query_export.obs['lineage'])\n"
   ]
  },
  {
   "cell_type": "code",
   "execution_count": null,
   "metadata": {},
   "outputs": [],
   "source": [
    "query_export.obs"
   ]
  },
  {
   "cell_type": "code",
   "execution_count": null,
   "metadata": {},
   "outputs": [],
   "source": [
    "pd.crosstab(query_export.obs['C_scANVI'], query_export.obs['condition'])"
   ]
  },
  {
   "cell_type": "markdown",
   "metadata": {},
   "source": [
    "#### Update the mdata object"
   ]
  },
  {
   "cell_type": "code",
   "execution_count": null,
   "metadata": {},
   "outputs": [],
   "source": [
    "mdata.mod['rna'] = query_export\n",
    "mdata"
   ]
  },
  {
   "cell_type": "code",
   "execution_count": null,
   "metadata": {},
   "outputs": [],
   "source": [
    "mdata.mod['rna'].obs_names"
   ]
  },
  {
   "cell_type": "code",
   "execution_count": null,
   "metadata": {},
   "outputs": [],
   "source": [
    "mdata.mod['prot'].obs_names"
   ]
  },
  {
   "cell_type": "code",
   "execution_count": null,
   "metadata": {},
   "outputs": [],
   "source": [
    "mdata.mod['prot'].obs.index = mdata.mod['prot'].obs.index + '-query'\n",
    "mdata.mod['prot'].obs"
   ]
  },
  {
   "cell_type": "code",
   "execution_count": null,
   "metadata": {},
   "outputs": [],
   "source": [
    "rna_cells = set(mdata.mod['rna'].obs_names)\n",
    "mask = mdata.mod['prot'].obs_names.isin(rna_cells)\n",
    "filtered_prot_export = mdata.mod['prot'][mask]\n",
    "mdata = mu.MuData({\"rna\": mdata.mod['rna'], \"prot\": filtered_prot_export})\n",
    "mdata"
   ]
  },
  {
   "cell_type": "code",
   "execution_count": null,
   "metadata": {},
   "outputs": [],
   "source": [
    "mdata.write('/home/acirnu/data/ACM_cardiac_leuco/4_Seed_labeling_with_scANVI/Pkp2+Ttn_Ctrls_lymphoids_scANVI_cellstates_from_HCA_lymphoids_ac240414.raw.h5mu')   "
   ]
  }
 ],
 "metadata": {
  "kernelspec": {
   "display_name": "Python 3.8.14 ('scvi-tools')",
   "language": "python",
   "name": "python3"
  },
  "language_info": {
   "codemirror_mode": {
    "name": "ipython",
    "version": 3
   },
   "file_extension": ".py",
   "mimetype": "text/x-python",
   "name": "python",
   "nbconvert_exporter": "python",
   "pygments_lexer": "ipython3",
   "version": "3.10.13"
  },
  "orig_nbformat": 4,
  "vscode": {
   "interpreter": {
    "hash": "be6e4b2475555bb52a1f9704f3384c4fd38c8454adf16dc700aeb2c29c9568d8"
   }
  }
 },
 "nbformat": 4,
 "nbformat_minor": 2
}
