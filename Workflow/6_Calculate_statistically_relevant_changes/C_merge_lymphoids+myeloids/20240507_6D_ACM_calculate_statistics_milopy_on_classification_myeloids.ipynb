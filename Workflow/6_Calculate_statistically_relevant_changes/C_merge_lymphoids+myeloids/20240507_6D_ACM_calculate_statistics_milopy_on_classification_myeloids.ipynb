{
 "cells": [
  {
   "cell_type": "markdown",
   "metadata": {},
   "source": [
    "# Compositional analysis of the ACM cardiac leucocytes 6mpi dataset (Pkp2+Ttn) - myeloids - using `milopy`:\n",
    "\n",
    "and the single cell best practices tutorial https://www.sc-best-practices.org/conditions/compositional.html#without-labeled-clusters:\n",
    "\n",
    "- **Developed by**: Christian Eger\n",
    "- **Modified by**: Alexandra Cirnu\n",
    "- **Talavera-López Lab - Würzburg Institute for Systems Immunology - Faculty of Medicine - Julius Maximilian Universität Würzburg**\n",
    "- **Created on**: 231207\n",
    "- **Last modified**: 240507"
   ]
  },
  {
   "cell_type": "markdown",
   "metadata": {},
   "source": [
    "#### Environment: milopy"
   ]
  },
  {
   "cell_type": "code",
   "execution_count": 1,
   "metadata": {},
   "outputs": [],
   "source": [
    "import scanpy as sc\n",
    "import pandas as pd\n",
    "import pertpy as pt\n",
    "import matplotlib.pyplot as plt\n",
    "import matplotlib\n",
    "import seaborn as sns\n",
    "import numpy as np\n",
    "import scvi\n",
    "import rpy2\n",
    "import rpy2.robjects as robjects\n",
    "from rpy2.robjects import pandas2ri\n",
    "from scipy.sparse import csr_matrix\n",
    "import muon as mu\n",
    "from muon import atac as ac\n",
    "from muon import prot"
   ]
  },
  {
   "cell_type": "code",
   "execution_count": 2,
   "metadata": {},
   "outputs": [],
   "source": [
    "rpy2.robjects.numpy2ri.activate()"
   ]
  },
  {
   "cell_type": "code",
   "execution_count": 3,
   "metadata": {},
   "outputs": [],
   "source": [
    "%load_ext rpy2.ipython"
   ]
  },
  {
   "cell_type": "code",
   "execution_count": 4,
   "metadata": {},
   "outputs": [
    {
     "name": "stderr",
     "output_type": "stream",
     "text": [
      "R[write to console]: Fehler in library(edgeR) : es gibt kein Paket namens ‘edgeR’\n",
      "\n"
     ]
    },
    {
     "name": "stdout",
     "output_type": "stream",
     "text": [
      "\n",
      "Fehler in library(edgeR) : es gibt kein Paket namens ‘edgeR’\n"
     ]
    },
    {
     "ename": "RInterpreterError",
     "evalue": "Failed to parse and evaluate line 'library(edgeR)\\n'.\nR error message: 'Fehler in library(edgeR) : es gibt kein Paket namens ‘edgeR’'",
     "output_type": "error",
     "traceback": [
      "\u001b[0;31m---------------------------------------------------------------------------\u001b[0m",
      "\u001b[0;31mRRuntimeError\u001b[0m                             Traceback (most recent call last)",
      "File \u001b[0;32m~/miniforge3/envs/milopy/lib/python3.10/site-packages/rpy2/ipython/rmagic.py:385\u001b[0m, in \u001b[0;36mRMagics.eval\u001b[0;34m(self, code)\u001b[0m\n\u001b[1;32m    383\u001b[0m \u001b[38;5;28;01mtry\u001b[39;00m:\n\u001b[1;32m    384\u001b[0m     \u001b[38;5;66;03m# Need the newline in case the last line in code is a comment.\u001b[39;00m\n\u001b[0;32m--> 385\u001b[0m     value, visible \u001b[38;5;241m=\u001b[39m \u001b[43mro\u001b[49m\u001b[38;5;241;43m.\u001b[39;49m\u001b[43mr\u001b[49m\u001b[43m(\u001b[49m\u001b[38;5;124;43m\"\u001b[39;49m\u001b[38;5;124;43mwithVisible(\u001b[39;49m\u001b[38;5;124;43m{\u001b[39;49m\u001b[38;5;132;43;01m%s\u001b[39;49;00m\u001b[38;5;130;43;01m\\n\u001b[39;49;00m\u001b[38;5;124;43m})\u001b[39;49m\u001b[38;5;124;43m\"\u001b[39;49m\u001b[43m \u001b[49m\u001b[38;5;241;43m%\u001b[39;49m\u001b[43m \u001b[49m\u001b[43mcode\u001b[49m\u001b[43m)\u001b[49m\n\u001b[1;32m    386\u001b[0m \u001b[38;5;28;01mexcept\u001b[39;00m (ri\u001b[38;5;241m.\u001b[39membedded\u001b[38;5;241m.\u001b[39mRRuntimeError, \u001b[38;5;167;01mValueError\u001b[39;00m) \u001b[38;5;28;01mas\u001b[39;00m exception:\n\u001b[1;32m    387\u001b[0m     \u001b[38;5;66;03m# Otherwise next return seems to have copy of error.\u001b[39;00m\n",
      "File \u001b[0;32m~/miniforge3/envs/milopy/lib/python3.10/site-packages/rpy2/robjects/__init__.py:459\u001b[0m, in \u001b[0;36mR.__call__\u001b[0;34m(self, string)\u001b[0m\n\u001b[1;32m    458\u001b[0m p \u001b[38;5;241m=\u001b[39m rinterface\u001b[38;5;241m.\u001b[39mparse(string)\n\u001b[0;32m--> 459\u001b[0m res \u001b[38;5;241m=\u001b[39m \u001b[38;5;28;43mself\u001b[39;49m\u001b[38;5;241;43m.\u001b[39;49m\u001b[43meval\u001b[49m\u001b[43m(\u001b[49m\u001b[43mp\u001b[49m\u001b[43m)\u001b[49m\n\u001b[1;32m    460\u001b[0m \u001b[38;5;28;01mreturn\u001b[39;00m conversion\u001b[38;5;241m.\u001b[39mget_conversion()\u001b[38;5;241m.\u001b[39mrpy2py(res)\n",
      "File \u001b[0;32m~/miniforge3/envs/milopy/lib/python3.10/site-packages/rpy2/robjects/functions.py:208\u001b[0m, in \u001b[0;36mSignatureTranslatedFunction.__call__\u001b[0;34m(self, *args, **kwargs)\u001b[0m\n\u001b[1;32m    207\u001b[0m         kwargs[r_k] \u001b[38;5;241m=\u001b[39m v\n\u001b[0;32m--> 208\u001b[0m \u001b[38;5;28;01mreturn\u001b[39;00m (\u001b[38;5;28;43msuper\u001b[39;49m\u001b[43m(\u001b[49m\u001b[43mSignatureTranslatedFunction\u001b[49m\u001b[43m,\u001b[49m\u001b[43m \u001b[49m\u001b[38;5;28;43mself\u001b[39;49m\u001b[43m)\u001b[49m\n\u001b[1;32m    209\u001b[0m \u001b[43m        \u001b[49m\u001b[38;5;241;43m.\u001b[39;49m\u001b[38;5;21;43m__call__\u001b[39;49m\u001b[43m(\u001b[49m\u001b[38;5;241;43m*\u001b[39;49m\u001b[43margs\u001b[49m\u001b[43m,\u001b[49m\u001b[43m \u001b[49m\u001b[38;5;241;43m*\u001b[39;49m\u001b[38;5;241;43m*\u001b[39;49m\u001b[43mkwargs\u001b[49m\u001b[43m)\u001b[49m)\n",
      "File \u001b[0;32m~/miniforge3/envs/milopy/lib/python3.10/site-packages/rpy2/robjects/functions.py:131\u001b[0m, in \u001b[0;36mFunction.__call__\u001b[0;34m(self, *args, **kwargs)\u001b[0m\n\u001b[1;32m    130\u001b[0m         new_kwargs[k] \u001b[38;5;241m=\u001b[39m cv\u001b[38;5;241m.\u001b[39mpy2rpy(v)\n\u001b[0;32m--> 131\u001b[0m res \u001b[38;5;241m=\u001b[39m \u001b[38;5;28;43msuper\u001b[39;49m\u001b[43m(\u001b[49m\u001b[43mFunction\u001b[49m\u001b[43m,\u001b[49m\u001b[43m \u001b[49m\u001b[38;5;28;43mself\u001b[39;49m\u001b[43m)\u001b[49m\u001b[38;5;241;43m.\u001b[39;49m\u001b[38;5;21;43m__call__\u001b[39;49m\u001b[43m(\u001b[49m\u001b[38;5;241;43m*\u001b[39;49m\u001b[43mnew_args\u001b[49m\u001b[43m,\u001b[49m\u001b[43m \u001b[49m\u001b[38;5;241;43m*\u001b[39;49m\u001b[38;5;241;43m*\u001b[39;49m\u001b[43mnew_kwargs\u001b[49m\u001b[43m)\u001b[49m\n\u001b[1;32m    132\u001b[0m res \u001b[38;5;241m=\u001b[39m cv\u001b[38;5;241m.\u001b[39mrpy2py(res)\n",
      "File \u001b[0;32m~/miniforge3/envs/milopy/lib/python3.10/site-packages/rpy2/rinterface_lib/conversion.py:45\u001b[0m, in \u001b[0;36m_cdata_res_to_rinterface.<locals>._\u001b[0;34m(*args, **kwargs)\u001b[0m\n\u001b[1;32m     44\u001b[0m \u001b[38;5;28;01mdef\u001b[39;00m \u001b[38;5;21m_\u001b[39m(\u001b[38;5;241m*\u001b[39margs, \u001b[38;5;241m*\u001b[39m\u001b[38;5;241m*\u001b[39mkwargs):\n\u001b[0;32m---> 45\u001b[0m     cdata \u001b[38;5;241m=\u001b[39m \u001b[43mfunction\u001b[49m\u001b[43m(\u001b[49m\u001b[38;5;241;43m*\u001b[39;49m\u001b[43margs\u001b[49m\u001b[43m,\u001b[49m\u001b[43m \u001b[49m\u001b[38;5;241;43m*\u001b[39;49m\u001b[38;5;241;43m*\u001b[39;49m\u001b[43mkwargs\u001b[49m\u001b[43m)\u001b[49m\n\u001b[1;32m     46\u001b[0m     \u001b[38;5;66;03m# TODO: test cdata is of the expected CType\u001b[39;00m\n",
      "File \u001b[0;32m~/miniforge3/envs/milopy/lib/python3.10/site-packages/rpy2/rinterface.py:817\u001b[0m, in \u001b[0;36mSexpClosure.__call__\u001b[0;34m(self, *args, **kwargs)\u001b[0m\n\u001b[1;32m    816\u001b[0m     \u001b[38;5;28;01mif\u001b[39;00m error_occured[\u001b[38;5;241m0\u001b[39m]:\n\u001b[0;32m--> 817\u001b[0m         \u001b[38;5;28;01mraise\u001b[39;00m embedded\u001b[38;5;241m.\u001b[39mRRuntimeError(_rinterface\u001b[38;5;241m.\u001b[39m_geterrmessage())\n\u001b[1;32m    818\u001b[0m \u001b[38;5;28;01mreturn\u001b[39;00m res\n",
      "\u001b[0;31mRRuntimeError\u001b[0m: Fehler in library(edgeR) : es gibt kein Paket namens ‘edgeR’\n",
      "\nDuring handling of the above exception, another exception occurred:\n",
      "\u001b[0;31mRInterpreterError\u001b[0m                         Traceback (most recent call last)",
      "Cell \u001b[0;32mIn[4], line 1\u001b[0m\n\u001b[0;32m----> 1\u001b[0m \u001b[43mget_ipython\u001b[49m\u001b[43m(\u001b[49m\u001b[43m)\u001b[49m\u001b[38;5;241;43m.\u001b[39;49m\u001b[43mrun_cell_magic\u001b[49m\u001b[43m(\u001b[49m\u001b[38;5;124;43m'\u001b[39;49m\u001b[38;5;124;43mR\u001b[39;49m\u001b[38;5;124;43m'\u001b[39;49m\u001b[43m,\u001b[49m\u001b[43m \u001b[49m\u001b[38;5;124;43m'\u001b[39;49m\u001b[38;5;124;43m'\u001b[39;49m\u001b[43m,\u001b[49m\u001b[43m \u001b[49m\u001b[38;5;124;43m'\u001b[39;49m\u001b[38;5;124;43mlibrary(edgeR)\u001b[39;49m\u001b[38;5;130;43;01m\\n\u001b[39;49;00m\u001b[38;5;124;43m'\u001b[39;49m\u001b[43m)\u001b[49m\n",
      "File \u001b[0;32m~/miniforge3/envs/milopy/lib/python3.10/site-packages/IPython/core/interactiveshell.py:2541\u001b[0m, in \u001b[0;36mInteractiveShell.run_cell_magic\u001b[0;34m(self, magic_name, line, cell)\u001b[0m\n\u001b[1;32m   2539\u001b[0m \u001b[38;5;28;01mwith\u001b[39;00m \u001b[38;5;28mself\u001b[39m\u001b[38;5;241m.\u001b[39mbuiltin_trap:\n\u001b[1;32m   2540\u001b[0m     args \u001b[38;5;241m=\u001b[39m (magic_arg_s, cell)\n\u001b[0;32m-> 2541\u001b[0m     result \u001b[38;5;241m=\u001b[39m \u001b[43mfn\u001b[49m\u001b[43m(\u001b[49m\u001b[38;5;241;43m*\u001b[39;49m\u001b[43margs\u001b[49m\u001b[43m,\u001b[49m\u001b[43m \u001b[49m\u001b[38;5;241;43m*\u001b[39;49m\u001b[38;5;241;43m*\u001b[39;49m\u001b[43mkwargs\u001b[49m\u001b[43m)\u001b[49m\n\u001b[1;32m   2543\u001b[0m \u001b[38;5;66;03m# The code below prevents the output from being displayed\u001b[39;00m\n\u001b[1;32m   2544\u001b[0m \u001b[38;5;66;03m# when using magics with decorator @output_can_be_silenced\u001b[39;00m\n\u001b[1;32m   2545\u001b[0m \u001b[38;5;66;03m# when the last Python token in the expression is a ';'.\u001b[39;00m\n\u001b[1;32m   2546\u001b[0m \u001b[38;5;28;01mif\u001b[39;00m \u001b[38;5;28mgetattr\u001b[39m(fn, magic\u001b[38;5;241m.\u001b[39mMAGIC_OUTPUT_CAN_BE_SILENCED, \u001b[38;5;28;01mFalse\u001b[39;00m):\n",
      "File \u001b[0;32m~/miniforge3/envs/milopy/lib/python3.10/site-packages/rpy2/ipython/rmagic.py:943\u001b[0m, in \u001b[0;36mRMagics.R\u001b[0;34m(self, line, cell, local_ns)\u001b[0m\n\u001b[1;32m    941\u001b[0m     \u001b[38;5;28;01mif\u001b[39;00m \u001b[38;5;129;01mnot\u001b[39;00m e\u001b[38;5;241m.\u001b[39mstdout\u001b[38;5;241m.\u001b[39mendswith(e\u001b[38;5;241m.\u001b[39merr):\n\u001b[1;32m    942\u001b[0m         \u001b[38;5;28mprint\u001b[39m(e\u001b[38;5;241m.\u001b[39merr)\n\u001b[0;32m--> 943\u001b[0m     \u001b[38;5;28;01mraise\u001b[39;00m e\n\u001b[1;32m    944\u001b[0m \u001b[38;5;28;01mfinally\u001b[39;00m:\n\u001b[1;32m    945\u001b[0m     \u001b[38;5;28;01mif\u001b[39;00m \u001b[38;5;28mself\u001b[39m\u001b[38;5;241m.\u001b[39mdevice \u001b[38;5;129;01min\u001b[39;00m DEVICES_STATIC:\n",
      "File \u001b[0;32m~/miniforge3/envs/milopy/lib/python3.10/site-packages/rpy2/ipython/rmagic.py:923\u001b[0m, in \u001b[0;36mRMagics.R\u001b[0;34m(self, line, cell, local_ns)\u001b[0m\n\u001b[1;32m    921\u001b[0m         return_output \u001b[38;5;241m=\u001b[39m \u001b[38;5;28;01mFalse\u001b[39;00m\n\u001b[1;32m    922\u001b[0m \u001b[38;5;28;01melse\u001b[39;00m:\n\u001b[0;32m--> 923\u001b[0m     text_result, result, visible \u001b[38;5;241m=\u001b[39m \u001b[38;5;28;43mself\u001b[39;49m\u001b[38;5;241;43m.\u001b[39;49m\u001b[43meval\u001b[49m\u001b[43m(\u001b[49m\u001b[43mcode\u001b[49m\u001b[43m)\u001b[49m\n\u001b[1;32m    924\u001b[0m     text_output \u001b[38;5;241m+\u001b[39m\u001b[38;5;241m=\u001b[39m text_result\n\u001b[1;32m    925\u001b[0m     \u001b[38;5;28;01mif\u001b[39;00m visible:\n",
      "File \u001b[0;32m~/miniforge3/envs/milopy/lib/python3.10/site-packages/rpy2/ipython/rmagic.py:389\u001b[0m, in \u001b[0;36mRMagics.eval\u001b[0;34m(self, code)\u001b[0m\n\u001b[1;32m    386\u001b[0m \u001b[38;5;28;01mexcept\u001b[39;00m (ri\u001b[38;5;241m.\u001b[39membedded\u001b[38;5;241m.\u001b[39mRRuntimeError, \u001b[38;5;167;01mValueError\u001b[39;00m) \u001b[38;5;28;01mas\u001b[39;00m exception:\n\u001b[1;32m    387\u001b[0m     \u001b[38;5;66;03m# Otherwise next return seems to have copy of error.\u001b[39;00m\n\u001b[1;32m    388\u001b[0m     warning_or_other_msg \u001b[38;5;241m=\u001b[39m \u001b[38;5;28mself\u001b[39m\u001b[38;5;241m.\u001b[39mflush()\n\u001b[0;32m--> 389\u001b[0m     \u001b[38;5;28;01mraise\u001b[39;00m RInterpreterError(code, \u001b[38;5;28mstr\u001b[39m(exception),\n\u001b[1;32m    390\u001b[0m                             warning_or_other_msg)\n\u001b[1;32m    391\u001b[0m text_output \u001b[38;5;241m=\u001b[39m \u001b[38;5;28mself\u001b[39m\u001b[38;5;241m.\u001b[39mflush()\n\u001b[1;32m    392\u001b[0m \u001b[38;5;28;01mreturn\u001b[39;00m text_output, value, visible[\u001b[38;5;241m0\u001b[39m]\n",
      "\u001b[0;31mRInterpreterError\u001b[0m: Failed to parse and evaluate line 'library(edgeR)\\n'.\nR error message: 'Fehler in library(edgeR) : es gibt kein Paket namens ‘edgeR’'"
     ]
    }
   ],
   "source": [
    "%%R\n",
    "library(edgeR)"
   ]
  },
  {
   "cell_type": "code",
   "execution_count": null,
   "metadata": {},
   "outputs": [],
   "source": [
    "sc.logging.print_versions()"
   ]
  },
  {
   "cell_type": "markdown",
   "metadata": {},
   "source": [
    "#### Load in data"
   ]
  },
  {
   "cell_type": "code",
   "execution_count": null,
   "metadata": {},
   "outputs": [],
   "source": [
    "input = '/Users/alex/data/ACM_cardiac_leuco/5_Leiden_clustering_and_annotation/ACM_myeloids+lymphoids_leiden_clustered_muon_ac240507.raw.h5mu'\n",
    "mdata_data = mu.read_h5mu(input)\n",
    "mdata_data"
   ]
  },
  {
   "cell_type": "code",
   "execution_count": null,
   "metadata": {},
   "outputs": [],
   "source": [
    "adata = mdata_data.mod[\"rna\"]\n",
    "adata"
   ]
  },
  {
   "cell_type": "code",
   "execution_count": null,
   "metadata": {},
   "outputs": [],
   "source": [
    "adata.obs"
   ]
  },
  {
   "cell_type": "markdown",
   "metadata": {},
   "source": [
    "#### Dimensionality reduction to assess whether we see a batch effect in this dataset"
   ]
  },
  {
   "cell_type": "code",
   "execution_count": null,
   "metadata": {},
   "outputs": [],
   "source": [
    "milo = pt.tl.Milo()\n",
    "mdata = milo.load(adata)\n",
    "mdata"
   ]
  },
  {
   "cell_type": "raw",
   "metadata": {},
   "source": [
    "# use logcounts to calculate PCA and neighbors\n",
    "adata.layers[\"counts\"] = adata.X.copy()\n",
    "adata.layers[\"logcounts\"] = sc.pp.log1p(adata.layers[\"counts\"]).copy()\n",
    "adata.X = adata.layers[\"logcounts\"].copy()\n",
    "\n",
    "sc.pp.highly_variable_genes(\n",
    "    adata, n_top_genes=3000, subset=False\n",
    ")  # 3k genes as used by authors for clustering\n",
    "\n",
    "#sc.pp.pca(adata)\n",
    "#sc.pp.neighbors(adata, n_neighbors=10, n_pcs=30, use_rep=\"X_scANVI\")\n",
    "#sc.tl.umap(adata)"
   ]
  },
  {
   "cell_type": "code",
   "execution_count": null,
   "metadata": {},
   "outputs": [],
   "source": [
    "sc.settings.set_figure_params(dpi=200)\n",
    "sc.pl.umap(adata, color=[\"C_scANVI\", \"classification\"], ncols=2, legend_loc=\"right margin\", legend_fontsize= 5 , frameon=False, color_map=\"RdPu\",)"
   ]
  },
  {
   "cell_type": "markdown",
   "metadata": {},
   "source": [
    "#### Batch correction"
   ]
  },
  {
   "cell_type": "markdown",
   "metadata": {},
   "source": [
    "In the single cell best practices tutorial there should be a batch correction step next. Skipped because batch correction already took place."
   ]
  },
  {
   "cell_type": "markdown",
   "metadata": {},
   "source": [
    "### Defining neighborhoods"
   ]
  },
  {
   "cell_type": "code",
   "execution_count": null,
   "metadata": {},
   "outputs": [],
   "source": [
    "milo.make_nhoods(mdata, prop=0.1)"
   ]
  },
  {
   "cell_type": "code",
   "execution_count": null,
   "metadata": {},
   "outputs": [],
   "source": [
    "adata.obsm[\"nhoods\"]"
   ]
  },
  {
   "cell_type": "markdown",
   "metadata": {},
   "source": [
    "At this point we need to check the median number of cells in each neighbourhood, to make sure the neighbourhoods contain enough cells to detect differences between samples."
   ]
  },
  {
   "cell_type": "code",
   "execution_count": null,
   "metadata": {},
   "outputs": [],
   "source": [
    "nhood_size = adata.obsm[\"nhoods\"].toarray().sum(0)\n",
    "plt.hist(nhood_size, bins=20)\n",
    "plt.xlabel(\"# cells in neighbourhood\")\n",
    "plt.ylabel(\"# neighbouthoods\")"
   ]
  },
  {
   "cell_type": "code",
   "execution_count": null,
   "metadata": {},
   "outputs": [],
   "source": [
    "np.median(nhood_size)"
   ]
  },
  {
   "cell_type": "markdown",
   "metadata": {},
   "source": [
    "##### **Changed n_neighbors from 50 to 150**"
   ]
  },
  {
   "cell_type": "code",
   "execution_count": null,
   "metadata": {},
   "outputs": [],
   "source": [
    "sc.pp.neighbors(adata, n_neighbors=150, use_rep=\"X_scANVI\", key_added=\"milo\")\n",
    "milo.make_nhoods(mdata, neighbors_key=\"milo\", prop=0.1)"
   ]
  },
  {
   "cell_type": "code",
   "execution_count": null,
   "metadata": {},
   "outputs": [],
   "source": [
    "nhood_size = adata.obsm[\"nhoods\"].toarray().sum(0)\n",
    "plt.hist(nhood_size, bins=20)\n",
    "plt.xlabel(\"# cells in neighbourhood\")\n",
    "plt.ylabel(\"# neighbouthoods\")"
   ]
  },
  {
   "cell_type": "code",
   "execution_count": null,
   "metadata": {},
   "outputs": [],
   "source": [
    "np.median(nhood_size)"
   ]
  },
  {
   "cell_type": "markdown",
   "metadata": {},
   "source": [
    "#### Count cells in neighborhood"
   ]
  },
  {
   "cell_type": "code",
   "execution_count": null,
   "metadata": {},
   "outputs": [],
   "source": [
    "adata.obs"
   ]
  },
  {
   "cell_type": "code",
   "execution_count": null,
   "metadata": {},
   "outputs": [],
   "source": [
    "milo.count_nhoods(mdata, sample_col=\"donor\")"
   ]
  },
  {
   "cell_type": "code",
   "execution_count": null,
   "metadata": {},
   "outputs": [],
   "source": [
    "mean_n_cells = mdata[\"milo\"].X.toarray().mean(0)\n",
    "plt.plot(nhood_size, mean_n_cells, \".\")\n",
    "plt.xlabel(\"# cells in nhood\")\n",
    "plt.ylabel(\"Mean # cells per sample in nhood\")"
   ]
  },
  {
   "cell_type": "markdown",
   "metadata": {},
   "source": [
    "#### Run differential abundance test on neighborhoods"
   ]
  },
  {
   "cell_type": "code",
   "execution_count": null,
   "metadata": {},
   "outputs": [],
   "source": [
    "milo.da_nhoods(\n",
    "    mdata, design=\"~genotype\", model_contrasts=\"genotypePkp2_HetKO-genotypePkp2_Ctr\"\n",
    ")\n",
    "milo_results_Pkp2_hetko = mdata[\"milo\"].obs.copy()\n",
    "milo_results_Pkp2_hetko"
   ]
  },
  {
   "cell_type": "markdown",
   "metadata": {},
   "source": [
    "#### Data Diagnostics"
   ]
  },
  {
   "cell_type": "code",
   "execution_count": null,
   "metadata": {},
   "outputs": [],
   "source": [
    "def plot_milo_diagnostics(mdata):\n",
    "    alpha = 0.1  ## significance threshold\n",
    "\n",
    "    with matplotlib.rc_context({\"figure.figsize\": [12, 12]}):\n",
    "\n",
    "        ## Check P-value histogram\n",
    "        plt.subplot(2, 2, 1)\n",
    "        plt.hist(mdata[\"milo\"].var[\"PValue\"], bins=20)\n",
    "        plt.xlabel(\"Uncorrected P-value\")\n",
    "\n",
    "        ## Visualize extent of multiple-testing correction\n",
    "        plt.subplot(2, 2, 2)\n",
    "        plt.scatter(\n",
    "            mdata[\"milo\"].var[\"PValue\"],\n",
    "            mdata[\"milo\"].var[\"SpatialFDR\"],\n",
    "            s=3,\n",
    "        )\n",
    "        plt.xlabel(\"Uncorrected P-value\")\n",
    "        plt.ylabel(\"SpatialFDR\")\n",
    "\n",
    "        ## Visualize volcano plot\n",
    "        plt.subplot(2, 2, 3)\n",
    "        plt.scatter(\n",
    "            mdata[\"milo\"].var[\"logFC\"],\n",
    "            -np.log10(mdata[\"milo\"].var[\"SpatialFDR\"]),\n",
    "            s=3,\n",
    "        )\n",
    "        plt.axhline(\n",
    "            y=-np.log10(alpha),\n",
    "            color=\"red\",\n",
    "            linewidth=1,\n",
    "            label=f\"{int(alpha*100)} % SpatialFDR\",\n",
    "        )\n",
    "        plt.legend()\n",
    "        plt.xlabel(\"log-Fold Change\")\n",
    "        plt.ylabel(\"- log10(SpatialFDR)\")\n",
    "        plt.tight_layout()\n",
    "\n",
    "        ## Visualize MA plot\n",
    "        df = mdata[\"milo\"].var\n",
    "        emp_null = df[df[\"SpatialFDR\"] >= alpha][\"logFC\"].mean()\n",
    "        df[\"Sig\"] = df[\"SpatialFDR\"] < alpha\n",
    "\n",
    "        plt.subplot(2, 2, 4)\n",
    "        sns.scatterplot(data=df, x=\"logCPM\", y=\"logFC\", hue=\"Sig\")\n",
    "        plt.axhline(y=0, color=\"grey\", linewidth=1)\n",
    "        plt.axhline(y=emp_null, color=\"purple\", linewidth=1)\n",
    "        plt.legend(title=f\"< {int(alpha*100)} % SpatialFDR\")\n",
    "        plt.xlabel(\"Mean log-counts\")\n",
    "        plt.ylabel(\"log-Fold Change\")\n",
    "        plt.show()\n",
    "\n",
    "\n",
    "plot_milo_diagnostics(mdata)"
   ]
  },
  {
   "cell_type": "markdown",
   "metadata": {},
   "source": [
    "#### Plotting logfoldchange on cells"
   ]
  },
  {
   "cell_type": "code",
   "execution_count": null,
   "metadata": {},
   "outputs": [],
   "source": [
    "sc.settings.set_figure_params(dpi=200)\n",
    "milo.build_nhood_graph(mdata)\n",
    "with matplotlib.rc_context({\"figure.figsize\": [10, 10]}):\n",
    "    milo.plot_nhood_graph(mdata, alpha=0.1, min_size=5, plot_edges=False)\n",
    "    sc.pl.umap(mdata[\"rna\"], color=[\"C_scANVI\", \"classification\"], ncols= 2, legend_loc=\"on data\", legend_fontsize=8 , frameon= False, size = 7)"
   ]
  },
  {
   "cell_type": "code",
   "execution_count": null,
   "metadata": {},
   "outputs": [],
   "source": [
    "mdata[\"milo\"]"
   ]
  },
  {
   "cell_type": "code",
   "execution_count": null,
   "metadata": {},
   "outputs": [],
   "source": [
    "milo.annotate_nhoods(mdata, anno_col=\"classification\")\n",
    "\n",
    "# Define as mixed if fraction of cells in nhood with same label is lower than 0.75\n",
    "#mdata[\"milo\"].var[\"nhood_annotation\"] = mdata[\"milo\"].var[\"nhood_annotation\"].cat.add_categories(['Mixed'])\n",
    "#mdata[\"milo\"].var.loc[mdata[\"milo\"].var[\"nhood_annotation_frac\"] < 0.75, \"nhood_annotation\"] = \"Mixed\""
   ]
  },
  {
   "cell_type": "code",
   "execution_count": null,
   "metadata": {},
   "outputs": [],
   "source": [
    "mdata[\"milo\"].var[\"nhood_annotation\"].cat.categories"
   ]
  },
  {
   "cell_type": "code",
   "execution_count": null,
   "metadata": {},
   "outputs": [],
   "source": [
    "# Determine the number of categories\n",
    "categories = mdata[\"milo\"].var[\"nhood_annotation\"].cat.categories\n",
    "colors = [\"steelblue\", \"darkorange\", \"forestgreen\", \"firebrick\", \"mediumpurple\", \"saddlebrown\", \"violet\", \"grey\", \"olive\"]\n",
    "while len(colors) < len(categories):\n",
    "    colors += colors\n",
    "\n",
    "# Calculate the grid size needed (assuming you want a 3x3 grid)\n",
    "nrows = 19\n",
    "ncols = 4\n",
    "fig, axs = plt.subplots(nrows, ncols, sharey=False, sharex=False, tight_layout=False, figsize=(15,60))\n",
    "\n",
    "# Loop through the categories and plot\n",
    "for i, category in enumerate(categories):\n",
    "    # Calculate the position of the current plot\n",
    "    row = i // ncols\n",
    "    col = i % ncols\n",
    "    \n",
    "    # Filter the data for the current category\n",
    "    data = mdata[\"milo\"].var[mdata[\"milo\"].var[\"nhood_annotation\"].isin([category])][\"logFC\"]\n",
    "    \n",
    "    # Plot the histogram\n",
    "    axs[row, col].hist(data, bins=20, color=colors[i])\n",
    "    axs[row, col].axvline(x=0, color='r', linewidth=1, linestyle='--')\n",
    "    axs[row, col].set_xlabel(\"Log Fold Change\")\n",
    "    axs[row, col].set_ylabel(\"Number of Neighborhoods\")\n",
    "    axs[row, col].set_title(category)\n",
    "\n",
    "# If there are fewer categories than subplots, you might want to hide the unused subplots\n",
    "for j in range(i + 1, nrows * ncols):\n",
    "    fig.delaxes(axs[j // ncols, j % ncols])\n",
    "\n",
    "plt.show()"
   ]
  },
  {
   "cell_type": "code",
   "execution_count": null,
   "metadata": {},
   "outputs": [],
   "source": [
    "def significance_ratios(mdata_object):\n",
    "    d = {\"cell_compartments\": [], \"significance_ratio\": []}\n",
    "    for i in mdata_object[\"milo\"].var[\"nhood_annotation\"].unique():\n",
    "        significant = 0\n",
    "        insignificant = 0\n",
    "        d[\"cell_compartments\"].append(i)\n",
    "        for j in mdata_object[\"milo\"].var[mdata_object[\"milo\"].var[\"nhood_annotation\"].isin([i])][\"Sig\"]:\n",
    "            if j == True:\n",
    "                significant += 1\n",
    "            else:\n",
    "                insignificant += 1\n",
    "        d[\"significance_ratio\"].append(significant/(significant+insignificant))\n",
    "    df = pd.DataFrame.from_dict(data=d)\n",
    "    return df"
   ]
  },
  {
   "cell_type": "code",
   "execution_count": null,
   "metadata": {},
   "outputs": [],
   "source": [
    "significance = significance_ratios(mdata)\n",
    "order = ['DC_12', 'DC_14', 'DC_16', 'DOCK4+MØ_3', 'DOCK4+MØ_9', 'LYVE1+MØ_1',\n",
    "       'LYVE1+MØ_2', 'LYVE1+MØ_4', 'LYVE1+MØ_8', 'Mast_15', 'Monocytes_6',\n",
    "       'Monocytes_11', 'Monocytes_13', 'Monocytes_17', 'MØ_general_0',\n",
    "       'MØ_general_7', 'MØ_general_10', 'Neutrophils_5']\n",
    "\n",
    "fig, axs = plt.subplots(2, figsize=(30,30), gridspec_kw={'height_ratios': [3, 1]})\n",
    "sns.boxplot(data=mdata[\"milo\"].var, x=\"nhood_annotation\", y=\"logFC\", order=order, ax=axs[0], palette= \"tab20\")\n",
    "axs[0].axhline(y=0, color='r', linewidth=1, linestyle='--')\n",
    "axs[0].set_xticklabels(axs[0].get_xticklabels(), rotation=90, ha=\"center\")\n",
    "\n",
    "sns.barplot(data=significance, x=\"cell_compartments\", y=\"significance_ratio\", order=order, ax=axs[1], palette= \"tab20\")\n",
    "plt.ylim(0, 1)\n",
    "axs[1].axhline(y=0.8, color='r', linewidth=1, linestyle='--')\n",
    "axs[1].set_xticklabels(axs[1].get_xticklabels(), rotation=90, ha=\"center\")"
   ]
  }
 ],
 "metadata": {
  "kernelspec": {
   "display_name": "Python 3",
   "language": "python",
   "name": "python3"
  },
  "language_info": {
   "codemirror_mode": {
    "name": "ipython",
    "version": 3
   },
   "file_extension": ".py",
   "mimetype": "text/x-python",
   "name": "python",
   "nbconvert_exporter": "python",
   "pygments_lexer": "ipython3",
   "version": "3.10.14"
  }
 },
 "nbformat": 4,
 "nbformat_minor": 2
}
