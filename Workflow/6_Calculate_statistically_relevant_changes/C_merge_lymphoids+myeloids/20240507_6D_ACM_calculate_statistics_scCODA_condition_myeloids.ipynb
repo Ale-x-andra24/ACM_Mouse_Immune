{
 "cells": [
  {
   "cell_type": "markdown",
   "metadata": {},
   "source": [
    "# Compositional analysis of the ACM cardiac leucocytes 6mpi dataset (Pkp2+Ttn) - myeloids - using scCoda `pertpy`:\n",
    "- **Developed by**: Christian Eger\n",
    "- **Modified by**: Alexandra Cirnu\n",
    "- **Talavera-López Lab - Würzburg Institute for Systems Immunology - Faculty of Medicine - Julius Maximilian Universität Würzburg**\n",
    "- **Created on**: 231214\n",
    "- **Last modified**: 240503"
   ]
  },
  {
   "cell_type": "markdown",
   "metadata": {},
   "source": [
    "#### Environment: scCoda\n",
    "\n",
    "To install `pertpy` on MacOS create a new mamba environment and activte it. Then go int 'github' folder and type 'git clone https://github.com/theislab/pertpy.git'. Change directory to 'pertpy' and type 'pip install .' \n",
    "\n",
    "Look at website to solve problem at the end: https://www.sc-best-practices.org/conditions/compositional.html"
   ]
  },
  {
   "cell_type": "code",
   "execution_count": null,
   "metadata": {},
   "outputs": [],
   "source": [
    "import warnings\n",
    "import pandas as pd\n",
    "warnings.filterwarnings(\"ignore\")\n",
    "warnings.simplefilter(\"ignore\")\n",
    "import numpy as np\n",
    "            #import tensorflow as tf\n",
    "import matplotlib.pyplot as plt\n",
    "import matplotlib\n",
    "import seaborn as sns\n",
    "import altair as alt\n",
    "import scanpy as sc\n",
    "import pertpy as pt\n",
    "from statannot import add_stat_annotation\n",
    "from scipy import stats\n",
    "import muon as mu\n",
    "from muon import atac as ac\n",
    "from muon import prot"
   ]
  },
  {
   "cell_type": "code",
   "execution_count": null,
   "metadata": {},
   "outputs": [],
   "source": [
    "sc.logging.print_versions()"
   ]
  },
  {
   "cell_type": "markdown",
   "metadata": {},
   "source": [
    "Manual git installation of pertpy necessary due to Apple silicon\n",
    "$ git clone https://github.com/theislab/pertpy.git\n",
    "$ cd pertpy\n",
    "$ pip install ."
   ]
  },
  {
   "cell_type": "code",
   "execution_count": null,
   "metadata": {},
   "outputs": [],
   "source": [
    "input = '/Users/alex/data/ACM_cardiac_leuco/5_Leiden_clustering_and_annotation/ACM_myeloids+lymphoids_leiden_clustered_muon_ac240507.raw.h5mu'\n",
    "mdata_data = mu.read_h5mu(input)\n",
    "mdata_data"
   ]
  },
  {
   "cell_type": "code",
   "execution_count": null,
   "metadata": {},
   "outputs": [],
   "source": [
    "adata = mdata_data.mod[\"rna\"]\n",
    "adata"
   ]
  },
  {
   "cell_type": "code",
   "execution_count": null,
   "metadata": {},
   "outputs": [],
   "source": [
    "adata.obs"
   ]
  },
  {
   "cell_type": "code",
   "execution_count": null,
   "metadata": {},
   "outputs": [],
   "source": [
    "new_order_genotype = ['Pkp2_Ctr', 'Pkp2_HetKO', 'Ttn_Ctr', 'Ttn_HetKO']\n",
    "adata.obs[\"genotype\"] = adata.obs[\"genotype\"].cat.reorder_categories(new_order_genotype, ordered=True)\n",
    "\n",
    "adata.obs[\"genotype\"].cat.categories"
   ]
  },
  {
   "cell_type": "code",
   "execution_count": null,
   "metadata": {},
   "outputs": [],
   "source": [
    "new_order_infection = ['noninf', 'MCMV']\n",
    "adata.obs[\"infection\"] = adata.obs[\"infection\"].cat.reorder_categories(new_order_infection, ordered=True)\n",
    "\n",
    "adata.obs[\"infection\"].cat.categories"
   ]
  },
  {
   "cell_type": "code",
   "execution_count": null,
   "metadata": {},
   "outputs": [],
   "source": [
    "new_order_condition = ['Pkp2_Ctr_noninf', 'Pkp2_HetKO_noninf', 'Pkp2_Ctr_MCMV', 'Pkp2_HetKO_MCMV', 'Ttn_Ctr_noninf', 'Ttn_HetKO_noninf','Ttn_Ctr_MCMV', 'Ttn_HetKO_MCMV' ]\n",
    "adata.obs[\"condition\"] = adata.obs[\"condition\"].cat.reorder_categories(new_order_condition, ordered=True)\n",
    "\n",
    "adata.obs[\"condition\"].cat.categories"
   ]
  },
  {
   "cell_type": "markdown",
   "metadata": {},
   "source": [
    "create notebook for every compartment and compare across cell states\n",
    "visualization improvement\n",
    "reference to ctrl healthy"
   ]
  },
  {
   "cell_type": "code",
   "execution_count": null,
   "metadata": {},
   "outputs": [],
   "source": [
    "sccoda_model = pt.tl.Sccoda()\n",
    "sccoda_data = sccoda_model.load(\n",
    "    adata,\n",
    "    type=\"cell_level\",\n",
    "    generate_sample_level=True,\n",
    "    cell_type_identifier=\"classification\",\n",
    "    sample_identifier=\"sample\",\n",
    "    covariate_obs=[\"condition\"],\n",
    ")\n",
    "sccoda_data"
   ]
  },
  {
   "cell_type": "code",
   "execution_count": null,
   "metadata": {},
   "outputs": [],
   "source": [
    "pt.pl.coda.boxplots(\n",
    "    sccoda_data,\n",
    "    modality_key=\"coda\",\n",
    "    feature_name=\"condition\",\n",
    "    y_scale=\"count\",\n",
    "    figsize=(30, 20),\n",
    "    add_dots=False,\n",
    "    args_swarmplot={\"palette\": [\"red\"]},\n",
    ")\n",
    "plt.show()"
   ]
  },
  {
   "cell_type": "code",
   "execution_count": null,
   "metadata": {},
   "outputs": [],
   "source": [
    "pt.pl.coda.boxplots(\n",
    "    sccoda_data,\n",
    "    modality_key=\"coda\",\n",
    "    feature_name=\"condition\",\n",
    "    plot_facets=True,\n",
    "    y_scale=\"log\",\n",
    "    add_dots=True,\n",
    "    cmap=\"Reds\",\n",
    ")\n",
    "plt.xticks(rotation=90)\n",
    "plt.show()"
   ]
  },
  {
   "cell_type": "code",
   "execution_count": null,
   "metadata": {},
   "outputs": [],
   "source": [
    "pt.pl.coda.stacked_barplot(\n",
    "    sccoda_data, modality_key=\"coda\", feature_name=\"condition\", figsize=(15, 9) \n",
    ")\n",
    "plt.legend(ncol=3, loc='upper left', bbox_to_anchor=(1, 1))\n",
    "plt.tight_layout()\n",
    "plt.show()"
   ]
  },
  {
   "cell_type": "code",
   "execution_count": null,
   "metadata": {},
   "outputs": [],
   "source": [
    "sccoda_data = sccoda_model.prepare(\n",
    "    sccoda_data,\n",
    "    modality_key=\"coda\",\n",
    "    formula=\"condition\",\n",
    "    reference_cell_type=\"automatic\",\n",
    ")\n",
    "sccoda_data[\"coda\"]"
   ]
  },
  {
   "cell_type": "markdown",
   "metadata": {},
   "source": [
    "Run No-U-turn HMC sampling (nuts)"
   ]
  },
  {
   "cell_type": "code",
   "execution_count": null,
   "metadata": {},
   "outputs": [],
   "source": [
    "sccoda_model.run_nuts(sccoda_data, modality_key=\"coda\", rng_key=1234)"
   ]
  },
  {
   "cell_type": "code",
   "execution_count": null,
   "metadata": {},
   "outputs": [],
   "source": [
    "sccoda_data[\"coda\"]"
   ]
  },
  {
   "cell_type": "markdown",
   "metadata": {},
   "source": [
    "#### Result interpreteation"
   ]
  },
  {
   "cell_type": "markdown",
   "metadata": {},
   "source": [
    "**Intercepts**\n",
    "\n",
    "The first column of the intercept summary shows the parameters determined by the MCMC inference.\n",
    "\n",
    "The “Expected sample” column gives some context to the numerical values. If we had a new sample (with no active covariates) with a total number of cells equal to the mean sampling depth of the dataset, then this distribution over the cell types would be most likely.\n",
    "\n",
    "**Effects**\n",
    "\n",
    "For the effect summary, the first column again shows the inferred parameters for all combinations of covariates and cell types. Most important is the distinctions between zero and non-zero entries A value of zero means that no statistically credible effect was detected. For a value other than zero, a credible change was detected. A positive sign indicates an increase, a negative sign a decrease in abundance.\n",
    "\n",
    "Since the numerical values of the “Final Parameter” column are not straightforward to interpret, the “Expected sample” and “log2-fold change” columns give us an idea on the magnitude of the change. The expected sample is calculated for each covariate separately (covariate value = 1, all other covariates = 0), with the same method as for the intercepts. The log-fold change is then calculated between this expected sample and the expected sample with no active covariates from the intercept section. Since the data is compositional, cell types for which no credible change was detected, can still change in abundance as well, as soon as a credible effect is detected on another cell type due to the sum-to-one constraint. If there are no credible effects for a covariate, its expected sample will be identical to the intercept sample, therefore the log2-fold change is 0."
   ]
  },
  {
   "cell_type": "code",
   "execution_count": null,
   "metadata": {},
   "outputs": [],
   "source": [
    "sccoda_model.summary(sccoda_data, modality_key= \"coda\")"
   ]
  },
  {
   "cell_type": "markdown",
   "metadata": {},
   "source": [
    "### Filter out credible effects"
   ]
  },
  {
   "cell_type": "code",
   "execution_count": null,
   "metadata": {},
   "outputs": [],
   "source": [
    "sccoda_model.credible_effects(sccoda_data, modality_key=\"coda\")"
   ]
  },
  {
   "cell_type": "code",
   "execution_count": null,
   "metadata": {},
   "outputs": [],
   "source": [
    "pt.pl.coda.effects_barplot(sccoda_data, modality_key=\"coda\", parameter=\"Final Parameter\")"
   ]
  },
  {
   "cell_type": "markdown",
   "metadata": {},
   "source": [
    "##### Adjust the \"false discovery rate\""
   ]
  },
  {
   "cell_type": "raw",
   "metadata": {},
   "source": [
    "#If needed adjust the 'false discovery rate' - default is 0.05, however when no effects are detected it can be incresed to up to 0.2\n",
    "sccoda_model.set_fdr(sccoda_data, 0.2)\n",
    "sccoda_model.credible_effects(sccoda_data, modality_key=\"coda\")"
   ]
  },
  {
   "cell_type": "code",
   "execution_count": null,
   "metadata": {},
   "outputs": [],
   "source": [
    "sccoda_data"
   ]
  },
  {
   "cell_type": "code",
   "execution_count": null,
   "metadata": {},
   "outputs": [],
   "source": [
    "sccoda_data[\"coda\"].varm[\"effect_df_condition[T.Pkp2_HetKO_noninf]\"]"
   ]
  },
  {
   "cell_type": "code",
   "execution_count": null,
   "metadata": {},
   "outputs": [],
   "source": [
    "sccoda_data[\"coda\"].varm[\"effect_df_condition[T.Pkp2_HetKO_MCMV]\"]"
   ]
  },
  {
   "cell_type": "code",
   "execution_count": null,
   "metadata": {},
   "outputs": [],
   "source": [
    "plt.figure(figsize=(18,8))\n",
    "sns.barplot(data=sccoda_data[\"coda\"].varm[\"effect_df_condition[T.Pkp2_HetKO_MCMV]\"], x=\"Cell Type\", y=\"log2-fold change\", hue=\"Cell Type\")\n",
    "plt.xticks(rotation=90)\n",
    "plt.show()"
   ]
  },
  {
   "cell_type": "code",
   "execution_count": null,
   "metadata": {},
   "outputs": [],
   "source": [
    "plt.figure(figsize=(18,8))\n",
    "sns.barplot(data=sccoda_data[\"coda\"].varm[\"effect_df_condition[T.Pkp2_HetKO_noninf]\"], x=\"Cell Type\", y=\"log2-fold change\", hue=\"Cell Type\")\n",
    "plt.xticks(rotation=90)\n",
    "plt.show()"
   ]
  },
  {
   "cell_type": "code",
   "execution_count": null,
   "metadata": {},
   "outputs": [],
   "source": [
    "pt.pl.coda.effects_barplot(sccoda_data, \"coda\", \"condition\")\n",
    "plt.show()"
   ]
  }
 ],
 "metadata": {
  "kernelspec": {
   "display_name": "Python 3",
   "language": "python",
   "name": "python3"
  },
  "language_info": {
   "codemirror_mode": {
    "name": "ipython",
    "version": 3
   },
   "file_extension": ".py",
   "mimetype": "text/x-python",
   "name": "python",
   "nbconvert_exporter": "python",
   "pygments_lexer": "ipython3",
   "version": "3.10.13"
  }
 },
 "nbformat": 4,
 "nbformat_minor": 2
}
