{
 "cells": [
  {
   "cell_type": "markdown",
   "metadata": {},
   "source": [
    "### Notebook for scoring the confidence of annotations using `Annotability`\n",
    "\n",
    "#### Environment: Annotability\n",
    "\n",
    "- **Developed by:** Alexandra Cirnu\n",
    "- **Modified by:** Alexandra Cirnu\n",
    "- **Würzburg Institute for Systems Immunology & Julius-Maximilian-Universität Würzburg**\n",
    "- **Date of creation:** 240415\n",
    "- **Date of modification:** 240415"
   ]
  },
  {
   "cell_type": "markdown",
   "metadata": {},
   "source": [
    "### Load in required modules"
   ]
  },
  {
   "cell_type": "code",
   "execution_count": null,
   "metadata": {},
   "outputs": [],
   "source": [
    "from Annotatability import metrics, models\n",
    "import numpy as np\n",
    "import pandas as pd\n",
    "import scanpy as sc\n",
    "from torch.utils.data import TensorDataset, DataLoader , WeightedRandomSampler\n",
    "import torch\n",
    "import torch.optim as optim\n",
    "device = torch.device('cuda:0' if torch.cuda.is_available() else 'cpu')\n",
    "import muon as mu\n",
    "from muon import atac as ac\n",
    "from muon import prot as pt\n",
    "from scipy.sparse import csr_matrix\n",
    "import matplotlib.pyplot as plt"
   ]
  },
  {
   "cell_type": "code",
   "execution_count": null,
   "metadata": {},
   "outputs": [],
   "source": [
    "sc.settings.verbosity = 3             # verbosity: errors (0), warnings (1), info (2), hints (3)\n",
    "sc.logging.print_versions()\n",
    "\n",
    "sc.settings.set_figure_params(dpi = 300, color_map = 'magma_r', dpi_save = 300, vector_friendly = True, format = 'svg')\n",
    "%matplotlib inline"
   ]
  },
  {
   "cell_type": "code",
   "execution_count": null,
   "metadata": {},
   "outputs": [],
   "source": [
    "SMALL_SIZE = 14\n",
    "MEDIUM_SIZE = 18\n",
    "BIGGER_SIZE = 20\n",
    "sc.set_figure_params(scanpy=True, fontsize=16)\n",
    "plt.rc('font', size=MEDIUM_SIZE)          # controls default text sizes\n",
    "plt.rc('axes', titlesize=MEDIUM_SIZE)     # fontsize of the axes title\n",
    "plt.rc('axes', labelsize=MEDIUM_SIZE)    # fontsize of the x and y labels\n",
    "plt.rc('xtick', labelsize=MEDIUM_SIZE)    # fontsize of the tick labels\n",
    "plt.rc('ytick', labelsize=MEDIUM_SIZE)    # fontsize of the tick labels\n",
    "plt.rc('legend', fontsize=MEDIUM_SIZE)    # legend fontsize\n",
    "plt.rc('figure', titlesize=BIGGER_SIZE)  # fontsize of the figure title"
   ]
  },
  {
   "cell_type": "markdown",
   "metadata": {},
   "source": [
    "### Load in the data set"
   ]
  },
  {
   "cell_type": "code",
   "execution_count": null,
   "metadata": {},
   "outputs": [],
   "source": [
    "input = '/home/acirnu/data/ACM_cardiac_leuco/5_Leiden_clustering_and_annotation/ACM_myeloids_clustered_muon_ac240415.raw.h5mu'\n",
    "mdata = mu.read_h5mu(input)\n",
    "mdata"
   ]
  },
  {
   "cell_type": "code",
   "execution_count": null,
   "metadata": {},
   "outputs": [],
   "source": [
    "adata = mdata.mod[\"rna\"]"
   ]
  },
  {
   "cell_type": "code",
   "execution_count": null,
   "metadata": {},
   "outputs": [],
   "source": [
    "X_data = adata.X.copy()\n",
    "X_data_sparse = csr_matrix(X_data)\n",
    "X_data_df = pd.DataFrame.sparse.from_spmatrix(X_data_sparse, index=adata.obs.index, columns=adata.var.index)\n",
    "print(\"Shape of counts DataFrame:\", X_data_df.shape)\n",
    "print(X_data_df)"
   ]
  },
  {
   "cell_type": "markdown",
   "metadata": {},
   "source": [
    "### Standard preprocessing"
   ]
  },
  {
   "cell_type": "code",
   "execution_count": null,
   "metadata": {},
   "outputs": [],
   "source": [
    "adata_raw = adata.copy()"
   ]
  },
  {
   "cell_type": "code",
   "execution_count": null,
   "metadata": {},
   "outputs": [],
   "source": [
    "adata_raw = adata.copy()\n",
    "adata.layers['counts'] = adata.X.copy()\n",
    "\n",
    "sc.pp.highly_variable_genes(\n",
    "    adata,\n",
    "    flavor = \"seurat_v3\",\n",
    "    n_top_genes = 7000,\n",
    "    layer = \"counts\",\n",
    "    batch_key = \"donor\",\n",
    "    subset = True,\n",
    "    span = 1\n",
    "    )\n",
    "\n",
    "adata"
   ]
  },
  {
   "cell_type": "code",
   "execution_count": null,
   "metadata": {},
   "outputs": [],
   "source": [
    "sc.pp.normalize_total(adata, target_sum = 1e6, exclude_highly_expressed = True)\n",
    "sc.pp.log1p(adata)"
   ]
  },
  {
   "cell_type": "code",
   "execution_count": null,
   "metadata": {},
   "outputs": [],
   "source": [
    "X_data = adata.X.copy()\n",
    "X_data_sparse = csr_matrix(X_data)\n",
    "X_data_df = pd.DataFrame.sparse.from_spmatrix(X_data_sparse, index=adata.obs.index, columns=adata.var.index)\n",
    "print(\"Shape of counts DataFrame:\", X_data_df.shape)\n",
    "print(X_data_df)"
   ]
  },
  {
   "cell_type": "markdown",
   "metadata": {},
   "source": [
    "### Visualization"
   ]
  },
  {
   "cell_type": "code",
   "execution_count": null,
   "metadata": {},
   "outputs": [],
   "source": [
    "sc.set_figure_params(dpi =300, figsize = (10,10))\n",
    "sc.pl.umap(adata,color=['classification'], frameon = False, legend_fontsize= 10, size = 20)"
   ]
  },
  {
   "cell_type": "code",
   "execution_count": null,
   "metadata": {},
   "outputs": [],
   "source": [
    "adata"
   ]
  },
  {
   "cell_type": "markdown",
   "metadata": {},
   "source": [
    "### Train the neural network and monitor the traiing dynamics"
   ]
  },
  {
   "cell_type": "code",
   "execution_count": null,
   "metadata": {},
   "outputs": [],
   "source": [
    "epoch_num=50\n",
    "prob_list = models.follow_training_dyn_neural_net(adata, label_key='classification',iterNum=epoch_num, device=device)"
   ]
  },
  {
   "cell_type": "code",
   "execution_count": null,
   "metadata": {},
   "outputs": [],
   "source": [
    "all_conf , all_var = models.probability_list_to_confidence_and_var(prob_list, n_obs= adata.n_obs, epoch_num=epoch_num)"
   ]
  },
  {
   "cell_type": "markdown",
   "metadata": {},
   "source": [
    "#### Visualize the data map"
   ]
  },
  {
   "cell_type": "code",
   "execution_count": null,
   "metadata": {},
   "outputs": [],
   "source": [
    "plt.scatter( all_var.detach().numpy(),all_conf.detach().numpy())\n",
    "plt.xlabel('variability')\n",
    "plt.ylabel('confidence')\n",
    "plt.show()"
   ]
  },
  {
   "cell_type": "code",
   "execution_count": null,
   "metadata": {},
   "outputs": [],
   "source": [
    "adata.obs[\"var\"] = list(all_var.detach().numpy())\n",
    "adata.obs[\"conf\"] = list(all_conf.detach().numpy())"
   ]
  },
  {
   "cell_type": "code",
   "execution_count": null,
   "metadata": {},
   "outputs": [],
   "source": [
    "sc.pl.umap(adata,color=['conf','var','classification'])"
   ]
  },
  {
   "cell_type": "code",
   "execution_count": null,
   "metadata": {},
   "outputs": [],
   "source": [
    "# Create a FacetGrid, using 'classification' to create a subplot for each unique value\n",
    "g = sns.FacetGrid(adata.obs, col=\"classification\", col_wrap=4, height=5)\n",
    "g.map_dataframe(sns.scatterplot, x=\"var\", y=\"conf\")\n",
    "\n",
    "# Add a main title and adjust spacing\n",
    "g.fig.suptitle('Scatter Plots by classification', fontsize=16)\n",
    "g.fig.subplots_adjust(top=0.97) \n",
    "\n",
    "# Show the plot\n",
    "plt.show()\n"
   ]
  },
  {
   "cell_type": "markdown",
   "metadata": {},
   "source": [
    "Find the cutoff, cells with confidence lower than the cutoff and varibility lower than the cutoff will be classified as hard-to-learn."
   ]
  },
  {
   "cell_type": "code",
   "execution_count": null,
   "metadata": {},
   "outputs": [],
   "source": [
    "cutoff_conf, cutoff_var = models.find_cutoff_paramter(adata,'classification', device=device, probability=0.05,percentile=50, epoch_num=epoch_num)"
   ]
  },
  {
   "cell_type": "code",
   "execution_count": null,
   "metadata": {},
   "outputs": [],
   "source": [
    "cutoff_conf, cutoff_var"
   ]
  },
  {
   "cell_type": "code",
   "execution_count": null,
   "metadata": {},
   "outputs": [],
   "source": [
    "adata.obs['conf_binaries'] = pd.Categorical((adata.obs['conf'] > cutoff_conf) |  (adata.obs['var'] > cutoff_var))\n",
    "adata.obs['conf_binaries'].value_counts()"
   ]
  },
  {
   "cell_type": "markdown",
   "metadata": {},
   "source": [
    "Mark which cells are correctly annotated. We will define cells that are not either correctly annotated or erroneously annotated as ambiguous annotation."
   ]
  },
  {
   "cell_type": "code",
   "execution_count": null,
   "metadata": {},
   "outputs": [],
   "source": [
    "adata.obs['conf_correct'] = pd.Categorical((adata.obs['conf'] > 0.95) &  (adata.obs['var'] < 0.2))  #choose values that show in any case correctly labeled cells\n",
    "adata.obs['conf_correct'].value_counts()"
   ]
  },
  {
   "cell_type": "code",
   "execution_count": null,
   "metadata": {},
   "outputs": [],
   "source": [
    "corr_classified_list =[]\n",
    "for i in range(adata.n_obs):\n",
    "    if adata.obs['conf_binaries'][i]==False:\n",
    "        corr_classified_list.append('Erroneously annotated')\n",
    "    else:\n",
    "        if adata.obs['conf_correct'][i]==False:\n",
    "            corr_classified_list.append('Ambiguous annotation')\n",
    "        else:\n",
    "            corr_classified_list.append('Correctly annotated')\n",
    "\n",
    "adata.obs['Annotation']=corr_classified_list\n",
    "adata.obs['Annotation'].value_counts()"
   ]
  },
  {
   "cell_type": "code",
   "execution_count": null,
   "metadata": {},
   "outputs": [],
   "source": [
    "adata.obs['Confidence']=adata.obs['conf']\n",
    "adata.obs['Variability']=adata.obs['var']"
   ]
  },
  {
   "cell_type": "code",
   "execution_count": null,
   "metadata": {},
   "outputs": [],
   "source": [
    "fig = sns.jointplot(data=adata.obs, x=\"Variability\", y=\"Confidence\",hue='Annotation',s=25)\n",
    "plt.show(fig)"
   ]
  },
  {
   "cell_type": "code",
   "execution_count": null,
   "metadata": {},
   "outputs": [],
   "source": [
    "sc.set_figure_params(dpi =300, figsize = (10,10))\n",
    "sc.pl.umap(adata,color=['conf', 'batch', 'conf_binaries', 'Annotation'], ncols = 2, size = 15, frameon= False)"
   ]
  },
  {
   "cell_type": "code",
   "execution_count": null,
   "metadata": {},
   "outputs": [],
   "source": [
    "sc.set_figure_params(dpi =300, figsize = (10,10))\n",
    "sc.pl.umap(adata,color=['classification', 'classification'], legend_fontsize= 10, size = 15, frameon= False)"
   ]
  },
  {
   "cell_type": "markdown",
   "metadata": {},
   "source": [
    "### Predict true labels"
   ]
  },
  {
   "cell_type": "code",
   "execution_count": null,
   "metadata": {},
   "outputs": [],
   "source": [
    "hdata = models.predict_true_labels(adata, label='classification', device=device, epoch_num=50)"
   ]
  },
  {
   "cell_type": "code",
   "execution_count": null,
   "metadata": {},
   "outputs": [],
   "source": [
    "hdata"
   ]
  },
  {
   "cell_type": "code",
   "execution_count": null,
   "metadata": {},
   "outputs": [],
   "source": [
    "adata_false_annotation= adata[adata.obs['conf_binaries'].isin([False])]\n",
    "adata_true_annotation= adata[adata.obs['conf_binaries'].isin([True])]"
   ]
  },
  {
   "cell_type": "code",
   "execution_count": null,
   "metadata": {},
   "outputs": [],
   "source": [
    "hdata.obs['changed_anno'] = (hdata.obs['classification']==hdata.obs['CorrectedCellType'])\n",
    "hdata.obs['changed_anno'].value_counts()"
   ]
  },
  {
   "cell_type": "code",
   "execution_count": null,
   "metadata": {},
   "outputs": [],
   "source": [
    "adata_did_not_changed= hdata[hdata.obs['changed_anno'].isin([True])]\n",
    "adata_did_not_changed = adata_did_not_changed[adata_did_not_changed.obs['conf_binaries'].isin([False])]\n",
    "adata_did_not_changed"
   ]
  },
  {
   "cell_type": "code",
   "execution_count": null,
   "metadata": {},
   "outputs": [],
   "source": [
    "adata_annotation_changed= hdata[hdata.obs['changed_anno'].isin([False])]\n",
    "adata_annotation_changed"
   ]
  },
  {
   "cell_type": "code",
   "execution_count": null,
   "metadata": {},
   "outputs": [],
   "source": [
    "adata.obs[\"classification\"].cat.categories"
   ]
  },
  {
   "cell_type": "code",
   "execution_count": null,
   "metadata": {},
   "outputs": [],
   "source": [
    "adata_annotation_changed_no_per= adata_annotation_changed[adata_annotation_changed.obs['CorrectedCellType'].isin(['DC', 'DOCK4+MØ', 'LYVE1+MØ', 'Mast', 'Monocytes', 'MØ_general','Neutrophils'])]"
   ]
  },
  {
   "cell_type": "code",
   "execution_count": null,
   "metadata": {},
   "outputs": [],
   "source": [
    "adata_false_annotated= hdata[hdata.obs['conf_binaries'].isin([False])]"
   ]
  },
  {
   "cell_type": "code",
   "execution_count": null,
   "metadata": {},
   "outputs": [],
   "source": [
    "tmp_tdata2 = hdata[hdata.obs['CellType'].isin(['Excitatory'])]\n",
    "False_or_pos = []\n",
    "for i in range(tmp_tdata2.n_obs):\n",
    "    if tmp_tdata2.obs['conf_binaries'][i]:\n",
    "        False_or_pos.append('  Correct annotation')\n",
    "    else:\n",
    "        False_or_pos.append('  Erroneous annotation')\n",
    "\n",
    "tmp_tdata2.obs['Celltype_to_corrected'] = False_or_pos\n",
    "\n",
    "\n",
    "Celltype_to_corrected =[]\n",
    "for i in range(adata_false_annotated.n_obs):\n",
    "    if adata_false_annotated.obs['CorrectedCellType'][i]=='Inhibitory':\n",
    "        string = \" \" +str(adata_false_annotated.obs['CellType'][i]) + \"_\" + str(adata_false_annotated.obs['CorrectedCellType'][i])\n",
    "    elif adata_false_annotated.obs['CorrectedCellType'][i]=='Excitatory':\n",
    "        string = \" \" +str(adata_false_annotated.obs['CellType'][i]) + \"_\" + str(adata_false_annotated.obs['CorrectedCellType'][i])\n",
    "    else:\n",
    "        string = str(adata_false_annotated.obs['CellType'][i]) + \"_\" + str(adata_false_annotated.obs['CorrectedCellType'][i])\n",
    "    Celltype_to_corrected.append(string)\n",
    "adata_false_annotated.obs['Celltype_to_corrected'] = Celltype_to_corrected\n",
    "\n",
    "tmp_tdata = adata_false_annotated[adata_false_annotated.obs['CellType'].isin(['Excitatory'])]\n",
    "Celltype_to_corrected =[]\n",
    "for i in range(tmp_tdata.n_obs):\n",
    "        if tmp_tdata.obs['conf_binaries'][i]==False:        \n",
    "            if tmp_tdata.obs['CorrectedCellType'][i]=='Inhibitory': \n",
    "                string = \" Corrected from \" + str(tmp_tdata.obs['CellType'][i]) + \" to \" + str(tmp_tdata.obs['CorrectedCellType'][i])\n",
    "            elif tmp_tdata.obs['CorrectedCellType'][i]=='Excitatory': \n",
    "                string = \" Corrected from \" + str(tmp_tdata.obs['CellType'][i]) + \" to \" + str(tmp_tdata.obs['CorrectedCellType'][i])\n",
    "            else:\n",
    "                string = \"Corrected from \" + str(tmp_tdata.obs['CellType'][i]) + \" to \" + str(tmp_tdata.obs['CorrectedCellType'][i])\n",
    "            Celltype_to_corrected.append(string)\n",
    "\n",
    "tmp_tdata.obs['Celltype_to_corrected'] = Celltype_to_corrected\n",
    "\n",
    "marker_genes_dict = {\n",
    "                     'Inhibitory neurons':['Gad1'],#, 'Gad2', 'Slc32a1'],\n",
    "                    'Excitatory neurons': ['Slc17a6'],\n",
    "                     'Astrocytes': ['Aqp4'],\n",
    "                     'Endothelial':['Fn1'],\n",
    "                     'Ependymal':['Cd24a'],\n",
    "                     'Microglia':['Selplg'],\n",
    "                     'OD Immature': ['Pdgfra'],\n",
    "                     'OD Mature':['Ttyh2','Mbp'],\n",
    "                     'Pericytes':['Myh11']}\n",
    "\n",
    "\n",
    "tmp_tdata3 = tmp_tdata2.concatenate(tmp_tdata)"
   ]
  }
 ],
 "metadata": {
  "kernelspec": {
   "display_name": "Annotability",
   "language": "python",
   "name": "python3"
  },
  "language_info": {
   "codemirror_mode": {
    "name": "ipython",
    "version": 3
   },
   "file_extension": ".py",
   "mimetype": "text/x-python",
   "name": "python",
   "nbconvert_exporter": "python",
   "pygments_lexer": "ipython3",
   "version": "3.10.14"
  }
 },
 "nbformat": 4,
 "nbformat_minor": 2
}
