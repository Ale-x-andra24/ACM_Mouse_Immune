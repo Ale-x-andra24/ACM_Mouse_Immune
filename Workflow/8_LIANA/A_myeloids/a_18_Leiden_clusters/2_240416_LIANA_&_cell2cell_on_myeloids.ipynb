{
 "cells": [
  {
   "cell_type": "markdown",
   "metadata": {},
   "source": [
    "### Notebook for Intercellular Context Factorization using `LIANA` and `Tensor-Cell2cell`\n",
    "\n",
    "#### Environment: LIANA\n",
    "\n",
    "- **Developed by:** Alexandra Cirnu\n",
    "- **Modified by:** Alexandra Cirnu\n",
    "- **Würzburg Institute for Systems Immunology & Julius-Maximilian-Universität Würzburg**\n",
    "- **Date of creation:** 240426\n",
    "- **Date of modification:** 240426\n",
    "\n",
    "`Liana` works with log1p-transformed counts and uses **all genes** (with enough counts)"
   ]
  },
  {
   "cell_type": "markdown",
   "metadata": {},
   "source": [
    "### Load in required modules"
   ]
  },
  {
   "cell_type": "code",
   "execution_count": null,
   "metadata": {},
   "outputs": [],
   "source": [
    "import cell2cell as c2c\n",
    "import liana as li\n",
    "\n",
    "import pandas as pd\n",
    "import decoupler as dc # needed for pathway enrichment\n",
    "import scanpy as sc\n",
    "import numpy as np\n",
    "\n",
    "import plotnine as p9\n",
    "import seaborn as sns\n",
    "import matplotlib.pyplot as plt\n",
    "%matplotlib inline\n",
    "\n",
    "import muon as mu\n",
    "from muon import atac as ac\n",
    "from muon import prot as pt\n",
    "from scipy.sparse import csr_matrix\n",
    "\n",
    "import warnings\n",
    "warnings.filterwarnings('ignore')\n",
    "from collections import defaultdict"
   ]
  },
  {
   "cell_type": "code",
   "execution_count": null,
   "metadata": {},
   "outputs": [],
   "source": [
    "# NOTE: to use CPU instead of GPU, set use_gpu = False\n",
    "use_gpu = True\n",
    "\n",
    "if use_gpu:\n",
    "    import torch\n",
    "    import tensorly as tl\n",
    "\n",
    "    device = \"cuda:1\" if torch.cuda.is_available() else \"cpu\"\n",
    "    if device == \"cuda:1\":\n",
    "        tl.set_backend('pytorch')\n",
    "else:\n",
    "    device = \"cpu\"\n",
    "\n",
    "device"
   ]
  },
  {
   "cell_type": "code",
   "execution_count": null,
   "metadata": {},
   "outputs": [],
   "source": [
    "sc.settings.verbosity = 3             # verbosity: errors (0), warnings (1), info (2), hints (3)\n",
    "sc.logging.print_versions()\n",
    "\n",
    "sc.settings.set_figure_params(dpi = 300, color_map = 'RdPu', dpi_save = 300, vector_friendly = True, format = 'svg')"
   ]
  },
  {
   "cell_type": "markdown",
   "metadata": {},
   "source": [
    "### Load in the data set"
   ]
  },
  {
   "cell_type": "code",
   "execution_count": null,
   "metadata": {},
   "outputs": [],
   "source": [
    "input_folder = '/home/acirnu/data/ACM_cardiac_leuco/5_Leiden_clustering_and_annotation/'\n",
    "output_folder = '/home/acirnu/data/ACM_cardiac_leuco/Cell2cell/'"
   ]
  },
  {
   "cell_type": "code",
   "execution_count": null,
   "metadata": {},
   "outputs": [],
   "source": [
    "input = input_folder + 'ACM_myeloids_clustered_muon_ac240415.raw.h5mu'\n",
    "mdata = mu.read_h5mu(input)\n",
    "mdata"
   ]
  },
  {
   "cell_type": "code",
   "execution_count": null,
   "metadata": {},
   "outputs": [],
   "source": [
    "adata = mdata.mod[\"rna\"]"
   ]
  },
  {
   "cell_type": "code",
   "execution_count": null,
   "metadata": {},
   "outputs": [],
   "source": [
    "X_data = adata.X.copy()\n",
    "X_data_sparse = csr_matrix(X_data)\n",
    "X_data_df = pd.DataFrame.sparse.from_spmatrix(X_data_sparse, index=adata.obs.index, columns=adata.var.index)\n",
    "print(\"Shape of counts DataFrame:\", X_data_df.shape)\n",
    "print(X_data_df)"
   ]
  },
  {
   "cell_type": "code",
   "execution_count": null,
   "metadata": {},
   "outputs": [],
   "source": [
    "adata_raw = adata.copy()"
   ]
  },
  {
   "cell_type": "markdown",
   "metadata": {},
   "source": [
    "### Normalize count matrix"
   ]
  },
  {
   "cell_type": "code",
   "execution_count": null,
   "metadata": {},
   "outputs": [],
   "source": [
    "sc.pp.normalize_total(adata, target_sum = 1e6, exclude_highly_expressed = True)\n",
    "sc.pp.log1p(adata)"
   ]
  },
  {
   "cell_type": "code",
   "execution_count": null,
   "metadata": {},
   "outputs": [],
   "source": [
    "X_data = adata.X.copy()\n",
    "X_data_sparse = csr_matrix(X_data)\n",
    "X_data_df = pd.DataFrame.sparse.from_spmatrix(X_data_sparse, index=adata.obs.index, columns=adata.var.index)\n",
    "print(\"Shape of counts DataFrame:\", X_data_df.shape)\n",
    "print(X_data_df)"
   ]
  },
  {
   "cell_type": "markdown",
   "metadata": {},
   "source": [
    "### Run `LIANA` Ligand-Receptor Inference by Sample"
   ]
  },
  {
   "cell_type": "markdown",
   "metadata": {},
   "source": [
    "Before we decompose the CCC patterns across contexts/samples with tensor_cell2cell, we need to run liana on each sample. This is because tensor_cell2cell uses LIANA’s output by sample to build a 4D tensor, that is later decomposed into CCC patterns."
   ]
  },
  {
   "cell_type": "code",
   "execution_count": null,
   "metadata": {},
   "outputs": [],
   "source": [
    "li.mt.rank_aggregate.by_sample(\n",
    "    adata,\n",
    "    resource_name= 'mouseconsensus',\n",
    "    groupby= 'classification',\n",
    "    sample_key= 'sample', \n",
    "    use_raw= False,\n",
    "    verbose= True, # use 'full' to show all verbose information\n",
    "    n_perms= None, # exclude permutations for speed\n",
    "    return_all_lrs= True, # return all LR values\n",
    "    )"
   ]
  },
  {
   "cell_type": "code",
   "execution_count": null,
   "metadata": {},
   "outputs": [],
   "source": [
    "adata.uns['liana_res'].sort_values(\"magnitude_rank\").head(30)"
   ]
  },
  {
   "cell_type": "markdown",
   "metadata": {},
   "source": [
    "**My cmap parameter is ignored**"
   ]
  },
  {
   "cell_type": "code",
   "execution_count": null,
   "metadata": {},
   "outputs": [],
   "source": [
    "plot = li.pl.dotplot_by_sample(\n",
    "    adata=adata,\n",
    "    colour='magnitude_rank',\n",
    "    size='lrscore',\n",
    "    source_labels=[\"MØ_general_4\", \"LYVE1+MØ_11\", \"Monocytes_10\", \"DOCK4+MØ_7\", \"Monocytes_3\"],\n",
    "    target_labels=[\"DC_14\", \"LYVE1+MØ_9\", \"DC_12\", \"MØ_general_1\", \"MØ_general_8\"],\n",
    "    ligand_complex=['Apoe', 'App'],\n",
    "    receptor_complex=['Cd74'],\n",
    "    sample_key='sample',\n",
    "    inverse_colour=True,\n",
    "    inverse_size=False,\n",
    "    figure_size=(25, 10),\n",
    "    size_range=(1, 6),\n",
    "    cmap=\"magma\"\n",
    ")\n",
    "\n",
    "plot.save(output_folder + '/Dotplot-by-sample.pdf', height=9, width=9)\n",
    "plot\n"
   ]
  },
  {
   "cell_type": "code",
   "execution_count": null,
   "metadata": {},
   "outputs": [],
   "source": [
    "adata.uns['liana_res'].to_csv(output_folder + 'LIANA_by_sample_20240429.csv', index=False)"
   ]
  },
  {
   "cell_type": "code",
   "execution_count": null,
   "metadata": {},
   "outputs": [],
   "source": [
    "adata.write_h5ad(output_folder + 'adata_with_lr_interactions_20240429.h5ad')"
   ]
  },
  {
   "cell_type": "markdown",
   "metadata": {},
   "source": [
    "### Building a Tensor\n",
    "\n",
    "Before we can decompose the tensor, we need to build it. To do so, we will use the to_tensor_c2c function from liana. This function takes as input the pandas.DataFrame with the results from liana.by_sample, and returns a cell2cell.tensor.PrebuiltTensor object. This object contains the tensor, as well as other useful utility functions."
   ]
  },
  {
   "cell_type": "markdown",
   "metadata": {},
   "source": [
    "#### Reorder the samples, as this is later on needed for the tensor"
   ]
  },
  {
   "cell_type": "code",
   "execution_count": null,
   "metadata": {},
   "outputs": [],
   "source": [
    "#Generate a list containing all samples from the AnnData object\n",
    "sorted_samples = sorted(adata.obs['sample'].unique())\n",
    "sorted_samples = [  'Pkp2_Ctr_noninf_1', 'Pkp2_Ctr_noninf_2', 'Pkp2_Ctr_noninf_3', 'Pkp2_Ctr_noninf_4',\n",
    "                    'Pkp2_HetKO_noninf_1', 'Pkp2_HetKO_noninf_2', 'Pkp2_HetKO_noninf_3', 'Pkp2_HetKO_noninf_4',\n",
    "                    'Pkp2_Ctr_MCMV_1', 'Pkp2_Ctr_MCMV_2', 'Pkp2_Ctr_MCMV_3', 'Pkp2_Ctr_MCMV_4', 'Pkp2_Ctr_MCMV_5', 'Pkp2_Ctr_MCMV_6',\n",
    "                    'Pkp2_HetKO_MCMV_1', 'Pkp2_HetKO_MCMV_2', 'Pkp2_HetKO_MCMV_3', 'Pkp2_HetKO_MCMV_4', 'Pkp2_HetKO_MCMV_5', 'Pkp2_HetKO_MCMV_6',\n",
    "                    'Ttn_Ctr_noninf_1', 'Ttn_Ctr_noninf_2',\n",
    "                    'Ttn_HetKO_noninf_1', 'Ttn_HetKO_noninf_2',\n",
    "                    'Ttn_Ctr_MCMV_1', 'Ttn_Ctr_MCMV_2', 'Ttn_Ctr_MCMV_3',\n",
    "                    'Ttn_HetKO_MCMV_1', 'Ttn_HetKO_MCMV_2', 'Ttn_HetKO_MCMV_3']"
   ]
  },
  {
   "cell_type": "code",
   "execution_count": null,
   "metadata": {},
   "outputs": [],
   "source": [
    "# Convert the 'sample' column to a categorical type with the order specified in sorted_samples\n",
    "adata.obs['sample'] = pd.Categorical(adata.obs['sample'], categories=sorted_samples, ordered=True)\n",
    "\n",
    "# Sort the DataFrame by the 'sample' column\n",
    "adata.obs = adata.obs.sort_values('sample')"
   ]
  },
  {
   "cell_type": "code",
   "execution_count": null,
   "metadata": {},
   "outputs": [],
   "source": [
    "adata.obs.head(15)"
   ]
  },
  {
   "cell_type": "markdown",
   "metadata": {},
   "source": [
    "Pass the communication scores from LIANA to build the 3D tensors for each sample and then concatenate them to obtain the 4D tensor"
   ]
  },
  {
   "cell_type": "code",
   "execution_count": null,
   "metadata": {},
   "outputs": [],
   "source": [
    "tensor = li.multi.to_tensor_c2c(liana_res=adata.uns['liana_res'], # LIANA's dataframe containing results\n",
    "                                sample_key='sample', # Column name of the samples\n",
    "                                source_key='source', # Column name of the sender cells\n",
    "                                target_key='target', # Column name of the receiver cells\n",
    "                                ligand_key='ligand_complex', # Column name of the ligands\n",
    "                                receptor_key='receptor_complex', # Column name of the receptors\n",
    "                                score_key='magnitude_rank', # Column name of the communication scores to use\n",
    "                                inverse_fun=lambda x: 1 - x, # Transformation function\n",
    "                                how='outer', # What to include across all samples                   #'outer_cells' would consider only LR pairs that are present in all conditions, however as we also have Ttn samples I rather take all LR pairs as they may differ between Ttn and Pkp2\n",
    "                                outer_fraction=1/3., # Fraction of samples as threshold to include cells and LR pairs.\n",
    "                                context_order=sorted_samples, # Order to store the contexts in the tensor\n",
    "                               )"
   ]
  },
  {
   "cell_type": "code",
   "execution_count": null,
   "metadata": {},
   "outputs": [],
   "source": [
    "tensor.tensor.shape"
   ]
  },
  {
   "cell_type": "markdown",
   "metadata": {},
   "source": [
    "#### Create metadata"
   ]
  },
  {
   "cell_type": "code",
   "execution_count": null,
   "metadata": {},
   "outputs": [],
   "source": [
    "context_dict = adata.obs.sort_values(by='sample') \\\n",
    "                        .set_index('sample')['condition'] \\\n",
    "                        .to_dict()"
   ]
  },
  {
   "cell_type": "code",
   "execution_count": null,
   "metadata": {},
   "outputs": [],
   "source": [
    "dimensions_dict = [context_dict, None, None, None]\n",
    "meta_tensor = c2c.tensor.generate_tensor_metadata(interaction_tensor=tensor,\n",
    "                                                  metadata_dicts=dimensions_dict,\n",
    "                                                  fill_with_order_elements=True\n",
    "                                                 )"
   ]
  },
  {
   "cell_type": "markdown",
   "metadata": {},
   "source": [
    "##### Export the tensor and its metadata"
   ]
  },
  {
   "cell_type": "code",
   "execution_count": null,
   "metadata": {},
   "outputs": [],
   "source": [
    "c2c.io.export_variable_with_pickle(variable=tensor, filename=output_folder + 'Tensor_20240429.pkl')\n",
    "c2c.io.export_variable_with_pickle(variable=meta_tensor, filename=output_folder + '/Tensor-Metadata_20240429.pkl')"
   ]
  },
  {
   "cell_type": "markdown",
   "metadata": {},
   "source": [
    "##### Load the saved tensor with metadata"
   ]
  },
  {
   "cell_type": "code",
   "execution_count": null,
   "metadata": {},
   "outputs": [],
   "source": [
    "tensor = c2c.io.read_data.load_tensor(output_folder + 'Tensor_20240429.pkl')\n",
    "meta_tensor = c2c.io.load_variable_with_pickle(output_folder + '/Tensor-Metadata_20240429.pkl')"
   ]
  },
  {
   "cell_type": "markdown",
   "metadata": {},
   "source": [
    "### Run Tensor-cell2cell Factorization"
   ]
  },
  {
   "cell_type": "code",
   "execution_count": null,
   "metadata": {},
   "outputs": [],
   "source": [
    "%%time\n",
    "tensor2 = c2c.analysis.run_tensor_cell2cell_pipeline(tensor,\n",
    "                                                    meta_tensor,\n",
    "                                                    copy_tensor=True, # Whether to output a new tensor or modifying the original\n",
    "                                                    rank= None, # Number of factors to perform the factorization. If None, it is automatically determined by an elbow analysis.\n",
    "                                                    tf_optimization='regular', # To define how robust we want the analysis to be.\n",
    "                                                    random_state=0, # Random seed for reproducibility\n",
    "                                                    device=device, # Device to use. If using GPU and PyTorch, use 'cuda'. For CPU use 'cpu'\n",
    "                                                    #elbow_metric='error', # Metric to use in the elbow analysis.\n",
    "                                                    #smooth_elbow=False, # Whether smoothing the metric of the elbow analysis.\n",
    "                                                    #upper_rank=30, # Max number of factors to try in the elbow analysis\n",
    "                                                    #tf_init='random', # Initialization method of the tensor factorization\n",
    "                                                    #tf_svd='numpy_svd', # Type of SVD to use if the initialization is 'svd'\n",
    "                                                    #cmaps=None, # Color palettes to use in color each of the dimensions. Must be a list of palettes.\n",
    "                                                    #sample_col='Element', # Columns containing the elements in the tensor metadata\n",
    "                                                    #group_col='Category', # Columns containing the major groups in the tensor metadata\n",
    "                                                    output_fig=True, # Whether to output the figures. If False, figures won't be saved a files if a folder was passed in output_folder.\n",
    "                                                    output_folder= output_folder\n",
    "                                                    )"
   ]
  },
  {
   "cell_type": "markdown",
   "metadata": {},
   "source": [
    "Export Tensor and its metadata"
   ]
  },
  {
   "cell_type": "code",
   "execution_count": null,
   "metadata": {},
   "outputs": [],
   "source": [
    "meta_tensor2 = c2c.tensor.generate_tensor_metadata(interaction_tensor=tensor2,\n",
    "                                                  metadata_dicts=dimensions_dict,\n",
    "                                                  fill_with_order_elements=True\n",
    "                                                 )"
   ]
  },
  {
   "cell_type": "code",
   "execution_count": null,
   "metadata": {},
   "outputs": [],
   "source": [
    "c2c.io.export_variable_with_pickle(variable=tensor2, filename=output_folder + 'Tensor_Factorized_20240429.pkl')\n",
    "c2c.io.export_variable_with_pickle(variable=meta_tensor2, filename=output_folder + '/Tensor_Factorized-Metadata_20240429.pkl')"
   ]
  },
  {
   "cell_type": "markdown",
   "metadata": {},
   "source": [
    "Load Tensor and its metadata"
   ]
  },
  {
   "cell_type": "code",
   "execution_count": null,
   "metadata": {},
   "outputs": [],
   "source": [
    "tensor2 = c2c.io.read_data.load_tensor(output_folder + 'Tensor_Factorized_20240429.pkl')\n",
    "meta_tensor2 = c2c.io.load_variable_with_pickle(output_folder + '/Tensor_Factorized-Metadata_20240429.pkl')"
   ]
  },
  {
   "cell_type": "code",
   "execution_count": null,
   "metadata": {},
   "outputs": [],
   "source": [
    "tensor2.factors.keys()"
   ]
  },
  {
   "cell_type": "code",
   "execution_count": null,
   "metadata": {},
   "outputs": [],
   "source": [
    "tensor2.factors['Contexts'].head(10)"
   ]
  },
  {
   "cell_type": "markdown",
   "metadata": {},
   "source": [
    "##### Compare pairs within conditions with **boxplots** and statistical tests"
   ]
  },
  {
   "cell_type": "code",
   "execution_count": null,
   "metadata": {},
   "outputs": [],
   "source": [
    "groups_order = ['Pkp2_Ctr_noninf', 'Pkp2_HetKO_noninf', 'Pkp2_Ctr_MCMV', 'Pkp2_HetKO_MCMV','Ttn_Ctr_noninf', 'Ttn_HetKO_noninf', 'Ttn_Ctr_MCMV', 'Ttn_HetKO_MCMV' ]\n",
    "fig_filename = output_folder + '/Conditions_Boxplots_20240429.pdf'\n",
    "\n",
    "_ = c2c.plotting.context_boxplot(context_loadings=tensor2.factors['Contexts'],\n",
    "                                 metadict=context_dict,\n",
    "                                 nrows=3,\n",
    "                                 figsize=(5, 10),\n",
    "                                 group_order=groups_order,\n",
    "                                 statistical_test='Kruskal', #'t-test_ind', 't-test_welch', 't-test_paired', 'Mann-Whitney', 'Mann-Whitney-gt', 'Mann-Whitney-ls', 'Levene', 'Wilcoxon', 'Kruskal'\n",
    "                                 pval_correction='bonferroni', #'bonferroni', 'bonf', 'Bonferroni', 'holm-bonferroni', 'HB', 'Holm-Bonferroni', 'holm', 'benjamini-hochberg', 'BH', 'fdr_bh', 'Benjamini-Hochberg', 'fdr_by', 'Benjamini-Yekutieli', 'BY', None\n",
    "                                 cmap='tab20',\n",
    "                                 verbose=True\n",
    "                                )"
   ]
  },
  {
   "cell_type": "markdown",
   "metadata": {},
   "source": [
    "##### Heatmaps for the LR pairs with loadings above a certain threshold"
   ]
  },
  {
   "cell_type": "code",
   "execution_count": null,
   "metadata": {},
   "outputs": [],
   "source": [
    "fig_filename = output_folder + '/Clustermap_LRs_20240429.pdf'\n",
    "\n",
    "_ = c2c.plotting.loading_clustermap(loadings=tensor2.factors['Ligand-Receptor Pairs'],\n",
    "                                    loading_threshold=0.1,\n",
    "                                    use_zscore=False,\n",
    "                                    figsize=(10, 3),\n",
    "                                    filename=fig_filename,\n",
    "                                    row_cluster=False,\n",
    "                                    tick_fontsize=12,\n",
    "                                    dendrogram_ratio=0.15,\n",
    "                                   )"
   ]
  },
  {
   "cell_type": "markdown",
   "metadata": {},
   "source": [
    "### Overall CCI potential\n",
    "\n",
    "Define a threshold to indicate what pair of cells are interacting. To do so, we need to get all the outer products between the loadings for the sender and receiver cells dimensions across all factors."
   ]
  },
  {
   "cell_type": "code",
   "execution_count": null,
   "metadata": {},
   "outputs": [],
   "source": [
    "# Get all outer products as adjacency matrices, one per factor\n",
    "networks = c2c.analysis.tensor_downstream.get_factor_specific_ccc_networks(tensor2.factors,\n",
    "                                                                           sender_label='Sender Cells',\n",
    "                                                                           receiver_label='Receiver Cells',\n",
    "                                                                           )"
   ]
  },
  {
   "cell_type": "code",
   "execution_count": null,
   "metadata": {},
   "outputs": [],
   "source": [
    "# Then, flatten the adjacency matrices\n",
    "network_by_factors = c2c.analysis.tensor_downstream.flatten_factor_ccc_networks(networks, orderby='receivers')\n",
    "\n",
    "# And we can plot the distributions of the weights for each factor-specific network\n",
    "_ = plt.hist(network_by_factors.values.flatten(), bins = 50)"
   ]
  },
  {
   "cell_type": "markdown",
   "metadata": {},
   "source": [
    "Chosen threshold = 0.042"
   ]
  },
  {
   "cell_type": "code",
   "execution_count": null,
   "metadata": {},
   "outputs": [],
   "source": [
    "threshold = 0.042"
   ]
  },
  {
   "cell_type": "markdown",
   "metadata": {},
   "source": [
    "##### Heatmap of sender-receiver cell pairs\n",
    "\n",
    "Evaluate the overall interactions between sender-receiver cell pairs that are predominant in a given facort/interaction program.\n",
    "\n",
    "X-axis = receiver cells, Y-axis = sender cells"
   ]
  },
  {
   "cell_type": "code",
   "execution_count": null,
   "metadata": {},
   "outputs": [],
   "source": [
    "selected_factor = 'Factor 3'"
   ]
  },
  {
   "cell_type": "code",
   "execution_count": null,
   "metadata": {},
   "outputs": [],
   "source": [
    "loading_product = c2c.analysis.tensor_downstream.get_joint_loadings(tensor2.factors,\n",
    "                                                                    dim1='Sender Cells',\n",
    "                                                                    dim2='Receiver Cells',\n",
    "                                                                    factor=selected_factor,\n",
    "                                                                   )"
   ]
  },
  {
   "cell_type": "code",
   "execution_count": null,
   "metadata": {},
   "outputs": [],
   "source": [
    "lprod_cm = c2c.plotting.loading_clustermap(loading_product.T, # Remove .T to transpose the axes\n",
    "                                           use_zscore=False, # Whether standardizing the loadings across factors\n",
    "                                           figsize=(8, 8),\n",
    "                                           filename=output_folder + '/Clustermap-CC-Pairs_20240429.pdf',\n",
    "                                           cbar_label='Loading Product',\n",
    "                                          )"
   ]
  },
  {
   "cell_type": "markdown",
   "metadata": {},
   "source": [
    "##### Interaction network of sender-receiver cell pairs"
   ]
  },
  {
   "cell_type": "code",
   "execution_count": null,
   "metadata": {},
   "outputs": [],
   "source": [
    "c2c.plotting.ccc_networks_plot(tensor2.factors,\n",
    "                               included_factors= None,\n",
    "                               ccc_threshold=threshold, # Only important communication\n",
    "                               nrows=1,\n",
    "                               panel_size=(12,12), # This changes the size of each figure panel.\n",
    "                               node_label_size=30,\n",
    "                               filename=output_folder + '/Factor-Networks_20240429.pdf',\n",
    "                              )"
   ]
  },
  {
   "cell_type": "markdown",
   "metadata": {},
   "source": [
    "### Pathway Enrichment Analysis: Interpreting the context-driven communication\n",
    "\n",
    "##### Classical Pathway Enrichment with `KEGG Pathways`"
   ]
  },
  {
   "cell_type": "code",
   "execution_count": null,
   "metadata": {},
   "outputs": [],
   "source": [
    "lr_loadings = tensor2.factors['Ligand-Receptor Pairs']\n",
    "\n",
    "lr_pairs = li.resource.select_resource('mouseconsensus')\n",
    "\n",
    "# Generate list with ligand-receptors pairs in DB\n",
    "lr_list = ['^'.join(row) for idx, row in lr_pairs.iterrows()]\n",
    "\n",
    "# Specify the organism and pathway database to use for building the LR set\n",
    "organism = \"mouse\"\n",
    "pathwaydb = \"KEGG\"\n",
    "\n",
    "# Generate ligand-receptor gene sets\n",
    "lr_set = c2c.external.generate_lr_geneset(lr_list,\n",
    "                                          complex_sep='_',\n",
    "                                          lr_sep='^',\n",
    "                                          organism=organism,\n",
    "                                          pathwaydb=pathwaydb,\n",
    "                                          readable_name=True,\n",
    "                                          output_folder=output_folder\n",
    "                                         )"
   ]
  },
  {
   "cell_type": "code",
   "execution_count": null,
   "metadata": {},
   "outputs": [],
   "source": [
    "pvals, scores, gsea_df = c2c.external.run_gsea(loadings=lr_loadings,\n",
    "                                               lr_set=lr_set,\n",
    "                                               output_folder=output_folder,\n",
    "                                               weight=1,\n",
    "                                               min_size=15,\n",
    "                                               permutations=999,\n",
    "                                               processes=6,\n",
    "                                               random_state=6,\n",
    "                                               significance_threshold=0.05,\n",
    "                                              )"
   ]
  },
  {
   "cell_type": "markdown",
   "metadata": {},
   "source": [
    "The enriched pathways are:"
   ]
  },
  {
   "cell_type": "code",
   "execution_count": null,
   "metadata": {},
   "outputs": [],
   "source": [
    "gsea_df.loc[(gsea_df['Adj. P-value'] <= 0.05) & (gsea_df['NES'] > 0.)]"
   ]
  },
  {
   "cell_type": "markdown",
   "metadata": {},
   "source": [
    "The depleted pathways are:"
   ]
  },
  {
   "cell_type": "markdown",
   "metadata": {},
   "source": [
    "gsea_df.loc[(gsea_df['Adj. P-value'] <= 0.05) & (gsea_df['NES'] < 0.)]"
   ]
  },
  {
   "cell_type": "code",
   "execution_count": null,
   "metadata": {},
   "outputs": [],
   "source": [
    "pathway_label = '{} Annotations'.format(pathwaydb)\n",
    "fig_filename = output_folder + '/GSEA-Dotplot_20240429.pdf'\n",
    "\n",
    "with sns.axes_style(\"darkgrid\"):\n",
    "    dotplot = c2c.plotting.pval_plot.generate_dot_plot(pval_df=pvals,\n",
    "                                                      score_df=scores,\n",
    "                                                      significance=0.05,\n",
    "                                                      xlabel='',\n",
    "                                                      ylabel='{} Annotations'.format(pathwaydb),\n",
    "                                                      cbar_title='NES',\n",
    "                                                      cmap='PuOr',\n",
    "                                                      figsize=(8,12),\n",
    "                                                      label_size=24,\n",
    "                                                      title_size=24,\n",
    "                                                      tick_size=20,\n",
    "                                                      filename=fig_filename\n",
    "                                                      )"
   ]
  },
  {
   "cell_type": "markdown",
   "metadata": {},
   "source": [
    "#### Footprint enrichment"
   ]
  },
  {
   "cell_type": "markdown",
   "metadata": {},
   "source": [
    "Footprint enrichment analysis build upon classic geneset enrichment analysis, as instead of considering the genes involved in a biological activity, they consider the genes affected by the activity, or in other words the genes that change downstream of said activity"
   ]
  },
  {
   "cell_type": "code",
   "execution_count": null,
   "metadata": {},
   "outputs": [],
   "source": [
    "# We first load the PROGENy gene sets\n",
    "net = dc.get_progeny(organism='human', top=5000)\n",
    "\n",
    "# Then convert them to sets with weighed ligand-receptor pairs\n",
    "lr_progeny = li.rs.generate_lr_geneset(lr_pairs, net, lr_sep=\"^\")"
   ]
  },
  {
   "cell_type": "code",
   "execution_count": null,
   "metadata": {},
   "outputs": [],
   "source": [
    "estimate, pvals =  dc.run_mlm(lr_loadings.transpose(),\n",
    "                              lr_progeny,\n",
    "                              source=\"source\",\n",
    "                              target=\"interaction\",\n",
    "                              use_raw=False)"
   ]
  },
  {
   "cell_type": "code",
   "execution_count": null,
   "metadata": {},
   "outputs": [],
   "source": [
    "\n",
    "fig_filename = output_folder + '/PROGENy_20240429.pdf'\n",
    "_ = sns.clustermap(estimate, xticklabels=estimate.columns, cmap='coolwarm', z_score=4)\n",
    "\n",
    "t = _.ax_heatmap.set_xticklabels(_.ax_heatmap.get_xmajorticklabels(), fontsize = 16)\n",
    "t = _.ax_heatmap.set_yticklabels(_.ax_heatmap.get_ymajorticklabels(), fontsize = 16, rotation=0)\n",
    "\n",
    "plt.savefig(fig_filename, dpi=300, bbox_inches='tight')"
   ]
  },
  {
   "cell_type": "code",
   "execution_count": null,
   "metadata": {},
   "outputs": [],
   "source": [
    "selected_factor = 'Factor 5'\n",
    "fig_filename = output_folder + '/PROGENy-{}_20240429.pdf'.format(selected_factor.replace(' ', '-'))\n",
    "\n",
    "dc.plot_barplot(estimate,\n",
    "                selected_factor,\n",
    "                vertical=True,\n",
    "                cmap='coolwarm',\n",
    "                save=fig_filename)"
   ]
  }
 ],
 "metadata": {
  "kernelspec": {
   "display_name": "Annotability",
   "language": "python",
   "name": "python3"
  },
  "language_info": {
   "codemirror_mode": {
    "name": "ipython",
    "version": 3
   },
   "file_extension": ".py",
   "mimetype": "text/x-python",
   "name": "python",
   "nbconvert_exporter": "python",
   "pygments_lexer": "ipython3",
   "version": "3.10.14"
  }
 },
 "nbformat": 4,
 "nbformat_minor": 2
}
