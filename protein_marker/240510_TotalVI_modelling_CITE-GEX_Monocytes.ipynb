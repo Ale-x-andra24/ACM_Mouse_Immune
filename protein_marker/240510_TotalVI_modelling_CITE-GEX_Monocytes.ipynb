{
 "cells": [
  {
   "cell_type": "markdown",
   "metadata": {},
   "source": [
    "### Notebook for joint modelling of Protein (CITE) and GEX for AMC Mouse Immune project with `TotalVI`\n",
    "\n",
    "- **Developed by:** Carlos Talavera-López Ph.D\n",
    "- **Institute of Computational Biology - Computational Health Department - Helmholtz Munich**\n",
    "- **Created on**: 240510\n",
    "- **Last modified**: 240510"
   ]
  },
  {
   "cell_type": "markdown",
   "metadata": {},
   "source": [
    "### Import required modules"
   ]
  },
  {
   "cell_type": "code",
   "execution_count": 37,
   "metadata": {},
   "outputs": [],
   "source": [
    "import scvi\n",
    "import muon\n",
    "import torch\n",
    "import anndata\n",
    "import warnings\n",
    "import numpy as np\n",
    "import mudata as md\n",
    "import scanpy as sc\n",
    "import pandas as pd\n",
    "import seaborn as sns\n",
    "import matplotlib.pyplot as plt"
   ]
  },
  {
   "cell_type": "markdown",
   "metadata": {},
   "source": [
    "### Set up working environment"
   ]
  },
  {
   "cell_type": "code",
   "execution_count": 38,
   "metadata": {},
   "outputs": [
    {
     "name": "stdout",
     "output_type": "stream",
     "text": [
      "-----\n",
      "anndata     0.10.7\n",
      "scanpy      1.10.1\n",
      "-----\n",
      "PIL                 10.3.0\n",
      "absl                NA\n",
      "asttokens           NA\n",
      "attr                23.2.0\n",
      "chex                0.1.86\n",
      "colorama            0.4.6\n",
      "comm                0.2.2\n",
      "contextlib2         NA\n",
      "cycler              0.12.1\n",
      "cython_runtime      NA\n",
      "dateutil            2.9.0.post0\n",
      "debugpy             1.8.1\n",
      "decorator           5.1.1\n",
      "docrep              0.3.2\n",
      "etils               1.8.0\n",
      "executing           2.0.1\n",
      "flax                0.8.3\n",
      "fsspec              2024.3.1\n",
      "h5py                3.11.0\n",
      "importlib_resources NA\n",
      "ipykernel           6.29.4\n",
      "ipywidgets          8.1.2\n",
      "jax                 0.4.28\n",
      "jaxlib              0.4.28\n",
      "jedi                0.19.1\n",
      "joblib              1.4.2\n",
      "kiwisolver          1.4.5\n",
      "legacy_api_wrap     NA\n",
      "lightning           2.1.4\n",
      "lightning_utilities 0.11.2\n",
      "llvmlite            0.42.0\n",
      "matplotlib          3.8.4\n",
      "matplotlib_inline   0.1.7\n",
      "ml_collections      NA\n",
      "ml_dtypes           0.4.0\n",
      "mpl_toolkits        NA\n",
      "mpmath              1.3.0\n",
      "msgpack             1.0.8\n",
      "mudata              0.2.3\n",
      "multipledispatch    0.6.0\n",
      "muon                0.1.6\n",
      "natsort             8.4.0\n",
      "numba               0.59.1\n",
      "numpy               1.26.4\n",
      "numpyro             0.14.0\n",
      "opt_einsum          v3.3.0\n",
      "optax               0.2.2\n",
      "packaging           24.0\n",
      "pandas              2.2.2\n",
      "parso               0.8.4\n",
      "patsy               0.5.6\n",
      "pkg_resources       NA\n",
      "platformdirs        4.2.1\n",
      "pretty_errors       1.2.25\n",
      "prompt_toolkit      3.0.43\n",
      "psutil              5.9.8\n",
      "pure_eval           0.2.2\n",
      "pydev_ipython       NA\n",
      "pydevconsole        NA\n",
      "pydevd              2.9.5\n",
      "pydevd_file_utils   NA\n",
      "pydevd_plugins      NA\n",
      "pydevd_tracing      NA\n",
      "pygments            2.18.0\n",
      "pynndescent         0.5.12\n",
      "pyparsing           3.1.2\n",
      "pyro                1.9.0\n",
      "pytz                2024.1\n",
      "rich                NA\n",
      "scipy               1.13.0\n",
      "scvi                1.1.2\n",
      "seaborn             0.13.2\n",
      "session_info        1.0.0\n",
      "six                 1.16.0\n",
      "sklearn             1.4.2\n",
      "skmisc              0.3.1\n",
      "stack_data          0.6.3\n",
      "statsmodels         0.14.2\n",
      "sympy               1.12\n",
      "threadpoolctl       3.5.0\n",
      "toolz               0.12.1\n",
      "torch               2.3.0\n",
      "torchgen            NA\n",
      "torchmetrics        1.4.0\n",
      "tornado             6.4\n",
      "tqdm                4.66.4\n",
      "traitlets           5.14.3\n",
      "typing_extensions   NA\n",
      "umap                0.5.6\n",
      "vscode              NA\n",
      "wcwidth             0.2.13\n",
      "yaml                6.0.1\n",
      "zmq                 26.0.3\n",
      "-----\n",
      "IPython             8.24.0\n",
      "jupyter_client      8.6.1\n",
      "jupyter_core        5.7.2\n",
      "-----\n",
      "Python 3.12.3 | packaged by conda-forge | (main, Apr 15 2024, 18:38:13) [GCC 12.3.0]\n",
      "Linux-6.8.7-200.fc39.x86_64-x86_64-with-glibc2.38\n",
      "-----\n",
      "Session information updated at 2024-05-10 15:20\n"
     ]
    }
   ],
   "source": [
    "sc.settings.verbosity = 3\n",
    "sc.logging.print_versions()\n",
    "sc.settings.set_figure_params(dpi = 180, color_map = 'magma_r', dpi_save = 300, vector_friendly = True, format = 'svg')"
   ]
  },
  {
   "cell_type": "code",
   "execution_count": 39,
   "metadata": {},
   "outputs": [
    {
     "name": "stderr",
     "output_type": "stream",
     "text": [
      "Seed set to 1712\n"
     ]
    },
    {
     "name": "stdout",
     "output_type": "stream",
     "text": [
      "Last run with scvi-tools version: 1.1.2\n"
     ]
    }
   ],
   "source": [
    "warnings.simplefilter(action = 'ignore')\n",
    "scvi.settings.seed = 1712\n",
    "sns.set_theme()\n",
    "torch.set_float32_matmul_precision(\"high\")\n",
    "%config InlineBackend.print_figure_kwargs = {'facecolor' : \"w\"}\n",
    "%config InlineBackend.figure_format = 'retina'\n",
    "print(\"Last run with scvi-tools version:\", scvi.__version__)\n",
    "backend = 'pytorch'"
   ]
  },
  {
   "cell_type": "markdown",
   "metadata": {},
   "source": [
    "### Read in Healthy data"
   ]
  },
  {
   "cell_type": "code",
   "execution_count": 40,
   "metadata": {},
   "outputs": [
    {
     "data": {
      "text/html": [
       "<pre>MuData object with n_obs × n_vars = 3316 × 29477\n",
       "  var:\t&#x27;gene_ids&#x27;, &#x27;feature_types&#x27;\n",
       "  2 modalities\n",
       "    rna:\t3316 x 29378\n",
       "      obs:\t&#x27;cell_source&#x27;, &#x27;donor&#x27;, &#x27;n_counts&#x27;, &#x27;sample&#x27;, &#x27;seed_labels&#x27;, &#x27;condition&#x27;, &#x27;genotype&#x27;, &#x27;infection&#x27;, &#x27;library&#x27;, &#x27;model&#x27;, &#x27;n_genes_by_counts&#x27;, &#x27;total_counts&#x27;, &#x27;doublet_scores&#x27;, &#x27;total_counts_mt&#x27;, &#x27;pct_counts_mt&#x27;, &#x27;total_counts_ribo&#x27;, &#x27;pct_counts_ribo&#x27;, &#x27;percent_mt&#x27;, &#x27;percent_chrY&#x27;, &#x27;XIST-counts&#x27;, &#x27;S_score&#x27;, &#x27;G2M_score&#x27;, &#x27;_scvi_batch&#x27;, &#x27;_scvi_labels&#x27;, &#x27;batch&#x27;, &#x27;C_scANVI&#x27;, &#x27;leiden&#x27;, &#x27;classification&#x27;\n",
       "      var:\t&#x27;gene_ids&#x27;, &#x27;feature_types&#x27;, &#x27;mt&#x27;, &#x27;ribo&#x27;\n",
       "      uns:\t&#x27;C_scANVI_colors&#x27;, &#x27;classification_colors&#x27;, &#x27;leiden&#x27;, &#x27;leiden_colors&#x27;, &#x27;log1p&#x27;, &#x27;neighbors&#x27;, &#x27;rank_genes_groups&#x27;\n",
       "      obsm:\t&#x27;X_scANVI&#x27;, &#x27;X_scVI&#x27;, &#x27;X_umap&#x27;\n",
       "      obsp:\t&#x27;connectivities&#x27;, &#x27;distances&#x27;\n",
       "    prot:\t3316 x 99\n",
       "      obs:\t&#x27;library&#x27;, &#x27;batch&#x27;\n",
       "      var:\t&#x27;gene_ids&#x27;, &#x27;feature_types&#x27;\n",
       "      uns:\t&#x27;neighbors&#x27;, &#x27;pca&#x27;, &#x27;umap&#x27;\n",
       "      obsm:\t&#x27;X_pca&#x27;, &#x27;X_umap&#x27;\n",
       "      varm:\t&#x27;PCs&#x27;\n",
       "      layers:\t&#x27;counts&#x27;, &#x27;log_norm&#x27;</pre>"
      ],
      "text/plain": [
       "MuData object with n_obs × n_vars = 3316 × 29477\n",
       "  var:\t'gene_ids', 'feature_types'\n",
       "  2 modalities\n",
       "    rna:\t3316 x 29378\n",
       "      obs:\t'cell_source', 'donor', 'n_counts', 'sample', 'seed_labels', 'condition', 'genotype', 'infection', 'library', 'model', 'n_genes_by_counts', 'total_counts', 'doublet_scores', 'total_counts_mt', 'pct_counts_mt', 'total_counts_ribo', 'pct_counts_ribo', 'percent_mt', 'percent_chrY', 'XIST-counts', 'S_score', 'G2M_score', '_scvi_batch', '_scvi_labels', 'batch', 'C_scANVI', 'leiden', 'classification'\n",
       "      var:\t'gene_ids', 'feature_types', 'mt', 'ribo'\n",
       "      uns:\t'C_scANVI_colors', 'classification_colors', 'leiden', 'leiden_colors', 'log1p', 'neighbors', 'rank_genes_groups'\n",
       "      obsm:\t'X_scANVI', 'X_scVI', 'X_umap'\n",
       "      obsp:\t'connectivities', 'distances'\n",
       "    prot:\t3316 x 99\n",
       "      obs:\t'library', 'batch'\n",
       "      var:\t'gene_ids', 'feature_types'\n",
       "      uns:\t'neighbors', 'pca', 'umap'\n",
       "      obsm:\t'X_pca', 'X_umap'\n",
       "      varm:\t'PCs'\n",
       "      layers:\t'counts', 'log_norm'"
      ]
     },
     "execution_count": 40,
     "metadata": {},
     "output_type": "execute_result"
    }
   ],
   "source": [
    "mudata = muon.read_h5mu('../data/Subsetted_monocytes_ac240507.raw.h5mu')\n",
    "mudata"
   ]
  },
  {
   "cell_type": "markdown",
   "metadata": {},
   "source": [
    "### Format `muon` object for downstream analysis"
   ]
  },
  {
   "cell_type": "code",
   "execution_count": 41,
   "metadata": {},
   "outputs": [],
   "source": [
    "mudata.mod['rna'].layers['counts'] = mudata.mod['rna'].X.copy()"
   ]
  },
  {
   "cell_type": "markdown",
   "metadata": {},
   "source": [
    "### Select HVGs"
   ]
  },
  {
   "cell_type": "code",
   "execution_count": 42,
   "metadata": {},
   "outputs": [
    {
     "name": "stdout",
     "output_type": "stream",
     "text": [
      "extracting highly variable genes\n",
      "--> added\n",
      "    'highly_variable', boolean vector (adata.var)\n",
      "    'highly_variable_rank', float vector (adata.var)\n",
      "    'means', float vector (adata.var)\n",
      "    'variances', float vector (adata.var)\n",
      "    'variances_norm', float vector (adata.var)\n"
     ]
    }
   ],
   "source": [
    "sc.pp.highly_variable_genes(\n",
    "    mudata.mod[\"rna\"],\n",
    "    n_top_genes = 7000,\n",
    "    flavor = \"seurat_v3\",\n",
    "    batch_key = \"sample\",\n",
    "    layer = \"counts\",\n",
    "    span = 1,\n",
    "    subset = True\n",
    ")"
   ]
  },
  {
   "cell_type": "raw",
   "metadata": {
    "vscode": {
     "languageId": "raw"
    }
   },
   "source": [
    "mudata.mod[\"rna_subset\"] = mudata.mod[\"rna\"][\n",
    "    :, mudata.mod[\"rna\"].var[\"highly_variable\"]\n",
    "].copy()"
   ]
  },
  {
   "cell_type": "code",
   "execution_count": 43,
   "metadata": {},
   "outputs": [
    {
     "data": {
      "text/plain": [
       "{'rna': AnnData object with n_obs × n_vars = 3316 × 7000\n",
       "     obs: 'cell_source', 'donor', 'n_counts', 'sample', 'seed_labels', 'condition', 'genotype', 'infection', 'library', 'model', 'n_genes_by_counts', 'total_counts', 'doublet_scores', 'total_counts_mt', 'pct_counts_mt', 'total_counts_ribo', 'pct_counts_ribo', 'percent_mt', 'percent_chrY', 'XIST-counts', 'S_score', 'G2M_score', '_scvi_batch', '_scvi_labels', 'batch', 'C_scANVI', 'leiden', 'classification'\n",
       "     var: 'gene_ids', 'feature_types', 'mt', 'ribo', 'highly_variable', 'highly_variable_rank', 'means', 'variances', 'variances_norm', 'highly_variable_nbatches'\n",
       "     uns: 'C_scANVI_colors', 'classification_colors', 'leiden', 'leiden_colors', 'log1p', 'neighbors', 'rank_genes_groups', 'hvg'\n",
       "     obsm: 'X_scANVI', 'X_scVI', 'X_umap'\n",
       "     layers: 'counts'\n",
       "     obsp: 'connectivities', 'distances',\n",
       " 'prot': AnnData object with n_obs × n_vars = 3316 × 99\n",
       "     obs: 'library', 'batch'\n",
       "     var: 'gene_ids', 'feature_types'\n",
       "     uns: 'neighbors', 'pca', 'umap'\n",
       "     obsm: 'X_pca', 'X_umap'\n",
       "     varm: 'PCs'\n",
       "     layers: 'counts', 'log_norm'}"
      ]
     },
     "execution_count": 43,
     "metadata": {},
     "output_type": "execute_result"
    }
   ],
   "source": [
    "mudata.mod"
   ]
  },
  {
   "cell_type": "code",
   "execution_count": 44,
   "metadata": {},
   "outputs": [],
   "source": [
    "mudata.update()"
   ]
  },
  {
   "cell_type": "markdown",
   "metadata": {},
   "source": [
    "### Set up `muon` dataset for input to `TotalVI`."
   ]
  },
  {
   "cell_type": "code",
   "execution_count": 45,
   "metadata": {},
   "outputs": [
    {
     "name": "stdout",
     "output_type": "stream",
     "text": [
      "INFO     Found batches with missing protein expression                                                             \n"
     ]
    }
   ],
   "source": [
    "scvi.model.TOTALVI.setup_mudata(\n",
    "    mudata,\n",
    "    rna_layer = \"counts\",\n",
    "    protein_layer = None,\n",
    "    batch_key = \"sample\",\n",
    "    modalities = {\n",
    "        \"rna_layer\": \"rna\",\n",
    "        \"protein_layer\": \"prot\",\n",
    "        \"batch_key\": \"rna\",\n",
    "    },\n",
    ")"
   ]
  },
  {
   "cell_type": "code",
   "execution_count": 46,
   "metadata": {},
   "outputs": [],
   "source": [
    "model = scvi.model.TOTALVI(mudata, empirical_protein_background_prior = False)"
   ]
  },
  {
   "cell_type": "code",
   "execution_count": 47,
   "metadata": {},
   "outputs": [
    {
     "name": "stderr",
     "output_type": "stream",
     "text": [
      "GPU available: True (cuda), used: True\n",
      "TPU available: False, using: 0 TPU cores\n",
      "IPU available: False, using: 0 IPUs\n",
      "HPU available: False, using: 0 HPUs\n",
      "LOCAL_RANK: 0 - CUDA_VISIBLE_DEVICES: [0,1]\n"
     ]
    },
    {
     "name": "stdout",
     "output_type": "stream",
     "text": [
      "Epoch 31/400:   8%|▊         | 30/400 [00:04<01:03,  5.82it/s, v_num=1, train_loss_step=5.57e+3, train_loss_epoch=5.71e+3]"
     ]
    }
   ],
   "source": [
    "model.train(400, \n",
    "                 check_val_every_n_epoch = 1, \n",
    "                 enable_progress_bar = True, \n",
    "                 accelerator = 'gpu',\n",
    "                 devices= [1])"
   ]
  },
  {
   "cell_type": "code",
   "execution_count": null,
   "metadata": {},
   "outputs": [],
   "source": [
    "fig, ax = plt.subplots(1, 1)\n",
    "model.history[\"elbo_train\"].plot(ax=ax, label=\"train\")\n",
    "model.history[\"elbo_validation\"].plot(ax=ax, label=\"validation\")\n",
    "ax.set(title=\"Negative ELBO over training epochs\", ylim=(1200, 1400))\n",
    "ax.legend()"
   ]
  },
  {
   "cell_type": "markdown",
   "metadata": {},
   "source": [
    "### Analyze outputs"
   ]
  },
  {
   "cell_type": "code",
   "execution_count": null,
   "metadata": {},
   "outputs": [],
   "source": [
    "rna = mudata.mod[\"rna\"]\n",
    "protein = mudata.mod[\"prot\"]"
   ]
  },
  {
   "cell_type": "code",
   "execution_count": null,
   "metadata": {},
   "outputs": [],
   "source": [
    "TOTALVI_LATENT_KEY = \"X_totalVI\"\n",
    "rna.obsm[TOTALVI_LATENT_KEY] = model.get_latent_representation()"
   ]
  },
  {
   "cell_type": "code",
   "execution_count": null,
   "metadata": {},
   "outputs": [],
   "source": [
    "muon.pl.embedding(\n",
    "    mudata,\n",
    "    basis=\"rna:X_umap\",\n",
    "    color=protein.var_names,\n",
    "    frameon=False,\n",
    "    ncols=6,\n",
    "    vmax=\"p99\",\n",
    "    wspace=0.1,\n",
    "    layer=\"denoised_protein\",\n",
    ")"
   ]
  },
  {
   "cell_type": "markdown",
   "metadata": {},
   "source": [
    "### Visualize probability of foreground"
   ]
  },
  {
   "cell_type": "code",
   "execution_count": null,
   "metadata": {},
   "outputs": [],
   "source": [
    "mudata"
   ]
  },
  {
   "cell_type": "code",
   "execution_count": null,
   "metadata": {},
   "outputs": [],
   "source": [
    "muon.pl.embedding(\n",
    "    mudata,\n",
    "    basis=\"rna:X_umap\",\n",
    "    layer=\"protein_foreground_prob\",\n",
    "    color = ['Ly6G_TotalA', 'CD11b_TotalA', 'CD62L_TotalA', 'IAIE_TotalA', 'ICAM1_TotalA', 'Ly6C_TotalA', 'CD115_TotalA', 'CXCR4_TotalA', 'MSR1_TotalA', 'CD64_TotalA', 'FCeRIa_TotalA', 'CCR3_TotalA', 'CD49d_TotalA', 'CD80_TotalA', 'CD117_TotalA',\n",
    "       'Sca1_TotalA', 'CD11c_TotalA', 'TIM4_TotalA', 'CX3CR1_TotalA', 'XCR1_TotalA', 'F480_TotalA', 'CD86_TotalA', 'CD135_TotalA', 'CD103_TotalA', 'CD169_TotalA', 'CD8a_TotalA', 'SiglecH_TotalA', 'CD19_TotalA', 'CD3_TotalA', 'CD63_TotalA', 'CD9_TotalA',\n",
    "       'CD163_TotalA', 'NK11_TotalA', 'CD279_TotalA', 'CD127_TotalA', 'CD68_TotalA', 'Sirpa_TotalA', 'CD274_TotalA', 'ITGB7_TotalA', 'CD4_TotalA', 'CD26_TotalA', 'MGL2_TotalA', 'TCRgd_TotalA', 'CCR2_TotalA', 'CD44_TotalA', 'CD21_35_TotalA', 'CD43_TotalA',\n",
    "       'Hamster_TotalA', 'Rat_IgG1_TotalA', 'Rat_IgG2a_TotalA', 'Rat_IgG2b_TotalA', 'CD47_TotalA', 'SiglecF_TotalA', 'CD137_TotalA', 'CD36_TotalA', 'CCR5_TotalA', 'CD278_TotalA', 'PIRAB_TotalA', 'CD5_TotalA', 'CD304_TotalA', 'CD40_TotalA', 'CD14_TotalA',\n",
    "       'CD95_TotalA', 'CD300cd_TotalA', 'IL1RL1_TotalA', 'TCRbeta_TotalA', 'Mac2_TotalA', 'CD137L_TotalA', 'CD178_TotalA', 'CD55_TotalA', 'TIGIT_TotalA', 'CD226_TotalA', 'CD39_TotalA', 'JAML_TotalA', 'CXCR5_TotalA', 'MGL1_TotalA', 'CD24_TotalA', 'CD88_TotalA',\n",
    "       'CD11a_TotalA', 'CD81_TotalA', 'CD83_TotalA', 'Pdpn_TotalA', 'IgM_TotalA', 'TIM3_TotalA', 'BTLA_TotalA', 'CD223_TotalA', 'CD25_TotalA', 'CD152_TotalA', 'KLRG1_TotalA', 'rna:condition', 'rna:genotype', 'rna:infection', 'rna:classification'],\n",
    "    frameon=False,\n",
    "    ncols=6,\n",
    "    vmax=\"p99\",\n",
    "    wspace=0.1,\n",
    "    color_map=\"RdPu\",\n",
    "    size = 1.5\n",
    ")"
   ]
  },
  {
   "cell_type": "markdown",
   "metadata": {},
   "source": [
    "### Differential protein expression"
   ]
  },
  {
   "cell_type": "code",
   "execution_count": null,
   "metadata": {},
   "outputs": [],
   "source": [
    "de_df = model.differential_expression(\n",
    "    groupby = \"rna:classification\", \n",
    "    delta = 0.5, \n",
    "    batch_correction = True\n",
    ")\n",
    "de_df.head(5)"
   ]
  },
  {
   "cell_type": "code",
   "execution_count": null,
   "metadata": {},
   "outputs": [],
   "source": [
    "filtered_pro = {}\n",
    "filtered_rna = {}\n",
    "cats = rna.obs['classification'].cat.categories\n",
    "for i, c in enumerate(cats):\n",
    "    cid = f\"{c} vs Rest\"\n",
    "    cell_type_df = de_df.loc[de_df.comparison == cid]\n",
    "    cell_type_df = cell_type_df.sort_values(\"lfc_median\", ascending=False)\n",
    "\n",
    "    cell_type_df = cell_type_df[cell_type_df.lfc_median > 0]\n",
    "\n",
    "    pro_rows = cell_type_df.index.str.contains(\"TotalSeqB\")\n",
    "    data_pro = cell_type_df.iloc[pro_rows]\n",
    "    data_pro = data_pro[data_pro[\"bayes_factor\"] > 0.7]\n",
    "\n",
    "    data_rna = cell_type_df.iloc[~pro_rows]\n",
    "    data_rna = data_rna[data_rna[\"bayes_factor\"] > 3]\n",
    "    data_rna = data_rna[data_rna[\"non_zeros_proportion1\"] > 0.1]\n",
    "\n",
    "    filtered_pro[c] = data_pro.index.tolist()[:3]\n",
    "    filtered_rna[c] = data_rna.index.tolist()[:2]"
   ]
  },
  {
   "cell_type": "code",
   "execution_count": null,
   "metadata": {},
   "outputs": [],
   "source": [
    "sc.tl.dendrogram(rna, groupby='classification', use_rep=TOTALVI_LATENT_KEY)\n",
    "protein.obs['classification'] = rna.obs['classification']\n",
    "protein.obsm[TOTALVI_LATENT_KEY] = rna.obsm[TOTALVI_LATENT_KEY]\n",
    "sc.tl.dendrogram(protein, groupby='classification', use_rep=TOTALVI_LATENT_KEY)"
   ]
  },
  {
   "cell_type": "code",
   "execution_count": null,
   "metadata": {},
   "outputs": [],
   "source": [
    "sc.pl.dotplot(\n",
    "    rna,\n",
    "    filtered_rna,\n",
    "    groupby='classification'\n",
    "    ,\n",
    "    dendrogram=True,\n",
    "    standard_scale=\"var\",\n",
    "    swap_axes=True,\n",
    ")"
   ]
  }
 ],
 "metadata": {
  "kernelspec": {
   "display_name": "Python 3.8.14 ('scvi-tools')",
   "language": "python",
   "name": "python3"
  },
  "language_info": {
   "codemirror_mode": {
    "name": "ipython",
    "version": 3
   },
   "file_extension": ".py",
   "mimetype": "text/x-python",
   "name": "python",
   "nbconvert_exporter": "python",
   "pygments_lexer": "ipython3",
   "version": "3.12.3"
  },
  "orig_nbformat": 4,
  "vscode": {
   "interpreter": {
    "hash": "be6e4b2475555bb52a1f9704f3384c4fd38c8454adf16dc700aeb2c29c9568d8"
   }
  }
 },
 "nbformat": 4,
 "nbformat_minor": 2
}
