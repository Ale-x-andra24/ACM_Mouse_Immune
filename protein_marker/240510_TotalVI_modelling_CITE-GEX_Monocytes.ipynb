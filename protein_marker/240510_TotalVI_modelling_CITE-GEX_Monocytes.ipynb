{
 "cells": [
  {
   "cell_type": "markdown",
   "metadata": {},
   "source": [
    "### Notebook for joint modelling of Protein (CITE) and GEX for AMC Mouse Immune project with `TotalVI`\n",
    "\n",
    "- **Developed by:** Carlos Talavera-López Ph.D\n",
    "- **Institute of Computational Biology - Computational Health Department - Helmholtz Munich**\n",
    "- **Created on**: 240510\n",
    "- **Last modified**: 240510"
   ]
  },
  {
   "cell_type": "markdown",
   "metadata": {},
   "source": [
    "### Import required modules"
   ]
  },
  {
   "cell_type": "code",
   "execution_count": null,
   "metadata": {},
   "outputs": [],
   "source": [
    "import scvi\n",
    "import muon\n",
    "import torch\n",
    "import anndata\n",
    "import warnings\n",
    "import numpy as np\n",
    "import mudata as md\n",
    "import scanpy as sc\n",
    "import pandas as pd\n",
    "import seaborn as sns\n",
    "import matplotlib.pyplot as plt"
   ]
  },
  {
   "cell_type": "markdown",
   "metadata": {},
   "source": [
    "### Set up working environment"
   ]
  },
  {
   "cell_type": "code",
   "execution_count": null,
   "metadata": {},
   "outputs": [],
   "source": [
    "sc.settings.verbosity = 3\n",
    "sc.logging.print_versions()\n",
    "sc.settings.set_figure_params(dpi = 180, color_map = 'magma_r', dpi_save = 300, vector_friendly = True, format = 'svg')"
   ]
  },
  {
   "cell_type": "code",
   "execution_count": null,
   "metadata": {},
   "outputs": [],
   "source": [
    "warnings.simplefilter(action = 'ignore')\n",
    "scvi.settings.seed = 1712\n",
    "sns.set_theme()\n",
    "torch.set_float32_matmul_precision(\"high\")\n",
    "%config InlineBackend.print_figure_kwargs = {'facecolor' : \"w\"}\n",
    "%config InlineBackend.figure_format = 'retina'\n",
    "print(\"Last run with scvi-tools version:\", scvi.__version__)\n",
    "backend = 'pytorch'"
   ]
  },
  {
   "cell_type": "markdown",
   "metadata": {},
   "source": [
    "### Read in Healthy data"
   ]
  },
  {
   "cell_type": "code",
   "execution_count": null,
   "metadata": {},
   "outputs": [],
   "source": [
    "mudata = muon.read_h5mu('../data/Subsetted_monocytes_ac240507.raw.h5mu')\n",
    "mudata"
   ]
  },
  {
   "cell_type": "markdown",
   "metadata": {},
   "source": [
    "### Format `muon` object for downstream analysis"
   ]
  },
  {
   "cell_type": "code",
   "execution_count": null,
   "metadata": {},
   "outputs": [],
   "source": [
    "mudata.mod['rna'].layers['counts'] = mudata.mod['rna'].X.copy()"
   ]
  },
  {
   "cell_type": "markdown",
   "metadata": {},
   "source": [
    "### Select HVGs"
   ]
  },
  {
   "cell_type": "code",
   "execution_count": null,
   "metadata": {},
   "outputs": [],
   "source": [
    "sc.pp.highly_variable_genes(\n",
    "    mudata.mod[\"rna\"],\n",
    "    n_top_genes = 7000,\n",
    "    flavor = \"seurat_v3\",\n",
    "    batch_key = \"sample\",\n",
    "    layer = \"counts\",\n",
    "    span = 1,\n",
    "    subset = True\n",
    ")"
   ]
  },
  {
   "cell_type": "raw",
   "metadata": {
    "vscode": {
     "languageId": "raw"
    }
   },
   "source": [
    "mudata.mod[\"rna_subset\"] = mudata.mod[\"rna\"][\n",
    "    :, mudata.mod[\"rna\"].var[\"highly_variable\"]\n",
    "].copy()"
   ]
  },
  {
   "cell_type": "code",
   "execution_count": null,
   "metadata": {},
   "outputs": [],
   "source": [
    "mudata.mod"
   ]
  },
  {
   "cell_type": "code",
   "execution_count": null,
   "metadata": {},
   "outputs": [],
   "source": [
    "mudata.update()"
   ]
  },
  {
   "cell_type": "markdown",
   "metadata": {},
   "source": [
    "### Set up `muon` dataset for input to `TotalVI`."
   ]
  },
  {
   "cell_type": "code",
   "execution_count": null,
   "metadata": {},
   "outputs": [],
   "source": [
    "scvi.model.TOTALVI.setup_mudata(\n",
    "    mudata,\n",
    "    rna_layer = \"counts\",\n",
    "    protein_layer = None,\n",
    "    batch_key = \"sample\",\n",
    "    modalities = {\n",
    "        \"rna_layer\": \"rna\",\n",
    "        \"protein_layer\": \"prot\",\n",
    "        \"batch_key\": \"rna\",\n",
    "    },\n",
    ")"
   ]
  },
  {
   "cell_type": "code",
   "execution_count": null,
   "metadata": {},
   "outputs": [],
   "source": [
    "model = scvi.model.TOTALVI(mudata, empirical_protein_background_prior = False)"
   ]
  },
  {
   "cell_type": "code",
   "execution_count": null,
   "metadata": {},
   "outputs": [],
   "source": [
    "model.train(400, \n",
    "                 check_val_every_n_epoch = 1, \n",
    "                 enable_progress_bar = True, \n",
    "                 accelerator = 'gpu',\n",
    "                 devices= [1])"
   ]
  },
  {
   "cell_type": "code",
   "execution_count": null,
   "metadata": {},
   "outputs": [],
   "source": [
    "fig, ax = plt.subplots(1, 1)\n",
    "model.history[\"elbo_train\"].plot(ax=ax, label=\"train\")\n",
    "model.history[\"elbo_validation\"].plot(ax=ax, label=\"validation\")\n",
    "ax.set(title=\"Negative ELBO over training epochs\", ylim=(1200, 1400))\n",
    "ax.legend()"
   ]
  },
  {
   "cell_type": "markdown",
   "metadata": {},
   "source": [
    "### Analyze outputs"
   ]
  },
  {
   "cell_type": "code",
   "execution_count": null,
   "metadata": {},
   "outputs": [],
   "source": [
    "rna = mudata.mod[\"rna\"]\n",
    "protein = mudata.mod[\"prot\"]"
   ]
  },
  {
   "cell_type": "code",
   "execution_count": null,
   "metadata": {},
   "outputs": [],
   "source": [
    "TOTALVI_LATENT_KEY = \"X_totalVI\"\n",
    "rna.obsm[TOTALVI_LATENT_KEY] = model.get_latent_representation()"
   ]
  },
  {
   "cell_type": "code",
   "execution_count": null,
   "metadata": {},
   "outputs": [],
   "source": [
    "muon.pl.embedding(\n",
    "    mudata,\n",
    "    basis=\"rna:X_umap\",\n",
    "    color=protein.var_names,\n",
    "    frameon=False,\n",
    "    ncols=6,\n",
    "    vmax=\"p99\",\n",
    "    wspace=0.1,\n",
    "    layer=\"denoised_protein\",\n",
    ")"
   ]
  },
  {
   "cell_type": "markdown",
   "metadata": {},
   "source": [
    "### Visualize probability of foreground"
   ]
  },
  {
   "cell_type": "code",
   "execution_count": null,
   "metadata": {},
   "outputs": [],
   "source": [
    "mudata"
   ]
  },
  {
   "cell_type": "code",
   "execution_count": null,
   "metadata": {},
   "outputs": [],
   "source": [
    "muon.pl.embedding(\n",
    "    mudata,\n",
    "    basis=\"rna:X_umap\",\n",
    "    layer=\"protein_foreground_prob\",\n",
    "    color = ['Ly6G_TotalA', 'CD11b_TotalA', 'CD62L_TotalA', 'IAIE_TotalA', 'ICAM1_TotalA', 'Ly6C_TotalA', 'CD115_TotalA', 'CXCR4_TotalA', 'MSR1_TotalA', 'CD64_TotalA', 'FCeRIa_TotalA', 'CCR3_TotalA', 'CD49d_TotalA', 'CD80_TotalA', 'CD117_TotalA',\n",
    "       'Sca1_TotalA', 'CD11c_TotalA', 'TIM4_TotalA', 'CX3CR1_TotalA', 'XCR1_TotalA', 'F480_TotalA', 'CD86_TotalA', 'CD135_TotalA', 'CD103_TotalA', 'CD169_TotalA', 'CD8a_TotalA', 'SiglecH_TotalA', 'CD19_TotalA', 'CD3_TotalA', 'CD63_TotalA', 'CD9_TotalA',\n",
    "       'CD163_TotalA', 'NK11_TotalA', 'CD279_TotalA', 'CD127_TotalA', 'CD68_TotalA', 'Sirpa_TotalA', 'CD274_TotalA', 'ITGB7_TotalA', 'CD4_TotalA', 'CD26_TotalA', 'MGL2_TotalA', 'TCRgd_TotalA', 'CCR2_TotalA', 'CD44_TotalA', 'CD21_35_TotalA', 'CD43_TotalA',\n",
    "       'Hamster_TotalA', 'Rat_IgG1_TotalA', 'Rat_IgG2a_TotalA', 'Rat_IgG2b_TotalA', 'CD47_TotalA', 'SiglecF_TotalA', 'CD137_TotalA', 'CD36_TotalA', 'CCR5_TotalA', 'CD278_TotalA', 'PIRAB_TotalA', 'CD5_TotalA', 'CD304_TotalA', 'CD40_TotalA', 'CD14_TotalA',\n",
    "       'CD95_TotalA', 'CD300cd_TotalA', 'IL1RL1_TotalA', 'TCRbeta_TotalA', 'Mac2_TotalA', 'CD137L_TotalA', 'CD178_TotalA', 'CD55_TotalA', 'TIGIT_TotalA', 'CD226_TotalA', 'CD39_TotalA', 'JAML_TotalA', 'CXCR5_TotalA', 'MGL1_TotalA', 'CD24_TotalA', 'CD88_TotalA',\n",
    "       'CD11a_TotalA', 'CD81_TotalA', 'CD83_TotalA', 'Pdpn_TotalA', 'IgM_TotalA', 'TIM3_TotalA', 'BTLA_TotalA', 'CD223_TotalA', 'CD25_TotalA', 'CD152_TotalA', 'KLRG1_TotalA', 'rna:condition', 'rna:genotype', 'rna:infection', 'rna:classification'],\n",
    "    frameon=False,\n",
    "    ncols=6,\n",
    "    vmax=\"p99\",\n",
    "    wspace=0.1,\n",
    "    color_map=\"RdPu\",\n",
    "    size = 1.5\n",
    ")"
   ]
  },
  {
   "cell_type": "markdown",
   "metadata": {},
   "source": [
    "### Differential protein expression"
   ]
  },
  {
   "cell_type": "code",
   "execution_count": null,
   "metadata": {},
   "outputs": [],
   "source": [
    "de_df = model.differential_expression(\n",
    "    groupby = \"rna:classification\", \n",
    "    delta = 0.5, \n",
    "    batch_correction = True\n",
    ")\n",
    "de_df.head(5)"
   ]
  },
  {
   "cell_type": "code",
   "execution_count": null,
   "metadata": {},
   "outputs": [],
   "source": [
    "filtered_pro = {}\n",
    "filtered_rna = {}\n",
    "cats = rna.obs['classification'].cat.categories\n",
    "for i, c in enumerate(cats):\n",
    "    cid = f\"{c} vs Rest\"\n",
    "    cell_type_df = de_df.loc[de_df.comparison == cid]\n",
    "    cell_type_df = cell_type_df.sort_values(\"lfc_median\", ascending=False)\n",
    "\n",
    "    cell_type_df = cell_type_df[cell_type_df.lfc_median > 0]\n",
    "\n",
    "    pro_rows = cell_type_df.index.str.contains(\"TotalSeqB\")\n",
    "    data_pro = cell_type_df.iloc[pro_rows]\n",
    "    data_pro = data_pro[data_pro[\"bayes_factor\"] > 0.7]\n",
    "\n",
    "    data_rna = cell_type_df.iloc[~pro_rows]\n",
    "    data_rna = data_rna[data_rna[\"bayes_factor\"] > 3]\n",
    "    data_rna = data_rna[data_rna[\"non_zeros_proportion1\"] > 0.1]\n",
    "\n",
    "    filtered_pro[c] = data_pro.index.tolist()[:3]\n",
    "    filtered_rna[c] = data_rna.index.tolist()[:2]"
   ]
  },
  {
   "cell_type": "code",
   "execution_count": null,
   "metadata": {},
   "outputs": [],
   "source": [
    "sc.tl.dendrogram(rna, groupby='classification', use_rep=TOTALVI_LATENT_KEY)\n",
    "protein.obs['classification'] = rna.obs['classification']\n",
    "protein.obsm[TOTALVI_LATENT_KEY] = rna.obsm[TOTALVI_LATENT_KEY]\n",
    "sc.tl.dendrogram(protein, groupby='classification', use_rep=TOTALVI_LATENT_KEY)"
   ]
  },
  {
   "cell_type": "code",
   "execution_count": null,
   "metadata": {},
   "outputs": [],
   "source": [
    "sc.pl.dotplot(\n",
    "    rna,\n",
    "    filtered_rna,\n",
    "    groupby='classification'\n",
    "    ,\n",
    "    dendrogram=True,\n",
    "    standard_scale=\"var\",\n",
    "    swap_axes=True,\n",
    ")"
   ]
  }
 ],
 "metadata": {
  "kernelspec": {
   "display_name": "Python 3.8.14 ('scvi-tools')",
   "language": "python",
   "name": "python3"
  },
  "language_info": {
   "codemirror_mode": {
    "name": "ipython",
    "version": 3
   },
   "file_extension": ".py",
   "mimetype": "text/x-python",
   "name": "python",
   "nbconvert_exporter": "python",
   "pygments_lexer": "ipython3",
   "version": "3.12.3"
  },
  "orig_nbformat": 4,
  "vscode": {
   "interpreter": {
    "hash": "be6e4b2475555bb52a1f9704f3384c4fd38c8454adf16dc700aeb2c29c9568d8"
   }
  }
 },
 "nbformat": 4,
 "nbformat_minor": 2
}
