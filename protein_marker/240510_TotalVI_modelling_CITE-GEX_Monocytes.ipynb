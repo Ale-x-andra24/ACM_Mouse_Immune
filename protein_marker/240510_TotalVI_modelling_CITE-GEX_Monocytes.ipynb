{
 "cells": [
  {
   "cell_type": "markdown",
   "metadata": {},
   "source": [
    "### Notebook for joint modelling of Protein (CITE) and GEX for AMC Mouse Immune project with `TotalVI`\n",
    "\n",
    "- **Developed by:** Carlos Talavera-López Ph.D\n",
    "- **Institute of Computational Biology - Computational Health Department - Helmholtz Munich**\n",
    "- **Created on**: 240510\n",
    "- **Last modified**: 240510"
   ]
  },
  {
   "cell_type": "markdown",
   "metadata": {},
   "source": [
    "### Import required modules"
   ]
  },
  {
   "cell_type": "code",
   "execution_count": 1,
   "metadata": {},
   "outputs": [],
   "source": [
    "import scvi\n",
    "import muon\n",
    "import torch\n",
    "import anndata\n",
    "import warnings\n",
    "import numpy as np\n",
    "import mudata as md\n",
    "import scanpy as sc\n",
    "import pandas as pd\n",
    "import seaborn as sns\n",
    "import matplotlib.pyplot as plt"
   ]
  },
  {
   "cell_type": "markdown",
   "metadata": {},
   "source": [
    "### Set up working environment"
   ]
  },
  {
   "cell_type": "code",
   "execution_count": null,
   "metadata": {},
   "outputs": [],
   "source": [
    "sc.settings.verbosity = 3\n",
    "sc.logging.print_versions()\n",
    "sc.settings.set_figure_params(dpi = 180, color_map = 'magma_r', dpi_save = 300, vector_friendly = True, format = 'svg')"
   ]
  },
  {
   "cell_type": "code",
   "execution_count": null,
   "metadata": {},
   "outputs": [],
   "source": [
    "warnings.simplefilter(action = 'ignore')\n",
    "scvi.settings.seed = 1712\n",
    "sns.set_theme()\n",
    "torch.set_float32_matmul_precision(\"high\")\n",
    "%config InlineBackend.print_figure_kwargs = {'facecolor' : \"w\"}\n",
    "%config InlineBackend.figure_format = 'retina'\n",
    "print(\"Last run with scvi-tools version:\", scvi.__version__)\n",
    "backend = 'pytorch'"
   ]
  },
  {
   "cell_type": "markdown",
   "metadata": {},
   "source": [
    "### Read in Healthy data"
   ]
  },
  {
   "cell_type": "code",
   "execution_count": null,
   "metadata": {},
   "outputs": [],
   "source": [
    "mudata = muon.read_h5mu('../data/Subsetted_monocytes_ac240507.raw.h5mu')\n",
    "mudata"
   ]
  },
  {
   "cell_type": "markdown",
   "metadata": {},
   "source": [
    "### Format `muon` object for downstream analysis"
   ]
  },
  {
   "cell_type": "code",
   "execution_count": null,
   "metadata": {},
   "outputs": [],
   "source": [
    "mudata.mod['rna'].layers['counts'] = mudata.mod['rna'].X.copy()"
   ]
  },
  {
   "cell_type": "markdown",
   "metadata": {},
   "source": [
    "### Select HVGs"
   ]
  },
  {
   "cell_type": "code",
   "execution_count": null,
   "metadata": {},
   "outputs": [],
   "source": [
    "sc.pp.highly_variable_genes(\n",
    "    mudata.mod[\"rna\"],\n",
    "    n_top_genes = 7000,\n",
    "    flavor = \"seurat_v3\",\n",
    "    batch_key = \"sample\",\n",
    "    layer = \"counts\",\n",
    "    span = 1,\n",
    "    subset = True\n",
    ")"
   ]
  },
  {
   "cell_type": "raw",
   "metadata": {
    "vscode": {
     "languageId": "raw"
    }
   },
   "source": [
    "mudata.mod[\"rna_subset\"] = mudata.mod[\"rna\"][\n",
    "    :, mudata.mod[\"rna\"].var[\"highly_variable\"]\n",
    "].copy()"
   ]
  },
  {
   "cell_type": "code",
   "execution_count": null,
   "metadata": {},
   "outputs": [],
   "source": [
    "mudata.mod"
   ]
  },
  {
   "cell_type": "code",
   "execution_count": null,
   "metadata": {},
   "outputs": [],
   "source": [
    "mudata.update()"
   ]
  },
  {
   "cell_type": "markdown",
   "metadata": {},
   "source": [
    "### Set up `muon` dataset for input to `TotalVI`."
   ]
  },
  {
   "cell_type": "code",
   "execution_count": null,
   "metadata": {},
   "outputs": [],
   "source": [
    "scvi.model.TOTALVI.setup_mudata(\n",
    "    mudata,\n",
    "    rna_layer = \"counts\",\n",
    "    protein_layer = None,\n",
    "    batch_key = \"sample\",\n",
    "    modalities = {\n",
    "        \"rna_layer\": \"rna\",\n",
    "        \"protein_layer\": \"prot\",\n",
    "        \"batch_key\": \"rna\",\n",
    "    },\n",
    ")"
   ]
  },
  {
   "cell_type": "code",
   "execution_count": null,
   "metadata": {},
   "outputs": [],
   "source": [
    "model = scvi.model.TOTALVI(mudata, empirical_protein_background_prior = False)"
   ]
  },
  {
   "cell_type": "code",
   "execution_count": null,
   "metadata": {},
   "outputs": [],
   "source": [
    "model.train(400, \n",
    "                 check_val_every_n_epoch = 1, \n",
    "                 enable_progress_bar = True, \n",
    "                 accelerator = 'mps',\n",
    "                 devices= [0])"
   ]
  },
  {
   "cell_type": "markdown",
   "metadata": {},
   "source": [
    "### Label transfer with `scANVI` "
   ]
  },
  {
   "cell_type": "code",
   "execution_count": null,
   "metadata": {},
   "outputs": [],
   "source": [
    "scanvi_model = scvi.model.SCANVI.from_scvi_model(scvi_model, 'Unknown')"
   ]
  },
  {
   "cell_type": "code",
   "execution_count": null,
   "metadata": {},
   "outputs": [],
   "source": [
    "scanvi_model.train(25)"
   ]
  },
  {
   "cell_type": "code",
   "execution_count": null,
   "metadata": {},
   "outputs": [],
   "source": [
    "adata.obs[\"C_scANVI\"] = scanvi_model.predict(adata)"
   ]
  },
  {
   "cell_type": "markdown",
   "metadata": {},
   "source": [
    "- Extract latent representation"
   ]
  },
  {
   "cell_type": "code",
   "execution_count": null,
   "metadata": {},
   "outputs": [],
   "source": [
    "adata.obsm[\"X_scANVI\"] = scanvi_model.get_latent_representation(adata)"
   ]
  },
  {
   "cell_type": "markdown",
   "metadata": {},
   "source": [
    "- Visualise corrected dataset"
   ]
  },
  {
   "cell_type": "code",
   "execution_count": null,
   "metadata": {},
   "outputs": [],
   "source": [
    "sc.pp.neighbors(adata, use_rep = \"X_scANVI\", n_neighbors = 50, metric = 'minkowski')\n",
    "sc.tl.umap(adata, min_dist = 0.2, spread = 8, random_state = 1712)\n",
    "sc.pl.umap(adata, frameon = False, color = ['donor', 'infection', 'disease', 'C_scANVI', 'scNym'], size = 1, legend_fontsize = 5, ncols = 3)"
   ]
  },
  {
   "cell_type": "code",
   "execution_count": null,
   "metadata": {},
   "outputs": [],
   "source": []
  }
 ],
 "metadata": {
  "kernelspec": {
   "display_name": "Python 3.8.14 ('scvi-tools')",
   "language": "python",
   "name": "python3"
  },
  "language_info": {
   "codemirror_mode": {
    "name": "ipython",
    "version": 3
   },
   "file_extension": ".py",
   "mimetype": "text/x-python",
   "name": "python",
   "nbconvert_exporter": "python",
   "pygments_lexer": "ipython3",
   "version": "3.12.3"
  },
  "orig_nbformat": 4,
  "vscode": {
   "interpreter": {
    "hash": "be6e4b2475555bb52a1f9704f3384c4fd38c8454adf16dc700aeb2c29c9568d8"
   }
  }
 },
 "nbformat": 4,
 "nbformat_minor": 2
}
